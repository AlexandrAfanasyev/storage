{
 "cells": [
  {
   "cell_type": "markdown",
   "metadata": {},
   "source": [
    "# Аналитика в Яндекс.Афише<a class=\"tocSkip\">"
   ]
  },
  {
   "cell_type": "markdown",
   "metadata": {},
   "source": [
    "## Описанние проекта<a class=\"tocSkip\">"
   ]
  },
  {
   "cell_type": "markdown",
   "metadata": {},
   "source": [
    "**В данном проекте нам предстоит определить возможные варианты оптимизации маркетинговых затрат. В нашем распоряжении данные от Яндекс.Афиши с июня 2017 по конец мая 2018 года: лог сервера с данными о посещениях сайта Яндекс.Афиши, выгрузка всех заказов за этот период и статистика рекламных расходов. Нам предстоит выяснить: как люди пользуются продуктом, когда они начинают покупать, сколько денег приносит каждый клиент и когда клиент окупается.**"
   ]
  },
  {
   "cell_type": "markdown",
   "metadata": {},
   "source": [
    "## Оглавление<a class=\"tocSkip\">"
   ]
  },
  {
   "cell_type": "markdown",
   "metadata": {},
   "source": [
    "[1.Открытие данных](#start)"
   ]
  },
  {
   "cell_type": "markdown",
   "metadata": {},
   "source": [
    "[2 Предобработка данных](#preprocessing)"
   ]
  },
  {
   "cell_type": "markdown",
   "metadata": {},
   "source": [
    "- [Переименование столбцов](#renaming)"
   ]
  },
  {
   "cell_type": "markdown",
   "metadata": {},
   "source": [
    "- [Изменение типов данных](#changing)"
   ]
  },
  {
   "cell_type": "markdown",
   "metadata": {},
   "source": [
    "- [Поиск дубликатов](#duplicates)"
   ]
  },
  {
   "cell_type": "markdown",
   "metadata": {},
   "source": [
    "[3.Продукт](#product)"
   ]
  },
  {
   "cell_type": "markdown",
   "metadata": {},
   "source": [
    "- [Количество людей пользующихся сервисом в день, неделю, месяц](#product1)"
   ]
  },
  {
   "cell_type": "markdown",
   "metadata": {},
   "source": [
    "- [Число сессий в день](#product2)"
   ]
  },
  {
   "cell_type": "markdown",
   "metadata": {},
   "source": [
    "- [Продолжительность одной сессии - ASL](#product3)"
   ]
  },
  {
   "cell_type": "markdown",
   "metadata": {},
   "source": [
    "- [Как часто люди возвращаются - Retention Rat](#product4)"
   ]
  },
  {
   "cell_type": "markdown",
   "metadata": {},
   "source": [
    "[4.Продажи](#sales)"
   ]
  },
  {
   "cell_type": "markdown",
   "metadata": {},
   "source": [
    "- [Время до совершения первой покупки](#sales1)"
   ]
  },
  {
   "cell_type": "markdown",
   "metadata": {},
   "source": [
    "- [Количество покупок за период](#sales2)"
   ]
  },
  {
   "cell_type": "markdown",
   "metadata": {},
   "source": [
    "- [Средний чек](#sales3)"
   ]
  },
  {
   "cell_type": "markdown",
   "metadata": {},
   "source": [
    "- [«Пожизненная» ценность клиента - LTV](#sales4)"
   ]
  },
  {
   "cell_type": "markdown",
   "metadata": {},
   "source": [
    "[5.Маркетинг](#marketing)"
   ]
  },
  {
   "cell_type": "markdown",
   "metadata": {},
   "source": [
    "- [Расходы на маркетинг: общие / на каждый источник / по времени](#marketing)"
   ]
  },
  {
   "cell_type": "markdown",
   "metadata": {},
   "source": [
    "- [Стоимость  привлечения одного покупателя из каждого источника CAC](#marketing2)"
   ]
  },
  {
   "cell_type": "markdown",
   "metadata": {},
   "source": [
    "- [Окупаемость расходов - ROI](#marketing3)"
   ]
  },
  {
   "cell_type": "markdown",
   "metadata": {},
   "source": [
    "[6.Общий вывод](#close)"
   ]
  },
  {
   "cell_type": "markdown",
   "metadata": {},
   "source": [
    "<a id=\"start\"></a>\n",
    "## 1 Открытие данных<a class=\"tocSkip\">"
   ]
  },
  {
   "cell_type": "code",
   "execution_count": 1,
   "metadata": {},
   "outputs": [],
   "source": [
    "import pandas as pd\n",
    "import numpy as np\n",
    "import matplotlib.pyplot as plt\n",
    "import matplotlib as mpl\n",
    "import seaborn as sns"
   ]
  },
  {
   "cell_type": "code",
   "execution_count": 2,
   "metadata": {},
   "outputs": [],
   "source": [
    "visits = pd.read_csv('/datasets/visits_log.csv')"
   ]
  },
  {
   "cell_type": "code",
   "execution_count": 3,
   "metadata": {},
   "outputs": [],
   "source": [
    "orders = pd.read_csv('/datasets/orders_log.csv')"
   ]
  },
  {
   "cell_type": "code",
   "execution_count": 4,
   "metadata": {},
   "outputs": [],
   "source": [
    "costs = pd.read_csv('/datasets/costs.csv')"
   ]
  },
  {
   "cell_type": "code",
   "execution_count": 5,
   "metadata": {},
   "outputs": [
    {
     "data": {
      "text/html": [
       "<div>\n",
       "<style scoped>\n",
       "    .dataframe tbody tr th:only-of-type {\n",
       "        vertical-align: middle;\n",
       "    }\n",
       "\n",
       "    .dataframe tbody tr th {\n",
       "        vertical-align: top;\n",
       "    }\n",
       "\n",
       "    .dataframe thead th {\n",
       "        text-align: right;\n",
       "    }\n",
       "</style>\n",
       "<table border=\"1\" class=\"dataframe\">\n",
       "  <thead>\n",
       "    <tr style=\"text-align: right;\">\n",
       "      <th></th>\n",
       "      <th>Device</th>\n",
       "      <th>End Ts</th>\n",
       "      <th>Source Id</th>\n",
       "      <th>Start Ts</th>\n",
       "      <th>Uid</th>\n",
       "    </tr>\n",
       "  </thead>\n",
       "  <tbody>\n",
       "    <tr>\n",
       "      <td>0</td>\n",
       "      <td>touch</td>\n",
       "      <td>2017-12-20 17:38:00</td>\n",
       "      <td>4</td>\n",
       "      <td>2017-12-20 17:20:00</td>\n",
       "      <td>16879256277535980062</td>\n",
       "    </tr>\n",
       "    <tr>\n",
       "      <td>1</td>\n",
       "      <td>desktop</td>\n",
       "      <td>2018-02-19 17:21:00</td>\n",
       "      <td>2</td>\n",
       "      <td>2018-02-19 16:53:00</td>\n",
       "      <td>104060357244891740</td>\n",
       "    </tr>\n",
       "    <tr>\n",
       "      <td>2</td>\n",
       "      <td>touch</td>\n",
       "      <td>2017-07-01 01:54:00</td>\n",
       "      <td>5</td>\n",
       "      <td>2017-07-01 01:54:00</td>\n",
       "      <td>7459035603376831527</td>\n",
       "    </tr>\n",
       "    <tr>\n",
       "      <td>3</td>\n",
       "      <td>desktop</td>\n",
       "      <td>2018-05-20 11:23:00</td>\n",
       "      <td>9</td>\n",
       "      <td>2018-05-20 10:59:00</td>\n",
       "      <td>16174680259334210214</td>\n",
       "    </tr>\n",
       "    <tr>\n",
       "      <td>4</td>\n",
       "      <td>desktop</td>\n",
       "      <td>2017-12-27 14:06:00</td>\n",
       "      <td>3</td>\n",
       "      <td>2017-12-27 14:06:00</td>\n",
       "      <td>9969694820036681168</td>\n",
       "    </tr>\n",
       "  </tbody>\n",
       "</table>\n",
       "</div>"
      ],
      "text/plain": [
       "    Device               End Ts  Source Id             Start Ts  \\\n",
       "0    touch  2017-12-20 17:38:00          4  2017-12-20 17:20:00   \n",
       "1  desktop  2018-02-19 17:21:00          2  2018-02-19 16:53:00   \n",
       "2    touch  2017-07-01 01:54:00          5  2017-07-01 01:54:00   \n",
       "3  desktop  2018-05-20 11:23:00          9  2018-05-20 10:59:00   \n",
       "4  desktop  2017-12-27 14:06:00          3  2017-12-27 14:06:00   \n",
       "\n",
       "                    Uid  \n",
       "0  16879256277535980062  \n",
       "1    104060357244891740  \n",
       "2   7459035603376831527  \n",
       "3  16174680259334210214  \n",
       "4   9969694820036681168  "
      ]
     },
     "execution_count": 5,
     "metadata": {},
     "output_type": "execute_result"
    }
   ],
   "source": [
    "visits.head()"
   ]
  },
  {
   "cell_type": "code",
   "execution_count": 6,
   "metadata": {},
   "outputs": [
    {
     "data": {
      "text/html": [
       "<div>\n",
       "<style scoped>\n",
       "    .dataframe tbody tr th:only-of-type {\n",
       "        vertical-align: middle;\n",
       "    }\n",
       "\n",
       "    .dataframe tbody tr th {\n",
       "        vertical-align: top;\n",
       "    }\n",
       "\n",
       "    .dataframe thead th {\n",
       "        text-align: right;\n",
       "    }\n",
       "</style>\n",
       "<table border=\"1\" class=\"dataframe\">\n",
       "  <thead>\n",
       "    <tr style=\"text-align: right;\">\n",
       "      <th></th>\n",
       "      <th>Buy Ts</th>\n",
       "      <th>Revenue</th>\n",
       "      <th>Uid</th>\n",
       "    </tr>\n",
       "  </thead>\n",
       "  <tbody>\n",
       "    <tr>\n",
       "      <td>0</td>\n",
       "      <td>2017-06-01 00:10:00</td>\n",
       "      <td>17.00</td>\n",
       "      <td>10329302124590727494</td>\n",
       "    </tr>\n",
       "    <tr>\n",
       "      <td>1</td>\n",
       "      <td>2017-06-01 00:25:00</td>\n",
       "      <td>0.55</td>\n",
       "      <td>11627257723692907447</td>\n",
       "    </tr>\n",
       "    <tr>\n",
       "      <td>2</td>\n",
       "      <td>2017-06-01 00:27:00</td>\n",
       "      <td>0.37</td>\n",
       "      <td>17903680561304213844</td>\n",
       "    </tr>\n",
       "    <tr>\n",
       "      <td>3</td>\n",
       "      <td>2017-06-01 00:29:00</td>\n",
       "      <td>0.55</td>\n",
       "      <td>16109239769442553005</td>\n",
       "    </tr>\n",
       "    <tr>\n",
       "      <td>4</td>\n",
       "      <td>2017-06-01 07:58:00</td>\n",
       "      <td>0.37</td>\n",
       "      <td>14200605875248379450</td>\n",
       "    </tr>\n",
       "  </tbody>\n",
       "</table>\n",
       "</div>"
      ],
      "text/plain": [
       "                Buy Ts  Revenue                   Uid\n",
       "0  2017-06-01 00:10:00    17.00  10329302124590727494\n",
       "1  2017-06-01 00:25:00     0.55  11627257723692907447\n",
       "2  2017-06-01 00:27:00     0.37  17903680561304213844\n",
       "3  2017-06-01 00:29:00     0.55  16109239769442553005\n",
       "4  2017-06-01 07:58:00     0.37  14200605875248379450"
      ]
     },
     "execution_count": 6,
     "metadata": {},
     "output_type": "execute_result"
    }
   ],
   "source": [
    "orders.head()"
   ]
  },
  {
   "cell_type": "code",
   "execution_count": 7,
   "metadata": {},
   "outputs": [
    {
     "data": {
      "text/html": [
       "<div>\n",
       "<style scoped>\n",
       "    .dataframe tbody tr th:only-of-type {\n",
       "        vertical-align: middle;\n",
       "    }\n",
       "\n",
       "    .dataframe tbody tr th {\n",
       "        vertical-align: top;\n",
       "    }\n",
       "\n",
       "    .dataframe thead th {\n",
       "        text-align: right;\n",
       "    }\n",
       "</style>\n",
       "<table border=\"1\" class=\"dataframe\">\n",
       "  <thead>\n",
       "    <tr style=\"text-align: right;\">\n",
       "      <th></th>\n",
       "      <th>source_id</th>\n",
       "      <th>dt</th>\n",
       "      <th>costs</th>\n",
       "    </tr>\n",
       "  </thead>\n",
       "  <tbody>\n",
       "    <tr>\n",
       "      <td>0</td>\n",
       "      <td>1</td>\n",
       "      <td>2017-06-01</td>\n",
       "      <td>75.20</td>\n",
       "    </tr>\n",
       "    <tr>\n",
       "      <td>1</td>\n",
       "      <td>1</td>\n",
       "      <td>2017-06-02</td>\n",
       "      <td>62.25</td>\n",
       "    </tr>\n",
       "    <tr>\n",
       "      <td>2</td>\n",
       "      <td>1</td>\n",
       "      <td>2017-06-03</td>\n",
       "      <td>36.53</td>\n",
       "    </tr>\n",
       "    <tr>\n",
       "      <td>3</td>\n",
       "      <td>1</td>\n",
       "      <td>2017-06-04</td>\n",
       "      <td>55.00</td>\n",
       "    </tr>\n",
       "    <tr>\n",
       "      <td>4</td>\n",
       "      <td>1</td>\n",
       "      <td>2017-06-05</td>\n",
       "      <td>57.08</td>\n",
       "    </tr>\n",
       "  </tbody>\n",
       "</table>\n",
       "</div>"
      ],
      "text/plain": [
       "   source_id          dt  costs\n",
       "0          1  2017-06-01  75.20\n",
       "1          1  2017-06-02  62.25\n",
       "2          1  2017-06-03  36.53\n",
       "3          1  2017-06-04  55.00\n",
       "4          1  2017-06-05  57.08"
      ]
     },
     "execution_count": 7,
     "metadata": {},
     "output_type": "execute_result"
    }
   ],
   "source": [
    "costs.head()"
   ]
  },
  {
   "cell_type": "markdown",
   "metadata": {},
   "source": [
    "Данные получены, переходим к их оптимизации."
   ]
  },
  {
   "cell_type": "markdown",
   "metadata": {},
   "source": [
    "<a id=\"preprocessing\"></a>\n",
    "## 2 Предобработка данных<a class=\"tocSkip\">"
   ]
  },
  {
   "cell_type": "markdown",
   "metadata": {},
   "source": [
    "<a id=\"renaming\"></a>\n",
    "- __Переименование столбцов__"
   ]
  },
  {
   "cell_type": "markdown",
   "metadata": {},
   "source": [
    "В таблицах \"visits\" и \"orders\" в названиях столбцов заменим прописные буквы на строчные, а пробелы на \"_\"."
   ]
  },
  {
   "cell_type": "code",
   "execution_count": 8,
   "metadata": {},
   "outputs": [],
   "source": [
    "visits.columns = visits.columns.str.lower().str.replace(' ', '_')"
   ]
  },
  {
   "cell_type": "code",
   "execution_count": 9,
   "metadata": {},
   "outputs": [],
   "source": [
    "orders.columns = orders.columns.str.lower().str.replace(' ', '_')"
   ]
  },
  {
   "cell_type": "code",
   "execution_count": 10,
   "metadata": {},
   "outputs": [
    {
     "data": {
      "text/plain": [
       "Index(['device', 'end_ts', 'source_id', 'start_ts', 'uid'], dtype='object')"
      ]
     },
     "execution_count": 10,
     "metadata": {},
     "output_type": "execute_result"
    }
   ],
   "source": [
    "visits.columns"
   ]
  },
  {
   "cell_type": "code",
   "execution_count": 11,
   "metadata": {},
   "outputs": [
    {
     "data": {
      "text/plain": [
       "Index(['buy_ts', 'revenue', 'uid'], dtype='object')"
      ]
     },
     "execution_count": 11,
     "metadata": {},
     "output_type": "execute_result"
    }
   ],
   "source": [
    "orders.columns"
   ]
  },
  {
   "cell_type": "markdown",
   "metadata": {},
   "source": [
    "<a id=\"changing\"></a>\n",
    "- __Изменение типов данных__"
   ]
  },
  {
   "cell_type": "code",
   "execution_count": 12,
   "metadata": {},
   "outputs": [
    {
     "name": "stdout",
     "output_type": "stream",
     "text": [
      "<class 'pandas.core.frame.DataFrame'>\n",
      "RangeIndex: 359400 entries, 0 to 359399\n",
      "Data columns (total 5 columns):\n",
      "device       359400 non-null object\n",
      "end_ts       359400 non-null object\n",
      "source_id    359400 non-null int64\n",
      "start_ts     359400 non-null object\n",
      "uid          359400 non-null uint64\n",
      "dtypes: int64(1), object(3), uint64(1)\n",
      "memory usage: 13.7+ MB\n"
     ]
    }
   ],
   "source": [
    "visits.info()"
   ]
  },
  {
   "cell_type": "code",
   "execution_count": 13,
   "metadata": {},
   "outputs": [
    {
     "name": "stdout",
     "output_type": "stream",
     "text": [
      "<class 'pandas.core.frame.DataFrame'>\n",
      "RangeIndex: 50415 entries, 0 to 50414\n",
      "Data columns (total 3 columns):\n",
      "buy_ts     50415 non-null object\n",
      "revenue    50415 non-null float64\n",
      "uid        50415 non-null uint64\n",
      "dtypes: float64(1), object(1), uint64(1)\n",
      "memory usage: 1.2+ MB\n"
     ]
    }
   ],
   "source": [
    "orders.info()"
   ]
  },
  {
   "cell_type": "code",
   "execution_count": 14,
   "metadata": {},
   "outputs": [
    {
     "name": "stdout",
     "output_type": "stream",
     "text": [
      "<class 'pandas.core.frame.DataFrame'>\n",
      "RangeIndex: 2542 entries, 0 to 2541\n",
      "Data columns (total 3 columns):\n",
      "source_id    2542 non-null int64\n",
      "dt           2542 non-null object\n",
      "costs        2542 non-null float64\n",
      "dtypes: float64(1), int64(1), object(1)\n",
      "memory usage: 59.7+ KB\n"
     ]
    }
   ],
   "source": [
    "costs.info()"
   ]
  },
  {
   "cell_type": "markdown",
   "metadata": {},
   "source": [
    "Во всех таблицах некорректно указанн формат дат, - приведем к \"datetime\"."
   ]
  },
  {
   "cell_type": "code",
   "execution_count": 15,
   "metadata": {},
   "outputs": [],
   "source": [
    "visits['end_ts'] = pd.to_datetime(visits['end_ts'], format='%Y-%m-%d %H:%M:%S')"
   ]
  },
  {
   "cell_type": "code",
   "execution_count": 16,
   "metadata": {},
   "outputs": [],
   "source": [
    "visits['start_ts'] = pd.to_datetime(visits['start_ts'], format='%Y-%m-%d %H:%M:%S')"
   ]
  },
  {
   "cell_type": "code",
   "execution_count": 17,
   "metadata": {},
   "outputs": [],
   "source": [
    "orders['buy_ts'] = pd.to_datetime(orders['buy_ts'], format='%Y-%m-%d %H:%M:%S')"
   ]
  },
  {
   "cell_type": "code",
   "execution_count": 18,
   "metadata": {},
   "outputs": [],
   "source": [
    "costs['dt'] = pd.to_datetime(costs['dt'], format='%Y-%m-%d %H:%M:%S')"
   ]
  },
  {
   "cell_type": "code",
   "execution_count": 19,
   "metadata": {},
   "outputs": [
    {
     "name": "stdout",
     "output_type": "stream",
     "text": [
      "<class 'pandas.core.frame.DataFrame'>\n",
      "RangeIndex: 359400 entries, 0 to 359399\n",
      "Data columns (total 5 columns):\n",
      "device       359400 non-null object\n",
      "end_ts       359400 non-null datetime64[ns]\n",
      "source_id    359400 non-null int64\n",
      "start_ts     359400 non-null datetime64[ns]\n",
      "uid          359400 non-null uint64\n",
      "dtypes: datetime64[ns](2), int64(1), object(1), uint64(1)\n",
      "memory usage: 13.7+ MB\n"
     ]
    }
   ],
   "source": [
    "visits.info()"
   ]
  },
  {
   "cell_type": "code",
   "execution_count": 20,
   "metadata": {},
   "outputs": [
    {
     "name": "stdout",
     "output_type": "stream",
     "text": [
      "<class 'pandas.core.frame.DataFrame'>\n",
      "RangeIndex: 50415 entries, 0 to 50414\n",
      "Data columns (total 3 columns):\n",
      "buy_ts     50415 non-null datetime64[ns]\n",
      "revenue    50415 non-null float64\n",
      "uid        50415 non-null uint64\n",
      "dtypes: datetime64[ns](1), float64(1), uint64(1)\n",
      "memory usage: 1.2 MB\n"
     ]
    }
   ],
   "source": [
    "orders.info()"
   ]
  },
  {
   "cell_type": "code",
   "execution_count": 21,
   "metadata": {},
   "outputs": [
    {
     "name": "stdout",
     "output_type": "stream",
     "text": [
      "<class 'pandas.core.frame.DataFrame'>\n",
      "RangeIndex: 2542 entries, 0 to 2541\n",
      "Data columns (total 3 columns):\n",
      "source_id    2542 non-null int64\n",
      "dt           2542 non-null datetime64[ns]\n",
      "costs        2542 non-null float64\n",
      "dtypes: datetime64[ns](1), float64(1), int64(1)\n",
      "memory usage: 59.7 KB\n"
     ]
    }
   ],
   "source": [
    "costs.info()"
   ]
  },
  {
   "cell_type": "markdown",
   "metadata": {},
   "source": [
    "<a id=\"duplicates\"></a>\n",
    "- __Поиск дубликатов__"
   ]
  },
  {
   "cell_type": "code",
   "execution_count": 22,
   "metadata": {},
   "outputs": [
    {
     "data": {
      "text/plain": [
       "0"
      ]
     },
     "execution_count": 22,
     "metadata": {},
     "output_type": "execute_result"
    }
   ],
   "source": [
    "visits.duplicated().sum()"
   ]
  },
  {
   "cell_type": "code",
   "execution_count": 23,
   "metadata": {},
   "outputs": [
    {
     "data": {
      "text/plain": [
       "0"
      ]
     },
     "execution_count": 23,
     "metadata": {},
     "output_type": "execute_result"
    }
   ],
   "source": [
    "orders.duplicated().sum()"
   ]
  },
  {
   "cell_type": "code",
   "execution_count": 24,
   "metadata": {},
   "outputs": [
    {
     "data": {
      "text/plain": [
       "0"
      ]
     },
     "execution_count": 24,
     "metadata": {},
     "output_type": "execute_result"
    }
   ],
   "source": [
    "costs.duplicated().sum()"
   ]
  },
  {
   "cell_type": "markdown",
   "metadata": {},
   "source": [
    "Названия столбцов перименованны, тип данных в колонках с датой приведен к \"datetime\", пропусков и дубликатов не обнаружено. Переходим к анализу данных."
   ]
  },
  {
   "cell_type": "markdown",
   "metadata": {},
   "source": [
    "<a id=\"product\"></a>\n",
    "## 3 Продукт<a class=\"tocSkip\">"
   ]
  },
  {
   "cell_type": "markdown",
   "metadata": {},
   "source": [
    "<a id=\"product1\"></a>\n",
    "- __Количество людей пользующихся сервисом в день, неделю, месяц__"
   ]
  },
  {
   "cell_type": "code",
   "execution_count": 25,
   "metadata": {},
   "outputs": [],
   "source": [
    "visits['start_ts_date'] = visits['start_ts'].dt.date"
   ]
  },
  {
   "cell_type": "code",
   "execution_count": 26,
   "metadata": {},
   "outputs": [],
   "source": [
    "visits['start_ts_week']  = visits['start_ts'].dt.week"
   ]
  },
  {
   "cell_type": "code",
   "execution_count": 27,
   "metadata": {},
   "outputs": [],
   "source": [
    "visits['start_ts_month'] = visits['start_ts'].dt.month"
   ]
  },
  {
   "cell_type": "code",
   "execution_count": 28,
   "metadata": {},
   "outputs": [],
   "source": [
    "visits['start_ts_year'] = visits['start_ts'].dt.year"
   ]
  },
  {
   "cell_type": "code",
   "execution_count": 29,
   "metadata": {},
   "outputs": [],
   "source": [
    "dau_total = visits.groupby('start_ts_date').agg({'uid': 'nunique'}).mean()"
   ]
  },
  {
   "cell_type": "code",
   "execution_count": 30,
   "metadata": {},
   "outputs": [],
   "source": [
    "wau_total = visits.groupby(['start_ts_year', 'start_ts_week']).agg({'uid': 'nunique'}).mean()"
   ]
  },
  {
   "cell_type": "code",
   "execution_count": 31,
   "metadata": {},
   "outputs": [],
   "source": [
    "mau_total = visits.groupby(['start_ts_year', 'start_ts_month']).agg({'uid': 'nunique'}).mean()"
   ]
  },
  {
   "cell_type": "code",
   "execution_count": 32,
   "metadata": {},
   "outputs": [
    {
     "name": "stdout",
     "output_type": "stream",
     "text": [
      "Среднее количество пользователей в день: 907\n"
     ]
    }
   ],
   "source": [
    "print('Среднее количество пользователей в день:', int(dau_total))"
   ]
  },
  {
   "cell_type": "code",
   "execution_count": 33,
   "metadata": {},
   "outputs": [
    {
     "name": "stdout",
     "output_type": "stream",
     "text": [
      "Среднее количество пользователей в неделю: 5716\n"
     ]
    }
   ],
   "source": [
    "print('Среднее количество пользователей в неделю:', int(wau_total))"
   ]
  },
  {
   "cell_type": "code",
   "execution_count": 34,
   "metadata": {},
   "outputs": [
    {
     "name": "stdout",
     "output_type": "stream",
     "text": [
      "Среднее количество пользователей в месяц: 23228\n"
     ]
    }
   ],
   "source": [
    "print('Среднее количество пользователей в месяц:', int(mau_total))"
   ]
  },
  {
   "cell_type": "markdown",
   "metadata": {},
   "source": [
    "<a id=\"product2\"></a>\n",
    "- __Число сессий в день__"
   ]
  },
  {
   "cell_type": "code",
   "execution_count": 35,
   "metadata": {},
   "outputs": [],
   "source": [
    "session_per_day_mean = visits.groupby('start_ts_date').agg({'uid': 'count'}).mean()"
   ]
  },
  {
   "cell_type": "code",
   "execution_count": 36,
   "metadata": {},
   "outputs": [
    {
     "name": "stdout",
     "output_type": "stream",
     "text": [
      "Ежедневное среднее количество сессий: 987\n"
     ]
    }
   ],
   "source": [
    "print('Ежедневное среднее количество сессий:', int(session_per_day_mean))"
   ]
  },
  {
   "cell_type": "markdown",
   "metadata": {},
   "source": [
    "<a id=\"product3\"></a>\n",
    "- __Продолжительность одной сессии - ASL__"
   ]
  },
  {
   "cell_type": "code",
   "execution_count": 37,
   "metadata": {},
   "outputs": [],
   "source": [
    "visits['session_duration_sec'] = (visits['end_ts'] - visits['start_ts']).dt.seconds"
   ]
  },
  {
   "cell_type": "code",
   "execution_count": 38,
   "metadata": {},
   "outputs": [
    {
     "name": "stdout",
     "output_type": "stream",
     "text": [
      "ASL, мин: 10\n"
     ]
    }
   ],
   "source": [
    "print('ASL, мин:', int(visits['session_duration_sec'].mean() / 60))"
   ]
  },
  {
   "cell_type": "markdown",
   "metadata": {},
   "source": [
    "Построим гистограмму, чтобы оценить распределение"
   ]
  },
  {
   "cell_type": "code",
   "execution_count": 39,
   "metadata": {
    "scrolled": true
   },
   "outputs": [
    {
     "data": {
      "image/png": "[encoded data removed]",
      "text/plain": [
       "<Figure size 1440x648 with 1 Axes>"
      ]
     },
     "metadata": {
      "needs_background": "light"
     },
     "output_type": "display_data"
    }
   ],
   "source": [
    "visits['session_duration_sec'].hist(bins=50, range=(0, 3000), figsize=(20, 9))\n",
    "plt.title('Продолжительность сессии', fontsize=22)\n",
    "plt.show()"
   ]
  },
  {
   "cell_type": "markdown",
   "metadata": {},
   "source": [
    "Распределение далеко от нормального, следовательно вместо среднего возьмем моду - наиболее часто встречающееся значение."
   ]
  },
  {
   "cell_type": "code",
   "execution_count": 40,
   "metadata": {},
   "outputs": [
    {
     "name": "stdout",
     "output_type": "stream",
     "text": [
      "Мода, сек: 60\n"
     ]
    }
   ],
   "source": [
    "print('Мода, сек:', int(visits['session_duration_sec'].mode()))"
   ]
  },
  {
   "cell_type": "markdown",
   "metadata": {},
   "source": [
    "Модальное время сессии всего лишь 1 минута, - вероятно этого недостаточно для совершения покупки. возможно проблема в быстродействии сайта, удобства работы с ним или разнообразии способов оплаты."
   ]
  },
  {
   "cell_type": "markdown",
   "metadata": {},
   "source": [
    "<a id=\"product4\"></a>\n",
    "- __Как часто люди возвращаются - Retention Rat__"
   ]
  },
  {
   "cell_type": "markdown",
   "metadata": {},
   "source": [
    "Retention Rat - коэффициент удержания. Для его рассчета определим событие и период — на их основе сформируем когорту."
   ]
  },
  {
   "cell_type": "code",
   "execution_count": 41,
   "metadata": {},
   "outputs": [],
   "source": [
    "first_activity_date = visits.groupby(['uid'])['start_ts'].min()"
   ]
  },
  {
   "cell_type": "code",
   "execution_count": 42,
   "metadata": {},
   "outputs": [],
   "source": [
    "first_activity_date.name = 'first_activity_date'"
   ]
  },
  {
   "cell_type": "code",
   "execution_count": 43,
   "metadata": {},
   "outputs": [],
   "source": [
    "visits = visits.join(first_activity_date,on='uid')"
   ]
  },
  {
   "cell_type": "code",
   "execution_count": 44,
   "metadata": {},
   "outputs": [],
   "source": [
    "visits['activity_month'] = visits['start_ts_date'].astype('datetime64[M]')"
   ]
  },
  {
   "cell_type": "code",
   "execution_count": 45,
   "metadata": {},
   "outputs": [],
   "source": [
    "visits['first_activity_month'] = visits['first_activity_date'].astype('datetime64[M]')"
   ]
  },
  {
   "cell_type": "code",
   "execution_count": 46,
   "metadata": {},
   "outputs": [
    {
     "data": {
      "text/html": [
       "<div>\n",
       "<style scoped>\n",
       "    .dataframe tbody tr th:only-of-type {\n",
       "        vertical-align: middle;\n",
       "    }\n",
       "\n",
       "    .dataframe tbody tr th {\n",
       "        vertical-align: top;\n",
       "    }\n",
       "\n",
       "    .dataframe thead th {\n",
       "        text-align: right;\n",
       "    }\n",
       "</style>\n",
       "<table border=\"1\" class=\"dataframe\">\n",
       "  <thead>\n",
       "    <tr style=\"text-align: right;\">\n",
       "      <th></th>\n",
       "      <th>device</th>\n",
       "      <th>end_ts</th>\n",
       "      <th>source_id</th>\n",
       "      <th>start_ts</th>\n",
       "      <th>uid</th>\n",
       "      <th>start_ts_date</th>\n",
       "      <th>start_ts_week</th>\n",
       "      <th>start_ts_month</th>\n",
       "      <th>start_ts_year</th>\n",
       "      <th>session_duration_sec</th>\n",
       "      <th>first_activity_date</th>\n",
       "      <th>activity_month</th>\n",
       "      <th>first_activity_month</th>\n",
       "    </tr>\n",
       "  </thead>\n",
       "  <tbody>\n",
       "    <tr>\n",
       "      <td>0</td>\n",
       "      <td>touch</td>\n",
       "      <td>2017-12-20 17:38:00</td>\n",
       "      <td>4</td>\n",
       "      <td>2017-12-20 17:20:00</td>\n",
       "      <td>16879256277535980062</td>\n",
       "      <td>2017-12-20</td>\n",
       "      <td>51</td>\n",
       "      <td>12</td>\n",
       "      <td>2017</td>\n",
       "      <td>1080</td>\n",
       "      <td>2017-12-20 17:20:00</td>\n",
       "      <td>2017-12-01</td>\n",
       "      <td>2017-12-01</td>\n",
       "    </tr>\n",
       "  </tbody>\n",
       "</table>\n",
       "</div>"
      ],
      "text/plain": [
       "  device              end_ts  source_id            start_ts  \\\n",
       "0  touch 2017-12-20 17:38:00          4 2017-12-20 17:20:00   \n",
       "\n",
       "                    uid start_ts_date  start_ts_week  start_ts_month  \\\n",
       "0  16879256277535980062    2017-12-20             51              12   \n",
       "\n",
       "   start_ts_year  session_duration_sec first_activity_date activity_month  \\\n",
       "0           2017                  1080 2017-12-20 17:20:00     2017-12-01   \n",
       "\n",
       "  first_activity_month  \n",
       "0           2017-12-01  "
      ]
     },
     "execution_count": 46,
     "metadata": {},
     "output_type": "execute_result"
    }
   ],
   "source": [
    "visits.head(1)"
   ]
  },
  {
   "cell_type": "code",
   "execution_count": 47,
   "metadata": {},
   "outputs": [],
   "source": [
    "visits['cohort_lifetime'] = ((visits['activity_month'] - visits['first_activity_month'])\\\n",
    "/ np.timedelta64(1, 'M')).round().astype('int')"
   ]
  },
  {
   "cell_type": "markdown",
   "metadata": {},
   "source": [
    "Сгруппируем данные по когорте и lifetime. Посчитаем для каждой когорты количество активных пользователей."
   ]
  },
  {
   "cell_type": "code",
   "execution_count": 48,
   "metadata": {},
   "outputs": [],
   "source": [
    "cohorts = visits.groupby(['first_activity_month','cohort_lifetime'])\\\n",
    ".agg({'uid':'nunique'}).reset_index()"
   ]
  },
  {
   "cell_type": "code",
   "execution_count": 49,
   "metadata": {},
   "outputs": [
    {
     "data": {
      "text/html": [
       "<div>\n",
       "<style scoped>\n",
       "    .dataframe tbody tr th:only-of-type {\n",
       "        vertical-align: middle;\n",
       "    }\n",
       "\n",
       "    .dataframe tbody tr th {\n",
       "        vertical-align: top;\n",
       "    }\n",
       "\n",
       "    .dataframe thead th {\n",
       "        text-align: right;\n",
       "    }\n",
       "</style>\n",
       "<table border=\"1\" class=\"dataframe\">\n",
       "  <thead>\n",
       "    <tr style=\"text-align: right;\">\n",
       "      <th></th>\n",
       "      <th>first_activity_month</th>\n",
       "      <th>cohort_lifetime</th>\n",
       "      <th>uid</th>\n",
       "    </tr>\n",
       "  </thead>\n",
       "  <tbody>\n",
       "    <tr>\n",
       "      <td>73</td>\n",
       "      <td>2018-03-01</td>\n",
       "      <td>1</td>\n",
       "      <td>861</td>\n",
       "    </tr>\n",
       "    <tr>\n",
       "      <td>74</td>\n",
       "      <td>2018-03-01</td>\n",
       "      <td>2</td>\n",
       "      <td>557</td>\n",
       "    </tr>\n",
       "    <tr>\n",
       "      <td>75</td>\n",
       "      <td>2018-04-01</td>\n",
       "      <td>0</td>\n",
       "      <td>15709</td>\n",
       "    </tr>\n",
       "    <tr>\n",
       "      <td>76</td>\n",
       "      <td>2018-04-01</td>\n",
       "      <td>1</td>\n",
       "      <td>760</td>\n",
       "    </tr>\n",
       "    <tr>\n",
       "      <td>77</td>\n",
       "      <td>2018-05-01</td>\n",
       "      <td>0</td>\n",
       "      <td>15273</td>\n",
       "    </tr>\n",
       "  </tbody>\n",
       "</table>\n",
       "</div>"
      ],
      "text/plain": [
       "   first_activity_month  cohort_lifetime    uid\n",
       "73           2018-03-01                1    861\n",
       "74           2018-03-01                2    557\n",
       "75           2018-04-01                0  15709\n",
       "76           2018-04-01                1    760\n",
       "77           2018-05-01                0  15273"
      ]
     },
     "execution_count": 49,
     "metadata": {},
     "output_type": "execute_result"
    }
   ],
   "source": [
    "cohorts.tail()"
   ]
  },
  {
   "cell_type": "code",
   "execution_count": 50,
   "metadata": {},
   "outputs": [
    {
     "data": {
      "text/html": [
       "<div>\n",
       "<style scoped>\n",
       "    .dataframe tbody tr th:only-of-type {\n",
       "        vertical-align: middle;\n",
       "    }\n",
       "\n",
       "    .dataframe tbody tr th {\n",
       "        vertical-align: top;\n",
       "    }\n",
       "\n",
       "    .dataframe thead th {\n",
       "        text-align: right;\n",
       "    }\n",
       "</style>\n",
       "<table border=\"1\" class=\"dataframe\">\n",
       "  <thead>\n",
       "    <tr style=\"text-align: right;\">\n",
       "      <th></th>\n",
       "      <th>first_activity_month</th>\n",
       "      <th>uid</th>\n",
       "    </tr>\n",
       "  </thead>\n",
       "  <tbody>\n",
       "    <tr>\n",
       "      <td>0</td>\n",
       "      <td>2017-06-01</td>\n",
       "      <td>13259</td>\n",
       "    </tr>\n",
       "    <tr>\n",
       "      <td>12</td>\n",
       "      <td>2017-07-01</td>\n",
       "      <td>13140</td>\n",
       "    </tr>\n",
       "    <tr>\n",
       "      <td>23</td>\n",
       "      <td>2017-08-01</td>\n",
       "      <td>10181</td>\n",
       "    </tr>\n",
       "    <tr>\n",
       "      <td>33</td>\n",
       "      <td>2017-09-01</td>\n",
       "      <td>16704</td>\n",
       "    </tr>\n",
       "    <tr>\n",
       "      <td>42</td>\n",
       "      <td>2017-10-01</td>\n",
       "      <td>25977</td>\n",
       "    </tr>\n",
       "    <tr>\n",
       "      <td>50</td>\n",
       "      <td>2017-11-01</td>\n",
       "      <td>27248</td>\n",
       "    </tr>\n",
       "    <tr>\n",
       "      <td>57</td>\n",
       "      <td>2017-12-01</td>\n",
       "      <td>25268</td>\n",
       "    </tr>\n",
       "    <tr>\n",
       "      <td>63</td>\n",
       "      <td>2018-01-01</td>\n",
       "      <td>22624</td>\n",
       "    </tr>\n",
       "    <tr>\n",
       "      <td>68</td>\n",
       "      <td>2018-02-01</td>\n",
       "      <td>22197</td>\n",
       "    </tr>\n",
       "    <tr>\n",
       "      <td>72</td>\n",
       "      <td>2018-03-01</td>\n",
       "      <td>20589</td>\n",
       "    </tr>\n",
       "    <tr>\n",
       "      <td>75</td>\n",
       "      <td>2018-04-01</td>\n",
       "      <td>15709</td>\n",
       "    </tr>\n",
       "    <tr>\n",
       "      <td>77</td>\n",
       "      <td>2018-05-01</td>\n",
       "      <td>15273</td>\n",
       "    </tr>\n",
       "  </tbody>\n",
       "</table>\n",
       "</div>"
      ],
      "text/plain": [
       "   first_activity_month    uid\n",
       "0            2017-06-01  13259\n",
       "12           2017-07-01  13140\n",
       "23           2017-08-01  10181\n",
       "33           2017-09-01  16704\n",
       "42           2017-10-01  25977\n",
       "50           2017-11-01  27248\n",
       "57           2017-12-01  25268\n",
       "63           2018-01-01  22624\n",
       "68           2018-02-01  22197\n",
       "72           2018-03-01  20589\n",
       "75           2018-04-01  15709\n",
       "77           2018-05-01  15273"
      ]
     },
     "execution_count": 50,
     "metadata": {},
     "output_type": "execute_result"
    }
   ],
   "source": [
    "initial_users_count = cohorts[cohorts['cohort_lifetime'] == 0][['first_activity_month','uid']]\n",
    "initial_users_count"
   ]
  },
  {
   "cell_type": "code",
   "execution_count": 51,
   "metadata": {},
   "outputs": [],
   "source": [
    "initial_users_count = initial_users_count.rename(columns={'uid':'cohort_users'}) "
   ]
  },
  {
   "cell_type": "code",
   "execution_count": 52,
   "metadata": {},
   "outputs": [],
   "source": [
    "cohorts = cohorts.merge(initial_users_count,on='first_activity_month')"
   ]
  },
  {
   "cell_type": "code",
   "execution_count": 53,
   "metadata": {},
   "outputs": [],
   "source": [
    "cohorts['retention'] = cohorts['uid'] / cohorts['cohort_users']"
   ]
  },
  {
   "cell_type": "code",
   "execution_count": 54,
   "metadata": {},
   "outputs": [],
   "source": [
    "retention_pivot = cohorts.pivot_table(index='first_activity_month',\\\n",
    "                                      columns='cohort_lifetime',values='retention',aggfunc='sum') "
   ]
  },
  {
   "cell_type": "code",
   "execution_count": 55,
   "metadata": {},
   "outputs": [
    {
     "data": {
      "image/png": "[encoded data removed]",
      "text/plain": [
       "<Figure size 936x648 with 2 Axes>"
      ]
     },
     "metadata": {},
     "output_type": "display_data"
    }
   ],
   "source": [
    "import seaborn as sns\n",
    "from matplotlib import pyplot as plt\n",
    "sns.set(style='white')\n",
    "plt.figure(figsize=(13, 9))\n",
    "plt.title('Cohorts: User Retention')\n",
    "sns.heatmap(retention_pivot, annot=True, fmt='.1%', linewidths=1, linecolor='gray',\\\n",
    "            yticklabels=retention_pivot.index.strftime('%Y-%m'), vmin = 0, vmax= 0.2); \n"
   ]
  },
  {
   "cell_type": "markdown",
   "metadata": {},
   "source": [
    "Судя по тепловой карте мы можем сказать, что и ипользователи из первых когорт редко возвращались в сервис, - уже в первом месяце коэффициент удержания был 8,5% - 7,9% и со временем только падал. Но в последних когортах даже в первый месяц возвращалось менее 5% пользователей. Т.е. и без того невысокая удовлетворенность клиентов упала еще ниже."
   ]
  },
  {
   "cell_type": "markdown",
   "metadata": {},
   "source": [
    "<a id=\"sales\"></a>\n",
    "## 4 Продажи<a class=\"tocSkip\">"
   ]
  },
  {
   "cell_type": "markdown",
   "metadata": {},
   "source": [
    "<a id=\"sales1\"></a>\n",
    "- __Время до совершения первой покупки__"
   ]
  },
  {
   "cell_type": "markdown",
   "metadata": {},
   "source": [
    "Для рассчета нам потребуются время первого действия пользователя (оно уже расчитано - \"first_activity_date\") и время первой покупки, найдем его. Затем объеденим датасеты и рассчитаем искомую величину."
   ]
  },
  {
   "cell_type": "code",
   "execution_count": 56,
   "metadata": {},
   "outputs": [],
   "source": [
    "first_orders = orders.groupby(['uid']).agg({'buy_ts':'min'})"
   ]
  },
  {
   "cell_type": "code",
   "execution_count": 57,
   "metadata": {},
   "outputs": [],
   "source": [
    "first_orders.columns = ['first_buy_ts']"
   ]
  },
  {
   "cell_type": "code",
   "execution_count": 58,
   "metadata": {},
   "outputs": [],
   "source": [
    "first_orders = first_orders.join(first_activity_date,on='uid')"
   ]
  },
  {
   "cell_type": "code",
   "execution_count": 59,
   "metadata": {},
   "outputs": [],
   "source": [
    "first_orders['time_to_first_purchase'] = (first_orders['first_buy_ts'] - first_orders['first_activity_date'])\\\n",
    "/ np.timedelta64(1, 'm')"
   ]
  },
  {
   "cell_type": "code",
   "execution_count": 60,
   "metadata": {},
   "outputs": [
    {
     "data": {
      "text/plain": [
       "count     36523.000000\n",
       "mean      24340.175834\n",
       "std       67784.774690\n",
       "min           0.000000\n",
       "25%           4.000000\n",
       "50%          16.000000\n",
       "75%        2897.000000\n",
       "max      523144.000000\n",
       "Name: time_to_first_purchase, dtype: float64"
      ]
     },
     "execution_count": 60,
     "metadata": {},
     "output_type": "execute_result"
    }
   ],
   "source": [
    "first_orders['time_to_first_purchase'].describe()"
   ]
  },
  {
   "cell_type": "markdown",
   "metadata": {},
   "source": [
    "Мы получили среднее значение 24340 мин. - почти 17 дней, медиану - 16 мин. Посмотрим на распределение."
   ]
  },
  {
   "cell_type": "code",
   "execution_count": 61,
   "metadata": {},
   "outputs": [
    {
     "data": {
      "image/png": "[encoded data removed]",
      "text/plain": [
       "<Figure size 1080x576 with 1 Axes>"
      ]
     },
     "metadata": {},
     "output_type": "display_data"
    }
   ],
   "source": [
    "first_orders['time_to_first_purchase'].plot(kind = 'hist', range = (0,100), figsize = (15,8))\n",
    "plt.title('Время до совершения первой покупки', fontsize=22)\n",
    "plt.grid(True)\n",
    "plt.show()"
   ]
  },
  {
   "cell_type": "markdown",
   "metadata": {},
   "source": [
    "Гистограмма показывает, что распределение не является нормальным,- корректно ипользовать моду."
   ]
  },
  {
   "cell_type": "code",
   "execution_count": 62,
   "metadata": {},
   "outputs": [
    {
     "data": {
      "text/plain": [
       "0    1.0\n",
       "dtype: float64"
      ]
     },
     "execution_count": 62,
     "metadata": {},
     "output_type": "execute_result"
    }
   ],
   "source": [
    "first_orders['time_to_first_purchase'].mode()"
   ]
  },
  {
   "cell_type": "markdown",
   "metadata": {},
   "source": [
    "Чаще всего пользователь покупает спустя минуту после первого посещения сервиса."
   ]
  },
  {
   "cell_type": "markdown",
   "metadata": {},
   "source": [
    "<a id=\"sales2\"></a>\n",
    "- __Количество покупок за период__"
   ]
  },
  {
   "cell_type": "markdown",
   "metadata": {},
   "source": [
    "В качестве расчетного периода принимаем месяц."
   ]
  },
  {
   "cell_type": "code",
   "execution_count": 63,
   "metadata": {},
   "outputs": [],
   "source": [
    "orders['order_month'] = orders['buy_ts'].astype('datetime64[M]').dt.strftime('%Y-%m')"
   ]
  },
  {
   "cell_type": "code",
   "execution_count": 64,
   "metadata": {},
   "outputs": [
    {
     "data": {
      "text/html": [
       "<div>\n",
       "<style scoped>\n",
       "    .dataframe tbody tr th:only-of-type {\n",
       "        vertical-align: middle;\n",
       "    }\n",
       "\n",
       "    .dataframe tbody tr th {\n",
       "        vertical-align: top;\n",
       "    }\n",
       "\n",
       "    .dataframe thead th {\n",
       "        text-align: right;\n",
       "    }\n",
       "</style>\n",
       "<table border=\"1\" class=\"dataframe\">\n",
       "  <thead>\n",
       "    <tr style=\"text-align: right;\">\n",
       "      <th></th>\n",
       "      <th>order_month</th>\n",
       "      <th>buy_ts</th>\n",
       "    </tr>\n",
       "  </thead>\n",
       "  <tbody>\n",
       "    <tr>\n",
       "      <td>0</td>\n",
       "      <td>2017-06</td>\n",
       "      <td>2354</td>\n",
       "    </tr>\n",
       "    <tr>\n",
       "      <td>1</td>\n",
       "      <td>2017-07</td>\n",
       "      <td>2363</td>\n",
       "    </tr>\n",
       "    <tr>\n",
       "      <td>2</td>\n",
       "      <td>2017-08</td>\n",
       "      <td>1807</td>\n",
       "    </tr>\n",
       "    <tr>\n",
       "      <td>3</td>\n",
       "      <td>2017-09</td>\n",
       "      <td>3387</td>\n",
       "    </tr>\n",
       "    <tr>\n",
       "      <td>4</td>\n",
       "      <td>2017-10</td>\n",
       "      <td>5679</td>\n",
       "    </tr>\n",
       "    <tr>\n",
       "      <td>5</td>\n",
       "      <td>2017-11</td>\n",
       "      <td>5659</td>\n",
       "    </tr>\n",
       "    <tr>\n",
       "      <td>6</td>\n",
       "      <td>2017-12</td>\n",
       "      <td>6218</td>\n",
       "    </tr>\n",
       "    <tr>\n",
       "      <td>7</td>\n",
       "      <td>2018-01</td>\n",
       "      <td>4721</td>\n",
       "    </tr>\n",
       "    <tr>\n",
       "      <td>8</td>\n",
       "      <td>2018-02</td>\n",
       "      <td>5281</td>\n",
       "    </tr>\n",
       "    <tr>\n",
       "      <td>9</td>\n",
       "      <td>2018-03</td>\n",
       "      <td>5326</td>\n",
       "    </tr>\n",
       "    <tr>\n",
       "      <td>10</td>\n",
       "      <td>2018-04</td>\n",
       "      <td>3273</td>\n",
       "    </tr>\n",
       "    <tr>\n",
       "      <td>11</td>\n",
       "      <td>2018-05</td>\n",
       "      <td>4346</td>\n",
       "    </tr>\n",
       "    <tr>\n",
       "      <td>12</td>\n",
       "      <td>2018-06</td>\n",
       "      <td>1</td>\n",
       "    </tr>\n",
       "  </tbody>\n",
       "</table>\n",
       "</div>"
      ],
      "text/plain": [
       "   order_month  buy_ts\n",
       "0      2017-06    2354\n",
       "1      2017-07    2363\n",
       "2      2017-08    1807\n",
       "3      2017-09    3387\n",
       "4      2017-10    5679\n",
       "5      2017-11    5659\n",
       "6      2017-12    6218\n",
       "7      2018-01    4721\n",
       "8      2018-02    5281\n",
       "9      2018-03    5326\n",
       "10     2018-04    3273\n",
       "11     2018-05    4346\n",
       "12     2018-06       1"
      ]
     },
     "execution_count": 64,
     "metadata": {},
     "output_type": "execute_result"
    }
   ],
   "source": [
    "orders.groupby('order_month')['buy_ts'].count().reset_index()"
   ]
  },
  {
   "cell_type": "code",
   "execution_count": 65,
   "metadata": {},
   "outputs": [
    {
     "data": {
      "image/png": "[encoded data removed]",
      "text/plain": [
       "<Figure size 1440x432 with 1 Axes>"
      ]
     },
     "metadata": {},
     "output_type": "display_data"
    }
   ],
   "source": [
    "orders.query('order_month != \"2018-06\"').groupby('order_month')['buy_ts'].count()\\\n",
    ".reset_index().plot(kind='bar',figsize=(20, 6), x='order_month')\n",
    "plt.title('Количество покупок в месяц', fontsize=22)\n",
    "plt.grid(True)\n",
    "plt.show()"
   ]
  },
  {
   "cell_type": "code",
   "execution_count": 66,
   "metadata": {},
   "outputs": [
    {
     "data": {
      "text/plain": [
       "buy_ts    4201.0\n",
       "dtype: float64"
      ]
     },
     "execution_count": 66,
     "metadata": {},
     "output_type": "execute_result"
    }
   ],
   "source": [
    "orders.query('order_month != \"2018-06\"').groupby('order_month')['buy_ts'].count().reset_index().mean().round()"
   ]
  },
  {
   "cell_type": "markdown",
   "metadata": {},
   "source": [
    "На графике мы видидим, что наименьшее количество покупок в летние месяцы, - сезон отпусков, затем с сентября начинается рост. Самые высокие значения - в декабре, вероятно преобретаются билеты на мероприятия в новогодние каникулы. В январе ожидаемый спад после предновогодних трат, после подъем в феврале и марте, и снова падение продаж, - вероятно расходы снова перенаправляются на летний отдых. Среднее количество покупок за год 4201."
   ]
  },
  {
   "cell_type": "markdown",
   "metadata": {},
   "source": [
    "<a id=\"sales3\"></a>\n",
    "- __Средний чек__"
   ]
  },
  {
   "cell_type": "markdown",
   "metadata": {},
   "source": [
    "Расчитаем средний чек для периода в месяц."
   ]
  },
  {
   "cell_type": "code",
   "execution_count": 67,
   "metadata": {},
   "outputs": [
    {
     "data": {
      "text/html": [
       "<div>\n",
       "<style scoped>\n",
       "    .dataframe tbody tr th:only-of-type {\n",
       "        vertical-align: middle;\n",
       "    }\n",
       "\n",
       "    .dataframe tbody tr th {\n",
       "        vertical-align: top;\n",
       "    }\n",
       "\n",
       "    .dataframe thead th {\n",
       "        text-align: right;\n",
       "    }\n",
       "</style>\n",
       "<table border=\"1\" class=\"dataframe\">\n",
       "  <thead>\n",
       "    <tr style=\"text-align: right;\">\n",
       "      <th></th>\n",
       "      <th>revenue</th>\n",
       "    </tr>\n",
       "    <tr>\n",
       "      <th>order_month</th>\n",
       "      <th></th>\n",
       "    </tr>\n",
       "  </thead>\n",
       "  <tbody>\n",
       "    <tr>\n",
       "      <td>2017-06</td>\n",
       "      <td>4.060106</td>\n",
       "    </tr>\n",
       "    <tr>\n",
       "      <td>2017-07</td>\n",
       "      <td>5.306589</td>\n",
       "    </tr>\n",
       "    <tr>\n",
       "      <td>2017-08</td>\n",
       "      <td>4.847139</td>\n",
       "    </tr>\n",
       "    <tr>\n",
       "      <td>2017-09</td>\n",
       "      <td>5.416448</td>\n",
       "    </tr>\n",
       "    <tr>\n",
       "      <td>2017-10</td>\n",
       "      <td>4.928280</td>\n",
       "    </tr>\n",
       "    <tr>\n",
       "      <td>2017-11</td>\n",
       "      <td>4.783518</td>\n",
       "    </tr>\n",
       "    <tr>\n",
       "      <td>2017-12</td>\n",
       "      <td>5.852139</td>\n",
       "    </tr>\n",
       "    <tr>\n",
       "      <td>2018-01</td>\n",
       "      <td>4.112927</td>\n",
       "    </tr>\n",
       "    <tr>\n",
       "      <td>2018-02</td>\n",
       "      <td>4.840095</td>\n",
       "    </tr>\n",
       "    <tr>\n",
       "      <td>2018-03</td>\n",
       "      <td>5.413930</td>\n",
       "    </tr>\n",
       "    <tr>\n",
       "      <td>2018-04</td>\n",
       "      <td>5.150645</td>\n",
       "    </tr>\n",
       "    <tr>\n",
       "      <td>2018-05</td>\n",
       "      <td>4.771279</td>\n",
       "    </tr>\n",
       "  </tbody>\n",
       "</table>\n",
       "</div>"
      ],
      "text/plain": [
       "              revenue\n",
       "order_month          \n",
       "2017-06      4.060106\n",
       "2017-07      5.306589\n",
       "2017-08      4.847139\n",
       "2017-09      5.416448\n",
       "2017-10      4.928280\n",
       "2017-11      4.783518\n",
       "2017-12      5.852139\n",
       "2018-01      4.112927\n",
       "2018-02      4.840095\n",
       "2018-03      5.413930\n",
       "2018-04      5.150645\n",
       "2018-05      4.771279"
      ]
     },
     "execution_count": 67,
     "metadata": {},
     "output_type": "execute_result"
    }
   ],
   "source": [
    "orders.query('order_month != \"2018-06\"').groupby('order_month').agg({'revenue':'mean'})"
   ]
  },
  {
   "cell_type": "code",
   "execution_count": 68,
   "metadata": {},
   "outputs": [
    {
     "data": {
      "image/png": "[encoded data removed]",
      "text/plain": [
       "<Figure size 1440x432 with 1 Axes>"
      ]
     },
     "metadata": {},
     "output_type": "display_data"
    }
   ],
   "source": [
    "orders.query('order_month != \"2018-06\"').groupby('order_month').agg({'revenue':'mean'})\\\n",
    ".plot(kind='bar',figsize=(20, 6))\n",
    "plt.title('Средний чек в месяц', fontsize=22)\n",
    "plt.grid(True)\n",
    "plt.show()"
   ]
  },
  {
   "cell_type": "code",
   "execution_count": 69,
   "metadata": {},
   "outputs": [
    {
     "data": {
      "text/plain": [
       "4.999646930477041"
      ]
     },
     "execution_count": 69,
     "metadata": {},
     "output_type": "execute_result"
    }
   ],
   "source": [
    "orders['revenue'].mean()"
   ]
  },
  {
   "cell_type": "code",
   "execution_count": 70,
   "metadata": {},
   "outputs": [
    {
     "data": {
      "text/plain": [
       "revenue    4.96\n",
       "dtype: float64"
      ]
     },
     "execution_count": 70,
     "metadata": {},
     "output_type": "execute_result"
    }
   ],
   "source": [
    "orders.query('order_month != \"2018-06\"').groupby('order_month').agg({'revenue':'mean'}).mean().round(2)"
   ]
  },
  {
   "cell_type": "markdown",
   "metadata": {},
   "source": [
    "Средний чек, как и количество покупок меняется в течении года. Самые дорогие покупки совершаются в декабре, а в январе и июне пользователи стараются экономить. Среднее значение за год 4.96 у.е."
   ]
  },
  {
   "cell_type": "markdown",
   "metadata": {},
   "source": [
    "<a id=\"sales4\"></a>\n",
    "- __«Пожизненная» ценность клиента - LTV__"
   ]
  },
  {
   "cell_type": "code",
   "execution_count": 71,
   "metadata": {},
   "outputs": [
    {
     "data": {
      "text/html": [
       "<div>\n",
       "<style scoped>\n",
       "    .dataframe tbody tr th:only-of-type {\n",
       "        vertical-align: middle;\n",
       "    }\n",
       "\n",
       "    .dataframe tbody tr th {\n",
       "        vertical-align: top;\n",
       "    }\n",
       "\n",
       "    .dataframe thead th {\n",
       "        text-align: right;\n",
       "    }\n",
       "</style>\n",
       "<table border=\"1\" class=\"dataframe\">\n",
       "  <thead>\n",
       "    <tr style=\"text-align: right;\">\n",
       "      <th></th>\n",
       "      <th>buy_ts</th>\n",
       "      <th>revenue</th>\n",
       "      <th>uid</th>\n",
       "      <th>order_month</th>\n",
       "    </tr>\n",
       "  </thead>\n",
       "  <tbody>\n",
       "    <tr>\n",
       "      <td>0</td>\n",
       "      <td>2017-06-01 00:10:00</td>\n",
       "      <td>17.00</td>\n",
       "      <td>10329302124590727494</td>\n",
       "      <td>2017-06</td>\n",
       "    </tr>\n",
       "    <tr>\n",
       "      <td>1</td>\n",
       "      <td>2017-06-01 00:25:00</td>\n",
       "      <td>0.55</td>\n",
       "      <td>11627257723692907447</td>\n",
       "      <td>2017-06</td>\n",
       "    </tr>\n",
       "    <tr>\n",
       "      <td>2</td>\n",
       "      <td>2017-06-01 00:27:00</td>\n",
       "      <td>0.37</td>\n",
       "      <td>17903680561304213844</td>\n",
       "      <td>2017-06</td>\n",
       "    </tr>\n",
       "    <tr>\n",
       "      <td>3</td>\n",
       "      <td>2017-06-01 00:29:00</td>\n",
       "      <td>0.55</td>\n",
       "      <td>16109239769442553005</td>\n",
       "      <td>2017-06</td>\n",
       "    </tr>\n",
       "    <tr>\n",
       "      <td>4</td>\n",
       "      <td>2017-06-01 07:58:00</td>\n",
       "      <td>0.37</td>\n",
       "      <td>14200605875248379450</td>\n",
       "      <td>2017-06</td>\n",
       "    </tr>\n",
       "  </tbody>\n",
       "</table>\n",
       "</div>"
      ],
      "text/plain": [
       "               buy_ts  revenue                   uid order_month\n",
       "0 2017-06-01 00:10:00    17.00  10329302124590727494     2017-06\n",
       "1 2017-06-01 00:25:00     0.55  11627257723692907447     2017-06\n",
       "2 2017-06-01 00:27:00     0.37  17903680561304213844     2017-06\n",
       "3 2017-06-01 00:29:00     0.55  16109239769442553005     2017-06\n",
       "4 2017-06-01 07:58:00     0.37  14200605875248379450     2017-06"
      ]
     },
     "execution_count": 71,
     "metadata": {},
     "output_type": "execute_result"
    }
   ],
   "source": [
    "orders.head()"
   ]
  },
  {
   "cell_type": "markdown",
   "metadata": {},
   "source": [
    "Найдем дату первой покупки каждого покупателя."
   ]
  },
  {
   "cell_type": "code",
   "execution_count": 72,
   "metadata": {},
   "outputs": [],
   "source": [
    "first_orders = orders.groupby('uid').agg({'order_month': 'min'}).reset_index()"
   ]
  },
  {
   "cell_type": "code",
   "execution_count": 73,
   "metadata": {},
   "outputs": [],
   "source": [
    "first_orders.columns = ['uid', 'first_order_month']"
   ]
  },
  {
   "cell_type": "code",
   "execution_count": 74,
   "metadata": {},
   "outputs": [
    {
     "data": {
      "text/html": [
       "<div>\n",
       "<style scoped>\n",
       "    .dataframe tbody tr th:only-of-type {\n",
       "        vertical-align: middle;\n",
       "    }\n",
       "\n",
       "    .dataframe tbody tr th {\n",
       "        vertical-align: top;\n",
       "    }\n",
       "\n",
       "    .dataframe thead th {\n",
       "        text-align: right;\n",
       "    }\n",
       "</style>\n",
       "<table border=\"1\" class=\"dataframe\">\n",
       "  <thead>\n",
       "    <tr style=\"text-align: right;\">\n",
       "      <th></th>\n",
       "      <th>uid</th>\n",
       "      <th>first_order_month</th>\n",
       "    </tr>\n",
       "  </thead>\n",
       "  <tbody>\n",
       "    <tr>\n",
       "      <td>0</td>\n",
       "      <td>313578113262317</td>\n",
       "      <td>2018-01</td>\n",
       "    </tr>\n",
       "  </tbody>\n",
       "</table>\n",
       "</div>"
      ],
      "text/plain": [
       "               uid first_order_month\n",
       "0  313578113262317           2018-01"
      ]
     },
     "execution_count": 74,
     "metadata": {},
     "output_type": "execute_result"
    }
   ],
   "source": [
    "first_orders.head(1)"
   ]
  },
  {
   "cell_type": "markdown",
   "metadata": {},
   "source": [
    "Посчитаем количество новых покупателей (n_buyers) за каждый месяц."
   ]
  },
  {
   "cell_type": "code",
   "execution_count": 75,
   "metadata": {},
   "outputs": [],
   "source": [
    "cohort_sizes = first_orders.groupby('first_order_month').agg({'uid': 'nunique'}).reset_index()"
   ]
  },
  {
   "cell_type": "code",
   "execution_count": 76,
   "metadata": {},
   "outputs": [],
   "source": [
    "cohort_sizes.columns = ['first_order_month', 'n_buyers']"
   ]
  },
  {
   "cell_type": "code",
   "execution_count": 77,
   "metadata": {},
   "outputs": [
    {
     "data": {
      "text/html": [
       "<div>\n",
       "<style scoped>\n",
       "    .dataframe tbody tr th:only-of-type {\n",
       "        vertical-align: middle;\n",
       "    }\n",
       "\n",
       "    .dataframe tbody tr th {\n",
       "        vertical-align: top;\n",
       "    }\n",
       "\n",
       "    .dataframe thead th {\n",
       "        text-align: right;\n",
       "    }\n",
       "</style>\n",
       "<table border=\"1\" class=\"dataframe\">\n",
       "  <thead>\n",
       "    <tr style=\"text-align: right;\">\n",
       "      <th></th>\n",
       "      <th>first_order_month</th>\n",
       "      <th>n_buyers</th>\n",
       "    </tr>\n",
       "  </thead>\n",
       "  <tbody>\n",
       "    <tr>\n",
       "      <td>0</td>\n",
       "      <td>2017-06</td>\n",
       "      <td>2023</td>\n",
       "    </tr>\n",
       "    <tr>\n",
       "      <td>1</td>\n",
       "      <td>2017-07</td>\n",
       "      <td>1923</td>\n",
       "    </tr>\n",
       "    <tr>\n",
       "      <td>2</td>\n",
       "      <td>2017-08</td>\n",
       "      <td>1370</td>\n",
       "    </tr>\n",
       "    <tr>\n",
       "      <td>3</td>\n",
       "      <td>2017-09</td>\n",
       "      <td>2581</td>\n",
       "    </tr>\n",
       "    <tr>\n",
       "      <td>4</td>\n",
       "      <td>2017-10</td>\n",
       "      <td>4340</td>\n",
       "    </tr>\n",
       "  </tbody>\n",
       "</table>\n",
       "</div>"
      ],
      "text/plain": [
       "  first_order_month  n_buyers\n",
       "0           2017-06      2023\n",
       "1           2017-07      1923\n",
       "2           2017-08      1370\n",
       "3           2017-09      2581\n",
       "4           2017-10      4340"
      ]
     },
     "execution_count": 77,
     "metadata": {},
     "output_type": "execute_result"
    }
   ],
   "source": [
    "cohort_sizes.head()"
   ]
  },
  {
   "cell_type": "markdown",
   "metadata": {},
   "source": [
    "Построим когорты. Добавим месяц первой покупки каждого покупателя в таблицу с заказами."
   ]
  },
  {
   "cell_type": "code",
   "execution_count": 78,
   "metadata": {},
   "outputs": [],
   "source": [
    "orders_new = pd.merge(orders,first_orders, on='uid')"
   ]
  },
  {
   "cell_type": "code",
   "execution_count": 79,
   "metadata": {},
   "outputs": [
    {
     "data": {
      "text/html": [
       "<div>\n",
       "<style scoped>\n",
       "    .dataframe tbody tr th:only-of-type {\n",
       "        vertical-align: middle;\n",
       "    }\n",
       "\n",
       "    .dataframe tbody tr th {\n",
       "        vertical-align: top;\n",
       "    }\n",
       "\n",
       "    .dataframe thead th {\n",
       "        text-align: right;\n",
       "    }\n",
       "</style>\n",
       "<table border=\"1\" class=\"dataframe\">\n",
       "  <thead>\n",
       "    <tr style=\"text-align: right;\">\n",
       "      <th></th>\n",
       "      <th>buy_ts</th>\n",
       "      <th>revenue</th>\n",
       "      <th>uid</th>\n",
       "      <th>order_month</th>\n",
       "      <th>first_order_month</th>\n",
       "    </tr>\n",
       "  </thead>\n",
       "  <tbody>\n",
       "    <tr>\n",
       "      <td>0</td>\n",
       "      <td>2017-06-01 00:10:00</td>\n",
       "      <td>17.00</td>\n",
       "      <td>10329302124590727494</td>\n",
       "      <td>2017-06</td>\n",
       "      <td>2017-06</td>\n",
       "    </tr>\n",
       "    <tr>\n",
       "      <td>1</td>\n",
       "      <td>2017-06-01 00:25:00</td>\n",
       "      <td>0.55</td>\n",
       "      <td>11627257723692907447</td>\n",
       "      <td>2017-06</td>\n",
       "      <td>2017-06</td>\n",
       "    </tr>\n",
       "    <tr>\n",
       "      <td>2</td>\n",
       "      <td>2017-06-01 00:27:00</td>\n",
       "      <td>0.37</td>\n",
       "      <td>17903680561304213844</td>\n",
       "      <td>2017-06</td>\n",
       "      <td>2017-06</td>\n",
       "    </tr>\n",
       "    <tr>\n",
       "      <td>3</td>\n",
       "      <td>2017-06-01 00:29:00</td>\n",
       "      <td>0.55</td>\n",
       "      <td>16109239769442553005</td>\n",
       "      <td>2017-06</td>\n",
       "      <td>2017-06</td>\n",
       "    </tr>\n",
       "    <tr>\n",
       "      <td>4</td>\n",
       "      <td>2017-06-01 07:58:00</td>\n",
       "      <td>0.37</td>\n",
       "      <td>14200605875248379450</td>\n",
       "      <td>2017-06</td>\n",
       "      <td>2017-06</td>\n",
       "    </tr>\n",
       "  </tbody>\n",
       "</table>\n",
       "</div>"
      ],
      "text/plain": [
       "               buy_ts  revenue                   uid order_month  \\\n",
       "0 2017-06-01 00:10:00    17.00  10329302124590727494     2017-06   \n",
       "1 2017-06-01 00:25:00     0.55  11627257723692907447     2017-06   \n",
       "2 2017-06-01 00:27:00     0.37  17903680561304213844     2017-06   \n",
       "3 2017-06-01 00:29:00     0.55  16109239769442553005     2017-06   \n",
       "4 2017-06-01 07:58:00     0.37  14200605875248379450     2017-06   \n",
       "\n",
       "  first_order_month  \n",
       "0           2017-06  \n",
       "1           2017-06  \n",
       "2           2017-06  \n",
       "3           2017-06  \n",
       "4           2017-06  "
      ]
     },
     "execution_count": 79,
     "metadata": {},
     "output_type": "execute_result"
    }
   ],
   "source": [
    "orders_new.head()"
   ]
  },
  {
   "cell_type": "markdown",
   "metadata": {},
   "source": [
    "Сгруппируем таблицу заказов по месяцу первой покупки и месяцу каждого заказа и сложим выручку."
   ]
  },
  {
   "cell_type": "code",
   "execution_count": 80,
   "metadata": {},
   "outputs": [],
   "source": [
    "cohorts = orders_new.groupby(['first_order_month','order_month']).agg({'revenue': 'sum'}).reset_index()"
   ]
  },
  {
   "cell_type": "code",
   "execution_count": 81,
   "metadata": {},
   "outputs": [
    {
     "data": {
      "text/html": [
       "<div>\n",
       "<style scoped>\n",
       "    .dataframe tbody tr th:only-of-type {\n",
       "        vertical-align: middle;\n",
       "    }\n",
       "\n",
       "    .dataframe tbody tr th {\n",
       "        vertical-align: top;\n",
       "    }\n",
       "\n",
       "    .dataframe thead th {\n",
       "        text-align: right;\n",
       "    }\n",
       "</style>\n",
       "<table border=\"1\" class=\"dataframe\">\n",
       "  <thead>\n",
       "    <tr style=\"text-align: right;\">\n",
       "      <th></th>\n",
       "      <th>first_order_month</th>\n",
       "      <th>order_month</th>\n",
       "      <th>revenue</th>\n",
       "    </tr>\n",
       "  </thead>\n",
       "  <tbody>\n",
       "    <tr>\n",
       "      <td>0</td>\n",
       "      <td>2017-06</td>\n",
       "      <td>2017-06</td>\n",
       "      <td>9557.49</td>\n",
       "    </tr>\n",
       "    <tr>\n",
       "      <td>1</td>\n",
       "      <td>2017-06</td>\n",
       "      <td>2017-07</td>\n",
       "      <td>981.82</td>\n",
       "    </tr>\n",
       "    <tr>\n",
       "      <td>2</td>\n",
       "      <td>2017-06</td>\n",
       "      <td>2017-08</td>\n",
       "      <td>885.34</td>\n",
       "    </tr>\n",
       "    <tr>\n",
       "      <td>3</td>\n",
       "      <td>2017-06</td>\n",
       "      <td>2017-09</td>\n",
       "      <td>1931.30</td>\n",
       "    </tr>\n",
       "    <tr>\n",
       "      <td>4</td>\n",
       "      <td>2017-06</td>\n",
       "      <td>2017-10</td>\n",
       "      <td>2068.58</td>\n",
       "    </tr>\n",
       "  </tbody>\n",
       "</table>\n",
       "</div>"
      ],
      "text/plain": [
       "  first_order_month order_month  revenue\n",
       "0           2017-06     2017-06  9557.49\n",
       "1           2017-06     2017-07   981.82\n",
       "2           2017-06     2017-08   885.34\n",
       "3           2017-06     2017-09  1931.30\n",
       "4           2017-06     2017-10  2068.58"
      ]
     },
     "execution_count": 81,
     "metadata": {},
     "output_type": "execute_result"
    }
   ],
   "source": [
    "cohorts.head()"
   ]
  },
  {
   "cell_type": "markdown",
   "metadata": {},
   "source": [
    "Добавим в таблицу cohorts данные о том, сколько людей первый раз совершили покупку в каждый месяц."
   ]
  },
  {
   "cell_type": "code",
   "execution_count": 82,
   "metadata": {},
   "outputs": [],
   "source": [
    "report = pd.merge(cohort_sizes, cohorts, on='first_order_month')"
   ]
  },
  {
   "cell_type": "code",
   "execution_count": 83,
   "metadata": {},
   "outputs": [
    {
     "data": {
      "text/html": [
       "<div>\n",
       "<style scoped>\n",
       "    .dataframe tbody tr th:only-of-type {\n",
       "        vertical-align: middle;\n",
       "    }\n",
       "\n",
       "    .dataframe tbody tr th {\n",
       "        vertical-align: top;\n",
       "    }\n",
       "\n",
       "    .dataframe thead th {\n",
       "        text-align: right;\n",
       "    }\n",
       "</style>\n",
       "<table border=\"1\" class=\"dataframe\">\n",
       "  <thead>\n",
       "    <tr style=\"text-align: right;\">\n",
       "      <th></th>\n",
       "      <th>first_order_month</th>\n",
       "      <th>n_buyers</th>\n",
       "      <th>order_month</th>\n",
       "      <th>revenue</th>\n",
       "    </tr>\n",
       "  </thead>\n",
       "  <tbody>\n",
       "    <tr>\n",
       "      <td>0</td>\n",
       "      <td>2017-06</td>\n",
       "      <td>2023</td>\n",
       "      <td>2017-06</td>\n",
       "      <td>9557.49</td>\n",
       "    </tr>\n",
       "    <tr>\n",
       "      <td>1</td>\n",
       "      <td>2017-06</td>\n",
       "      <td>2023</td>\n",
       "      <td>2017-07</td>\n",
       "      <td>981.82</td>\n",
       "    </tr>\n",
       "    <tr>\n",
       "      <td>2</td>\n",
       "      <td>2017-06</td>\n",
       "      <td>2023</td>\n",
       "      <td>2017-08</td>\n",
       "      <td>885.34</td>\n",
       "    </tr>\n",
       "    <tr>\n",
       "      <td>3</td>\n",
       "      <td>2017-06</td>\n",
       "      <td>2023</td>\n",
       "      <td>2017-09</td>\n",
       "      <td>1931.30</td>\n",
       "    </tr>\n",
       "    <tr>\n",
       "      <td>4</td>\n",
       "      <td>2017-06</td>\n",
       "      <td>2023</td>\n",
       "      <td>2017-10</td>\n",
       "      <td>2068.58</td>\n",
       "    </tr>\n",
       "  </tbody>\n",
       "</table>\n",
       "</div>"
      ],
      "text/plain": [
       "  first_order_month  n_buyers order_month  revenue\n",
       "0           2017-06      2023     2017-06  9557.49\n",
       "1           2017-06      2023     2017-07   981.82\n",
       "2           2017-06      2023     2017-08   885.34\n",
       "3           2017-06      2023     2017-09  1931.30\n",
       "4           2017-06      2023     2017-10  2068.58"
      ]
     },
     "execution_count": 83,
     "metadata": {},
     "output_type": "execute_result"
    }
   ],
   "source": [
    "report.head()"
   ]
  },
  {
   "cell_type": "code",
   "execution_count": 84,
   "metadata": {},
   "outputs": [],
   "source": [
    "report['first_order_month'] = report['first_order_month'].astype('datetime64[M]')"
   ]
  },
  {
   "cell_type": "code",
   "execution_count": 85,
   "metadata": {},
   "outputs": [],
   "source": [
    "report['order_month'] = report['order_month'].astype('datetime64[M]')"
   ]
  },
  {
   "cell_type": "markdown",
   "metadata": {},
   "source": [
    "Для рассчета LTV нужно найти валовую прибыль, умножив выручку на маржинальность. В случе Яндекс.Афиши себестоимость неизвестна или пренебрежимо мала, поэтому принимаем маржинальность равной 100%. LTV — относительный показатель, его удобнее смотреть по «возрастным» когортам, где в столбцах — не месяц заказа, а возраст (age) когорты."
   ]
  },
  {
   "cell_type": "code",
   "execution_count": 86,
   "metadata": {},
   "outputs": [],
   "source": [
    "margin_rate = 1"
   ]
  },
  {
   "cell_type": "code",
   "execution_count": 87,
   "metadata": {},
   "outputs": [],
   "source": [
    "report['gp'] = report['revenue'] * margin_rate"
   ]
  },
  {
   "cell_type": "code",
   "execution_count": 88,
   "metadata": {},
   "outputs": [],
   "source": [
    "report['age'] = (report['order_month'] - report['first_order_month']) / np.timedelta64(1, 'M')"
   ]
  },
  {
   "cell_type": "code",
   "execution_count": 89,
   "metadata": {},
   "outputs": [],
   "source": [
    "report['age'] = report['age'].round().astype('int')"
   ]
  },
  {
   "cell_type": "code",
   "execution_count": 90,
   "metadata": {},
   "outputs": [
    {
     "data": {
      "text/html": [
       "<div>\n",
       "<style scoped>\n",
       "    .dataframe tbody tr th:only-of-type {\n",
       "        vertical-align: middle;\n",
       "    }\n",
       "\n",
       "    .dataframe tbody tr th {\n",
       "        vertical-align: top;\n",
       "    }\n",
       "\n",
       "    .dataframe thead th {\n",
       "        text-align: right;\n",
       "    }\n",
       "</style>\n",
       "<table border=\"1\" class=\"dataframe\">\n",
       "  <thead>\n",
       "    <tr style=\"text-align: right;\">\n",
       "      <th></th>\n",
       "      <th>first_order_month</th>\n",
       "      <th>n_buyers</th>\n",
       "      <th>order_month</th>\n",
       "      <th>revenue</th>\n",
       "      <th>gp</th>\n",
       "      <th>age</th>\n",
       "    </tr>\n",
       "  </thead>\n",
       "  <tbody>\n",
       "    <tr>\n",
       "      <td>0</td>\n",
       "      <td>2017-06-01</td>\n",
       "      <td>2023</td>\n",
       "      <td>2017-06-01</td>\n",
       "      <td>9557.49</td>\n",
       "      <td>9557.49</td>\n",
       "      <td>0</td>\n",
       "    </tr>\n",
       "    <tr>\n",
       "      <td>1</td>\n",
       "      <td>2017-06-01</td>\n",
       "      <td>2023</td>\n",
       "      <td>2017-07-01</td>\n",
       "      <td>981.82</td>\n",
       "      <td>981.82</td>\n",
       "      <td>1</td>\n",
       "    </tr>\n",
       "    <tr>\n",
       "      <td>2</td>\n",
       "      <td>2017-06-01</td>\n",
       "      <td>2023</td>\n",
       "      <td>2017-08-01</td>\n",
       "      <td>885.34</td>\n",
       "      <td>885.34</td>\n",
       "      <td>2</td>\n",
       "    </tr>\n",
       "    <tr>\n",
       "      <td>3</td>\n",
       "      <td>2017-06-01</td>\n",
       "      <td>2023</td>\n",
       "      <td>2017-09-01</td>\n",
       "      <td>1931.30</td>\n",
       "      <td>1931.30</td>\n",
       "      <td>3</td>\n",
       "    </tr>\n",
       "    <tr>\n",
       "      <td>4</td>\n",
       "      <td>2017-06-01</td>\n",
       "      <td>2023</td>\n",
       "      <td>2017-10-01</td>\n",
       "      <td>2068.58</td>\n",
       "      <td>2068.58</td>\n",
       "      <td>4</td>\n",
       "    </tr>\n",
       "  </tbody>\n",
       "</table>\n",
       "</div>"
      ],
      "text/plain": [
       "  first_order_month  n_buyers order_month  revenue       gp  age\n",
       "0        2017-06-01      2023  2017-06-01  9557.49  9557.49    0\n",
       "1        2017-06-01      2023  2017-07-01   981.82   981.82    1\n",
       "2        2017-06-01      2023  2017-08-01   885.34   885.34    2\n",
       "3        2017-06-01      2023  2017-09-01  1931.30  1931.30    3\n",
       "4        2017-06-01      2023  2017-10-01  2068.58  2068.58    4"
      ]
     },
     "execution_count": 90,
     "metadata": {},
     "output_type": "execute_result"
    }
   ],
   "source": [
    "report.head()"
   ]
  },
  {
   "cell_type": "markdown",
   "metadata": {},
   "source": [
    "Найдём LTV и визуализируем когорты в виде тепловой карты."
   ]
  },
  {
   "cell_type": "code",
   "execution_count": 91,
   "metadata": {},
   "outputs": [],
   "source": [
    "report['ltv'] = report['gp'] / report['n_buyers']"
   ]
  },
  {
   "cell_type": "code",
   "execution_count": 92,
   "metadata": {},
   "outputs": [],
   "source": [
    "output = report.pivot_table(index='first_order_month', columns='age', values='ltv',\\\n",
    "                            aggfunc='mean').round(2).cumsum(axis=1)"
   ]
  },
  {
   "cell_type": "code",
   "execution_count": 93,
   "metadata": {},
   "outputs": [
    {
     "data": {
      "image/png": "[encoded data removed]",
      "text/plain": [
       "<Figure size 1080x648 with 2 Axes>"
      ]
     },
     "metadata": {},
     "output_type": "display_data"
    }
   ],
   "source": [
    "output.fillna('')\n",
    "sns.set(style='white')\n",
    "plt.figure(figsize=(15, 9))\n",
    "plt.title('LTV', fontsize=20)\n",
    "sns.heatmap(output, annot=True, fmt='.3', linecolor='gray', yticklabels=output.index.strftime('%Y-%m'))\n",
    "plt.show()"
   ]
  },
  {
   "cell_type": "code",
   "execution_count": 94,
   "metadata": {},
   "outputs": [
    {
     "data": {
      "text/plain": [
       "1.15"
      ]
     },
     "execution_count": 94,
     "metadata": {},
     "output_type": "execute_result"
    }
   ],
   "source": [
    "report['ltv'].mean().round(2)"
   ]
  },
  {
   "cell_type": "markdown",
   "metadata": {},
   "source": [
    "Самая \"доходная\" когорта - сентябрьская, ее клиент в среднем приносит за 5 месяцев 11,7 у.е., - почти столько же вторая по доходности - июньская приносит за год. Остальные когорты сильно отстают от лидеров. Средняя валовая прибыль тоставила 1,15 у.е."
   ]
  },
  {
   "cell_type": "markdown",
   "metadata": {},
   "source": [
    "<a id=\"marketing\"></a>\n",
    "## 5 Маркетинг<a class=\"tocSkip\">"
   ]
  },
  {
   "cell_type": "markdown",
   "metadata": {},
   "source": [
    "<a id=\"marketing\"></a>\n",
    "- __Расходы на маркетинг: общие / на каждый источник / по времени__"
   ]
  },
  {
   "cell_type": "markdown",
   "metadata": {},
   "source": [
    "Определим общие расходы на маркетинг."
   ]
  },
  {
   "cell_type": "code",
   "execution_count": 95,
   "metadata": {
    "scrolled": true
   },
   "outputs": [
    {
     "name": "stdout",
     "output_type": "stream",
     "text": [
      "Общие расходы на маркетинг: 329131.62\n"
     ]
    }
   ],
   "source": [
    "print('Общие расходы на маркетинг:', costs['costs'].sum())"
   ]
  },
  {
   "cell_type": "markdown",
   "metadata": {},
   "source": [
    "Рассчитаем затраты по источникам."
   ]
  },
  {
   "cell_type": "code",
   "execution_count": 96,
   "metadata": {},
   "outputs": [
    {
     "data": {
      "text/html": [
       "<div>\n",
       "<style scoped>\n",
       "    .dataframe tbody tr th:only-of-type {\n",
       "        vertical-align: middle;\n",
       "    }\n",
       "\n",
       "    .dataframe tbody tr th {\n",
       "        vertical-align: top;\n",
       "    }\n",
       "\n",
       "    .dataframe thead th {\n",
       "        text-align: right;\n",
       "    }\n",
       "</style>\n",
       "<table border=\"1\" class=\"dataframe\">\n",
       "  <thead>\n",
       "    <tr style=\"text-align: right;\">\n",
       "      <th></th>\n",
       "      <th>costs</th>\n",
       "    </tr>\n",
       "    <tr>\n",
       "      <th>source_id</th>\n",
       "      <th></th>\n",
       "    </tr>\n",
       "  </thead>\n",
       "  <tbody>\n",
       "    <tr>\n",
       "      <td>1</td>\n",
       "      <td>20833.27</td>\n",
       "    </tr>\n",
       "    <tr>\n",
       "      <td>2</td>\n",
       "      <td>42806.04</td>\n",
       "    </tr>\n",
       "    <tr>\n",
       "      <td>3</td>\n",
       "      <td>141321.63</td>\n",
       "    </tr>\n",
       "    <tr>\n",
       "      <td>4</td>\n",
       "      <td>61073.60</td>\n",
       "    </tr>\n",
       "    <tr>\n",
       "      <td>5</td>\n",
       "      <td>51757.10</td>\n",
       "    </tr>\n",
       "    <tr>\n",
       "      <td>9</td>\n",
       "      <td>5517.49</td>\n",
       "    </tr>\n",
       "    <tr>\n",
       "      <td>10</td>\n",
       "      <td>5822.49</td>\n",
       "    </tr>\n",
       "  </tbody>\n",
       "</table>\n",
       "</div>"
      ],
      "text/plain": [
       "               costs\n",
       "source_id           \n",
       "1           20833.27\n",
       "2           42806.04\n",
       "3          141321.63\n",
       "4           61073.60\n",
       "5           51757.10\n",
       "9            5517.49\n",
       "10           5822.49"
      ]
     },
     "execution_count": 96,
     "metadata": {},
     "output_type": "execute_result"
    }
   ],
   "source": [
    "costs.groupby('source_id').sum()"
   ]
  },
  {
   "cell_type": "code",
   "execution_count": 97,
   "metadata": {},
   "outputs": [
    {
     "data": {
      "image/png": "[encoded data removed]",
      "text/plain": [
       "<Figure size 1440x720 with 1 Axes>"
      ]
     },
     "metadata": {},
     "output_type": "display_data"
    }
   ],
   "source": [
    "costs.groupby('source_id').sum().plot(kind='bar',figsize=(20, 10))\n",
    "plt.title('Затраты по источникам', fontsize=22)\n",
    "plt.xticks(rotation=0)\n",
    "plt.grid(True)\n",
    "plt.show()"
   ]
  },
  {
   "cell_type": "markdown",
   "metadata": {},
   "source": [
    "Самым дорогим источником является 3 - более 40% маркетинговых расходов, замыкают рейтинг 9 и 10 - менее 2%."
   ]
  },
  {
   "cell_type": "markdown",
   "metadata": {},
   "source": [
    "Найдем расходы по времени, в качестве периода возьмем месяц."
   ]
  },
  {
   "cell_type": "code",
   "execution_count": 98,
   "metadata": {},
   "outputs": [],
   "source": [
    "costs['month'] = costs['dt'].astype('datetime64[M]').dt.strftime('%Y-%m')"
   ]
  },
  {
   "cell_type": "code",
   "execution_count": 99,
   "metadata": {},
   "outputs": [
    {
     "data": {
      "text/plain": [
       "month\n",
       "2017-06    18015.00\n",
       "2017-07    18240.59\n",
       "2017-08    14790.54\n",
       "2017-09    24368.91\n",
       "2017-10    36322.88\n",
       "2017-11    37907.88\n",
       "2017-12    38315.35\n",
       "2018-01    33518.52\n",
       "2018-02    32723.03\n",
       "2018-03    30415.27\n",
       "2018-04    22289.38\n",
       "2018-05    22224.27\n",
       "Name: costs, dtype: float64"
      ]
     },
     "execution_count": 99,
     "metadata": {},
     "output_type": "execute_result"
    }
   ],
   "source": [
    "costs.groupby('month')['costs'].sum()"
   ]
  },
  {
   "cell_type": "code",
   "execution_count": 100,
   "metadata": {},
   "outputs": [
    {
     "data": {
      "image/png": "[encoded data removed]",
      "text/plain": [
       "<Figure size 1440x720 with 1 Axes>"
      ]
     },
     "metadata": {},
     "output_type": "display_data"
    }
   ],
   "source": [
    "costs.groupby('month')['costs'].sum()\\\n",
    ".plot(kind='bar',figsize=(20, 10))\n",
    "plt.title('Затраты по месяцам', fontsize=22)\n",
    "plt.xticks(rotation=60)\n",
    "plt.grid(True)\n",
    "plt.show()"
   ]
  },
  {
   "cell_type": "markdown",
   "metadata": {},
   "source": [
    "На данном графике мы можем увидеть, насколько распределение по времени затрат на маркетинг совпадает с продажами: те же минимальные значения летом, рост до декабря и снова спад к лету. Очевидно, уровень расходов на маркетинг и определяет уровень продаж."
   ]
  },
  {
   "cell_type": "markdown",
   "metadata": {},
   "source": [
    "Определим источники пользователей."
   ]
  },
  {
   "cell_type": "code",
   "execution_count": 101,
   "metadata": {},
   "outputs": [],
   "source": [
    "sources = visits.sort_values(by = ['uid', 'start_ts']).groupby('uid').agg({'source_id': 'first'})"
   ]
  },
  {
   "cell_type": "code",
   "execution_count": 102,
   "metadata": {},
   "outputs": [],
   "source": [
    "payers = orders.groupby('uid').agg({'buy_ts': 'min'}).merge(sources, on = 'uid').reset_index()\n",
    "payers = payers.rename(columns = {'buy_ts': 'first_buy'})"
   ]
  },
  {
   "cell_type": "markdown",
   "metadata": {},
   "source": [
    "Рассчитаем LTV по источникам."
   ]
  },
  {
   "cell_type": "code",
   "execution_count": 103,
   "metadata": {},
   "outputs": [],
   "source": [
    "ltv = payers.merge(orders, on = 'uid')"
   ]
  },
  {
   "cell_type": "code",
   "execution_count": 104,
   "metadata": {},
   "outputs": [],
   "source": [
    "ltv['lifetime'] = ((ltv['buy_ts'] - ltv['first_buy']) / np.timedelta64(1,'M')).round().astype(int)"
   ]
  },
  {
   "cell_type": "code",
   "execution_count": 105,
   "metadata": {},
   "outputs": [],
   "source": [
    "orders_lifetime = ltv.pivot_table(index = 'source_id', columns = 'lifetime',\\\n",
    "                                  values = 'revenue', aggfunc = 'count').fillna(0)"
   ]
  },
  {
   "cell_type": "code",
   "execution_count": 106,
   "metadata": {},
   "outputs": [],
   "source": [
    "buyers_lifetime = ltv.pivot_table(index = 'source_id', columns = 'lifetime',\\\n",
    "                                  values = 'uid', aggfunc = 'nunique').fillna(0)"
   ]
  },
  {
   "cell_type": "code",
   "execution_count": 107,
   "metadata": {},
   "outputs": [],
   "source": [
    "ltv = ltv.pivot_table(index = 'source_id', columns = 'lifetime', values = 'revenue',\\\n",
    "                      aggfunc = 'sum').fillna(0)"
   ]
  },
  {
   "cell_type": "code",
   "execution_count": 108,
   "metadata": {},
   "outputs": [],
   "source": [
    "ltv = ltv.cumsum(axis = 1)"
   ]
  },
  {
   "cell_type": "code",
   "execution_count": 109,
   "metadata": {},
   "outputs": [],
   "source": [
    "cohort_sizes = payers.groupby('source_id').agg({'uid': 'nunique'}).rename(columns = {'uid': 'cohort_size'})"
   ]
  },
  {
   "cell_type": "code",
   "execution_count": 110,
   "metadata": {},
   "outputs": [],
   "source": [
    "ltv = ltv.merge(cohort_sizes, on = 'source_id')"
   ]
  },
  {
   "cell_type": "code",
   "execution_count": 111,
   "metadata": {},
   "outputs": [],
   "source": [
    "ltv = ltv.div(ltv['cohort_size'], axis = 0).drop(columns = 'cohort_size')"
   ]
  },
  {
   "cell_type": "code",
   "execution_count": 112,
   "metadata": {},
   "outputs": [
    {
     "data": {
      "image/png": "[encoded data removed]",
      "text/plain": [
       "<Figure size 1080x648 with 2 Axes>"
      ]
     },
     "metadata": {},
     "output_type": "display_data"
    }
   ],
   "source": [
    "output.fillna('')\n",
    "sns.set(style='white')\n",
    "plt.figure(figsize=(15, 9))\n",
    "plt.title('LTV по источникам', fontsize=20)\n",
    "sns.heatmap(ltv, annot=True, fmt='.3', linecolor='gray')\n",
    "plt.show()"
   ]
  },
  {
   "cell_type": "markdown",
   "metadata": {},
   "source": [
    "<a id=\"marketing2\"></a>\n",
    "- __Стоимость  привлечения одного покупателя из каждого источника CAC__"
   ]
  },
  {
   "cell_type": "code",
   "execution_count": 113,
   "metadata": {},
   "outputs": [],
   "source": [
    "cac = costs.groupby('source_id').agg({'costs': 'sum'}).reset_index()\\\n",
    ".merge(cohort_sizes.reset_index(), left_on = 'source_id', right_on='source_id')"
   ]
  },
  {
   "cell_type": "code",
   "execution_count": 114,
   "metadata": {},
   "outputs": [],
   "source": [
    "cac['cac'] = cac['costs'] / cac['cohort_size']"
   ]
  },
  {
   "cell_type": "code",
   "execution_count": 115,
   "metadata": {},
   "outputs": [
    {
     "data": {
      "text/html": [
       "<div>\n",
       "<style scoped>\n",
       "    .dataframe tbody tr th:only-of-type {\n",
       "        vertical-align: middle;\n",
       "    }\n",
       "\n",
       "    .dataframe tbody tr th {\n",
       "        vertical-align: top;\n",
       "    }\n",
       "\n",
       "    .dataframe thead th {\n",
       "        text-align: right;\n",
       "    }\n",
       "</style>\n",
       "<table border=\"1\" class=\"dataframe\">\n",
       "  <thead>\n",
       "    <tr style=\"text-align: right;\">\n",
       "      <th></th>\n",
       "      <th>costs</th>\n",
       "      <th>cohort_size</th>\n",
       "      <th>cac</th>\n",
       "    </tr>\n",
       "    <tr>\n",
       "      <th>source_id</th>\n",
       "      <th></th>\n",
       "      <th></th>\n",
       "      <th></th>\n",
       "    </tr>\n",
       "  </thead>\n",
       "  <tbody>\n",
       "    <tr>\n",
       "      <td>1</td>\n",
       "      <td>20833.27</td>\n",
       "      <td>2899</td>\n",
       "      <td>7.186364</td>\n",
       "    </tr>\n",
       "    <tr>\n",
       "      <td>2</td>\n",
       "      <td>42806.04</td>\n",
       "      <td>3506</td>\n",
       "      <td>12.209367</td>\n",
       "    </tr>\n",
       "    <tr>\n",
       "      <td>3</td>\n",
       "      <td>141321.63</td>\n",
       "      <td>10473</td>\n",
       "      <td>13.493901</td>\n",
       "    </tr>\n",
       "    <tr>\n",
       "      <td>4</td>\n",
       "      <td>61073.60</td>\n",
       "      <td>10296</td>\n",
       "      <td>5.931779</td>\n",
       "    </tr>\n",
       "    <tr>\n",
       "      <td>5</td>\n",
       "      <td>51757.10</td>\n",
       "      <td>6931</td>\n",
       "      <td>7.467479</td>\n",
       "    </tr>\n",
       "    <tr>\n",
       "      <td>9</td>\n",
       "      <td>5517.49</td>\n",
       "      <td>1088</td>\n",
       "      <td>5.071222</td>\n",
       "    </tr>\n",
       "    <tr>\n",
       "      <td>10</td>\n",
       "      <td>5822.49</td>\n",
       "      <td>1329</td>\n",
       "      <td>4.381106</td>\n",
       "    </tr>\n",
       "  </tbody>\n",
       "</table>\n",
       "</div>"
      ],
      "text/plain": [
       "               costs  cohort_size        cac\n",
       "source_id                                   \n",
       "1           20833.27         2899   7.186364\n",
       "2           42806.04         3506  12.209367\n",
       "3          141321.63        10473  13.493901\n",
       "4           61073.60        10296   5.931779\n",
       "5           51757.10         6931   7.467479\n",
       "9            5517.49         1088   5.071222\n",
       "10           5822.49         1329   4.381106"
      ]
     },
     "metadata": {},
     "output_type": "display_data"
    }
   ],
   "source": [
    "cac = cac.set_index('source_id')\n",
    "display(cac)"
   ]
  },
  {
   "cell_type": "code",
   "execution_count": 116,
   "metadata": {},
   "outputs": [
    {
     "data": {
      "image/png": "[encoded data removed]",
      "text/plain": [
       "<Figure size 1440x720 with 1 Axes>"
      ]
     },
     "metadata": {},
     "output_type": "display_data"
    }
   ],
   "source": [
    "cac.plot(kind='bar',figsize=(20, 10), y=\"cac\")\n",
    "plt.title('САС по источникам', fontsize=22)\n",
    "plt.xticks(rotation=0)\n",
    "plt.grid(True)\n",
    "plt.show()"
   ]
  },
  {
   "cell_type": "markdown",
   "metadata": {},
   "source": [
    "Самым дорогим является третий источник привлечения клиентов. Вероятно по пользователям из этого источника возникнут проблемы с окупаимостью."
   ]
  },
  {
   "cell_type": "markdown",
   "metadata": {},
   "source": [
    "<a id=\"marketing3\"></a>\n",
    "- __Окупаемость расходов - ROMI__"
   ]
  },
  {
   "cell_type": "code",
   "execution_count": 117,
   "metadata": {},
   "outputs": [],
   "source": [
    "romi = ltv.merge(cac[['cac']], on = 'source_id')"
   ]
  },
  {
   "cell_type": "code",
   "execution_count": 118,
   "metadata": {},
   "outputs": [],
   "source": [
    "romi = romi.div(romi['cac'], axis = 0).drop(columns = 'cac')"
   ]
  },
  {
   "cell_type": "code",
   "execution_count": 119,
   "metadata": {},
   "outputs": [
    {
     "data": {
      "image/png": "[encoded data removed]",
      "text/plain": [
       "<Figure size 1440x648 with 2 Axes>"
      ]
     },
     "metadata": {},
     "output_type": "display_data"
    }
   ],
   "source": [
    "romi.fillna('')\n",
    "sns.set(style='white')\n",
    "plt.figure(figsize=(20, 9))\n",
    "plt.title('ROMI по источникам', fontsize=22)\n",
    "sns.heatmap(romi, annot=True, fmt='.3', linecolor='gray')\n",
    "plt.show()"
   ]
  },
  {
   "cell_type": "markdown",
   "metadata": {},
   "source": [
    "Лучшая окупаемость у перваго источника - прибыль уже через 2 месяца, кроме того в изучаемом периоде прибыль показали 2, 9 и 5 группы, 4 - близка, но еще не достигла точки окупаемости. А вот в 3-й - как мы и ожидали высокие расходы не окупаются."
   ]
  },
  {
   "cell_type": "markdown",
   "metadata": {},
   "source": [
    "<a id=\"close\"></a>\n",
    "## 6 Общий вывод<a class=\"tocSkip\">"
   ]
  },
  {
   "cell_type": "markdown",
   "metadata": {},
   "source": [
    "**На основании анализа исходных данных мы определили количество пользователей сервиса Яндекс.Афиша: в день -  907, в неделю - 5716, в месяц - 23228, средняя продолжительность сессии 10 мин, при этом чаще сего сессия длится 1 мин. У сервиса низкие показатели удержания клиента 8,5% - 7,9% - лучшие результаты в первых когортах,  последних же когортах даже в первый месяц возвращалось менее 5% пользователей.\n",
    " Чаще всего пользователь покупает спустя минуту после первого посещения сервиса. Наилучший месяц продаж - декабрь -канун Нового Года, худшие летние месяцы - сезон отпусков. Средний чек отличается не так заметно от месяца к месяцу, но и здесь самые дорогие в среднем покупки совершаются в декабре, а в январе и июне пользователи стараются экономить. Среднее значение за год 4.96 у.е. «Пожизненная» ценность клиента (LTV) по кагортам отличается незначительно, лучшая когорта - сентябрьская, ее клиент в среднем приносит за 5 месяцев 11,7 у.е. Средняя валовая прибыль от клиента составила 1,15 у.е.\n",
    " Общие расходы на маркетинг составили 329131.62 у.е., самым дорогим источником является 3 - более 40% маркетинговых расходов, замыкают рейтинг 9 и 10 - менее 2%. Разделив расходы по источникам привлечения пользователей мы можем сказать, что наиболшие затраты приходятся на источник 3 - 141321.63 у.е. (более 40%), наименьшие - 9 - 5517.49 у.е. и 10 - 5822.49 у.е., менее 2% каждый. Если сравнивать диаграммы маркетенговых затрат по месяцам с диаграммой продаж по месяцам можем предположить, что расходы намаркетинг определяет уровень продаж. Кроме того были рассчитаны «пожизненная» ценность клиента (LTV)  и окупаемость расходов (ROMI) по источникам, для визуализации были применены \"тепловые карты\". Рассчет LTV показал, что наиболшую \"ценность клиента\" приносят истчники 2 - 13,4 у.е. и 1 - 10,7 у.е. По результатам рассчета ROMI мы можем оценить срок окупаемости по исочникам, лучший результат у первого источника, худший у третьего - весьма средняя прибыль при высоких затратах. Таким образом можно рекомендовать пренести основную часть маркетинговхе расходов на источники 1, 2, 9 и 5, существенно уменьшив на 3.**"
   ]
  }
 ],
 "metadata": {
  "ExecuteTimeLog": [
   {
    "duration": 868,
    "start_time": "2021-07-02T13:38:58.285Z"
   },
   {
    "duration": 3,
    "start_time": "2021-07-02T13:38:59.156Z"
   },
   {
    "duration": 121,
    "start_time": "2021-07-02T13:38:59.163Z"
   },
   {
    "duration": 4,
    "start_time": "2021-07-02T13:38:59.287Z"
   },
   {
    "duration": 709,
    "start_time": "2021-07-02T13:38:59.294Z"
   },
   {
    "duration": 62,
    "start_time": "2021-07-02T13:39:00.005Z"
   },
   {
    "duration": 59,
    "start_time": "2021-07-02T13:39:00.069Z"
   },
   {
    "duration": 26,
    "start_time": "2021-07-02T13:39:00.132Z"
   },
   {
    "duration": 12,
    "start_time": "2021-07-02T13:39:00.160Z"
   },
   {
    "duration": 25,
    "start_time": "2021-07-02T13:39:00.174Z"
   },
   {
    "duration": 18,
    "start_time": "2021-07-02T13:39:00.201Z"
   },
   {
    "duration": 10,
    "start_time": "2021-07-02T13:39:00.221Z"
   },
   {
    "duration": 13,
    "start_time": "2021-07-02T13:39:00.233Z"
   },
   {
    "duration": 15,
    "start_time": "2021-07-02T13:39:00.248Z"
   },
   {
    "duration": 70,
    "start_time": "2021-07-02T13:39:00.266Z"
   },
   {
    "duration": 11,
    "start_time": "2021-07-02T13:39:00.338Z"
   },
   {
    "duration": 13,
    "start_time": "2021-07-02T13:39:00.351Z"
   },
   {
    "duration": 146,
    "start_time": "2021-07-02T13:39:00.367Z"
   },
   {
    "duration": 123,
    "start_time": "2021-07-02T13:39:00.516Z"
   },
   {
    "duration": 23,
    "start_time": "2021-07-02T13:39:00.642Z"
   },
   {
    "duration": 31,
    "start_time": "2021-07-02T13:39:00.667Z"
   },
   {
    "duration": 52,
    "start_time": "2021-07-02T13:39:00.701Z"
   },
   {
    "duration": 8,
    "start_time": "2021-07-02T13:39:00.760Z"
   },
   {
    "duration": 20,
    "start_time": "2021-07-02T13:39:00.772Z"
   },
   {
    "duration": 165,
    "start_time": "2021-07-02T13:39:00.794Z"
   },
   {
    "duration": 18,
    "start_time": "2021-07-02T13:39:00.961Z"
   },
   {
    "duration": 25,
    "start_time": "2021-07-02T13:39:00.982Z"
   },
   {
    "duration": 184,
    "start_time": "2021-07-02T13:39:01.010Z"
   },
   {
    "duration": 59,
    "start_time": "2021-07-02T13:39:01.197Z"
   },
   {
    "duration": 68,
    "start_time": "2021-07-02T13:39:01.259Z"
   },
   {
    "duration": 55,
    "start_time": "2021-07-02T13:39:01.329Z"
   },
   {
    "duration": 200,
    "start_time": "2021-07-02T13:39:01.387Z"
   },
   {
    "duration": 114,
    "start_time": "2021-07-02T13:39:01.590Z"
   },
   {
    "duration": 107,
    "start_time": "2021-07-02T13:39:01.706Z"
   },
   {
    "duration": 4,
    "start_time": "2021-07-02T13:39:01.815Z"
   },
   {
    "duration": 34,
    "start_time": "2021-07-02T13:39:01.822Z"
   },
   {
    "duration": 23,
    "start_time": "2021-07-02T13:39:01.859Z"
   },
   {
    "duration": 69,
    "start_time": "2021-07-02T13:39:01.884Z"
   },
   {
    "duration": 17,
    "start_time": "2021-07-02T13:39:01.955Z"
   },
   {
    "duration": 40,
    "start_time": "2021-07-02T13:39:01.974Z"
   },
   {
    "duration": 9,
    "start_time": "2021-07-02T13:39:02.016Z"
   },
   {
    "duration": 693,
    "start_time": "2021-07-02T13:39:02.027Z"
   },
   {
    "duration": 11,
    "start_time": "2021-07-02T13:39:02.722Z"
   },
   {
    "duration": 146,
    "start_time": "2021-07-02T13:39:02.735Z"
   },
   {
    "duration": 4,
    "start_time": "2021-07-02T13:39:02.883Z"
   },
   {
    "duration": 148,
    "start_time": "2021-07-02T13:39:02.889Z"
   },
   {
    "duration": 138,
    "start_time": "2021-07-02T13:39:03.039Z"
   },
   {
    "duration": 59,
    "start_time": "2021-07-02T13:39:03.179Z"
   },
   {
    "duration": 19,
    "start_time": "2021-07-02T13:39:03.241Z"
   },
   {
    "duration": 15,
    "start_time": "2021-07-02T13:39:03.263Z"
   },
   {
    "duration": 167,
    "start_time": "2021-07-02T13:39:03.300Z"
   },
   {
    "duration": 16,
    "start_time": "2021-07-02T13:39:03.469Z"
   },
   {
    "duration": 25,
    "start_time": "2021-07-02T13:39:03.487Z"
   },
   {
    "duration": 6,
    "start_time": "2021-07-02T13:39:03.515Z"
   },
   {
    "duration": 12,
    "start_time": "2021-07-02T13:39:03.523Z"
   },
   {
    "duration": 18,
    "start_time": "2021-07-02T13:39:03.537Z"
   },
   {
    "duration": 55,
    "start_time": "2021-07-02T13:39:03.557Z"
   },
   {
    "duration": 1775,
    "start_time": "2021-07-02T13:39:03.614Z"
   },
   {
    "duration": 24,
    "start_time": "2021-07-02T13:39:05.392Z"
   },
   {
    "duration": 3,
    "start_time": "2021-07-02T13:39:05.419Z"
   },
   {
    "duration": 81,
    "start_time": "2021-07-02T13:39:05.425Z"
   },
   {
    "duration": 7,
    "start_time": "2021-07-02T13:39:05.509Z"
   },
   {
    "duration": 17,
    "start_time": "2021-07-02T13:39:05.518Z"
   },
   {
    "duration": 596,
    "start_time": "2021-07-02T13:39:05.538Z"
   },
   {
    "duration": 9,
    "start_time": "2021-07-02T13:39:06.137Z"
   },
   {
    "duration": 356,
    "start_time": "2021-07-02T13:39:06.149Z"
   },
   {
    "duration": 17,
    "start_time": "2021-07-02T13:39:06.507Z"
   },
   {
    "duration": 617,
    "start_time": "2021-07-02T13:39:06.534Z"
   },
   {
    "duration": 26,
    "start_time": "2021-07-02T13:39:07.156Z"
   },
   {
    "duration": 39,
    "start_time": "2021-07-02T13:39:07.184Z"
   },
   {
    "duration": 579,
    "start_time": "2021-07-02T13:39:07.225Z"
   },
   {
    "duration": 6,
    "start_time": "2021-07-02T13:39:07.806Z"
   },
   {
    "duration": 24,
    "start_time": "2021-07-02T13:39:07.815Z"
   },
   {
    "duration": 17,
    "start_time": "2021-07-02T13:39:07.842Z"
   },
   {
    "duration": 6213,
    "start_time": "2021-07-02T13:39:07.861Z"
   },
   {
    "duration": 4,
    "start_time": "2021-07-02T13:39:14.077Z"
   },
   {
    "duration": 23,
    "start_time": "2021-07-02T13:39:14.084Z"
   },
   {
    "duration": 15,
    "start_time": "2021-07-02T13:39:14.110Z"
   },
   {
    "duration": 4,
    "start_time": "2021-07-02T13:39:14.127Z"
   },
   {
    "duration": 14,
    "start_time": "2021-07-02T13:39:14.133Z"
   },
   {
    "duration": 78,
    "start_time": "2021-07-02T13:39:14.150Z"
   },
   {
    "duration": 95,
    "start_time": "2021-07-02T13:39:14.231Z"
   },
   {
    "duration": 28,
    "start_time": "2021-07-02T13:39:14.330Z"
   },
   {
    "duration": 11,
    "start_time": "2021-07-02T13:39:14.360Z"
   },
   {
    "duration": 9,
    "start_time": "2021-07-02T13:39:14.402Z"
   },
   {
    "duration": 23,
    "start_time": "2021-07-02T13:39:14.413Z"
   },
   {
    "duration": 14,
    "start_time": "2021-07-02T13:39:14.439Z"
   },
   {
    "duration": 11,
    "start_time": "2021-07-02T13:39:14.455Z"
   },
   {
    "duration": 8,
    "start_time": "2021-07-02T13:39:14.469Z"
   },
   {
    "duration": 25,
    "start_time": "2021-07-02T13:39:14.479Z"
   },
   {
    "duration": 10,
    "start_time": "2021-07-02T13:39:14.507Z"
   },
   {
    "duration": 8,
    "start_time": "2021-07-02T13:39:14.521Z"
   },
   {
    "duration": 21,
    "start_time": "2021-07-02T13:39:14.532Z"
   },
   {
    "duration": 9,
    "start_time": "2021-07-02T13:39:14.555Z"
   },
   {
    "duration": 31,
    "start_time": "2021-07-02T13:39:14.600Z"
   },
   {
    "duration": 1220,
    "start_time": "2021-07-02T13:39:14.633Z"
   },
   {
    "duration": 5,
    "start_time": "2021-07-02T13:39:15.856Z"
   },
   {
    "duration": 10,
    "start_time": "2021-07-02T13:39:15.864Z"
   },
   {
    "duration": 35,
    "start_time": "2021-07-02T13:39:15.876Z"
   },
   {
    "duration": 632,
    "start_time": "2021-07-02T13:39:15.914Z"
   },
   {
    "duration": 22,
    "start_time": "2021-07-02T13:39:16.548Z"
   },
   {
    "duration": 32,
    "start_time": "2021-07-02T13:39:16.573Z"
   },
   {
    "duration": 712,
    "start_time": "2021-07-02T13:39:16.608Z"
   },
   {
    "duration": 563,
    "start_time": "2021-07-02T13:39:17.323Z"
   },
   {
    "duration": 123,
    "start_time": "2021-07-02T13:39:17.888Z"
   },
   {
    "duration": 31,
    "start_time": "2021-07-02T13:39:18.013Z"
   },
   {
    "duration": 8,
    "start_time": "2021-07-02T13:39:18.046Z"
   },
   {
    "duration": 51,
    "start_time": "2021-07-02T13:39:18.056Z"
   },
   {
    "duration": 37,
    "start_time": "2021-07-02T13:39:18.110Z"
   },
   {
    "duration": 23,
    "start_time": "2021-07-02T13:39:18.150Z"
   },
   {
    "duration": 27,
    "start_time": "2021-07-02T13:39:18.176Z"
   },
   {
    "duration": 14,
    "start_time": "2021-07-02T13:39:18.205Z"
   },
   {
    "duration": 10,
    "start_time": "2021-07-02T13:39:18.222Z"
   },
   {
    "duration": 15,
    "start_time": "2021-07-02T13:39:18.235Z"
   },
   {
    "duration": 1243,
    "start_time": "2021-07-02T13:39:18.252Z"
   },
   {
    "duration": 19,
    "start_time": "2021-07-02T13:39:19.501Z"
   },
   {
    "duration": 9,
    "start_time": "2021-07-02T13:39:19.522Z"
   },
   {
    "duration": 16,
    "start_time": "2021-07-02T13:39:19.534Z"
   },
   {
    "duration": 650,
    "start_time": "2021-07-02T13:39:19.553Z"
   },
   {
    "duration": 11,
    "start_time": "2021-07-02T13:39:20.206Z"
   },
   {
    "duration": 12,
    "start_time": "2021-07-02T13:39:20.220Z"
   },
   {
    "duration": 1278,
    "start_time": "2021-07-02T13:39:20.235Z"
   },
   {
    "duration": 332,
    "start_time": "2021-07-02T19:57:04.778Z"
   },
   {
    "duration": 251,
    "start_time": "2021-07-02T19:58:44.029Z"
   },
   {
    "duration": 705,
    "start_time": "2021-07-02T20:02:15.406Z"
   },
   {
    "duration": 3,
    "start_time": "2021-07-02T20:02:16.114Z"
   },
   {
    "duration": 142,
    "start_time": "2021-07-02T20:02:16.120Z"
   },
   {
    "duration": 3,
    "start_time": "2021-07-02T20:02:16.265Z"
   },
   {
    "duration": 774,
    "start_time": "2021-07-02T20:02:16.270Z"
   },
   {
    "duration": 63,
    "start_time": "2021-07-02T20:02:17.047Z"
   },
   {
    "duration": 40,
    "start_time": "2021-07-02T20:02:17.112Z"
   },
   {
    "duration": 18,
    "start_time": "2021-07-02T20:02:17.156Z"
   },
   {
    "duration": 9,
    "start_time": "2021-07-02T20:02:17.177Z"
   },
   {
    "duration": 10,
    "start_time": "2021-07-02T20:02:17.189Z"
   },
   {
    "duration": 8,
    "start_time": "2021-07-02T20:02:17.201Z"
   },
   {
    "duration": 5,
    "start_time": "2021-07-02T20:02:17.255Z"
   },
   {
    "duration": 11,
    "start_time": "2021-07-02T20:02:17.263Z"
   },
   {
    "duration": 8,
    "start_time": "2021-07-02T20:02:17.277Z"
   },
   {
    "duration": 100,
    "start_time": "2021-07-02T20:02:17.288Z"
   },
   {
    "duration": 22,
    "start_time": "2021-07-02T20:02:17.390Z"
   },
   {
    "duration": 18,
    "start_time": "2021-07-02T20:02:17.415Z"
   },
   {
    "duration": 136,
    "start_time": "2021-07-02T20:02:17.436Z"
   },
   {
    "duration": 117,
    "start_time": "2021-07-02T20:02:17.575Z"
   },
   {
    "duration": 19,
    "start_time": "2021-07-02T20:02:17.695Z"
   },
   {
    "duration": 9,
    "start_time": "2021-07-02T20:02:17.716Z"
   },
   {
    "duration": 33,
    "start_time": "2021-07-02T20:02:17.755Z"
   },
   {
    "duration": 9,
    "start_time": "2021-07-02T20:02:17.794Z"
   },
   {
    "duration": 8,
    "start_time": "2021-07-02T20:02:17.807Z"
   },
   {
    "duration": 155,
    "start_time": "2021-07-02T20:02:17.854Z"
   },
   {
    "duration": 18,
    "start_time": "2021-07-02T20:02:18.012Z"
   },
   {
    "duration": 26,
    "start_time": "2021-07-02T20:02:18.032Z"
   },
   {
    "duration": 190,
    "start_time": "2021-07-02T20:02:18.060Z"
   },
   {
    "duration": 56,
    "start_time": "2021-07-02T20:02:18.252Z"
   },
   {
    "duration": 75,
    "start_time": "2021-07-02T20:02:18.310Z"
   },
   {
    "duration": 53,
    "start_time": "2021-07-02T20:02:18.387Z"
   },
   {
    "duration": 205,
    "start_time": "2021-07-02T20:02:18.442Z"
   },
   {
    "duration": 121,
    "start_time": "2021-07-02T20:02:18.650Z"
   },
   {
    "duration": 109,
    "start_time": "2021-07-02T20:02:18.773Z"
   },
   {
    "duration": 4,
    "start_time": "2021-07-02T20:02:18.884Z"
   },
   {
    "duration": 9,
    "start_time": "2021-07-02T20:02:18.890Z"
   },
   {
    "duration": 7,
    "start_time": "2021-07-02T20:02:18.902Z"
   },
   {
    "duration": 79,
    "start_time": "2021-07-02T20:02:18.911Z"
   },
   {
    "duration": 5,
    "start_time": "2021-07-02T20:02:18.994Z"
   },
   {
    "duration": 24,
    "start_time": "2021-07-02T20:02:19.002Z"
   },
   {
    "duration": 5,
    "start_time": "2021-07-02T20:02:19.056Z"
   },
   {
    "duration": 801,
    "start_time": "2021-07-02T20:02:19.064Z"
   },
   {
    "duration": 10,
    "start_time": "2021-07-02T20:02:19.867Z"
   },
   {
    "duration": 156,
    "start_time": "2021-07-02T20:02:19.880Z"
   },
   {
    "duration": 3,
    "start_time": "2021-07-02T20:02:20.039Z"
   },
   {
    "duration": 140,
    "start_time": "2021-07-02T20:02:20.045Z"
   },
   {
    "duration": 142,
    "start_time": "2021-07-02T20:02:20.187Z"
   },
   {
    "duration": 59,
    "start_time": "2021-07-02T20:02:20.332Z"
   },
   {
    "duration": 18,
    "start_time": "2021-07-02T20:02:20.394Z"
   },
   {
    "duration": 39,
    "start_time": "2021-07-02T20:02:20.415Z"
   },
   {
    "duration": 168,
    "start_time": "2021-07-02T20:02:20.457Z"
   },
   {
    "duration": 10,
    "start_time": "2021-07-02T20:02:20.627Z"
   },
   {
    "duration": 22,
    "start_time": "2021-07-02T20:02:20.639Z"
   },
   {
    "duration": 8,
    "start_time": "2021-07-02T20:02:20.663Z"
   },
   {
    "duration": 11,
    "start_time": "2021-07-02T20:02:20.673Z"
   },
   {
    "duration": 12,
    "start_time": "2021-07-02T20:02:20.686Z"
   },
   {
    "duration": 67,
    "start_time": "2021-07-02T20:02:20.701Z"
   },
   {
    "duration": 1806,
    "start_time": "2021-07-02T20:02:20.770Z"
   },
   {
    "duration": 19,
    "start_time": "2021-07-02T20:02:22.578Z"
   },
   {
    "duration": 3,
    "start_time": "2021-07-02T20:02:22.600Z"
   },
   {
    "duration": 89,
    "start_time": "2021-07-02T20:02:22.605Z"
   },
   {
    "duration": 7,
    "start_time": "2021-07-02T20:02:22.696Z"
   },
   {
    "duration": 15,
    "start_time": "2021-07-02T20:02:22.705Z"
   },
   {
    "duration": 636,
    "start_time": "2021-07-02T20:02:22.722Z"
   },
   {
    "duration": 8,
    "start_time": "2021-07-02T20:02:23.361Z"
   },
   {
    "duration": 353,
    "start_time": "2021-07-02T20:02:23.371Z"
   },
   {
    "duration": 28,
    "start_time": "2021-07-02T20:02:23.727Z"
   },
   {
    "duration": 673,
    "start_time": "2021-07-02T20:02:23.764Z"
   },
   {
    "duration": 42,
    "start_time": "2021-07-02T20:02:24.443Z"
   },
   {
    "duration": 33,
    "start_time": "2021-07-02T20:02:24.488Z"
   },
   {
    "duration": 617,
    "start_time": "2021-07-02T20:02:24.554Z"
   },
   {
    "duration": 6,
    "start_time": "2021-07-02T20:02:25.173Z"
   },
   {
    "duration": 22,
    "start_time": "2021-07-02T20:02:25.181Z"
   },
   {
    "duration": 49,
    "start_time": "2021-07-02T20:02:25.205Z"
   },
   {
    "duration": 6497,
    "start_time": "2021-07-02T20:02:25.257Z"
   },
   {
    "duration": 4,
    "start_time": "2021-07-02T20:02:31.757Z"
   },
   {
    "duration": 19,
    "start_time": "2021-07-02T20:02:31.763Z"
   },
   {
    "duration": 16,
    "start_time": "2021-07-02T20:02:31.785Z"
   },
   {
    "duration": 4,
    "start_time": "2021-07-02T20:02:31.803Z"
   },
   {
    "duration": 47,
    "start_time": "2021-07-02T20:02:31.809Z"
   },
   {
    "duration": 35,
    "start_time": "2021-07-02T20:02:31.858Z"
   },
   {
    "duration": 101,
    "start_time": "2021-07-02T20:02:31.895Z"
   },
   {
    "duration": 55,
    "start_time": "2021-07-02T20:02:31.999Z"
   },
   {
    "duration": 14,
    "start_time": "2021-07-02T20:02:32.057Z"
   },
   {
    "duration": 15,
    "start_time": "2021-07-02T20:02:32.074Z"
   },
   {
    "duration": 15,
    "start_time": "2021-07-02T20:02:32.092Z"
   },
   {
    "duration": 50,
    "start_time": "2021-07-02T20:02:32.110Z"
   },
   {
    "duration": 15,
    "start_time": "2021-07-02T20:02:32.163Z"
   },
   {
    "duration": 7,
    "start_time": "2021-07-02T20:02:32.181Z"
   },
   {
    "duration": 9,
    "start_time": "2021-07-02T20:02:32.191Z"
   },
   {
    "duration": 52,
    "start_time": "2021-07-02T20:02:32.203Z"
   },
   {
    "duration": 9,
    "start_time": "2021-07-02T20:02:32.258Z"
   },
   {
    "duration": 17,
    "start_time": "2021-07-02T20:02:32.269Z"
   },
   {
    "duration": 10,
    "start_time": "2021-07-02T20:02:32.288Z"
   },
   {
    "duration": 69,
    "start_time": "2021-07-02T20:02:32.300Z"
   },
   {
    "duration": 1157,
    "start_time": "2021-07-02T20:02:32.372Z"
   },
   {
    "duration": 23,
    "start_time": "2021-07-02T20:02:33.531Z"
   },
   {
    "duration": 5,
    "start_time": "2021-07-02T20:02:33.556Z"
   },
   {
    "duration": 14,
    "start_time": "2021-07-02T20:02:33.564Z"
   },
   {
    "duration": 654,
    "start_time": "2021-07-02T20:02:33.580Z"
   },
   {
    "duration": 31,
    "start_time": "2021-07-02T20:02:34.236Z"
   },
   {
    "duration": 19,
    "start_time": "2021-07-02T20:02:34.270Z"
   },
   {
    "duration": 824,
    "start_time": "2021-07-02T20:02:34.291Z"
   },
   {
    "duration": 615,
    "start_time": "2021-07-02T20:02:35.117Z"
   },
   {
    "duration": 100,
    "start_time": "2021-07-02T20:02:35.734Z"
   },
   {
    "duration": 41,
    "start_time": "2021-07-02T20:02:35.836Z"
   },
   {
    "duration": 7,
    "start_time": "2021-07-02T20:02:35.880Z"
   },
   {
    "duration": 43,
    "start_time": "2021-07-02T20:02:35.890Z"
   },
   {
    "duration": 47,
    "start_time": "2021-07-02T20:02:35.936Z"
   },
   {
    "duration": 27,
    "start_time": "2021-07-02T20:02:35.986Z"
   },
   {
    "duration": 6,
    "start_time": "2021-07-02T20:02:36.015Z"
   },
   {
    "duration": 44,
    "start_time": "2021-07-02T20:02:36.024Z"
   },
   {
    "duration": 15,
    "start_time": "2021-07-02T20:02:36.071Z"
   },
   {
    "duration": 26,
    "start_time": "2021-07-02T20:02:36.089Z"
   },
   {
    "duration": 1262,
    "start_time": "2021-07-02T20:02:36.118Z"
   },
   {
    "duration": 21,
    "start_time": "2021-07-02T20:02:37.383Z"
   },
   {
    "duration": 17,
    "start_time": "2021-07-02T20:02:37.406Z"
   },
   {
    "duration": 45,
    "start_time": "2021-07-02T20:02:37.426Z"
   },
   {
    "duration": 654,
    "start_time": "2021-07-02T20:02:37.473Z"
   },
   {
    "duration": 27,
    "start_time": "2021-07-02T20:02:38.130Z"
   },
   {
    "duration": 25,
    "start_time": "2021-07-02T20:02:38.160Z"
   },
   {
    "duration": 1447,
    "start_time": "2021-07-02T20:02:38.188Z"
   },
   {
    "duration": 833,
    "start_time": "2021-07-02T20:04:42.043Z"
   },
   {
    "duration": 90,
    "start_time": "2021-07-02T20:07:39.749Z"
   },
   {
    "duration": 7031,
    "start_time": "2021-07-02T20:07:46.579Z"
   },
   {
    "duration": 888,
    "start_time": "2021-07-02T20:08:16.000Z"
   },
   {
    "duration": 731,
    "start_time": "2021-07-02T20:08:16.890Z"
   },
   {
    "duration": 61,
    "start_time": "2021-07-02T20:08:17.624Z"
   },
   {
    "duration": 39,
    "start_time": "2021-07-02T20:08:17.688Z"
   },
   {
    "duration": 15,
    "start_time": "2021-07-02T20:08:17.729Z"
   },
   {
    "duration": 10,
    "start_time": "2021-07-02T20:08:17.747Z"
   },
   {
    "duration": 12,
    "start_time": "2021-07-02T20:08:17.759Z"
   },
   {
    "duration": 7,
    "start_time": "2021-07-02T20:08:17.773Z"
   },
   {
    "duration": 8,
    "start_time": "2021-07-02T20:08:17.783Z"
   },
   {
    "duration": 9,
    "start_time": "2021-07-02T20:08:17.794Z"
   },
   {
    "duration": 51,
    "start_time": "2021-07-02T20:08:17.805Z"
   },
   {
    "duration": 65,
    "start_time": "2021-07-02T20:08:17.858Z"
   },
   {
    "duration": 36,
    "start_time": "2021-07-02T20:08:17.925Z"
   },
   {
    "duration": 9,
    "start_time": "2021-07-02T20:08:17.963Z"
   },
   {
    "duration": 149,
    "start_time": "2021-07-02T20:08:17.974Z"
   },
   {
    "duration": 118,
    "start_time": "2021-07-02T20:08:18.126Z"
   },
   {
    "duration": 22,
    "start_time": "2021-07-02T20:08:18.246Z"
   },
   {
    "duration": 23,
    "start_time": "2021-07-02T20:08:18.271Z"
   },
   {
    "duration": 39,
    "start_time": "2021-07-02T20:08:18.296Z"
   },
   {
    "duration": 22,
    "start_time": "2021-07-02T20:08:18.338Z"
   },
   {
    "duration": 18,
    "start_time": "2021-07-02T20:08:18.362Z"
   },
   {
    "duration": 168,
    "start_time": "2021-07-02T20:08:18.382Z"
   },
   {
    "duration": 16,
    "start_time": "2021-07-02T20:08:18.554Z"
   },
   {
    "duration": 13,
    "start_time": "2021-07-02T20:08:18.573Z"
   },
   {
    "duration": 199,
    "start_time": "2021-07-02T20:08:18.588Z"
   },
   {
    "duration": 69,
    "start_time": "2021-07-02T20:08:18.789Z"
   },
   {
    "duration": 52,
    "start_time": "2021-07-02T20:08:18.864Z"
   },
   {
    "duration": 75,
    "start_time": "2021-07-02T20:08:18.920Z"
   },
   {
    "duration": 218,
    "start_time": "2021-07-02T20:08:18.997Z"
   },
   {
    "duration": 158,
    "start_time": "2021-07-02T20:08:19.218Z"
   },
   {
    "duration": 124,
    "start_time": "2021-07-02T20:08:19.379Z"
   },
   {
    "duration": 5,
    "start_time": "2021-07-02T20:08:19.505Z"
   },
   {
    "duration": 7,
    "start_time": "2021-07-02T20:08:19.513Z"
   },
   {
    "duration": 32,
    "start_time": "2021-07-02T20:08:19.523Z"
   },
   {
    "duration": 40,
    "start_time": "2021-07-02T20:08:19.558Z"
   },
   {
    "duration": 5,
    "start_time": "2021-07-02T20:08:19.601Z"
   },
   {
    "duration": 64,
    "start_time": "2021-07-02T20:08:19.608Z"
   },
   {
    "duration": 5,
    "start_time": "2021-07-02T20:08:19.675Z"
   },
   {
    "duration": 702,
    "start_time": "2021-07-02T20:08:19.683Z"
   },
   {
    "duration": 11,
    "start_time": "2021-07-02T20:08:20.388Z"
   },
   {
    "duration": 147,
    "start_time": "2021-07-02T20:08:20.401Z"
   },
   {
    "duration": 5,
    "start_time": "2021-07-02T20:08:20.550Z"
   },
   {
    "duration": 141,
    "start_time": "2021-07-02T20:08:20.557Z"
   },
   {
    "duration": 138,
    "start_time": "2021-07-02T20:08:20.700Z"
   },
   {
    "duration": 52,
    "start_time": "2021-07-02T20:08:20.840Z"
   },
   {
    "duration": 20,
    "start_time": "2021-07-02T20:08:20.895Z"
   },
   {
    "duration": 44,
    "start_time": "2021-07-02T20:08:20.917Z"
   },
   {
    "duration": 176,
    "start_time": "2021-07-02T20:08:20.964Z"
   },
   {
    "duration": 17,
    "start_time": "2021-07-02T20:08:21.143Z"
   },
   {
    "duration": 27,
    "start_time": "2021-07-02T20:08:21.162Z"
   },
   {
    "duration": 17,
    "start_time": "2021-07-02T20:08:21.192Z"
   },
   {
    "duration": 22,
    "start_time": "2021-07-02T20:08:21.211Z"
   },
   {
    "duration": 25,
    "start_time": "2021-07-02T20:08:21.235Z"
   },
   {
    "duration": 29,
    "start_time": "2021-07-02T20:08:21.263Z"
   },
   {
    "duration": 1760,
    "start_time": "2021-07-02T20:08:21.295Z"
   },
   {
    "duration": 19,
    "start_time": "2021-07-02T20:08:23.057Z"
   },
   {
    "duration": 3,
    "start_time": "2021-07-02T20:08:23.079Z"
   },
   {
    "duration": 90,
    "start_time": "2021-07-02T20:08:23.084Z"
   },
   {
    "duration": 7,
    "start_time": "2021-07-02T20:08:23.176Z"
   },
   {
    "duration": 12,
    "start_time": "2021-07-02T20:08:23.186Z"
   },
   {
    "duration": 622,
    "start_time": "2021-07-02T20:08:23.200Z"
   },
   {
    "duration": 8,
    "start_time": "2021-07-02T20:08:23.825Z"
   },
   {
    "duration": 362,
    "start_time": "2021-07-02T20:08:23.835Z"
   },
   {
    "duration": 17,
    "start_time": "2021-07-02T20:08:24.199Z"
   },
   {
    "duration": 677,
    "start_time": "2021-07-02T20:08:24.219Z"
   },
   {
    "duration": 26,
    "start_time": "2021-07-02T20:08:24.899Z"
   },
   {
    "duration": 48,
    "start_time": "2021-07-02T20:08:24.928Z"
   },
   {
    "duration": 599,
    "start_time": "2021-07-02T20:08:24.979Z"
   },
   {
    "duration": 7,
    "start_time": "2021-07-02T20:08:25.580Z"
   },
   {
    "duration": 21,
    "start_time": "2021-07-02T20:08:25.590Z"
   },
   {
    "duration": 44,
    "start_time": "2021-07-02T20:08:25.614Z"
   },
   {
    "duration": 5967,
    "start_time": "2021-07-02T20:08:25.661Z"
   },
   {
    "duration": 3,
    "start_time": "2021-07-02T20:08:31.631Z"
   },
   {
    "duration": 22,
    "start_time": "2021-07-02T20:08:31.637Z"
   },
   {
    "duration": 25,
    "start_time": "2021-07-02T20:08:31.662Z"
   },
   {
    "duration": 3,
    "start_time": "2021-07-02T20:08:31.690Z"
   },
   {
    "duration": 108,
    "start_time": "2021-07-02T20:08:31.696Z"
   },
   {
    "duration": 50,
    "start_time": "2021-07-02T20:08:31.806Z"
   },
   {
    "duration": 13,
    "start_time": "2021-07-02T20:08:31.859Z"
   },
   {
    "duration": 22,
    "start_time": "2021-07-02T20:08:31.875Z"
   },
   {
    "duration": 11,
    "start_time": "2021-07-02T20:08:31.906Z"
   },
   {
    "duration": 42,
    "start_time": "2021-07-02T20:08:31.920Z"
   },
   {
    "duration": 15,
    "start_time": "2021-07-02T20:08:31.965Z"
   },
   {
    "duration": 7,
    "start_time": "2021-07-02T20:08:31.982Z"
   },
   {
    "duration": 10,
    "start_time": "2021-07-02T20:08:31.991Z"
   },
   {
    "duration": 52,
    "start_time": "2021-07-02T20:08:32.003Z"
   },
   {
    "duration": 11,
    "start_time": "2021-07-02T20:08:32.057Z"
   },
   {
    "duration": 13,
    "start_time": "2021-07-02T20:08:32.070Z"
   },
   {
    "duration": 10,
    "start_time": "2021-07-02T20:08:32.086Z"
   },
   {
    "duration": 16,
    "start_time": "2021-07-02T20:08:32.098Z"
   },
   {
    "duration": 38,
    "start_time": "2021-07-02T20:08:32.117Z"
   },
   {
    "duration": 34,
    "start_time": "2021-07-02T20:08:32.158Z"
   },
   {
    "duration": 1167,
    "start_time": "2021-07-02T20:08:32.194Z"
   },
   {
    "duration": 8,
    "start_time": "2021-07-02T20:08:33.364Z"
   },
   {
    "duration": 8,
    "start_time": "2021-07-02T20:08:33.375Z"
   },
   {
    "duration": 14,
    "start_time": "2021-07-02T20:08:33.385Z"
   },
   {
    "duration": 673,
    "start_time": "2021-07-02T20:08:33.401Z"
   },
   {
    "duration": 28,
    "start_time": "2021-07-02T20:08:34.076Z"
   },
   {
    "duration": 12,
    "start_time": "2021-07-02T20:08:34.107Z"
   },
   {
    "duration": 697,
    "start_time": "2021-07-02T20:08:34.154Z"
   },
   {
    "duration": 504,
    "start_time": "2021-07-02T20:08:34.855Z"
   },
   {
    "duration": 112,
    "start_time": "2021-07-02T20:08:35.361Z"
   },
   {
    "duration": 29,
    "start_time": "2021-07-02T20:08:35.476Z"
   },
   {
    "duration": 10,
    "start_time": "2021-07-02T20:08:35.508Z"
   },
   {
    "duration": 27,
    "start_time": "2021-07-02T20:08:35.553Z"
   },
   {
    "duration": 36,
    "start_time": "2021-07-02T20:08:35.583Z"
   },
   {
    "duration": 53,
    "start_time": "2021-07-02T20:08:35.622Z"
   },
   {
    "duration": 3,
    "start_time": "2021-07-02T20:08:35.678Z"
   },
   {
    "duration": 13,
    "start_time": "2021-07-02T20:08:35.683Z"
   },
   {
    "duration": 11,
    "start_time": "2021-07-02T20:08:35.698Z"
   },
   {
    "duration": 49,
    "start_time": "2021-07-02T20:08:35.711Z"
   },
   {
    "duration": 1178,
    "start_time": "2021-07-02T20:08:35.763Z"
   },
   {
    "duration": 21,
    "start_time": "2021-07-02T20:08:36.943Z"
   },
   {
    "duration": 6,
    "start_time": "2021-07-02T20:08:36.967Z"
   },
   {
    "duration": 14,
    "start_time": "2021-07-02T20:08:36.976Z"
   },
   {
    "duration": 634,
    "start_time": "2021-07-02T20:08:36.993Z"
   },
   {
    "duration": 25,
    "start_time": "2021-07-02T20:08:37.629Z"
   },
   {
    "duration": 9,
    "start_time": "2021-07-02T20:08:37.657Z"
   },
   {
    "duration": 1198,
    "start_time": "2021-07-02T20:08:37.668Z"
   },
   {
    "duration": 645,
    "start_time": "2021-07-02T20:10:30.460Z"
   },
   {
    "duration": 973,
    "start_time": "2021-07-08T16:13:23.388Z"
   },
   {
    "duration": 746,
    "start_time": "2021-07-08T16:13:24.364Z"
   },
   {
    "duration": 62,
    "start_time": "2021-07-08T16:13:25.113Z"
   },
   {
    "duration": 40,
    "start_time": "2021-07-08T16:13:25.178Z"
   },
   {
    "duration": 16,
    "start_time": "2021-07-08T16:13:25.220Z"
   },
   {
    "duration": 19,
    "start_time": "2021-07-08T16:13:25.238Z"
   },
   {
    "duration": 20,
    "start_time": "2021-07-08T16:13:25.259Z"
   },
   {
    "duration": 5,
    "start_time": "2021-07-08T16:13:25.283Z"
   },
   {
    "duration": 19,
    "start_time": "2021-07-08T16:13:25.291Z"
   },
   {
    "duration": 20,
    "start_time": "2021-07-08T16:13:25.312Z"
   },
   {
    "duration": 32,
    "start_time": "2021-07-08T16:13:25.334Z"
   },
   {
    "duration": 77,
    "start_time": "2021-07-08T16:13:25.368Z"
   },
   {
    "duration": 13,
    "start_time": "2021-07-08T16:13:25.448Z"
   },
   {
    "duration": 27,
    "start_time": "2021-07-08T16:13:25.463Z"
   },
   {
    "duration": 140,
    "start_time": "2021-07-08T16:13:25.492Z"
   },
   {
    "duration": 131,
    "start_time": "2021-07-08T16:13:25.635Z"
   },
   {
    "duration": 26,
    "start_time": "2021-07-08T16:13:25.769Z"
   },
   {
    "duration": 16,
    "start_time": "2021-07-08T16:13:25.797Z"
   },
   {
    "duration": 42,
    "start_time": "2021-07-08T16:13:25.815Z"
   },
   {
    "duration": 26,
    "start_time": "2021-07-08T16:13:25.860Z"
   },
   {
    "duration": 11,
    "start_time": "2021-07-08T16:13:25.889Z"
   },
   {
    "duration": 175,
    "start_time": "2021-07-08T16:13:25.905Z"
   },
   {
    "duration": 18,
    "start_time": "2021-07-08T16:13:26.091Z"
   },
   {
    "duration": 7,
    "start_time": "2021-07-08T16:13:26.113Z"
   },
   {
    "duration": 201,
    "start_time": "2021-07-08T16:13:26.122Z"
   },
   {
    "duration": 66,
    "start_time": "2021-07-08T16:13:26.325Z"
   },
   {
    "duration": 54,
    "start_time": "2021-07-08T16:13:26.394Z"
   },
   {
    "duration": 69,
    "start_time": "2021-07-08T16:13:26.450Z"
   },
   {
    "duration": 197,
    "start_time": "2021-07-08T16:13:26.521Z"
   },
   {
    "duration": 120,
    "start_time": "2021-07-08T16:13:26.721Z"
   },
   {
    "duration": 109,
    "start_time": "2021-07-08T16:13:26.843Z"
   },
   {
    "duration": 4,
    "start_time": "2021-07-08T16:13:26.955Z"
   },
   {
    "duration": 23,
    "start_time": "2021-07-08T16:13:26.962Z"
   },
   {
    "duration": 11,
    "start_time": "2021-07-08T16:13:26.988Z"
   },
   {
    "duration": 46,
    "start_time": "2021-07-08T16:13:27.001Z"
   },
   {
    "duration": 6,
    "start_time": "2021-07-08T16:13:27.050Z"
   },
   {
    "duration": 46,
    "start_time": "2021-07-08T16:13:27.059Z"
   },
   {
    "duration": 5,
    "start_time": "2021-07-08T16:13:27.107Z"
   },
   {
    "duration": 698,
    "start_time": "2021-07-08T16:13:27.115Z"
   },
   {
    "duration": 10,
    "start_time": "2021-07-08T16:13:27.815Z"
   },
   {
    "duration": 142,
    "start_time": "2021-07-08T16:13:27.827Z"
   },
   {
    "duration": 3,
    "start_time": "2021-07-08T16:13:27.971Z"
   },
   {
    "duration": 154,
    "start_time": "2021-07-08T16:13:27.977Z"
   },
   {
    "duration": 145,
    "start_time": "2021-07-08T16:13:28.134Z"
   },
   {
    "duration": 47,
    "start_time": "2021-07-08T16:13:28.285Z"
   },
   {
    "duration": 20,
    "start_time": "2021-07-08T16:13:28.334Z"
   },
   {
    "duration": 40,
    "start_time": "2021-07-08T16:13:28.356Z"
   },
   {
    "duration": 167,
    "start_time": "2021-07-08T16:13:28.399Z"
   },
   {
    "duration": 18,
    "start_time": "2021-07-08T16:13:28.569Z"
   },
   {
    "duration": 20,
    "start_time": "2021-07-08T16:13:28.590Z"
   },
   {
    "duration": 8,
    "start_time": "2021-07-08T16:13:28.613Z"
   },
   {
    "duration": 13,
    "start_time": "2021-07-08T16:13:28.624Z"
   },
   {
    "duration": 19,
    "start_time": "2021-07-08T16:13:28.639Z"
   },
   {
    "duration": 42,
    "start_time": "2021-07-08T16:13:28.661Z"
   },
   {
    "duration": 1834,
    "start_time": "2021-07-08T16:13:28.705Z"
   },
   {
    "duration": 21,
    "start_time": "2021-07-08T16:13:30.541Z"
   },
   {
    "duration": 21,
    "start_time": "2021-07-08T16:13:30.565Z"
   },
   {
    "duration": 63,
    "start_time": "2021-07-08T16:13:30.588Z"
   },
   {
    "duration": 7,
    "start_time": "2021-07-08T16:13:30.654Z"
   },
   {
    "duration": 33,
    "start_time": "2021-07-08T16:13:30.663Z"
   },
   {
    "duration": 619,
    "start_time": "2021-07-08T16:13:30.699Z"
   },
   {
    "duration": 9,
    "start_time": "2021-07-08T16:13:31.321Z"
   },
   {
    "duration": 373,
    "start_time": "2021-07-08T16:13:31.333Z"
   },
   {
    "duration": 15,
    "start_time": "2021-07-08T16:13:31.709Z"
   },
   {
    "duration": 606,
    "start_time": "2021-07-08T16:13:31.727Z"
   },
   {
    "duration": 28,
    "start_time": "2021-07-08T16:13:32.336Z"
   },
   {
    "duration": 41,
    "start_time": "2021-07-08T16:13:32.366Z"
   },
   {
    "duration": 609,
    "start_time": "2021-07-08T16:13:32.416Z"
   },
   {
    "duration": 7,
    "start_time": "2021-07-08T16:13:33.029Z"
   },
   {
    "duration": 30,
    "start_time": "2021-07-08T16:13:33.039Z"
   },
   {
    "duration": 13,
    "start_time": "2021-07-08T16:13:33.085Z"
   },
   {
    "duration": 5662,
    "start_time": "2021-07-08T16:13:33.101Z"
   },
   {
    "duration": 4,
    "start_time": "2021-07-08T16:13:38.765Z"
   },
   {
    "duration": 14,
    "start_time": "2021-07-08T16:13:38.772Z"
   },
   {
    "duration": 18,
    "start_time": "2021-07-08T16:13:38.789Z"
   },
   {
    "duration": 4,
    "start_time": "2021-07-08T16:13:38.810Z"
   },
   {
    "duration": 12,
    "start_time": "2021-07-08T16:13:38.817Z"
   },
   {
    "duration": 76,
    "start_time": "2021-07-08T16:13:38.832Z"
   },
   {
    "duration": 103,
    "start_time": "2021-07-08T16:13:38.911Z"
   },
   {
    "duration": 28,
    "start_time": "2021-07-08T16:13:39.016Z"
   },
   {
    "duration": 11,
    "start_time": "2021-07-08T16:13:39.049Z"
   },
   {
    "duration": 9,
    "start_time": "2021-07-08T16:13:39.086Z"
   },
   {
    "duration": 16,
    "start_time": "2021-07-08T16:13:39.097Z"
   },
   {
    "duration": 12,
    "start_time": "2021-07-08T16:13:39.115Z"
   },
   {
    "duration": 15,
    "start_time": "2021-07-08T16:13:39.129Z"
   },
   {
    "duration": 16,
    "start_time": "2021-07-08T16:13:39.146Z"
   },
   {
    "duration": 22,
    "start_time": "2021-07-08T16:13:39.164Z"
   },
   {
    "duration": 12,
    "start_time": "2021-07-08T16:13:39.188Z"
   },
   {
    "duration": 10,
    "start_time": "2021-07-08T16:13:39.202Z"
   },
   {
    "duration": 19,
    "start_time": "2021-07-08T16:13:39.215Z"
   },
   {
    "duration": 9,
    "start_time": "2021-07-08T16:13:39.237Z"
   },
   {
    "duration": 43,
    "start_time": "2021-07-08T16:13:39.249Z"
   },
   {
    "duration": 1208,
    "start_time": "2021-07-08T16:13:39.294Z"
   },
   {
    "duration": 6,
    "start_time": "2021-07-08T16:13:40.504Z"
   },
   {
    "duration": 7,
    "start_time": "2021-07-08T16:13:40.513Z"
   },
   {
    "duration": 14,
    "start_time": "2021-07-08T16:13:40.522Z"
   },
   {
    "duration": 655,
    "start_time": "2021-07-08T16:13:40.538Z"
   },
   {
    "duration": 25,
    "start_time": "2021-07-08T16:13:41.195Z"
   },
   {
    "duration": 13,
    "start_time": "2021-07-08T16:13:41.223Z"
   },
   {
    "duration": 720,
    "start_time": "2021-07-08T16:13:41.238Z"
   },
   {
    "duration": 594,
    "start_time": "2021-07-08T16:13:41.960Z"
   },
   {
    "duration": 112,
    "start_time": "2021-07-08T16:13:42.556Z"
   },
   {
    "duration": 31,
    "start_time": "2021-07-08T16:13:42.671Z"
   },
   {
    "duration": 7,
    "start_time": "2021-07-08T16:13:42.705Z"
   },
   {
    "duration": 30,
    "start_time": "2021-07-08T16:13:42.715Z"
   },
   {
    "duration": 53,
    "start_time": "2021-07-08T16:13:42.747Z"
   },
   {
    "duration": 24,
    "start_time": "2021-07-08T16:13:42.802Z"
   },
   {
    "duration": 5,
    "start_time": "2021-07-08T16:13:42.828Z"
   },
   {
    "duration": 17,
    "start_time": "2021-07-08T16:13:42.835Z"
   },
   {
    "duration": 33,
    "start_time": "2021-07-08T16:13:42.854Z"
   },
   {
    "duration": 14,
    "start_time": "2021-07-08T16:13:42.890Z"
   },
   {
    "duration": 1258,
    "start_time": "2021-07-08T16:13:42.906Z"
   },
   {
    "duration": 23,
    "start_time": "2021-07-08T16:13:44.166Z"
   },
   {
    "duration": 5,
    "start_time": "2021-07-08T16:13:44.191Z"
   },
   {
    "duration": 23,
    "start_time": "2021-07-08T16:13:44.198Z"
   },
   {
    "duration": 642,
    "start_time": "2021-07-08T16:13:44.223Z"
   },
   {
    "duration": 20,
    "start_time": "2021-07-08T16:13:44.868Z"
   },
   {
    "duration": 9,
    "start_time": "2021-07-08T16:13:44.890Z"
   },
   {
    "duration": 108,
    "start_time": "2021-07-08T16:13:44.902Z"
   },
   {
    "duration": 99,
    "start_time": "2021-07-08T17:30:54.460Z"
   },
   {
    "duration": 1014,
    "start_time": "2021-07-08T17:31:50.058Z"
   },
   {
    "duration": 782,
    "start_time": "2021-07-08T17:31:51.075Z"
   },
   {
    "duration": 66,
    "start_time": "2021-07-08T17:31:51.860Z"
   },
   {
    "duration": 70,
    "start_time": "2021-07-08T17:31:51.929Z"
   },
   {
    "duration": 18,
    "start_time": "2021-07-08T17:31:52.002Z"
   },
   {
    "duration": 13,
    "start_time": "2021-07-08T17:31:52.022Z"
   },
   {
    "duration": 19,
    "start_time": "2021-07-08T17:31:52.037Z"
   },
   {
    "duration": 29,
    "start_time": "2021-07-08T17:31:52.060Z"
   },
   {
    "duration": 13,
    "start_time": "2021-07-08T17:31:52.093Z"
   },
   {
    "duration": 8,
    "start_time": "2021-07-08T17:31:52.109Z"
   },
   {
    "duration": 8,
    "start_time": "2021-07-08T17:31:52.120Z"
   },
   {
    "duration": 102,
    "start_time": "2021-07-08T17:31:52.130Z"
   },
   {
    "duration": 12,
    "start_time": "2021-07-08T17:31:52.234Z"
   },
   {
    "duration": 18,
    "start_time": "2021-07-08T17:31:52.249Z"
   },
   {
    "duration": 147,
    "start_time": "2021-07-08T17:31:52.286Z"
   },
   {
    "duration": 135,
    "start_time": "2021-07-08T17:31:52.436Z"
   },
   {
    "duration": 36,
    "start_time": "2021-07-08T17:31:52.573Z"
   },
   {
    "duration": 7,
    "start_time": "2021-07-08T17:31:52.612Z"
   },
   {
    "duration": 40,
    "start_time": "2021-07-08T17:31:52.622Z"
   },
   {
    "duration": 31,
    "start_time": "2021-07-08T17:31:52.664Z"
   },
   {
    "duration": 18,
    "start_time": "2021-07-08T17:31:52.698Z"
   },
   {
    "duration": 210,
    "start_time": "2021-07-08T17:31:52.718Z"
   },
   {
    "duration": 17,
    "start_time": "2021-07-08T17:31:52.935Z"
   },
   {
    "duration": 33,
    "start_time": "2021-07-08T17:31:52.955Z"
   },
   {
    "duration": 179,
    "start_time": "2021-07-08T17:31:52.991Z"
   },
   {
    "duration": 71,
    "start_time": "2021-07-08T17:31:53.173Z"
   },
   {
    "duration": 69,
    "start_time": "2021-07-08T17:31:53.246Z"
   },
   {
    "duration": 52,
    "start_time": "2021-07-08T17:31:53.317Z"
   },
   {
    "duration": 215,
    "start_time": "2021-07-08T17:31:53.371Z"
   },
   {
    "duration": 126,
    "start_time": "2021-07-08T17:31:53.589Z"
   },
   {
    "duration": 119,
    "start_time": "2021-07-08T17:31:53.718Z"
   },
   {
    "duration": 5,
    "start_time": "2021-07-08T17:31:53.840Z"
   },
   {
    "duration": 8,
    "start_time": "2021-07-08T17:31:53.848Z"
   },
   {
    "duration": 28,
    "start_time": "2021-07-08T17:31:53.859Z"
   },
   {
    "duration": 45,
    "start_time": "2021-07-08T17:31:53.890Z"
   },
   {
    "duration": 5,
    "start_time": "2021-07-08T17:31:53.938Z"
   },
   {
    "duration": 53,
    "start_time": "2021-07-08T17:31:53.946Z"
   },
   {
    "duration": 6,
    "start_time": "2021-07-08T17:31:54.001Z"
   },
   {
    "duration": 706,
    "start_time": "2021-07-08T17:31:54.011Z"
   },
   {
    "duration": 12,
    "start_time": "2021-07-08T17:31:54.720Z"
   },
   {
    "duration": 170,
    "start_time": "2021-07-08T17:31:54.735Z"
   },
   {
    "duration": 3,
    "start_time": "2021-07-08T17:31:54.908Z"
   },
   {
    "duration": 178,
    "start_time": "2021-07-08T17:31:54.914Z"
   },
   {
    "duration": 151,
    "start_time": "2021-07-08T17:31:55.095Z"
   },
   {
    "duration": 68,
    "start_time": "2021-07-08T17:31:55.248Z"
   },
   {
    "duration": 20,
    "start_time": "2021-07-08T17:31:55.318Z"
   },
   {
    "duration": 14,
    "start_time": "2021-07-08T17:31:55.341Z"
   },
   {
    "duration": 191,
    "start_time": "2021-07-08T17:31:55.358Z"
   },
   {
    "duration": 13,
    "start_time": "2021-07-08T17:31:55.551Z"
   },
   {
    "duration": 34,
    "start_time": "2021-07-08T17:31:55.566Z"
   },
   {
    "duration": 18,
    "start_time": "2021-07-08T17:31:55.603Z"
   },
   {
    "duration": 16,
    "start_time": "2021-07-08T17:31:55.623Z"
   },
   {
    "duration": 23,
    "start_time": "2021-07-08T17:31:55.641Z"
   },
   {
    "duration": 32,
    "start_time": "2021-07-08T17:31:55.666Z"
   },
   {
    "duration": 1892,
    "start_time": "2021-07-08T17:31:55.701Z"
   },
   {
    "duration": 22,
    "start_time": "2021-07-08T17:31:57.597Z"
   },
   {
    "duration": 4,
    "start_time": "2021-07-08T17:31:57.622Z"
   },
   {
    "duration": 100,
    "start_time": "2021-07-08T17:31:57.628Z"
   },
   {
    "duration": 7,
    "start_time": "2021-07-08T17:31:57.730Z"
   },
   {
    "duration": 19,
    "start_time": "2021-07-08T17:31:57.740Z"
   },
   {
    "duration": 662,
    "start_time": "2021-07-08T17:31:57.762Z"
   },
   {
    "duration": 8,
    "start_time": "2021-07-08T17:31:58.426Z"
   },
   {
    "duration": 379,
    "start_time": "2021-07-08T17:31:58.437Z"
   },
   {
    "duration": 16,
    "start_time": "2021-07-08T17:31:58.819Z"
   },
   {
    "duration": 662,
    "start_time": "2021-07-08T17:31:58.838Z"
   },
   {
    "duration": 27,
    "start_time": "2021-07-08T17:31:59.504Z"
   },
   {
    "duration": 60,
    "start_time": "2021-07-08T17:31:59.534Z"
   },
   {
    "duration": 627,
    "start_time": "2021-07-08T17:31:59.606Z"
   },
   {
    "duration": 7,
    "start_time": "2021-07-08T17:32:00.238Z"
   },
   {
    "duration": 46,
    "start_time": "2021-07-08T17:32:00.247Z"
   },
   {
    "duration": 14,
    "start_time": "2021-07-08T17:32:00.296Z"
   },
   {
    "duration": 6118,
    "start_time": "2021-07-08T17:32:00.312Z"
   },
   {
    "duration": 4,
    "start_time": "2021-07-08T17:32:06.432Z"
   },
   {
    "duration": 15,
    "start_time": "2021-07-08T17:32:06.438Z"
   },
   {
    "duration": 39,
    "start_time": "2021-07-08T17:32:06.455Z"
   },
   {
    "duration": 8,
    "start_time": "2021-07-08T17:32:06.497Z"
   },
   {
    "duration": 25,
    "start_time": "2021-07-08T17:32:06.508Z"
   },
   {
    "duration": 31,
    "start_time": "2021-07-08T17:32:06.536Z"
   },
   {
    "duration": 104,
    "start_time": "2021-07-08T17:32:06.569Z"
   },
   {
    "duration": 26,
    "start_time": "2021-07-08T17:32:06.687Z"
   },
   {
    "duration": 12,
    "start_time": "2021-07-08T17:32:06.715Z"
   },
   {
    "duration": 11,
    "start_time": "2021-07-08T17:32:06.729Z"
   },
   {
    "duration": 45,
    "start_time": "2021-07-08T17:32:06.743Z"
   },
   {
    "duration": 12,
    "start_time": "2021-07-08T17:32:06.791Z"
   },
   {
    "duration": 10,
    "start_time": "2021-07-08T17:32:06.806Z"
   },
   {
    "duration": 11,
    "start_time": "2021-07-08T17:32:06.818Z"
   },
   {
    "duration": 9,
    "start_time": "2021-07-08T17:32:06.832Z"
   },
   {
    "duration": 13,
    "start_time": "2021-07-08T17:32:06.843Z"
   },
   {
    "duration": 28,
    "start_time": "2021-07-08T17:32:06.858Z"
   },
   {
    "duration": 18,
    "start_time": "2021-07-08T17:32:06.889Z"
   },
   {
    "duration": 6,
    "start_time": "2021-07-08T17:32:06.909Z"
   },
   {
    "duration": 35,
    "start_time": "2021-07-08T17:32:06.918Z"
   },
   {
    "duration": 1219,
    "start_time": "2021-07-08T17:32:06.956Z"
   },
   {
    "duration": 12,
    "start_time": "2021-07-08T17:32:08.177Z"
   },
   {
    "duration": 9,
    "start_time": "2021-07-08T17:32:08.192Z"
   },
   {
    "duration": 21,
    "start_time": "2021-07-08T17:32:08.204Z"
   },
   {
    "duration": 684,
    "start_time": "2021-07-08T17:32:08.228Z"
   },
   {
    "duration": 34,
    "start_time": "2021-07-08T17:32:08.916Z"
   },
   {
    "duration": 33,
    "start_time": "2021-07-08T17:32:08.953Z"
   },
   {
    "duration": 761,
    "start_time": "2021-07-08T17:32:08.990Z"
   },
   {
    "duration": 570,
    "start_time": "2021-07-08T17:32:09.753Z"
   },
   {
    "duration": 101,
    "start_time": "2021-07-08T17:32:10.325Z"
   },
   {
    "duration": 27,
    "start_time": "2021-07-08T17:32:10.428Z"
   },
   {
    "duration": 8,
    "start_time": "2021-07-08T17:32:10.458Z"
   },
   {
    "duration": 35,
    "start_time": "2021-07-08T17:32:10.468Z"
   },
   {
    "duration": 31,
    "start_time": "2021-07-08T17:32:10.505Z"
   },
   {
    "duration": 23,
    "start_time": "2021-07-08T17:32:10.539Z"
   },
   {
    "duration": 4,
    "start_time": "2021-07-08T17:32:10.564Z"
   },
   {
    "duration": 18,
    "start_time": "2021-07-08T17:32:10.570Z"
   },
   {
    "duration": 12,
    "start_time": "2021-07-08T17:32:10.591Z"
   },
   {
    "duration": 21,
    "start_time": "2021-07-08T17:32:10.606Z"
   },
   {
    "duration": 1642,
    "start_time": "2021-07-08T17:32:10.629Z"
   },
   {
    "duration": 24,
    "start_time": "2021-07-08T17:32:12.273Z"
   },
   {
    "duration": 5,
    "start_time": "2021-07-08T17:32:12.300Z"
   },
   {
    "duration": 24,
    "start_time": "2021-07-08T17:32:12.308Z"
   },
   {
    "duration": 654,
    "start_time": "2021-07-08T17:32:12.335Z"
   },
   {
    "duration": 11,
    "start_time": "2021-07-08T17:32:12.992Z"
   },
   {
    "duration": 11,
    "start_time": "2021-07-08T17:32:13.005Z"
   },
   {
    "duration": 137,
    "start_time": "2021-07-08T17:32:13.018Z"
   },
   {
    "duration": 129,
    "start_time": "2021-07-08T17:33:24.938Z"
   },
   {
    "duration": 1066,
    "start_time": "2021-07-08T17:35:42.319Z"
   },
   {
    "duration": 786,
    "start_time": "2021-07-08T17:35:43.388Z"
   },
   {
    "duration": 66,
    "start_time": "2021-07-08T17:35:44.177Z"
   },
   {
    "duration": 53,
    "start_time": "2021-07-08T17:35:44.246Z"
   },
   {
    "duration": 24,
    "start_time": "2021-07-08T17:35:44.302Z"
   },
   {
    "duration": 13,
    "start_time": "2021-07-08T17:35:44.330Z"
   },
   {
    "duration": 18,
    "start_time": "2021-07-08T17:35:44.347Z"
   },
   {
    "duration": 29,
    "start_time": "2021-07-08T17:35:44.386Z"
   },
   {
    "duration": 7,
    "start_time": "2021-07-08T17:35:44.419Z"
   },
   {
    "duration": 10,
    "start_time": "2021-07-08T17:35:44.429Z"
   },
   {
    "duration": 12,
    "start_time": "2021-07-08T17:35:44.441Z"
   },
   {
    "duration": 75,
    "start_time": "2021-07-08T17:35:44.455Z"
   },
   {
    "duration": 10,
    "start_time": "2021-07-08T17:35:44.533Z"
   },
   {
    "duration": 13,
    "start_time": "2021-07-08T17:35:44.545Z"
   },
   {
    "duration": 148,
    "start_time": "2021-07-08T17:35:44.561Z"
   },
   {
    "duration": 128,
    "start_time": "2021-07-08T17:35:44.713Z"
   },
   {
    "duration": 19,
    "start_time": "2021-07-08T17:35:44.844Z"
   },
   {
    "duration": 25,
    "start_time": "2021-07-08T17:35:44.865Z"
   },
   {
    "duration": 43,
    "start_time": "2021-07-08T17:35:44.892Z"
   },
   {
    "duration": 8,
    "start_time": "2021-07-08T17:35:44.937Z"
   },
   {
    "duration": 14,
    "start_time": "2021-07-08T17:35:44.947Z"
   },
   {
    "duration": 187,
    "start_time": "2021-07-08T17:35:44.987Z"
   },
   {
    "duration": 26,
    "start_time": "2021-07-08T17:35:45.180Z"
   },
   {
    "duration": 21,
    "start_time": "2021-07-08T17:35:45.212Z"
   },
   {
    "duration": 195,
    "start_time": "2021-07-08T17:35:45.236Z"
   },
   {
    "duration": 72,
    "start_time": "2021-07-08T17:35:45.434Z"
   },
   {
    "duration": 53,
    "start_time": "2021-07-08T17:35:45.508Z"
   },
   {
    "duration": 67,
    "start_time": "2021-07-08T17:35:45.563Z"
   },
   {
    "duration": 209,
    "start_time": "2021-07-08T17:35:45.633Z"
   },
   {
    "duration": 120,
    "start_time": "2021-07-08T17:35:45.845Z"
   },
   {
    "duration": 123,
    "start_time": "2021-07-08T17:35:45.968Z"
   },
   {
    "duration": 5,
    "start_time": "2021-07-08T17:35:46.094Z"
   },
   {
    "duration": 14,
    "start_time": "2021-07-08T17:35:46.101Z"
   },
   {
    "duration": 13,
    "start_time": "2021-07-08T17:35:46.118Z"
   },
   {
    "duration": 61,
    "start_time": "2021-07-08T17:35:46.134Z"
   },
   {
    "duration": 5,
    "start_time": "2021-07-08T17:35:46.199Z"
   },
   {
    "duration": 29,
    "start_time": "2021-07-08T17:35:46.207Z"
   },
   {
    "duration": 7,
    "start_time": "2021-07-08T17:35:46.239Z"
   },
   {
    "duration": 733,
    "start_time": "2021-07-08T17:35:46.249Z"
   },
   {
    "duration": 11,
    "start_time": "2021-07-08T17:35:46.986Z"
   },
   {
    "duration": 149,
    "start_time": "2021-07-08T17:35:47.000Z"
   },
   {
    "duration": 4,
    "start_time": "2021-07-08T17:35:47.152Z"
   },
   {
    "duration": 156,
    "start_time": "2021-07-08T17:35:47.159Z"
   },
   {
    "duration": 154,
    "start_time": "2021-07-08T17:35:47.318Z"
   },
   {
    "duration": 59,
    "start_time": "2021-07-08T17:35:47.475Z"
   },
   {
    "duration": 22,
    "start_time": "2021-07-08T17:35:47.536Z"
   },
   {
    "duration": 16,
    "start_time": "2021-07-08T17:35:47.586Z"
   },
   {
    "duration": 181,
    "start_time": "2021-07-08T17:35:47.605Z"
   },
   {
    "duration": 12,
    "start_time": "2021-07-08T17:35:47.788Z"
   },
   {
    "duration": 20,
    "start_time": "2021-07-08T17:35:47.803Z"
   },
   {
    "duration": 6,
    "start_time": "2021-07-08T17:35:47.825Z"
   },
   {
    "duration": 13,
    "start_time": "2021-07-08T17:35:47.833Z"
   },
   {
    "duration": 48,
    "start_time": "2021-07-08T17:35:47.848Z"
   },
   {
    "duration": 29,
    "start_time": "2021-07-08T17:35:47.898Z"
   },
   {
    "duration": 1984,
    "start_time": "2021-07-08T17:35:47.929Z"
   },
   {
    "duration": 19,
    "start_time": "2021-07-08T17:35:49.916Z"
   },
   {
    "duration": 4,
    "start_time": "2021-07-08T17:35:49.937Z"
   },
   {
    "duration": 88,
    "start_time": "2021-07-08T17:35:49.944Z"
   },
   {
    "duration": 9,
    "start_time": "2021-07-08T17:35:50.035Z"
   },
   {
    "duration": 19,
    "start_time": "2021-07-08T17:35:50.047Z"
   },
   {
    "duration": 659,
    "start_time": "2021-07-08T17:35:50.086Z"
   },
   {
    "duration": 8,
    "start_time": "2021-07-08T17:35:50.748Z"
   },
   {
    "duration": 369,
    "start_time": "2021-07-08T17:35:50.759Z"
   },
   {
    "duration": 17,
    "start_time": "2021-07-08T17:35:51.130Z"
   },
   {
    "duration": 636,
    "start_time": "2021-07-08T17:35:51.149Z"
   },
   {
    "duration": 29,
    "start_time": "2021-07-08T17:35:51.788Z"
   },
   {
    "duration": 24,
    "start_time": "2021-07-08T17:35:51.820Z"
   },
   {
    "duration": 612,
    "start_time": "2021-07-08T17:35:51.886Z"
   },
   {
    "duration": 7,
    "start_time": "2021-07-08T17:35:52.503Z"
   },
   {
    "duration": 24,
    "start_time": "2021-07-08T17:35:52.512Z"
   },
   {
    "duration": 12,
    "start_time": "2021-07-08T17:35:52.538Z"
   },
   {
    "duration": 6133,
    "start_time": "2021-07-08T17:35:52.552Z"
   },
   {
    "duration": 5,
    "start_time": "2021-07-08T17:35:58.688Z"
   },
   {
    "duration": 17,
    "start_time": "2021-07-08T17:35:58.696Z"
   },
   {
    "duration": 20,
    "start_time": "2021-07-08T17:35:58.716Z"
   },
   {
    "duration": 3,
    "start_time": "2021-07-08T17:35:58.739Z"
   },
   {
    "duration": 49,
    "start_time": "2021-07-08T17:35:58.745Z"
   },
   {
    "duration": 41,
    "start_time": "2021-07-08T17:35:58.797Z"
   },
   {
    "duration": 116,
    "start_time": "2021-07-08T17:35:58.841Z"
   },
   {
    "duration": 45,
    "start_time": "2021-07-08T17:35:58.959Z"
   },
   {
    "duration": 15,
    "start_time": "2021-07-08T17:35:59.008Z"
   },
   {
    "duration": 20,
    "start_time": "2021-07-08T17:35:59.026Z"
   },
   {
    "duration": 39,
    "start_time": "2021-07-08T17:35:59.050Z"
   },
   {
    "duration": 14,
    "start_time": "2021-07-08T17:35:59.093Z"
   },
   {
    "duration": 16,
    "start_time": "2021-07-08T17:35:59.110Z"
   },
   {
    "duration": 10,
    "start_time": "2021-07-08T17:35:59.129Z"
   },
   {
    "duration": 16,
    "start_time": "2021-07-08T17:35:59.142Z"
   },
   {
    "duration": 12,
    "start_time": "2021-07-08T17:35:59.161Z"
   },
   {
    "duration": 15,
    "start_time": "2021-07-08T17:35:59.176Z"
   },
   {
    "duration": 37,
    "start_time": "2021-07-08T17:35:59.194Z"
   },
   {
    "duration": 20,
    "start_time": "2021-07-08T17:35:59.233Z"
   },
   {
    "duration": 36,
    "start_time": "2021-07-08T17:35:59.256Z"
   },
   {
    "duration": 1219,
    "start_time": "2021-07-08T17:35:59.294Z"
   },
   {
    "duration": 8,
    "start_time": "2021-07-08T17:36:00.516Z"
   },
   {
    "duration": 23,
    "start_time": "2021-07-08T17:36:00.526Z"
   },
   {
    "duration": 34,
    "start_time": "2021-07-08T17:36:00.551Z"
   },
   {
    "duration": 774,
    "start_time": "2021-07-08T17:36:00.588Z"
   },
   {
    "duration": 39,
    "start_time": "2021-07-08T17:36:01.365Z"
   },
   {
    "duration": 29,
    "start_time": "2021-07-08T17:36:01.407Z"
   },
   {
    "duration": 778,
    "start_time": "2021-07-08T17:36:01.438Z"
   },
   {
    "duration": 578,
    "start_time": "2021-07-08T17:36:02.218Z"
   },
   {
    "duration": 125,
    "start_time": "2021-07-08T17:36:02.800Z"
   },
   {
    "duration": 41,
    "start_time": "2021-07-08T17:36:02.929Z"
   },
   {
    "duration": 23,
    "start_time": "2021-07-08T17:36:02.973Z"
   },
   {
    "duration": 36,
    "start_time": "2021-07-08T17:36:02.999Z"
   },
   {
    "duration": 51,
    "start_time": "2021-07-08T17:36:03.037Z"
   },
   {
    "duration": 28,
    "start_time": "2021-07-08T17:36:03.091Z"
   },
   {
    "duration": 5,
    "start_time": "2021-07-08T17:36:03.121Z"
   },
   {
    "duration": 15,
    "start_time": "2021-07-08T17:36:03.128Z"
   },
   {
    "duration": 43,
    "start_time": "2021-07-08T17:36:03.146Z"
   },
   {
    "duration": 28,
    "start_time": "2021-07-08T17:36:03.192Z"
   },
   {
    "duration": 1447,
    "start_time": "2021-07-08T17:36:03.223Z"
   },
   {
    "duration": 25,
    "start_time": "2021-07-08T17:36:04.673Z"
   },
   {
    "duration": 5,
    "start_time": "2021-07-08T17:36:04.700Z"
   },
   {
    "duration": 16,
    "start_time": "2021-07-08T17:36:04.708Z"
   },
   {
    "duration": 706,
    "start_time": "2021-07-08T17:36:04.727Z"
   },
   {
    "duration": 10,
    "start_time": "2021-07-08T17:36:05.436Z"
   },
   {
    "duration": 19,
    "start_time": "2021-07-08T17:36:05.449Z"
   },
   {
    "duration": 165,
    "start_time": "2021-07-08T17:36:05.470Z"
   },
   {
    "duration": 11,
    "start_time": "2021-07-08T17:37:01.904Z"
   },
   {
    "duration": 7,
    "start_time": "2021-07-08T17:37:03.183Z"
   },
   {
    "duration": 123,
    "start_time": "2021-07-08T17:37:04.000Z"
   },
   {
    "duration": 4,
    "start_time": "2021-07-08T17:45:52.250Z"
   },
   {
    "duration": 138,
    "start_time": "2021-07-08T17:46:02.320Z"
   },
   {
    "duration": 1628,
    "start_time": "2021-07-08T17:46:17.582Z"
   },
   {
    "duration": 780,
    "start_time": "2021-07-08T17:46:19.213Z"
   },
   {
    "duration": 62,
    "start_time": "2021-07-08T17:46:19.998Z"
   },
   {
    "duration": 41,
    "start_time": "2021-07-08T17:46:20.062Z"
   },
   {
    "duration": 16,
    "start_time": "2021-07-08T17:46:20.107Z"
   },
   {
    "duration": 10,
    "start_time": "2021-07-08T17:46:20.125Z"
   },
   {
    "duration": 11,
    "start_time": "2021-07-08T17:46:20.137Z"
   },
   {
    "duration": 7,
    "start_time": "2021-07-08T17:46:20.150Z"
   },
   {
    "duration": 6,
    "start_time": "2021-07-08T17:46:20.188Z"
   },
   {
    "duration": 10,
    "start_time": "2021-07-08T17:46:20.199Z"
   },
   {
    "duration": 6,
    "start_time": "2021-07-08T17:46:20.212Z"
   },
   {
    "duration": 103,
    "start_time": "2021-07-08T17:46:20.220Z"
   },
   {
    "duration": 12,
    "start_time": "2021-07-08T17:46:20.325Z"
   },
   {
    "duration": 11,
    "start_time": "2021-07-08T17:46:20.339Z"
   },
   {
    "duration": 158,
    "start_time": "2021-07-08T17:46:20.352Z"
   },
   {
    "duration": 126,
    "start_time": "2021-07-08T17:46:20.512Z"
   },
   {
    "duration": 18,
    "start_time": "2021-07-08T17:46:20.641Z"
   },
   {
    "duration": 27,
    "start_time": "2021-07-08T17:46:20.662Z"
   },
   {
    "duration": 37,
    "start_time": "2021-07-08T17:46:20.692Z"
   },
   {
    "duration": 11,
    "start_time": "2021-07-08T17:46:20.732Z"
   },
   {
    "duration": 42,
    "start_time": "2021-07-08T17:46:20.745Z"
   },
   {
    "duration": 170,
    "start_time": "2021-07-08T17:46:20.790Z"
   },
   {
    "duration": 31,
    "start_time": "2021-07-08T17:46:20.962Z"
   },
   {
    "duration": 10,
    "start_time": "2021-07-08T17:46:20.995Z"
   },
   {
    "duration": 202,
    "start_time": "2021-07-08T17:46:21.007Z"
   },
   {
    "duration": 58,
    "start_time": "2021-07-08T17:46:21.211Z"
   },
   {
    "duration": 55,
    "start_time": "2021-07-08T17:46:21.285Z"
   },
   {
    "duration": 73,
    "start_time": "2021-07-08T17:46:21.344Z"
   },
   {
    "duration": 203,
    "start_time": "2021-07-08T17:46:21.419Z"
   },
   {
    "duration": 119,
    "start_time": "2021-07-08T17:46:21.624Z"
   },
   {
    "duration": 113,
    "start_time": "2021-07-08T17:46:21.746Z"
   },
   {
    "duration": 4,
    "start_time": "2021-07-08T17:46:21.862Z"
   },
   {
    "duration": 18,
    "start_time": "2021-07-08T17:46:21.868Z"
   },
   {
    "duration": 6,
    "start_time": "2021-07-08T17:46:21.889Z"
   },
   {
    "duration": 44,
    "start_time": "2021-07-08T17:46:21.897Z"
   },
   {
    "duration": 5,
    "start_time": "2021-07-08T17:46:21.944Z"
   },
   {
    "duration": 25,
    "start_time": "2021-07-08T17:46:21.984Z"
   },
   {
    "duration": 7,
    "start_time": "2021-07-08T17:46:22.012Z"
   },
   {
    "duration": 740,
    "start_time": "2021-07-08T17:46:22.021Z"
   },
   {
    "duration": 21,
    "start_time": "2021-07-08T17:46:22.764Z"
   },
   {
    "duration": 128,
    "start_time": "2021-07-08T17:46:22.788Z"
   },
   {
    "duration": 3,
    "start_time": "2021-07-08T17:46:22.918Z"
   },
   {
    "duration": 156,
    "start_time": "2021-07-08T17:46:22.924Z"
   },
   {
    "duration": 145,
    "start_time": "2021-07-08T17:46:23.082Z"
   },
   {
    "duration": 65,
    "start_time": "2021-07-08T17:46:23.230Z"
   },
   {
    "duration": 23,
    "start_time": "2021-07-08T17:46:23.297Z"
   },
   {
    "duration": 25,
    "start_time": "2021-07-08T17:46:23.323Z"
   },
   {
    "duration": 195,
    "start_time": "2021-07-08T17:46:23.350Z"
   },
   {
    "duration": 12,
    "start_time": "2021-07-08T17:46:23.547Z"
   },
   {
    "duration": 35,
    "start_time": "2021-07-08T17:46:23.562Z"
   },
   {
    "duration": 21,
    "start_time": "2021-07-08T17:46:23.599Z"
   },
   {
    "duration": 18,
    "start_time": "2021-07-08T17:46:23.622Z"
   },
   {
    "duration": 20,
    "start_time": "2021-07-08T17:46:23.642Z"
   },
   {
    "duration": 38,
    "start_time": "2021-07-08T17:46:23.665Z"
   },
   {
    "duration": 1239,
    "start_time": "2021-07-08T17:46:23.706Z"
   },
   {
    "duration": 21,
    "start_time": "2021-07-08T17:46:24.947Z"
   },
   {
    "duration": 4,
    "start_time": "2021-07-08T17:46:24.987Z"
   },
   {
    "duration": 79,
    "start_time": "2021-07-08T17:46:24.994Z"
   },
   {
    "duration": 9,
    "start_time": "2021-07-08T17:46:25.082Z"
   },
   {
    "duration": 17,
    "start_time": "2021-07-08T17:46:25.095Z"
   },
   {
    "duration": 674,
    "start_time": "2021-07-08T17:46:25.115Z"
   },
   {
    "duration": 12,
    "start_time": "2021-07-08T17:46:25.793Z"
   },
   {
    "duration": 433,
    "start_time": "2021-07-08T17:46:25.808Z"
   },
   {
    "duration": 17,
    "start_time": "2021-07-08T17:46:26.243Z"
   },
   {
    "duration": 657,
    "start_time": "2021-07-08T17:46:26.262Z"
   },
   {
    "duration": 24,
    "start_time": "2021-07-08T17:46:26.921Z"
   },
   {
    "duration": 45,
    "start_time": "2021-07-08T17:46:26.948Z"
   },
   {
    "duration": 610,
    "start_time": "2021-07-08T17:46:26.996Z"
   },
   {
    "duration": 6,
    "start_time": "2021-07-08T17:46:27.608Z"
   },
   {
    "duration": 24,
    "start_time": "2021-07-08T17:46:27.616Z"
   },
   {
    "duration": 11,
    "start_time": "2021-07-08T17:46:27.642Z"
   },
   {
    "duration": 5867,
    "start_time": "2021-07-08T17:46:27.655Z"
   },
   {
    "duration": 4,
    "start_time": "2021-07-08T17:46:33.524Z"
   },
   {
    "duration": 14,
    "start_time": "2021-07-08T17:46:33.530Z"
   },
   {
    "duration": 16,
    "start_time": "2021-07-08T17:46:33.546Z"
   },
   {
    "duration": 5,
    "start_time": "2021-07-08T17:46:33.587Z"
   },
   {
    "duration": 112,
    "start_time": "2021-07-08T17:46:33.596Z"
   },
   {
    "duration": 33,
    "start_time": "2021-07-08T17:46:33.711Z"
   },
   {
    "duration": 39,
    "start_time": "2021-07-08T17:46:33.746Z"
   },
   {
    "duration": 27,
    "start_time": "2021-07-08T17:46:33.789Z"
   },
   {
    "duration": 11,
    "start_time": "2021-07-08T17:46:33.825Z"
   },
   {
    "duration": 9,
    "start_time": "2021-07-08T17:46:33.839Z"
   },
   {
    "duration": 14,
    "start_time": "2021-07-08T17:46:33.886Z"
   },
   {
    "duration": 11,
    "start_time": "2021-07-08T17:46:33.903Z"
   },
   {
    "duration": 12,
    "start_time": "2021-07-08T17:46:33.916Z"
   },
   {
    "duration": 12,
    "start_time": "2021-07-08T17:46:33.931Z"
   },
   {
    "duration": 18,
    "start_time": "2021-07-08T17:46:33.945Z"
   },
   {
    "duration": 24,
    "start_time": "2021-07-08T17:46:33.966Z"
   },
   {
    "duration": 7,
    "start_time": "2021-07-08T17:46:33.994Z"
   },
   {
    "duration": 23,
    "start_time": "2021-07-08T17:46:34.005Z"
   },
   {
    "duration": 8,
    "start_time": "2021-07-08T17:46:34.031Z"
   },
   {
    "duration": 72,
    "start_time": "2021-07-08T17:46:34.042Z"
   },
   {
    "duration": 1263,
    "start_time": "2021-07-08T17:46:34.117Z"
   },
   {
    "duration": 8,
    "start_time": "2021-07-08T17:46:35.386Z"
   },
   {
    "duration": 14,
    "start_time": "2021-07-08T17:46:35.397Z"
   },
   {
    "duration": 22,
    "start_time": "2021-07-08T17:46:35.414Z"
   },
   {
    "duration": 695,
    "start_time": "2021-07-08T17:46:35.439Z"
   },
   {
    "duration": 27,
    "start_time": "2021-07-08T17:46:36.136Z"
   },
   {
    "duration": 29,
    "start_time": "2021-07-08T17:46:36.165Z"
   },
   {
    "duration": 745,
    "start_time": "2021-07-08T17:46:36.197Z"
   },
   {
    "duration": 561,
    "start_time": "2021-07-08T17:46:36.944Z"
   },
   {
    "duration": 117,
    "start_time": "2021-07-08T17:46:37.507Z"
   },
   {
    "duration": 30,
    "start_time": "2021-07-08T17:46:37.627Z"
   },
   {
    "duration": 25,
    "start_time": "2021-07-08T17:46:37.660Z"
   },
   {
    "duration": 24,
    "start_time": "2021-07-08T17:46:37.688Z"
   },
   {
    "duration": 35,
    "start_time": "2021-07-08T17:46:37.715Z"
   },
   {
    "duration": 47,
    "start_time": "2021-07-08T17:46:37.753Z"
   },
   {
    "duration": 5,
    "start_time": "2021-07-08T17:46:37.802Z"
   },
   {
    "duration": 14,
    "start_time": "2021-07-08T17:46:37.810Z"
   },
   {
    "duration": 10,
    "start_time": "2021-07-08T17:46:37.827Z"
   },
   {
    "duration": 16,
    "start_time": "2021-07-08T17:46:37.840Z"
   },
   {
    "duration": 1251,
    "start_time": "2021-07-08T17:46:37.887Z"
   },
   {
    "duration": 13,
    "start_time": "2021-07-08T17:46:39.141Z"
   },
   {
    "duration": 11,
    "start_time": "2021-07-08T17:46:39.157Z"
   },
   {
    "duration": 20,
    "start_time": "2021-07-08T17:46:39.187Z"
   },
   {
    "duration": 664,
    "start_time": "2021-07-08T17:46:39.209Z"
   },
   {
    "duration": 13,
    "start_time": "2021-07-08T17:46:39.884Z"
   },
   {
    "duration": 13,
    "start_time": "2021-07-08T17:46:39.899Z"
   },
   {
    "duration": 123,
    "start_time": "2021-07-08T17:46:39.915Z"
   },
   {
    "duration": 1236,
    "start_time": "2021-07-08T17:47:53.783Z"
   },
   {
    "duration": 1565,
    "start_time": "2021-07-08T17:48:11.199Z"
   },
   {
    "duration": 754,
    "start_time": "2021-07-08T17:48:12.767Z"
   },
   {
    "duration": 61,
    "start_time": "2021-07-08T17:48:13.524Z"
   },
   {
    "duration": 39,
    "start_time": "2021-07-08T17:48:13.588Z"
   },
   {
    "duration": 24,
    "start_time": "2021-07-08T17:48:13.629Z"
   },
   {
    "duration": 15,
    "start_time": "2021-07-08T17:48:13.656Z"
   },
   {
    "duration": 14,
    "start_time": "2021-07-08T17:48:13.674Z"
   },
   {
    "duration": 15,
    "start_time": "2021-07-08T17:48:13.692Z"
   },
   {
    "duration": 14,
    "start_time": "2021-07-08T17:48:13.710Z"
   },
   {
    "duration": 15,
    "start_time": "2021-07-08T17:48:13.726Z"
   },
   {
    "duration": 16,
    "start_time": "2021-07-08T17:48:13.743Z"
   },
   {
    "duration": 78,
    "start_time": "2021-07-08T17:48:13.762Z"
   },
   {
    "duration": 11,
    "start_time": "2021-07-08T17:48:13.842Z"
   },
   {
    "duration": 11,
    "start_time": "2021-07-08T17:48:13.856Z"
   },
   {
    "duration": 191,
    "start_time": "2021-07-08T17:48:13.869Z"
   },
   {
    "duration": 151,
    "start_time": "2021-07-08T17:48:14.063Z"
   },
   {
    "duration": 18,
    "start_time": "2021-07-08T17:48:14.217Z"
   },
   {
    "duration": 18,
    "start_time": "2021-07-08T17:48:14.237Z"
   },
   {
    "duration": 55,
    "start_time": "2021-07-08T17:48:14.257Z"
   },
   {
    "duration": 10,
    "start_time": "2021-07-08T17:48:14.315Z"
   },
   {
    "duration": 7,
    "start_time": "2021-07-08T17:48:14.327Z"
   },
   {
    "duration": 185,
    "start_time": "2021-07-08T17:48:14.337Z"
   },
   {
    "duration": 16,
    "start_time": "2021-07-08T17:48:14.528Z"
   },
   {
    "duration": 8,
    "start_time": "2021-07-08T17:48:14.548Z"
   },
   {
    "duration": 172,
    "start_time": "2021-07-08T17:48:14.585Z"
   },
   {
    "duration": 67,
    "start_time": "2021-07-08T17:48:14.760Z"
   },
   {
    "duration": 61,
    "start_time": "2021-07-08T17:48:14.829Z"
   },
   {
    "duration": 53,
    "start_time": "2021-07-08T17:48:14.892Z"
   },
   {
    "duration": 208,
    "start_time": "2021-07-08T17:48:14.947Z"
   },
   {
    "duration": 120,
    "start_time": "2021-07-08T17:48:15.158Z"
   },
   {
    "duration": 113,
    "start_time": "2021-07-08T17:48:15.285Z"
   },
   {
    "duration": 6,
    "start_time": "2021-07-08T17:48:15.400Z"
   },
   {
    "duration": 15,
    "start_time": "2021-07-08T17:48:15.408Z"
   },
   {
    "duration": 9,
    "start_time": "2021-07-08T17:48:15.425Z"
   },
   {
    "duration": 63,
    "start_time": "2021-07-08T17:48:15.437Z"
   },
   {
    "duration": 8,
    "start_time": "2021-07-08T17:48:15.502Z"
   },
   {
    "duration": 25,
    "start_time": "2021-07-08T17:48:15.512Z"
   },
   {
    "duration": 6,
    "start_time": "2021-07-08T17:48:15.540Z"
   },
   {
    "duration": 721,
    "start_time": "2021-07-08T17:48:15.549Z"
   },
   {
    "duration": 21,
    "start_time": "2021-07-08T17:48:16.273Z"
   },
   {
    "duration": 137,
    "start_time": "2021-07-08T17:48:16.297Z"
   },
   {
    "duration": 4,
    "start_time": "2021-07-08T17:48:16.436Z"
   },
   {
    "duration": 152,
    "start_time": "2021-07-08T17:48:16.442Z"
   },
   {
    "duration": 141,
    "start_time": "2021-07-08T17:48:16.596Z"
   },
   {
    "duration": 60,
    "start_time": "2021-07-08T17:48:16.739Z"
   },
   {
    "duration": 19,
    "start_time": "2021-07-08T17:48:16.802Z"
   },
   {
    "duration": 20,
    "start_time": "2021-07-08T17:48:16.823Z"
   },
   {
    "duration": 184,
    "start_time": "2021-07-08T17:48:16.845Z"
   },
   {
    "duration": 10,
    "start_time": "2021-07-08T17:48:17.032Z"
   },
   {
    "duration": 17,
    "start_time": "2021-07-08T17:48:17.045Z"
   },
   {
    "duration": 6,
    "start_time": "2021-07-08T17:48:17.085Z"
   },
   {
    "duration": 11,
    "start_time": "2021-07-08T17:48:17.093Z"
   },
   {
    "duration": 15,
    "start_time": "2021-07-08T17:48:17.107Z"
   },
   {
    "duration": 26,
    "start_time": "2021-07-08T17:48:17.124Z"
   },
   {
    "duration": 1173,
    "start_time": "2021-07-08T17:48:17.153Z"
   },
   {
    "duration": 19,
    "start_time": "2021-07-08T17:48:18.328Z"
   },
   {
    "duration": 4,
    "start_time": "2021-07-08T17:48:18.349Z"
   },
   {
    "duration": 74,
    "start_time": "2021-07-08T17:48:18.355Z"
   },
   {
    "duration": 7,
    "start_time": "2021-07-08T17:48:18.431Z"
   },
   {
    "duration": 14,
    "start_time": "2021-07-08T17:48:18.441Z"
   },
   {
    "duration": 667,
    "start_time": "2021-07-08T17:48:18.486Z"
   },
   {
    "duration": 8,
    "start_time": "2021-07-08T17:48:19.155Z"
   },
   {
    "duration": 341,
    "start_time": "2021-07-08T17:48:19.165Z"
   },
   {
    "duration": 16,
    "start_time": "2021-07-08T17:48:19.508Z"
   },
   {
    "duration": 604,
    "start_time": "2021-07-08T17:48:19.527Z"
   },
   {
    "duration": 26,
    "start_time": "2021-07-08T17:48:20.134Z"
   },
   {
    "duration": 44,
    "start_time": "2021-07-08T17:48:20.162Z"
   },
   {
    "duration": 590,
    "start_time": "2021-07-08T17:48:20.215Z"
   },
   {
    "duration": 6,
    "start_time": "2021-07-08T17:48:20.809Z"
   },
   {
    "duration": 22,
    "start_time": "2021-07-08T17:48:20.818Z"
   },
   {
    "duration": 44,
    "start_time": "2021-07-08T17:48:20.843Z"
   },
   {
    "duration": 5770,
    "start_time": "2021-07-08T17:48:20.890Z"
   },
   {
    "duration": 4,
    "start_time": "2021-07-08T17:48:26.663Z"
   },
   {
    "duration": 22,
    "start_time": "2021-07-08T17:48:26.669Z"
   },
   {
    "duration": 17,
    "start_time": "2021-07-08T17:48:26.693Z"
   },
   {
    "duration": 4,
    "start_time": "2021-07-08T17:48:26.713Z"
   },
   {
    "duration": 12,
    "start_time": "2021-07-08T17:48:26.719Z"
   },
   {
    "duration": 65,
    "start_time": "2021-07-08T17:48:26.733Z"
   },
   {
    "duration": 99,
    "start_time": "2021-07-08T17:48:26.801Z"
   },
   {
    "duration": 37,
    "start_time": "2021-07-08T17:48:26.902Z"
   },
   {
    "duration": 11,
    "start_time": "2021-07-08T17:48:26.941Z"
   },
   {
    "duration": 32,
    "start_time": "2021-07-08T17:48:26.955Z"
   },
   {
    "duration": 32,
    "start_time": "2021-07-08T17:48:26.990Z"
   },
   {
    "duration": 15,
    "start_time": "2021-07-08T17:48:27.025Z"
   },
   {
    "duration": 18,
    "start_time": "2021-07-08T17:48:27.042Z"
   },
   {
    "duration": 24,
    "start_time": "2021-07-08T17:48:27.062Z"
   },
   {
    "duration": 18,
    "start_time": "2021-07-08T17:48:27.088Z"
   },
   {
    "duration": 18,
    "start_time": "2021-07-08T17:48:27.108Z"
   },
   {
    "duration": 17,
    "start_time": "2021-07-08T17:48:27.128Z"
   },
   {
    "duration": 29,
    "start_time": "2021-07-08T17:48:27.147Z"
   },
   {
    "duration": 19,
    "start_time": "2021-07-08T17:48:27.179Z"
   },
   {
    "duration": 34,
    "start_time": "2021-07-08T17:48:27.201Z"
   },
   {
    "duration": 1170,
    "start_time": "2021-07-08T17:48:27.238Z"
   },
   {
    "duration": 7,
    "start_time": "2021-07-08T17:48:28.411Z"
   },
   {
    "duration": 7,
    "start_time": "2021-07-08T17:48:28.421Z"
   },
   {
    "duration": 14,
    "start_time": "2021-07-08T17:48:28.431Z"
   },
   {
    "duration": 759,
    "start_time": "2021-07-08T17:48:28.448Z"
   },
   {
    "duration": 23,
    "start_time": "2021-07-08T17:48:29.209Z"
   },
   {
    "duration": 13,
    "start_time": "2021-07-08T17:48:29.234Z"
   },
   {
    "duration": 711,
    "start_time": "2021-07-08T17:48:29.249Z"
   },
   {
    "duration": 518,
    "start_time": "2021-07-08T17:48:29.962Z"
   },
   {
    "duration": 114,
    "start_time": "2021-07-08T17:48:30.482Z"
   },
   {
    "duration": 28,
    "start_time": "2021-07-08T17:48:30.599Z"
   },
   {
    "duration": 9,
    "start_time": "2021-07-08T17:48:30.629Z"
   },
   {
    "duration": 44,
    "start_time": "2021-07-08T17:48:30.641Z"
   },
   {
    "duration": 33,
    "start_time": "2021-07-08T17:48:30.688Z"
   },
   {
    "duration": 26,
    "start_time": "2021-07-08T17:48:30.724Z"
   },
   {
    "duration": 33,
    "start_time": "2021-07-08T17:48:30.752Z"
   },
   {
    "duration": 26,
    "start_time": "2021-07-08T17:48:30.788Z"
   },
   {
    "duration": 18,
    "start_time": "2021-07-08T17:48:30.817Z"
   },
   {
    "duration": 28,
    "start_time": "2021-07-08T17:48:30.838Z"
   },
   {
    "duration": 1198,
    "start_time": "2021-07-08T17:48:30.868Z"
   },
   {
    "duration": 22,
    "start_time": "2021-07-08T17:48:32.068Z"
   },
   {
    "duration": 9,
    "start_time": "2021-07-08T17:48:32.092Z"
   },
   {
    "duration": 29,
    "start_time": "2021-07-08T17:48:32.104Z"
   },
   {
    "duration": 829,
    "start_time": "2021-07-08T17:48:32.135Z"
   },
   {
    "duration": 21,
    "start_time": "2021-07-08T17:48:32.966Z"
   },
   {
    "duration": 11,
    "start_time": "2021-07-08T17:48:32.989Z"
   },
   {
    "duration": 1371,
    "start_time": "2021-07-08T17:48:33.003Z"
   }
  ],
  "kernelspec": {
   "display_name": "Python 3",
   "language": "python",
   "name": "python3"
  },
  "language_info": {
   "codemirror_mode": {
    "name": "ipython",
    "version": 3
   },
   "file_extension": ".py",
   "mimetype": "text/x-python",
   "name": "python",
   "nbconvert_exporter": "python",
   "pygments_lexer": "ipython3",
   "version": "3.7.8"
  },
  "toc": {
   "base_numbering": 1,
   "nav_menu": {
    "height": "277px",
    "width": "290px"
   },
   "number_sections": true,
   "sideBar": true,
   "skip_h1_title": false,
   "title_cell": "Table of Contents",
   "title_sidebar": "Contents",
   "toc_cell": false,
   "toc_position": {},
   "toc_section_display": true,
   "toc_window_display": false
  }
 },
 "nbformat": 4,
 "nbformat_minor": 2
}
