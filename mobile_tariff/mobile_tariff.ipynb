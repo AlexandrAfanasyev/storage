{
 "cells": [
  {
   "cell_type": "markdown",
   "metadata": {},
   "source": [
    "# Определение перспективного тарифа для телеком компании<a class=\"tocSkip\">"
   ]
  },
  {
   "cell_type": "markdown",
   "metadata": {},
   "source": [
    "### Цель проекта:<a class=\"tocSkip\">"
   ]
  },
  {
   "cell_type": "markdown",
   "metadata": {},
   "source": [
    "**Предварительный анализ тарифов на небольшой выборке клиентов. В нашем распоряжении данные 500 пользователей : кто они, откуда, каким тарифом пользуются, сколько звонков и сообщений каждый отправил за 2018 год. Нужно проанализировать поведение клиентов и сделать вывод — какой тариф лучше.**"
   ]
  },
  {
   "cell_type": "markdown",
   "metadata": {},
   "source": [
    "### Оглавление<a class=\"tocSkip\">"
   ]
  },
  {
   "cell_type": "markdown",
   "metadata": {},
   "source": [
    "[1.Импорт данных](#step1)"
   ]
  },
  {
   "cell_type": "markdown",
   "metadata": {},
   "source": [
    "[2.Предобработка данных](#step2)"
   ]
  },
  {
   "cell_type": "markdown",
   "metadata": {},
   "source": [
    "[3.Анализ данных](#step3)"
   ]
  },
  {
   "cell_type": "markdown",
   "metadata": {},
   "source": [
    "[4.Проверка гипотез](#step4)"
   ]
  },
  {
   "cell_type": "markdown",
   "metadata": {},
   "source": [
    "- [Проверка гипотезы \"средняя выручка пользователей тарифов «Ультра» и «Смарт» различается\"](#step4.1)"
   ]
  },
  {
   "cell_type": "markdown",
   "metadata": {},
   "source": [
    "- [Проверка гипотезы \"средняя выручка пользователей из Москвы отличается от выручки пользователей из других регионов\"](#step4.2)"
   ]
  },
  {
   "cell_type": "markdown",
   "metadata": {},
   "source": [
    "[5.Общий вывод](#step5)"
   ]
  },
  {
   "cell_type": "markdown",
   "metadata": {},
   "source": [
    "<a id=\"step1\"></a>\n",
    "### 1.Открытие данных<a class=\"tocSkip\">"
   ]
  },
  {
   "cell_type": "code",
   "execution_count": 1,
   "metadata": {},
   "outputs": [],
   "source": [
    "import pandas as pd\n",
    "\n",
    "import matplotlib.pyplot as plt\n",
    "\n",
    "import numpy as np\n",
    "\n",
    "import scipy.stats as st"
   ]
  },
  {
   "cell_type": "code",
   "execution_count": 2,
   "metadata": {},
   "outputs": [],
   "source": [
    "calls = pd.read_csv('/datasets/calls.csv')"
   ]
  },
  {
   "cell_type": "code",
   "execution_count": 3,
   "metadata": {
    "scrolled": true
   },
   "outputs": [
    {
     "data": {
      "text/html": [
       "<div>\n",
       "<style scoped>\n",
       "    .dataframe tbody tr th:only-of-type {\n",
       "        vertical-align: middle;\n",
       "    }\n",
       "\n",
       "    .dataframe tbody tr th {\n",
       "        vertical-align: top;\n",
       "    }\n",
       "\n",
       "    .dataframe thead th {\n",
       "        text-align: right;\n",
       "    }\n",
       "</style>\n",
       "<table border=\"1\" class=\"dataframe\">\n",
       "  <thead>\n",
       "    <tr style=\"text-align: right;\">\n",
       "      <th></th>\n",
       "      <th>id</th>\n",
       "      <th>call_date</th>\n",
       "      <th>duration</th>\n",
       "      <th>user_id</th>\n",
       "    </tr>\n",
       "  </thead>\n",
       "  <tbody>\n",
       "    <tr>\n",
       "      <td>0</td>\n",
       "      <td>1000_0</td>\n",
       "      <td>2018-07-25</td>\n",
       "      <td>0.00</td>\n",
       "      <td>1000</td>\n",
       "    </tr>\n",
       "    <tr>\n",
       "      <td>1</td>\n",
       "      <td>1000_1</td>\n",
       "      <td>2018-08-17</td>\n",
       "      <td>0.00</td>\n",
       "      <td>1000</td>\n",
       "    </tr>\n",
       "    <tr>\n",
       "      <td>2</td>\n",
       "      <td>1000_2</td>\n",
       "      <td>2018-06-11</td>\n",
       "      <td>2.85</td>\n",
       "      <td>1000</td>\n",
       "    </tr>\n",
       "    <tr>\n",
       "      <td>3</td>\n",
       "      <td>1000_3</td>\n",
       "      <td>2018-09-21</td>\n",
       "      <td>13.80</td>\n",
       "      <td>1000</td>\n",
       "    </tr>\n",
       "    <tr>\n",
       "      <td>4</td>\n",
       "      <td>1000_4</td>\n",
       "      <td>2018-12-15</td>\n",
       "      <td>5.18</td>\n",
       "      <td>1000</td>\n",
       "    </tr>\n",
       "  </tbody>\n",
       "</table>\n",
       "</div>"
      ],
      "text/plain": [
       "       id   call_date  duration  user_id\n",
       "0  1000_0  2018-07-25      0.00     1000\n",
       "1  1000_1  2018-08-17      0.00     1000\n",
       "2  1000_2  2018-06-11      2.85     1000\n",
       "3  1000_3  2018-09-21     13.80     1000\n",
       "4  1000_4  2018-12-15      5.18     1000"
      ]
     },
     "execution_count": 3,
     "metadata": {},
     "output_type": "execute_result"
    }
   ],
   "source": [
    "calls.head()"
   ]
  },
  {
   "cell_type": "code",
   "execution_count": 4,
   "metadata": {},
   "outputs": [],
   "source": [
    "internet = pd.read_csv('/datasets/internet.csv')"
   ]
  },
  {
   "cell_type": "code",
   "execution_count": 5,
   "metadata": {},
   "outputs": [
    {
     "data": {
      "text/html": [
       "<div>\n",
       "<style scoped>\n",
       "    .dataframe tbody tr th:only-of-type {\n",
       "        vertical-align: middle;\n",
       "    }\n",
       "\n",
       "    .dataframe tbody tr th {\n",
       "        vertical-align: top;\n",
       "    }\n",
       "\n",
       "    .dataframe thead th {\n",
       "        text-align: right;\n",
       "    }\n",
       "</style>\n",
       "<table border=\"1\" class=\"dataframe\">\n",
       "  <thead>\n",
       "    <tr style=\"text-align: right;\">\n",
       "      <th></th>\n",
       "      <th>Unnamed: 0</th>\n",
       "      <th>id</th>\n",
       "      <th>mb_used</th>\n",
       "      <th>session_date</th>\n",
       "      <th>user_id</th>\n",
       "    </tr>\n",
       "  </thead>\n",
       "  <tbody>\n",
       "    <tr>\n",
       "      <td>0</td>\n",
       "      <td>0</td>\n",
       "      <td>1000_0</td>\n",
       "      <td>112.95</td>\n",
       "      <td>2018-11-25</td>\n",
       "      <td>1000</td>\n",
       "    </tr>\n",
       "    <tr>\n",
       "      <td>1</td>\n",
       "      <td>1</td>\n",
       "      <td>1000_1</td>\n",
       "      <td>1052.81</td>\n",
       "      <td>2018-09-07</td>\n",
       "      <td>1000</td>\n",
       "    </tr>\n",
       "    <tr>\n",
       "      <td>2</td>\n",
       "      <td>2</td>\n",
       "      <td>1000_2</td>\n",
       "      <td>1197.26</td>\n",
       "      <td>2018-06-25</td>\n",
       "      <td>1000</td>\n",
       "    </tr>\n",
       "    <tr>\n",
       "      <td>3</td>\n",
       "      <td>3</td>\n",
       "      <td>1000_3</td>\n",
       "      <td>550.27</td>\n",
       "      <td>2018-08-22</td>\n",
       "      <td>1000</td>\n",
       "    </tr>\n",
       "    <tr>\n",
       "      <td>4</td>\n",
       "      <td>4</td>\n",
       "      <td>1000_4</td>\n",
       "      <td>302.56</td>\n",
       "      <td>2018-09-24</td>\n",
       "      <td>1000</td>\n",
       "    </tr>\n",
       "  </tbody>\n",
       "</table>\n",
       "</div>"
      ],
      "text/plain": [
       "   Unnamed: 0      id  mb_used session_date  user_id\n",
       "0           0  1000_0   112.95   2018-11-25     1000\n",
       "1           1  1000_1  1052.81   2018-09-07     1000\n",
       "2           2  1000_2  1197.26   2018-06-25     1000\n",
       "3           3  1000_3   550.27   2018-08-22     1000\n",
       "4           4  1000_4   302.56   2018-09-24     1000"
      ]
     },
     "execution_count": 5,
     "metadata": {},
     "output_type": "execute_result"
    }
   ],
   "source": [
    "internet.head()"
   ]
  },
  {
   "cell_type": "code",
   "execution_count": 6,
   "metadata": {},
   "outputs": [],
   "source": [
    "messages = pd.read_csv('/datasets/messages.csv')"
   ]
  },
  {
   "cell_type": "code",
   "execution_count": 7,
   "metadata": {},
   "outputs": [
    {
     "data": {
      "text/html": [
       "<div>\n",
       "<style scoped>\n",
       "    .dataframe tbody tr th:only-of-type {\n",
       "        vertical-align: middle;\n",
       "    }\n",
       "\n",
       "    .dataframe tbody tr th {\n",
       "        vertical-align: top;\n",
       "    }\n",
       "\n",
       "    .dataframe thead th {\n",
       "        text-align: right;\n",
       "    }\n",
       "</style>\n",
       "<table border=\"1\" class=\"dataframe\">\n",
       "  <thead>\n",
       "    <tr style=\"text-align: right;\">\n",
       "      <th></th>\n",
       "      <th>id</th>\n",
       "      <th>message_date</th>\n",
       "      <th>user_id</th>\n",
       "    </tr>\n",
       "  </thead>\n",
       "  <tbody>\n",
       "    <tr>\n",
       "      <td>0</td>\n",
       "      <td>1000_0</td>\n",
       "      <td>2018-06-27</td>\n",
       "      <td>1000</td>\n",
       "    </tr>\n",
       "    <tr>\n",
       "      <td>1</td>\n",
       "      <td>1000_1</td>\n",
       "      <td>2018-10-08</td>\n",
       "      <td>1000</td>\n",
       "    </tr>\n",
       "    <tr>\n",
       "      <td>2</td>\n",
       "      <td>1000_2</td>\n",
       "      <td>2018-08-04</td>\n",
       "      <td>1000</td>\n",
       "    </tr>\n",
       "    <tr>\n",
       "      <td>3</td>\n",
       "      <td>1000_3</td>\n",
       "      <td>2018-06-16</td>\n",
       "      <td>1000</td>\n",
       "    </tr>\n",
       "    <tr>\n",
       "      <td>4</td>\n",
       "      <td>1000_4</td>\n",
       "      <td>2018-12-05</td>\n",
       "      <td>1000</td>\n",
       "    </tr>\n",
       "  </tbody>\n",
       "</table>\n",
       "</div>"
      ],
      "text/plain": [
       "       id message_date  user_id\n",
       "0  1000_0   2018-06-27     1000\n",
       "1  1000_1   2018-10-08     1000\n",
       "2  1000_2   2018-08-04     1000\n",
       "3  1000_3   2018-06-16     1000\n",
       "4  1000_4   2018-12-05     1000"
      ]
     },
     "execution_count": 7,
     "metadata": {},
     "output_type": "execute_result"
    }
   ],
   "source": [
    "messages.head()"
   ]
  },
  {
   "cell_type": "code",
   "execution_count": 8,
   "metadata": {},
   "outputs": [],
   "source": [
    "tariffs = pd.read_csv('/datasets/tariffs.csv')"
   ]
  },
  {
   "cell_type": "code",
   "execution_count": 9,
   "metadata": {},
   "outputs": [
    {
     "data": {
      "text/html": [
       "<div>\n",
       "<style scoped>\n",
       "    .dataframe tbody tr th:only-of-type {\n",
       "        vertical-align: middle;\n",
       "    }\n",
       "\n",
       "    .dataframe tbody tr th {\n",
       "        vertical-align: top;\n",
       "    }\n",
       "\n",
       "    .dataframe thead th {\n",
       "        text-align: right;\n",
       "    }\n",
       "</style>\n",
       "<table border=\"1\" class=\"dataframe\">\n",
       "  <thead>\n",
       "    <tr style=\"text-align: right;\">\n",
       "      <th></th>\n",
       "      <th>messages_included</th>\n",
       "      <th>mb_per_month_included</th>\n",
       "      <th>minutes_included</th>\n",
       "      <th>rub_monthly_fee</th>\n",
       "      <th>rub_per_gb</th>\n",
       "      <th>rub_per_message</th>\n",
       "      <th>rub_per_minute</th>\n",
       "      <th>tariff_name</th>\n",
       "    </tr>\n",
       "  </thead>\n",
       "  <tbody>\n",
       "    <tr>\n",
       "      <td>0</td>\n",
       "      <td>50</td>\n",
       "      <td>15360</td>\n",
       "      <td>500</td>\n",
       "      <td>550</td>\n",
       "      <td>200</td>\n",
       "      <td>3</td>\n",
       "      <td>3</td>\n",
       "      <td>smart</td>\n",
       "    </tr>\n",
       "    <tr>\n",
       "      <td>1</td>\n",
       "      <td>1000</td>\n",
       "      <td>30720</td>\n",
       "      <td>3000</td>\n",
       "      <td>1950</td>\n",
       "      <td>150</td>\n",
       "      <td>1</td>\n",
       "      <td>1</td>\n",
       "      <td>ultra</td>\n",
       "    </tr>\n",
       "  </tbody>\n",
       "</table>\n",
       "</div>"
      ],
      "text/plain": [
       "   messages_included  mb_per_month_included  minutes_included  \\\n",
       "0                 50                  15360               500   \n",
       "1               1000                  30720              3000   \n",
       "\n",
       "   rub_monthly_fee  rub_per_gb  rub_per_message  rub_per_minute tariff_name  \n",
       "0              550         200                3               3       smart  \n",
       "1             1950         150                1               1       ultra  "
      ]
     },
     "execution_count": 9,
     "metadata": {},
     "output_type": "execute_result"
    }
   ],
   "source": [
    "tariffs"
   ]
  },
  {
   "cell_type": "code",
   "execution_count": 10,
   "metadata": {},
   "outputs": [],
   "source": [
    "users = pd.read_csv('/datasets/users.csv')"
   ]
  },
  {
   "cell_type": "code",
   "execution_count": 11,
   "metadata": {},
   "outputs": [
    {
     "data": {
      "text/html": [
       "<div>\n",
       "<style scoped>\n",
       "    .dataframe tbody tr th:only-of-type {\n",
       "        vertical-align: middle;\n",
       "    }\n",
       "\n",
       "    .dataframe tbody tr th {\n",
       "        vertical-align: top;\n",
       "    }\n",
       "\n",
       "    .dataframe thead th {\n",
       "        text-align: right;\n",
       "    }\n",
       "</style>\n",
       "<table border=\"1\" class=\"dataframe\">\n",
       "  <thead>\n",
       "    <tr style=\"text-align: right;\">\n",
       "      <th></th>\n",
       "      <th>user_id</th>\n",
       "      <th>age</th>\n",
       "      <th>churn_date</th>\n",
       "      <th>city</th>\n",
       "      <th>first_name</th>\n",
       "      <th>last_name</th>\n",
       "      <th>reg_date</th>\n",
       "      <th>tariff</th>\n",
       "    </tr>\n",
       "  </thead>\n",
       "  <tbody>\n",
       "    <tr>\n",
       "      <td>0</td>\n",
       "      <td>1000</td>\n",
       "      <td>52</td>\n",
       "      <td>NaN</td>\n",
       "      <td>Краснодар</td>\n",
       "      <td>Рафаил</td>\n",
       "      <td>Верещагин</td>\n",
       "      <td>2018-05-25</td>\n",
       "      <td>ultra</td>\n",
       "    </tr>\n",
       "    <tr>\n",
       "      <td>1</td>\n",
       "      <td>1001</td>\n",
       "      <td>41</td>\n",
       "      <td>NaN</td>\n",
       "      <td>Москва</td>\n",
       "      <td>Иван</td>\n",
       "      <td>Ежов</td>\n",
       "      <td>2018-11-01</td>\n",
       "      <td>smart</td>\n",
       "    </tr>\n",
       "    <tr>\n",
       "      <td>2</td>\n",
       "      <td>1002</td>\n",
       "      <td>59</td>\n",
       "      <td>NaN</td>\n",
       "      <td>Стерлитамак</td>\n",
       "      <td>Евгений</td>\n",
       "      <td>Абрамович</td>\n",
       "      <td>2018-06-17</td>\n",
       "      <td>smart</td>\n",
       "    </tr>\n",
       "    <tr>\n",
       "      <td>3</td>\n",
       "      <td>1003</td>\n",
       "      <td>23</td>\n",
       "      <td>NaN</td>\n",
       "      <td>Москва</td>\n",
       "      <td>Белла</td>\n",
       "      <td>Белякова</td>\n",
       "      <td>2018-08-17</td>\n",
       "      <td>ultra</td>\n",
       "    </tr>\n",
       "    <tr>\n",
       "      <td>4</td>\n",
       "      <td>1004</td>\n",
       "      <td>68</td>\n",
       "      <td>NaN</td>\n",
       "      <td>Новокузнецк</td>\n",
       "      <td>Татьяна</td>\n",
       "      <td>Авдеенко</td>\n",
       "      <td>2018-05-14</td>\n",
       "      <td>ultra</td>\n",
       "    </tr>\n",
       "  </tbody>\n",
       "</table>\n",
       "</div>"
      ],
      "text/plain": [
       "   user_id  age churn_date         city first_name  last_name    reg_date  \\\n",
       "0     1000   52        NaN    Краснодар     Рафаил  Верещагин  2018-05-25   \n",
       "1     1001   41        NaN       Москва       Иван       Ежов  2018-11-01   \n",
       "2     1002   59        NaN  Стерлитамак    Евгений  Абрамович  2018-06-17   \n",
       "3     1003   23        NaN       Москва      Белла   Белякова  2018-08-17   \n",
       "4     1004   68        NaN  Новокузнецк    Татьяна   Авдеенко  2018-05-14   \n",
       "\n",
       "  tariff  \n",
       "0  ultra  \n",
       "1  smart  \n",
       "2  smart  \n",
       "3  ultra  \n",
       "4  ultra  "
      ]
     },
     "execution_count": 11,
     "metadata": {},
     "output_type": "execute_result"
    }
   ],
   "source": [
    "users.head()"
   ]
  },
  {
   "cell_type": "markdown",
   "metadata": {},
   "source": [
    "### Вывод<a class=\"tocSkip\">"
   ]
  },
  {
   "cell_type": "markdown",
   "metadata": {},
   "source": [
    "**Файлы с данными открыты - можно переходить к предобработке данных.**"
   ]
  },
  {
   "cell_type": "markdown",
   "metadata": {},
   "source": [
    "<a id=\"step2\"></a>\n",
    "### 2.Предобработка данных<a class=\"tocSkip\">"
   ]
  },
  {
   "cell_type": "code",
   "execution_count": 12,
   "metadata": {},
   "outputs": [
    {
     "name": "stdout",
     "output_type": "stream",
     "text": [
      "<class 'pandas.core.frame.DataFrame'>\n",
      "RangeIndex: 202607 entries, 0 to 202606\n",
      "Data columns (total 4 columns):\n",
      "id           202607 non-null object\n",
      "call_date    202607 non-null object\n",
      "duration     202607 non-null float64\n",
      "user_id      202607 non-null int64\n",
      "dtypes: float64(1), int64(1), object(2)\n",
      "memory usage: 6.2+ MB\n"
     ]
    }
   ],
   "source": [
    "calls.info()"
   ]
  },
  {
   "cell_type": "code",
   "execution_count": 13,
   "metadata": {},
   "outputs": [],
   "source": [
    "calls['id'] = calls['id'].astype(int)"
   ]
  },
  {
   "cell_type": "code",
   "execution_count": 14,
   "metadata": {},
   "outputs": [],
   "source": [
    "calls['call_date'] = pd.to_datetime(calls['call_date'])"
   ]
  },
  {
   "cell_type": "code",
   "execution_count": 15,
   "metadata": {},
   "outputs": [
    {
     "name": "stdout",
     "output_type": "stream",
     "text": [
      "<class 'pandas.core.frame.DataFrame'>\n",
      "RangeIndex: 149396 entries, 0 to 149395\n",
      "Data columns (total 5 columns):\n",
      "Unnamed: 0      149396 non-null int64\n",
      "id              149396 non-null object\n",
      "mb_used         149396 non-null float64\n",
      "session_date    149396 non-null object\n",
      "user_id         149396 non-null int64\n",
      "dtypes: float64(1), int64(2), object(2)\n",
      "memory usage: 5.7+ MB\n"
     ]
    }
   ],
   "source": [
    "internet.info()"
   ]
  },
  {
   "cell_type": "code",
   "execution_count": 16,
   "metadata": {},
   "outputs": [],
   "source": [
    "internet['id'] = internet['id'].astype(int)"
   ]
  },
  {
   "cell_type": "code",
   "execution_count": 17,
   "metadata": {},
   "outputs": [],
   "source": [
    "internet['session_date'] = pd.to_datetime(internet['session_date'])"
   ]
  },
  {
   "cell_type": "code",
   "execution_count": 18,
   "metadata": {},
   "outputs": [
    {
     "name": "stdout",
     "output_type": "stream",
     "text": [
      "<class 'pandas.core.frame.DataFrame'>\n",
      "RangeIndex: 123036 entries, 0 to 123035\n",
      "Data columns (total 3 columns):\n",
      "id              123036 non-null object\n",
      "message_date    123036 non-null object\n",
      "user_id         123036 non-null int64\n",
      "dtypes: int64(1), object(2)\n",
      "memory usage: 2.8+ MB\n"
     ]
    }
   ],
   "source": [
    "messages.info()"
   ]
  },
  {
   "cell_type": "code",
   "execution_count": 19,
   "metadata": {},
   "outputs": [],
   "source": [
    "messages['id'] = messages['id'].astype(int)"
   ]
  },
  {
   "cell_type": "code",
   "execution_count": 20,
   "metadata": {},
   "outputs": [],
   "source": [
    "messages['message_date'] = pd.to_datetime(messages['message_date'])"
   ]
  },
  {
   "cell_type": "code",
   "execution_count": 21,
   "metadata": {},
   "outputs": [
    {
     "name": "stdout",
     "output_type": "stream",
     "text": [
      "<class 'pandas.core.frame.DataFrame'>\n",
      "RangeIndex: 500 entries, 0 to 499\n",
      "Data columns (total 8 columns):\n",
      "user_id       500 non-null int64\n",
      "age           500 non-null int64\n",
      "churn_date    38 non-null object\n",
      "city          500 non-null object\n",
      "first_name    500 non-null object\n",
      "last_name     500 non-null object\n",
      "reg_date      500 non-null object\n",
      "tariff        500 non-null object\n",
      "dtypes: int64(2), object(6)\n",
      "memory usage: 31.4+ KB\n"
     ]
    }
   ],
   "source": [
    "users.info()"
   ]
  },
  {
   "cell_type": "markdown",
   "metadata": {},
   "source": [
    "**В таблицах \"calls\",\"messages\" и \"internet\" для ряда знрачений не верно указан тип данных \"object\", произведена замена на \"int64\" и \"datetime64\". Нулевые значения продолжительности звонков, на мой взгляд не повлияют на дальнейшие расчеты, т.к. будет расчитана сумма за месяц, следовательно нет необходимости их удалять или заменять.**"
   ]
  },
  {
   "cell_type": "code",
   "execution_count": 22,
   "metadata": {},
   "outputs": [],
   "source": [
    "calls['month'] = pd.to_datetime(calls['call_date']).dt.month"
   ]
  },
  {
   "cell_type": "code",
   "execution_count": 23,
   "metadata": {},
   "outputs": [],
   "source": [
    "messages['month'] = pd.to_datetime(messages['message_date']).dt.month"
   ]
  },
  {
   "cell_type": "code",
   "execution_count": 24,
   "metadata": {},
   "outputs": [],
   "source": [
    "internet['month'] = pd.to_datetime(internet['session_date']).dt.month\n",
    " "
   ]
  },
  {
   "cell_type": "markdown",
   "metadata": {},
   "source": [
    "**Добавлены столбцы \"month\", необходимые для дальнейших подсчетов.**"
   ]
  },
  {
   "cell_type": "code",
   "execution_count": 25,
   "metadata": {},
   "outputs": [],
   "source": [
    "calls['duration'] = calls['duration'].apply(np.ceil).replace(0, 1)"
   ]
  },
  {
   "cell_type": "code",
   "execution_count": 26,
   "metadata": {},
   "outputs": [],
   "source": [
    "internet['mb_used'] = internet['mb_used'].apply(np.ceil).replace(0, 1)"
   ]
  },
  {
   "cell_type": "markdown",
   "metadata": {},
   "source": [
    "**Округлены значения времени разговоров и объема интернет-трафика.**"
   ]
  },
  {
   "cell_type": "code",
   "execution_count": 27,
   "metadata": {},
   "outputs": [],
   "source": [
    "user_calls = calls.groupby(['user_id', 'month']).agg({'duration':'sum', 'id':'count'})\\\n",
    ".reset_index().rename(columns={'id': 'calls_count'})\n",
    "                  "
   ]
  },
  {
   "cell_type": "code",
   "execution_count": 28,
   "metadata": {},
   "outputs": [
    {
     "data": {
      "text/html": [
       "<div>\n",
       "<style scoped>\n",
       "    .dataframe tbody tr th:only-of-type {\n",
       "        vertical-align: middle;\n",
       "    }\n",
       "\n",
       "    .dataframe tbody tr th {\n",
       "        vertical-align: top;\n",
       "    }\n",
       "\n",
       "    .dataframe thead th {\n",
       "        text-align: right;\n",
       "    }\n",
       "</style>\n",
       "<table border=\"1\" class=\"dataframe\">\n",
       "  <thead>\n",
       "    <tr style=\"text-align: right;\">\n",
       "      <th></th>\n",
       "      <th>user_id</th>\n",
       "      <th>month</th>\n",
       "      <th>duration</th>\n",
       "      <th>calls_count</th>\n",
       "    </tr>\n",
       "  </thead>\n",
       "  <tbody>\n",
       "    <tr>\n",
       "      <td>0</td>\n",
       "      <td>1000</td>\n",
       "      <td>5</td>\n",
       "      <td>164.0</td>\n",
       "      <td>22</td>\n",
       "    </tr>\n",
       "    <tr>\n",
       "      <td>1</td>\n",
       "      <td>1000</td>\n",
       "      <td>6</td>\n",
       "      <td>187.0</td>\n",
       "      <td>43</td>\n",
       "    </tr>\n",
       "    <tr>\n",
       "      <td>2</td>\n",
       "      <td>1000</td>\n",
       "      <td>7</td>\n",
       "      <td>346.0</td>\n",
       "      <td>47</td>\n",
       "    </tr>\n",
       "    <tr>\n",
       "      <td>3</td>\n",
       "      <td>1000</td>\n",
       "      <td>8</td>\n",
       "      <td>418.0</td>\n",
       "      <td>52</td>\n",
       "    </tr>\n",
       "    <tr>\n",
       "      <td>4</td>\n",
       "      <td>1000</td>\n",
       "      <td>9</td>\n",
       "      <td>478.0</td>\n",
       "      <td>58</td>\n",
       "    </tr>\n",
       "  </tbody>\n",
       "</table>\n",
       "</div>"
      ],
      "text/plain": [
       "   user_id  month  duration  calls_count\n",
       "0     1000      5     164.0           22\n",
       "1     1000      6     187.0           43\n",
       "2     1000      7     346.0           47\n",
       "3     1000      8     418.0           52\n",
       "4     1000      9     478.0           58"
      ]
     },
     "execution_count": 28,
     "metadata": {},
     "output_type": "execute_result"
    }
   ],
   "source": [
    "user_calls.head()"
   ]
  },
  {
   "cell_type": "code",
   "execution_count": 29,
   "metadata": {},
   "outputs": [],
   "source": [
    "user_messages = messages.groupby(['user_id', 'month']).agg({'id':'count'})\\\n",
    ".reset_index().rename(columns={'id': 'messages_count'})"
   ]
  },
  {
   "cell_type": "code",
   "execution_count": 30,
   "metadata": {},
   "outputs": [],
   "source": [
    "user_internet = internet.groupby(['user_id', 'month']).agg({'mb_used':'sum'}).reset_index()"
   ]
  },
  {
   "cell_type": "code",
   "execution_count": 31,
   "metadata": {},
   "outputs": [
    {
     "data": {
      "text/html": [
       "<div>\n",
       "<style scoped>\n",
       "    .dataframe tbody tr th:only-of-type {\n",
       "        vertical-align: middle;\n",
       "    }\n",
       "\n",
       "    .dataframe tbody tr th {\n",
       "        vertical-align: top;\n",
       "    }\n",
       "\n",
       "    .dataframe thead th {\n",
       "        text-align: right;\n",
       "    }\n",
       "</style>\n",
       "<table border=\"1\" class=\"dataframe\">\n",
       "  <thead>\n",
       "    <tr style=\"text-align: right;\">\n",
       "      <th></th>\n",
       "      <th>user_id</th>\n",
       "      <th>month</th>\n",
       "      <th>messages_count</th>\n",
       "    </tr>\n",
       "  </thead>\n",
       "  <tbody>\n",
       "    <tr>\n",
       "      <td>0</td>\n",
       "      <td>1000</td>\n",
       "      <td>5</td>\n",
       "      <td>22</td>\n",
       "    </tr>\n",
       "    <tr>\n",
       "      <td>1</td>\n",
       "      <td>1000</td>\n",
       "      <td>6</td>\n",
       "      <td>60</td>\n",
       "    </tr>\n",
       "    <tr>\n",
       "      <td>2</td>\n",
       "      <td>1000</td>\n",
       "      <td>7</td>\n",
       "      <td>75</td>\n",
       "    </tr>\n",
       "    <tr>\n",
       "      <td>3</td>\n",
       "      <td>1000</td>\n",
       "      <td>8</td>\n",
       "      <td>81</td>\n",
       "    </tr>\n",
       "    <tr>\n",
       "      <td>4</td>\n",
       "      <td>1000</td>\n",
       "      <td>9</td>\n",
       "      <td>57</td>\n",
       "    </tr>\n",
       "  </tbody>\n",
       "</table>\n",
       "</div>"
      ],
      "text/plain": [
       "   user_id  month  messages_count\n",
       "0     1000      5              22\n",
       "1     1000      6              60\n",
       "2     1000      7              75\n",
       "3     1000      8              81\n",
       "4     1000      9              57"
      ]
     },
     "execution_count": 31,
     "metadata": {},
     "output_type": "execute_result"
    }
   ],
   "source": [
    "user_messages.head()"
   ]
  },
  {
   "cell_type": "code",
   "execution_count": 32,
   "metadata": {},
   "outputs": [
    {
     "data": {
      "text/html": [
       "<div>\n",
       "<style scoped>\n",
       "    .dataframe tbody tr th:only-of-type {\n",
       "        vertical-align: middle;\n",
       "    }\n",
       "\n",
       "    .dataframe tbody tr th {\n",
       "        vertical-align: top;\n",
       "    }\n",
       "\n",
       "    .dataframe thead th {\n",
       "        text-align: right;\n",
       "    }\n",
       "</style>\n",
       "<table border=\"1\" class=\"dataframe\">\n",
       "  <thead>\n",
       "    <tr style=\"text-align: right;\">\n",
       "      <th></th>\n",
       "      <th>user_id</th>\n",
       "      <th>month</th>\n",
       "      <th>mb_used</th>\n",
       "    </tr>\n",
       "  </thead>\n",
       "  <tbody>\n",
       "    <tr>\n",
       "      <td>0</td>\n",
       "      <td>1000</td>\n",
       "      <td>5</td>\n",
       "      <td>2257.0</td>\n",
       "    </tr>\n",
       "    <tr>\n",
       "      <td>1</td>\n",
       "      <td>1000</td>\n",
       "      <td>6</td>\n",
       "      <td>23262.0</td>\n",
       "    </tr>\n",
       "    <tr>\n",
       "      <td>2</td>\n",
       "      <td>1000</td>\n",
       "      <td>7</td>\n",
       "      <td>14017.0</td>\n",
       "    </tr>\n",
       "    <tr>\n",
       "      <td>3</td>\n",
       "      <td>1000</td>\n",
       "      <td>8</td>\n",
       "      <td>14072.0</td>\n",
       "    </tr>\n",
       "    <tr>\n",
       "      <td>4</td>\n",
       "      <td>1000</td>\n",
       "      <td>9</td>\n",
       "      <td>14583.0</td>\n",
       "    </tr>\n",
       "  </tbody>\n",
       "</table>\n",
       "</div>"
      ],
      "text/plain": [
       "   user_id  month  mb_used\n",
       "0     1000      5   2257.0\n",
       "1     1000      6  23262.0\n",
       "2     1000      7  14017.0\n",
       "3     1000      8  14072.0\n",
       "4     1000      9  14583.0"
      ]
     },
     "execution_count": 32,
     "metadata": {},
     "output_type": "execute_result"
    }
   ],
   "source": [
    "user_internet.head()"
   ]
  },
  {
   "cell_type": "markdown",
   "metadata": {},
   "source": [
    "**Исходные таблицы сгруппированы по пользователям и месяцам**"
   ]
  },
  {
   "cell_type": "code",
   "execution_count": 33,
   "metadata": {},
   "outputs": [],
   "source": [
    "df = users.merge(user_calls, on='user_id')"
   ]
  },
  {
   "cell_type": "code",
   "execution_count": 34,
   "metadata": {},
   "outputs": [],
   "source": [
    "df = df.merge(user_messages, on=['user_id', 'month'], how='outer')"
   ]
  },
  {
   "cell_type": "code",
   "execution_count": 35,
   "metadata": {},
   "outputs": [],
   "source": [
    "df = df.merge(user_internet, on=['user_id', 'month'], how='outer')"
   ]
  },
  {
   "cell_type": "code",
   "execution_count": 36,
   "metadata": {},
   "outputs": [],
   "source": [
    "tariffs = tariffs.rename(columns={'tariff_name': 'tariff'})"
   ]
  },
  {
   "cell_type": "markdown",
   "metadata": {},
   "source": [
    "**В таблице \"tariffs\" название столбца \"tariff_name\" изменен на \"tariff\", чтобы объеденить с \"df\".**"
   ]
  },
  {
   "cell_type": "code",
   "execution_count": 37,
   "metadata": {},
   "outputs": [],
   "source": [
    "df = df.merge(tariffs, on='tariff')"
   ]
  },
  {
   "cell_type": "markdown",
   "metadata": {},
   "source": [
    "**Сформирован единый датфрейм.**"
   ]
  },
  {
   "cell_type": "code",
   "execution_count": 38,
   "metadata": {},
   "outputs": [
    {
     "data": {
      "text/html": [
       "<div>\n",
       "<style scoped>\n",
       "    .dataframe tbody tr th:only-of-type {\n",
       "        vertical-align: middle;\n",
       "    }\n",
       "\n",
       "    .dataframe tbody tr th {\n",
       "        vertical-align: top;\n",
       "    }\n",
       "\n",
       "    .dataframe thead th {\n",
       "        text-align: right;\n",
       "    }\n",
       "</style>\n",
       "<table border=\"1\" class=\"dataframe\">\n",
       "  <thead>\n",
       "    <tr style=\"text-align: right;\">\n",
       "      <th></th>\n",
       "      <th>user_id</th>\n",
       "      <th>age</th>\n",
       "      <th>churn_date</th>\n",
       "      <th>city</th>\n",
       "      <th>first_name</th>\n",
       "      <th>last_name</th>\n",
       "      <th>reg_date</th>\n",
       "      <th>tariff</th>\n",
       "      <th>month</th>\n",
       "      <th>duration</th>\n",
       "      <th>calls_count</th>\n",
       "      <th>messages_count</th>\n",
       "      <th>mb_used</th>\n",
       "      <th>messages_included</th>\n",
       "      <th>mb_per_month_included</th>\n",
       "      <th>minutes_included</th>\n",
       "      <th>rub_monthly_fee</th>\n",
       "      <th>rub_per_gb</th>\n",
       "      <th>rub_per_message</th>\n",
       "      <th>rub_per_minute</th>\n",
       "    </tr>\n",
       "  </thead>\n",
       "  <tbody>\n",
       "    <tr>\n",
       "      <td>0</td>\n",
       "      <td>1000</td>\n",
       "      <td>52.0</td>\n",
       "      <td>NaN</td>\n",
       "      <td>Краснодар</td>\n",
       "      <td>Рафаил</td>\n",
       "      <td>Верещагин</td>\n",
       "      <td>2018-05-25</td>\n",
       "      <td>ultra</td>\n",
       "      <td>5</td>\n",
       "      <td>164.0</td>\n",
       "      <td>22.0</td>\n",
       "      <td>22.0</td>\n",
       "      <td>2257.0</td>\n",
       "      <td>1000</td>\n",
       "      <td>30720</td>\n",
       "      <td>3000</td>\n",
       "      <td>1950</td>\n",
       "      <td>150</td>\n",
       "      <td>1</td>\n",
       "      <td>1</td>\n",
       "    </tr>\n",
       "  </tbody>\n",
       "</table>\n",
       "</div>"
      ],
      "text/plain": [
       "   user_id   age churn_date       city first_name  last_name    reg_date  \\\n",
       "0     1000  52.0        NaN  Краснодар     Рафаил  Верещагин  2018-05-25   \n",
       "\n",
       "  tariff  month  duration  calls_count  messages_count  mb_used  \\\n",
       "0  ultra      5     164.0         22.0            22.0   2257.0   \n",
       "\n",
       "   messages_included  mb_per_month_included  minutes_included  \\\n",
       "0               1000                  30720              3000   \n",
       "\n",
       "   rub_monthly_fee  rub_per_gb  rub_per_message  rub_per_minute  \n",
       "0             1950         150                1               1  "
      ]
     },
     "execution_count": 38,
     "metadata": {},
     "output_type": "execute_result"
    }
   ],
   "source": [
    "df.head(1)"
   ]
  },
  {
   "cell_type": "code",
   "execution_count": 39,
   "metadata": {},
   "outputs": [],
   "source": [
    "df['minutes_overrun']  = df['duration'] - df['minutes_included']"
   ]
  },
  {
   "cell_type": "code",
   "execution_count": 40,
   "metadata": {},
   "outputs": [],
   "source": [
    "df['messages_overrun'] = df['messages_count'] - df['messages_included']"
   ]
  },
  {
   "cell_type": "code",
   "execution_count": 41,
   "metadata": {},
   "outputs": [],
   "source": [
    "df['mb_overrun']  = df['mb_used'] - df['mb_per_month_included'] "
   ]
  },
  {
   "cell_type": "markdown",
   "metadata": {},
   "source": [
    "**Добавлены столбцы со значениями превышения предоплаченного лимита.**"
   ]
  },
  {
   "cell_type": "code",
   "execution_count": 42,
   "metadata": {},
   "outputs": [],
   "source": [
    "def get_revenue(row):\n",
    "    revenue_by_min = 0\n",
    "    revenue_by_messages = 0\n",
    "    revenue_mb = 0\n",
    "    if row['minutes_overrun'] > 0:\n",
    "        revenue_by_min = row['minutes_overrun'] * row['rub_per_minute']\n",
    "    if row['messages_overrun'] > 0:\n",
    "        revenue_by_messages = row['messages_overrun'] * row['rub_per_message']\n",
    "    if row['mb_overrun'] > 0:\n",
    "        revenue_mb = (row['mb_overrun'] / 1024) * row['rub_per_gb']\n",
    "   \n",
    "    return revenue_by_min + revenue_by_messages + revenue_mb\n",
    "    \n",
    "df['revenue'] = df.apply(get_revenue, axis=1) + df['rub_monthly_fee']"
   ]
  },
  {
   "cell_type": "markdown",
   "metadata": {},
   "source": [
    "**Добавден столбец - суммарный доход с каждого пользователя (абонентская плата плюс оплата услуг сверх тарифа).**"
   ]
  },
  {
   "cell_type": "markdown",
   "metadata": {},
   "source": [
    "<a id=\"step3\"></a>\n",
    "## 3.Анализ данных.<a class=\"tocSkip\">"
   ]
  },
  {
   "cell_type": "code",
   "execution_count": 43,
   "metadata": {},
   "outputs": [
    {
     "data": {
      "text/html": [
       "<div>\n",
       "<style scoped>\n",
       "    .dataframe tbody tr th:only-of-type {\n",
       "        vertical-align: middle;\n",
       "    }\n",
       "\n",
       "    .dataframe tbody tr th {\n",
       "        vertical-align: top;\n",
       "    }\n",
       "\n",
       "    .dataframe thead th {\n",
       "        text-align: right;\n",
       "    }\n",
       "</style>\n",
       "<table border=\"1\" class=\"dataframe\">\n",
       "  <thead>\n",
       "    <tr style=\"text-align: right;\">\n",
       "      <th></th>\n",
       "      <th>duration</th>\n",
       "      <th>messages_count</th>\n",
       "      <th>mb_used</th>\n",
       "    </tr>\n",
       "  </thead>\n",
       "  <tbody>\n",
       "    <tr>\n",
       "      <td>count</td>\n",
       "      <td>2223.000000</td>\n",
       "      <td>1916.000000</td>\n",
       "      <td>2222.000000</td>\n",
       "    </tr>\n",
       "    <tr>\n",
       "      <td>mean</td>\n",
       "      <td>430.609987</td>\n",
       "      <td>38.747390</td>\n",
       "      <td>16245.468047</td>\n",
       "    </tr>\n",
       "    <tr>\n",
       "      <td>std</td>\n",
       "      <td>193.850373</td>\n",
       "      <td>26.817396</td>\n",
       "      <td>5876.810160</td>\n",
       "    </tr>\n",
       "    <tr>\n",
       "      <td>min</td>\n",
       "      <td>1.000000</td>\n",
       "      <td>1.000000</td>\n",
       "      <td>1.000000</td>\n",
       "    </tr>\n",
       "    <tr>\n",
       "      <td>25%</td>\n",
       "      <td>292.000000</td>\n",
       "      <td>17.000000</td>\n",
       "      <td>12678.750000</td>\n",
       "    </tr>\n",
       "    <tr>\n",
       "      <td>50%</td>\n",
       "      <td>435.000000</td>\n",
       "      <td>34.000000</td>\n",
       "      <td>16538.000000</td>\n",
       "    </tr>\n",
       "    <tr>\n",
       "      <td>75%</td>\n",
       "      <td>561.000000</td>\n",
       "      <td>55.000000</td>\n",
       "      <td>20087.000000</td>\n",
       "    </tr>\n",
       "    <tr>\n",
       "      <td>max</td>\n",
       "      <td>1471.000000</td>\n",
       "      <td>143.000000</td>\n",
       "      <td>38627.000000</td>\n",
       "    </tr>\n",
       "  </tbody>\n",
       "</table>\n",
       "</div>"
      ],
      "text/plain": [
       "          duration  messages_count       mb_used\n",
       "count  2223.000000     1916.000000   2222.000000\n",
       "mean    430.609987       38.747390  16245.468047\n",
       "std     193.850373       26.817396   5876.810160\n",
       "min       1.000000        1.000000      1.000000\n",
       "25%     292.000000       17.000000  12678.750000\n",
       "50%     435.000000       34.000000  16538.000000\n",
       "75%     561.000000       55.000000  20087.000000\n",
       "max    1471.000000      143.000000  38627.000000"
      ]
     },
     "execution_count": 43,
     "metadata": {},
     "output_type": "execute_result"
    }
   ],
   "source": [
    "df.query('tariff == \"smart\"')[['duration', 'messages_count', 'mb_used']].describe()"
   ]
  },
  {
   "cell_type": "code",
   "execution_count": 44,
   "metadata": {},
   "outputs": [
    {
     "data": {
      "text/plain": [
       "duration             37577.97\n",
       "messages_count         719.17\n",
       "mb_used           34536897.65\n",
       "dtype: float64"
      ]
     },
     "execution_count": 44,
     "metadata": {},
     "output_type": "execute_result"
    }
   ],
   "source": [
    "df.query('tariff == \"smart\"')[['duration', 'messages_count', 'mb_used']].var().round(2)"
   ]
  },
  {
   "cell_type": "markdown",
   "metadata": {},
   "source": [
    "**Исходя из выборки абонентам на тарифе \"smart\" в среднем требуется 430,6 мин. в месяц, дисперсия составляет 37577.97, стандартное отклонение 193,58; сообщений в среднем 38,8, дисперсия 719,17, стандартное отклонение 26,82; интернет-трафика требуется в среднем 16245.46 Мб (15,87 Гб), дисперсия 34536897.65, стандартное отклонение 5876,81.**"
   ]
  },
  {
   "cell_type": "code",
   "execution_count": 65,
   "metadata": {},
   "outputs": [
    {
     "data": {
      "image/png": "[encoded data removed]",
      "text/plain": [
       "<Figure size 1440x504 with 1 Axes>"
      ]
     },
     "metadata": {
      "needs_background": "light"
     },
     "output_type": "display_data"
    },
    {
     "data": {
      "image/png": "[encoded data removed]",
      "text/plain": [
       "<Figure size 1440x504 with 1 Axes>"
      ]
     },
     "metadata": {
      "needs_background": "light"
     },
     "output_type": "display_data"
    },
    {
     "data": {
      "image/png": "[encoded data removed]",
      "text/plain": [
       "<Figure size 1440x504 with 1 Axes>"
      ]
     },
     "metadata": {
      "needs_background": "light"
     },
     "output_type": "display_data"
    }
   ],
   "source": [
    "param_dict = {'duration':{'bins':30, 'title': 'Тариф \"Smart\".Распределение значений по длительности звонков',\\\n",
    "'max_range': 1500},\\\n",
    "    'messages_count': {'bins': 30,  'title': 'Тариф \"Smart\".Распределение значений по количеству сообщений',\\\n",
    "'max_range': 120},'mb_used': {'bins': 30, 'title': \\\n",
    "            'Тариф \"Smart\".Распределение значений по объему тнтернет трафика', 'max_range': 50000}}\n",
    "for key, value in param_dict.items():\n",
    "    df.query('tariff == \"smart\"')[key].hist(bins=value['bins'],figsize =(20, 7), range=(0,value['max_range']))\n",
    "    plt.title(value['title'], fontsize = 22)\n",
    "    plt.show()"
   ]
  },
  {
   "cell_type": "markdown",
   "metadata": {},
   "source": [
    "**Гистограммы длительности звонков и интернет-трафика для пользователей тарифа \"smart\" близки к нормальному распределению, график по количеству сообщений имеет положительную скшенность - медианное значение больше среднего.**"
   ]
  },
  {
   "cell_type": "code",
   "execution_count": 46,
   "metadata": {},
   "outputs": [
    {
     "data": {
      "text/html": [
       "<div>\n",
       "<style scoped>\n",
       "    .dataframe tbody tr th:only-of-type {\n",
       "        vertical-align: middle;\n",
       "    }\n",
       "\n",
       "    .dataframe tbody tr th {\n",
       "        vertical-align: top;\n",
       "    }\n",
       "\n",
       "    .dataframe thead th {\n",
       "        text-align: right;\n",
       "    }\n",
       "</style>\n",
       "<table border=\"1\" class=\"dataframe\">\n",
       "  <thead>\n",
       "    <tr style=\"text-align: right;\">\n",
       "      <th></th>\n",
       "      <th>duration</th>\n",
       "      <th>messages_count</th>\n",
       "      <th>mb_used</th>\n",
       "    </tr>\n",
       "  </thead>\n",
       "  <tbody>\n",
       "    <tr>\n",
       "      <td>count</td>\n",
       "      <td>951.000000</td>\n",
       "      <td>762.000000</td>\n",
       "      <td>941.000000</td>\n",
       "    </tr>\n",
       "    <tr>\n",
       "      <td>mean</td>\n",
       "      <td>560.113565</td>\n",
       "      <td>61.195538</td>\n",
       "      <td>19689.385760</td>\n",
       "    </tr>\n",
       "    <tr>\n",
       "      <td>std</td>\n",
       "      <td>314.742170</td>\n",
       "      <td>44.716597</td>\n",
       "      <td>9988.309064</td>\n",
       "    </tr>\n",
       "    <tr>\n",
       "      <td>min</td>\n",
       "      <td>1.000000</td>\n",
       "      <td>1.000000</td>\n",
       "      <td>1.000000</td>\n",
       "    </tr>\n",
       "    <tr>\n",
       "      <td>25%</td>\n",
       "      <td>318.000000</td>\n",
       "      <td>25.000000</td>\n",
       "      <td>11886.000000</td>\n",
       "    </tr>\n",
       "    <tr>\n",
       "      <td>50%</td>\n",
       "      <td>544.000000</td>\n",
       "      <td>52.000000</td>\n",
       "      <td>19447.000000</td>\n",
       "    </tr>\n",
       "    <tr>\n",
       "      <td>75%</td>\n",
       "      <td>776.500000</td>\n",
       "      <td>88.000000</td>\n",
       "      <td>26889.000000</td>\n",
       "    </tr>\n",
       "    <tr>\n",
       "      <td>max</td>\n",
       "      <td>1727.000000</td>\n",
       "      <td>224.000000</td>\n",
       "      <td>49793.000000</td>\n",
       "    </tr>\n",
       "  </tbody>\n",
       "</table>\n",
       "</div>"
      ],
      "text/plain": [
       "          duration  messages_count       mb_used\n",
       "count   951.000000      762.000000    941.000000\n",
       "mean    560.113565       61.195538  19689.385760\n",
       "std     314.742170       44.716597   9988.309064\n",
       "min       1.000000        1.000000      1.000000\n",
       "25%     318.000000       25.000000  11886.000000\n",
       "50%     544.000000       52.000000  19447.000000\n",
       "75%     776.500000       88.000000  26889.000000\n",
       "max    1727.000000      224.000000  49793.000000"
      ]
     },
     "execution_count": 46,
     "metadata": {},
     "output_type": "execute_result"
    }
   ],
   "source": [
    "df.query('tariff == \"ultra\"')[['duration', 'messages_count', 'mb_used']].describe()"
   ]
  },
  {
   "cell_type": "code",
   "execution_count": 47,
   "metadata": {},
   "outputs": [
    {
     "data": {
      "text/plain": [
       "duration             99062.63\n",
       "messages_count        1999.57\n",
       "mb_used           99766317.96\n",
       "dtype: float64"
      ]
     },
     "execution_count": 47,
     "metadata": {},
     "output_type": "execute_result"
    }
   ],
   "source": [
    "df.query('tariff == \"ultra\"')[['duration', 'messages_count', 'mb_used']].var().round(2)"
   ]
  },
  {
   "cell_type": "markdown",
   "metadata": {},
   "source": [
    "**По данным выборки абонентам на тарифе \"ultra\" в среднем требуется 560.1 мин. в месяц, дисперсия составляет 99062.63, стандартное отклонение 314.74; сообщений в среднем  61.2, дисперсия 1999.57, стандартное отклонение 44.72; интернет-трафика требуется в среднем\t19689.39 Мб (19.23 Гб), дисперсия 99766317.96, стандартное отклонение 9988.31.**"
   ]
  },
  {
   "cell_type": "code",
   "execution_count": 68,
   "metadata": {},
   "outputs": [
    {
     "data": {
      "image/png": "[encoded data removed]",
      "text/plain": [
       "<Figure size 1440x504 with 1 Axes>"
      ]
     },
     "metadata": {
      "needs_background": "light"
     },
     "output_type": "display_data"
    },
    {
     "data": {
      "image/png": "[encoded data removed]",
      "text/plain": [
       "<Figure size 1440x504 with 1 Axes>"
      ]
     },
     "metadata": {
      "needs_background": "light"
     },
     "output_type": "display_data"
    },
    {
     "data": {
      "image/png": "[encoded data removed]",
      "text/plain": [
       "<Figure size 1440x504 with 1 Axes>"
      ]
     },
     "metadata": {
      "needs_background": "light"
     },
     "output_type": "display_data"
    }
   ],
   "source": [
    "param_dict={'duration': {'bins': 12, 'title':'Тариф \"Ultra\".Распределение значений по длительности звонков',\\\n",
    "                         'max_range': 1700},\n",
    "'messages_count': {'bins': 12,  'title': 'Тариф \"Ultra\".Распределение значений по количеству сообщений',\\\n",
    "                   'max_range': 220},\n",
    " 'mb_used': {'bins': 12,  'title': 'Тариф \"Ultra\".Распределение значений по объему тнтернет трафика', \\\n",
    "             'max_range': 50000}}\n",
    "for key, value in param_dict.items():\n",
    "    df.query('tariff == \"ultra\"')[key].hist(bins=value['bins'], figsize = (20, 7), range=(0, value['max_range']))\n",
    "    plt.title(value['title'], fontsize=22)\n",
    "    plt.show()"
   ]
  },
  {
   "cell_type": "markdown",
   "metadata": {},
   "source": [
    "**Гистограммы длительности звонков и интернет-трафика для пользователей тарифа \"ultra\" близки к нормальному распределению - медианы незначительно отличаются от средних, график по количеству сообщений имеет положительную скшенность - медианное значение существенно (в полтора раза) больше среднего.**"
   ]
  },
  {
   "cell_type": "markdown",
   "metadata": {},
   "source": [
    "<a id=\"step4\"></a>\n",
    "## 4.Проверка гепотез<a class=\"tocSkip\">"
   ]
  },
  {
   "cell_type": "markdown",
   "metadata": {},
   "source": [
    "<a id=\"step4.1\"></a>\n",
    "- ### Проверка гипотезы \"средняя выручка пользователей тарифов «Ультра» и «Смарт» различается\".<a class=\"tocSkip\">"
   ]
  },
  {
   "cell_type": "markdown",
   "metadata": {},
   "source": [
    "**Принимаю в качестве нулевой гипотезы \"средняя выручка пользователей тарифов «Ультра» и «Смарт» не различаются\", иначе говоря \"выручки равны\", что соответсвует правилу: \"нулевую гипотезу нужнно формулировать так, чтобы можно было использовать знак равенства\". Альтернативная гипотеза - \"средняя выручка пользователей тарифов «Ультра» и «Смарт» различаются\".** "
   ]
  },
  {
   "cell_type": "markdown",
   "metadata": {},
   "source": [
    "**Это гипотеза о равенстве среднего двух генеральных совокупностей, соответственно применяю метод scipy.stats.ttest_ind ().**"
   ]
  },
  {
   "cell_type": "code",
   "execution_count": 49,
   "metadata": {},
   "outputs": [],
   "source": [
    "smart = df.query('tariff == \"smart\"')['revenue']"
   ]
  },
  {
   "cell_type": "code",
   "execution_count": 50,
   "metadata": {},
   "outputs": [],
   "source": [
    "ultra = df.query('tariff == \"ultra\"')['revenue']"
   ]
  },
  {
   "cell_type": "code",
   "execution_count": 51,
   "metadata": {},
   "outputs": [
    {
     "data": {
      "text/plain": [
       "1252.4"
      ]
     },
     "execution_count": 51,
     "metadata": {},
     "output_type": "execute_result"
    }
   ],
   "source": [
    "df.query('tariff == \"smart\"')['revenue'].mean().round(2)"
   ]
  },
  {
   "cell_type": "code",
   "execution_count": 52,
   "metadata": {},
   "outputs": [
    {
     "data": {
      "text/plain": [
       "2061.53"
      ]
     },
     "execution_count": 52,
     "metadata": {},
     "output_type": "execute_result"
    }
   ],
   "source": [
    "df.query('tariff == \"ultra\"')['revenue'].mean().round(2)"
   ]
  },
  {
   "cell_type": "markdown",
   "metadata": {},
   "source": [
    "**Средняя выручка на тарфе \"Смарт\" 1252,4 р., \"Ультра\" 2061,53 р.**"
   ]
  },
  {
   "cell_type": "code",
   "execution_count": 53,
   "metadata": {},
   "outputs": [
    {
     "data": {
      "text/plain": [
       "637476.6419242031"
      ]
     },
     "execution_count": 53,
     "metadata": {},
     "output_type": "execute_result"
    }
   ],
   "source": [
    "df.query('tariff == \"smart\"')['revenue'].var()"
   ]
  },
  {
   "cell_type": "code",
   "execution_count": 54,
   "metadata": {},
   "outputs": [
    {
     "data": {
      "text/plain": [
       "129301.73016137585"
      ]
     },
     "execution_count": 54,
     "metadata": {},
     "output_type": "execute_result"
    }
   ],
   "source": [
    "df.query('tariff == \"ultra\"')['revenue'].var()"
   ]
  },
  {
   "cell_type": "markdown",
   "metadata": {},
   "source": [
    "**Дисперсии выборок не равны, значит нужно указать параметр equal_var = False.**"
   ]
  },
  {
   "cell_type": "code",
   "execution_count": 55,
   "metadata": {},
   "outputs": [],
   "source": [
    "alpha = .05"
   ]
  },
  {
   "cell_type": "code",
   "execution_count": 56,
   "metadata": {},
   "outputs": [
    {
     "name": "stdout",
     "output_type": "stream",
     "text": [
      "p-значение: 4.359406166646201e-276\n",
      "Отвергаем нулевую гипотезу\n"
     ]
    }
   ],
   "source": [
    "results = st.ttest_ind(smart, ultra, equal_var = False)\n",
    "\n",
    "print('p-значение:', results.pvalue)\n",
    "\n",
    "if results.pvalue < alpha:\n",
    "    print(\"Отвергаем нулевую гипотезу\")\n",
    "else:\n",
    "    print(\"Не получилось отвергнуть нулевую гипотезу\") "
   ]
  },
  {
   "cell_type": "markdown",
   "metadata": {},
   "source": [
    "**Исходя из этого, могу сказать, что данные выборки не противоречат гипотезе \"средняя выручка пользователей тарифов «Ультра» и «Смарт» различается\".**"
   ]
  },
  {
   "cell_type": "markdown",
   "metadata": {},
   "source": [
    "<a id=\"step4.2\"></a>\n",
    "- ### Проверка гипотезы \"средняя выручка пользователей из Москвы отличается от выручки пользователей из других регионов\".<a class=\"tocSkip\">"
   ]
  },
  {
   "cell_type": "markdown",
   "metadata": {},
   "source": [
    "**Принимаю в качестве нулевой гипотезы \"средняя выручка пользователей из Москвы  не отличается от выручки пользователей из других регионов\", иначе говоря \"выручки равны\", что соответсвует правилу: \"нулевую гипотезу нужнно формулировать так, чтобы можно было использовать знак равенства\". Альтернативная гипотеза - \"средняя выручка пользователей из Москвы отличается от выручки пользователей из других регионов\".**"
   ]
  },
  {
   "cell_type": "markdown",
   "metadata": {},
   "source": [
    "**Данная так же является гипотезой о равенстве среднего двух генеральных совокупностей, соответственно применяю метод scipy.stats.ttest_ind ().**"
   ]
  },
  {
   "cell_type": "code",
   "execution_count": 57,
   "metadata": {},
   "outputs": [],
   "source": [
    "moscow = df.query('city == \"Москва\"')['revenue']"
   ]
  },
  {
   "cell_type": "code",
   "execution_count": 58,
   "metadata": {},
   "outputs": [
    {
     "data": {
      "text/plain": [
       "1517.04"
      ]
     },
     "execution_count": 58,
     "metadata": {},
     "output_type": "execute_result"
    }
   ],
   "source": [
    "moscow.mean().round(2)"
   ]
  },
  {
   "cell_type": "code",
   "execution_count": 59,
   "metadata": {},
   "outputs": [],
   "source": [
    "region = df.query('city != \"Москва\"')['revenue']"
   ]
  },
  {
   "cell_type": "code",
   "execution_count": 60,
   "metadata": {},
   "outputs": [
    {
     "data": {
      "text/plain": [
       "1489.55"
      ]
     },
     "execution_count": 60,
     "metadata": {},
     "output_type": "execute_result"
    }
   ],
   "source": [
    "region.mean().round(2)"
   ]
  },
  {
   "cell_type": "markdown",
   "metadata": {},
   "source": [
    "**Средняя выручка пользователей из Москвы 1517.04 р., из других регионов - 1489,55**"
   ]
  },
  {
   "cell_type": "code",
   "execution_count": 61,
   "metadata": {},
   "outputs": [
    {
     "data": {
      "text/plain": [
       "549697.5230807818"
      ]
     },
     "execution_count": 61,
     "metadata": {},
     "output_type": "execute_result"
    }
   ],
   "source": [
    "df.query('city == \"Москва\"')['revenue'].var()"
   ]
  },
  {
   "cell_type": "code",
   "execution_count": 62,
   "metadata": {},
   "outputs": [
    {
     "data": {
      "text/plain": [
       "639968.0170283015"
      ]
     },
     "execution_count": 62,
     "metadata": {},
     "output_type": "execute_result"
    }
   ],
   "source": [
    "df.query('city != \"Москва\"')['revenue'].var()"
   ]
  },
  {
   "cell_type": "markdown",
   "metadata": {},
   "source": [
    "**Дисперсии выборок не равны, значит нужно указать параметр equal_var = False.**"
   ]
  },
  {
   "cell_type": "code",
   "execution_count": 63,
   "metadata": {},
   "outputs": [],
   "source": [
    "alpha = .05"
   ]
  },
  {
   "cell_type": "code",
   "execution_count": 64,
   "metadata": {},
   "outputs": [
    {
     "name": "stdout",
     "output_type": "stream",
     "text": [
      "p-значение: 0.41795844601113885\n",
      "Не получилось отвергнуть нулевую гипотезу\n"
     ]
    }
   ],
   "source": [
    "results = st.ttest_ind(moscow, region, equal_var = False)\n",
    "\n",
    "print('p-значение:', results.pvalue)\n",
    "\n",
    "if results.pvalue < alpha:\n",
    "    print(\"Отвергаем нулевую гипотезу\")\n",
    "else:\n",
    "    print(\"Не получилось отвергнуть нулевую гипотезу\") "
   ]
  },
  {
   "cell_type": "markdown",
   "metadata": {},
   "source": [
    "**Соответственно, гипотезу \"средняя выручка пользователей из Москвы отличается от выручки пользователей из других регионов\" считаю крайне маловероятной.**"
   ]
  },
  {
   "cell_type": "markdown",
   "metadata": {},
   "source": [
    "<a id=\"step5\"></a>\n",
    "## 5.Общий вывод<a class=\"tocSkip\">"
   ]
  },
  {
   "cell_type": "markdown",
   "metadata": {},
   "source": [
    "**В ходе  выполненяя проекта изучена  выборка из данных о пользователях компании-операторатора сотовой связи. Анализ данных выбори показывает, что абоненты, пользующиеся тарфом \"Смарт\" в среднем не превышают предоплаченный лимит, за исключением интернет-трафика, а пользователи тарифа \"Ультра\" существенно недорасходуют оплаченные услуги. При этом пользователи \"Смарт\" в среднем платят 1252.4 р.в мес. ( +127,71% к абонентской плате), а абоненты на тарифе \"Ультра\" - 2061,53 (+5,72%). Таким образом, думаю можно сделать вывод, что оба тарифа выгодны, - \"Ультра\" приносит больший доход с каждого абонента, но, вероятно, \"Смарт\" - более массовый благодаря кажущейся доступности.**"
   ]
  }
 ],
 "metadata": {
  "ExecuteTimeLog": [
   {
    "duration": 345,
    "start_time": "2021-07-02T14:04:39.378Z"
   },
   {
    "duration": 102,
    "start_time": "2021-07-02T14:14:59.818Z"
   },
   {
    "duration": 1311,
    "start_time": "2021-07-02T14:21:43.050Z"
   },
   {
    "duration": 203,
    "start_time": "2021-07-02T14:21:44.364Z"
   },
   {
    "duration": 32,
    "start_time": "2021-07-02T14:21:44.571Z"
   },
   {
    "duration": 163,
    "start_time": "2021-07-02T14:21:44.606Z"
   },
   {
    "duration": 11,
    "start_time": "2021-07-02T14:21:44.772Z"
   },
   {
    "duration": 135,
    "start_time": "2021-07-02T14:21:44.785Z"
   },
   {
    "duration": 10,
    "start_time": "2021-07-02T14:21:44.922Z"
   },
   {
    "duration": 19,
    "start_time": "2021-07-02T14:21:44.935Z"
   },
   {
    "duration": 16,
    "start_time": "2021-07-02T14:21:44.956Z"
   },
   {
    "duration": 51,
    "start_time": "2021-07-02T14:21:44.974Z"
   },
   {
    "duration": 15,
    "start_time": "2021-07-02T14:21:45.027Z"
   },
   {
    "duration": 30,
    "start_time": "2021-07-02T14:21:45.044Z"
   },
   {
    "duration": 63,
    "start_time": "2021-07-02T14:21:45.077Z"
   },
   {
    "duration": 38,
    "start_time": "2021-07-02T14:21:45.143Z"
   },
   {
    "duration": 52,
    "start_time": "2021-07-02T14:21:45.184Z"
   },
   {
    "duration": 28,
    "start_time": "2021-07-02T14:21:45.238Z"
   },
   {
    "duration": 58,
    "start_time": "2021-07-02T14:21:45.269Z"
   },
   {
    "duration": 19,
    "start_time": "2021-07-02T14:21:45.329Z"
   },
   {
    "duration": 49,
    "start_time": "2021-07-02T14:21:45.352Z"
   },
   {
    "duration": 40,
    "start_time": "2021-07-02T14:21:45.403Z"
   },
   {
    "duration": 13,
    "start_time": "2021-07-02T14:21:45.446Z"
   },
   {
    "duration": 85,
    "start_time": "2021-07-02T14:21:45.462Z"
   },
   {
    "duration": 26,
    "start_time": "2021-07-02T14:21:45.554Z"
   },
   {
    "duration": 42,
    "start_time": "2021-07-02T14:21:45.604Z"
   },
   {
    "duration": 13,
    "start_time": "2021-07-02T14:21:45.649Z"
   },
   {
    "duration": 9,
    "start_time": "2021-07-02T14:21:45.665Z"
   },
   {
    "duration": 38,
    "start_time": "2021-07-02T14:21:45.702Z"
   },
   {
    "duration": 13,
    "start_time": "2021-07-02T14:21:45.743Z"
   },
   {
    "duration": 57,
    "start_time": "2021-07-02T14:21:45.759Z"
   },
   {
    "duration": 19,
    "start_time": "2021-07-02T14:21:45.819Z"
   },
   {
    "duration": 9,
    "start_time": "2021-07-02T14:21:45.840Z"
   },
   {
    "duration": 13,
    "start_time": "2021-07-02T14:21:45.851Z"
   },
   {
    "duration": 12,
    "start_time": "2021-07-02T14:21:45.903Z"
   },
   {
    "duration": 13,
    "start_time": "2021-07-02T14:21:45.917Z"
   },
   {
    "duration": 14,
    "start_time": "2021-07-02T14:21:45.932Z"
   },
   {
    "duration": 5,
    "start_time": "2021-07-02T14:21:45.948Z"
   },
   {
    "duration": 55,
    "start_time": "2021-07-02T14:21:45.956Z"
   },
   {
    "duration": 25,
    "start_time": "2021-07-02T14:21:46.013Z"
   },
   {
    "duration": 13,
    "start_time": "2021-07-02T14:21:46.041Z"
   },
   {
    "duration": 5,
    "start_time": "2021-07-02T14:21:46.056Z"
   },
   {
    "duration": 6,
    "start_time": "2021-07-02T14:21:46.102Z"
   },
   {
    "duration": 134,
    "start_time": "2021-07-02T14:21:46.111Z"
   },
   {
    "duration": -145,
    "start_time": "2021-07-02T14:21:46.393Z"
   },
   {
    "duration": -151,
    "start_time": "2021-07-02T14:21:46.400Z"
   },
   {
    "duration": -153,
    "start_time": "2021-07-02T14:21:46.404Z"
   },
   {
    "duration": -156,
    "start_time": "2021-07-02T14:21:46.409Z"
   },
   {
    "duration": -159,
    "start_time": "2021-07-02T14:21:46.413Z"
   },
   {
    "duration": -160,
    "start_time": "2021-07-02T14:21:46.416Z"
   },
   {
    "duration": -173,
    "start_time": "2021-07-02T14:21:46.430Z"
   },
   {
    "duration": -175,
    "start_time": "2021-07-02T14:21:46.434Z"
   },
   {
    "duration": -179,
    "start_time": "2021-07-02T14:21:46.439Z"
   },
   {
    "duration": -183,
    "start_time": "2021-07-02T14:21:46.444Z"
   },
   {
    "duration": -186,
    "start_time": "2021-07-02T14:21:46.448Z"
   },
   {
    "duration": -187,
    "start_time": "2021-07-02T14:21:46.451Z"
   },
   {
    "duration": -189,
    "start_time": "2021-07-02T14:21:46.455Z"
   },
   {
    "duration": -191,
    "start_time": "2021-07-02T14:21:46.459Z"
   },
   {
    "duration": -194,
    "start_time": "2021-07-02T14:21:46.463Z"
   },
   {
    "duration": -204,
    "start_time": "2021-07-02T14:21:46.475Z"
   },
   {
    "duration": -207,
    "start_time": "2021-07-02T14:21:46.479Z"
   },
   {
    "duration": -209,
    "start_time": "2021-07-02T14:21:46.482Z"
   },
   {
    "duration": -211,
    "start_time": "2021-07-02T14:21:46.486Z"
   },
   {
    "duration": -214,
    "start_time": "2021-07-02T14:21:46.490Z"
   },
   {
    "duration": -217,
    "start_time": "2021-07-02T14:21:46.494Z"
   },
   {
    "duration": -221,
    "start_time": "2021-07-02T14:21:46.499Z"
   },
   {
    "duration": -221,
    "start_time": "2021-07-02T14:21:46.503Z"
   },
   {
    "duration": 102,
    "start_time": "2021-07-02T14:23:10.411Z"
   },
   {
    "duration": 5,
    "start_time": "2021-07-02T14:23:46.424Z"
   },
   {
    "duration": 95,
    "start_time": "2021-07-02T14:24:35.152Z"
   },
   {
    "duration": 90,
    "start_time": "2021-07-02T14:24:41.693Z"
   },
   {
    "duration": 1397,
    "start_time": "2021-07-02T14:28:06.044Z"
   },
   {
    "duration": 222,
    "start_time": "2021-07-02T14:28:07.443Z"
   },
   {
    "duration": 17,
    "start_time": "2021-07-02T14:28:07.667Z"
   },
   {
    "duration": 191,
    "start_time": "2021-07-02T14:28:07.686Z"
   },
   {
    "duration": 12,
    "start_time": "2021-07-02T14:28:07.880Z"
   },
   {
    "duration": 134,
    "start_time": "2021-07-02T14:28:07.902Z"
   },
   {
    "duration": 11,
    "start_time": "2021-07-02T14:28:08.039Z"
   },
   {
    "duration": 19,
    "start_time": "2021-07-02T14:28:08.054Z"
   },
   {
    "duration": 30,
    "start_time": "2021-07-02T14:28:08.076Z"
   },
   {
    "duration": 40,
    "start_time": "2021-07-02T14:28:08.114Z"
   },
   {
    "duration": 16,
    "start_time": "2021-07-02T14:28:08.156Z"
   },
   {
    "duration": 46,
    "start_time": "2021-07-02T14:28:08.174Z"
   },
   {
    "duration": 35,
    "start_time": "2021-07-02T14:28:08.223Z"
   },
   {
    "duration": 68,
    "start_time": "2021-07-02T14:28:08.261Z"
   },
   {
    "duration": 24,
    "start_time": "2021-07-02T14:28:08.331Z"
   },
   {
    "duration": 55,
    "start_time": "2021-07-02T14:28:08.357Z"
   },
   {
    "duration": 34,
    "start_time": "2021-07-02T14:28:08.415Z"
   },
   {
    "duration": 19,
    "start_time": "2021-07-02T14:28:08.452Z"
   },
   {
    "duration": 51,
    "start_time": "2021-07-02T14:28:08.474Z"
   },
   {
    "duration": 31,
    "start_time": "2021-07-02T14:28:08.528Z"
   },
   {
    "duration": 44,
    "start_time": "2021-07-02T14:28:08.562Z"
   },
   {
    "duration": 49,
    "start_time": "2021-07-02T14:28:08.609Z"
   },
   {
    "duration": 47,
    "start_time": "2021-07-02T14:28:08.664Z"
   },
   {
    "duration": 35,
    "start_time": "2021-07-02T14:28:08.715Z"
   },
   {
    "duration": 59,
    "start_time": "2021-07-02T14:28:08.753Z"
   },
   {
    "duration": 8,
    "start_time": "2021-07-02T14:28:08.815Z"
   },
   {
    "duration": 35,
    "start_time": "2021-07-02T14:28:08.825Z"
   },
   {
    "duration": 10,
    "start_time": "2021-07-02T14:28:08.863Z"
   },
   {
    "duration": 45,
    "start_time": "2021-07-02T14:28:08.876Z"
   },
   {
    "duration": 21,
    "start_time": "2021-07-02T14:28:08.923Z"
   },
   {
    "duration": 9,
    "start_time": "2021-07-02T14:28:08.947Z"
   },
   {
    "duration": 13,
    "start_time": "2021-07-02T14:28:09.005Z"
   },
   {
    "duration": 14,
    "start_time": "2021-07-02T14:28:09.020Z"
   },
   {
    "duration": 13,
    "start_time": "2021-07-02T14:28:09.037Z"
   },
   {
    "duration": 55,
    "start_time": "2021-07-02T14:28:09.053Z"
   },
   {
    "duration": 6,
    "start_time": "2021-07-02T14:28:09.111Z"
   },
   {
    "duration": 19,
    "start_time": "2021-07-02T14:28:09.119Z"
   },
   {
    "duration": 23,
    "start_time": "2021-07-02T14:28:09.140Z"
   },
   {
    "duration": 52,
    "start_time": "2021-07-02T14:28:09.165Z"
   },
   {
    "duration": 5,
    "start_time": "2021-07-02T14:28:09.220Z"
   },
   {
    "duration": 7,
    "start_time": "2021-07-02T14:28:09.228Z"
   },
   {
    "duration": 229,
    "start_time": "2021-07-02T14:28:09.237Z"
   },
   {
    "duration": 47,
    "start_time": "2021-07-02T14:28:09.468Z"
   },
   {
    "duration": 14,
    "start_time": "2021-07-02T14:28:09.517Z"
   },
   {
    "duration": 1702,
    "start_time": "2021-07-02T14:28:09.533Z"
   },
   {
    "duration": 33,
    "start_time": "2021-07-02T14:28:11.237Z"
   },
   {
    "duration": 47,
    "start_time": "2021-07-02T14:28:11.272Z"
   },
   {
    "duration": 1624,
    "start_time": "2021-07-02T14:28:11.322Z"
   },
   {
    "duration": 8,
    "start_time": "2021-07-02T14:28:12.949Z"
   },
   {
    "duration": 10,
    "start_time": "2021-07-02T14:28:12.960Z"
   },
   {
    "duration": 37,
    "start_time": "2021-07-02T14:28:12.972Z"
   },
   {
    "duration": 10,
    "start_time": "2021-07-02T14:28:13.015Z"
   },
   {
    "duration": 12,
    "start_time": "2021-07-02T14:28:13.028Z"
   },
   {
    "duration": 64,
    "start_time": "2021-07-02T14:28:13.043Z"
   },
   {
    "duration": 4,
    "start_time": "2021-07-02T14:28:13.110Z"
   },
   {
    "duration": 9,
    "start_time": "2021-07-02T14:28:13.121Z"
   },
   {
    "duration": 16,
    "start_time": "2021-07-02T14:28:13.133Z"
   },
   {
    "duration": 10,
    "start_time": "2021-07-02T14:28:13.152Z"
   },
   {
    "duration": 14,
    "start_time": "2021-07-02T14:28:13.205Z"
   },
   {
    "duration": 7,
    "start_time": "2021-07-02T14:28:13.222Z"
   },
   {
    "duration": 15,
    "start_time": "2021-07-02T14:28:13.232Z"
   },
   {
    "duration": 66,
    "start_time": "2021-07-02T14:28:13.251Z"
   },
   {
    "duration": 4,
    "start_time": "2021-07-02T14:28:13.319Z"
   },
   {
    "duration": 9,
    "start_time": "2021-07-02T14:28:13.325Z"
   },
   {
    "duration": 1765,
    "start_time": "2021-07-02T15:25:02.891Z"
   },
   {
    "duration": 106,
    "start_time": "2021-07-02T15:26:10.294Z"
   },
   {
    "duration": 1549,
    "start_time": "2021-07-02T15:26:27.093Z"
   },
   {
    "duration": 1522,
    "start_time": "2021-07-02T15:26:47.768Z"
   }
  ],
  "kernelspec": {
   "display_name": "Python 3",
   "language": "python",
   "name": "python3"
  },
  "language_info": {
   "codemirror_mode": {
    "name": "ipython",
    "version": 3
   },
   "file_extension": ".py",
   "mimetype": "text/x-python",
   "name": "python",
   "nbconvert_exporter": "python",
   "pygments_lexer": "ipython3",
   "version": "3.7.8"
  },
  "toc": {
   "base_numbering": 1,
   "nav_menu": {},
   "number_sections": true,
   "sideBar": true,
   "skip_h1_title": false,
   "title_cell": "Table of Contents",
   "title_sidebar": "Contents",
   "toc_cell": false,
   "toc_position": {},
   "toc_section_display": true,
   "toc_window_display": false
  }
 },
 "nbformat": 4,
 "nbformat_minor": 2
}
