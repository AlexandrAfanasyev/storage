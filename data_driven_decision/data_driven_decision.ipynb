{
 "cells": [
  {
   "cell_type": "markdown",
   "metadata": {},
   "source": [
    "#  Принятие решений в бизнесе на основе данных<a class=\"tocSkip\">"
   ]
  },
  {
   "cell_type": "markdown",
   "metadata": {},
   "source": [
    "**Цель проекта - изучение гипотез для увеличения выручки интернет-магазина. Необходимо приоритизировать гипотезы, запустить A/B-тест и проанализировать результаты.**"
   ]
  },
  {
   "cell_type": "markdown",
   "metadata": {},
   "source": [
    "### Оглавление<a class=\"tocSkip\">"
   ]
  },
  {
   "cell_type": "markdown",
   "metadata": {},
   "source": [
    "[Загрузка и изучение данных](#open)"
   ]
  },
  {
   "cell_type": "markdown",
   "metadata": {},
   "source": [
    "[Подготовка данных](#preprocessing)"
   ]
  },
  {
   "cell_type": "markdown",
   "metadata": {},
   "source": [
    "[Часть 1. Приоритизация гипотез.](#part1)"
   ]
  },
  {
   "cell_type": "markdown",
   "metadata": {},
   "source": [
    "- [Фреймворк ICE](#ice)"
   ]
  },
  {
   "cell_type": "markdown",
   "metadata": {},
   "source": [
    "- [Фреймворк RICE](#rice)"
   ]
  },
  {
   "cell_type": "markdown",
   "metadata": {},
   "source": [
    "[Часть 2. Анализ A/B-теста](#part2)"
   ]
  },
  {
   "cell_type": "markdown",
   "metadata": {},
   "source": [
    "- [Построение графика кумулятивной выручки по группам](#step1)"
   ]
  },
  {
   "cell_type": "markdown",
   "metadata": {},
   "source": [
    "- [Построение графика кумулятивного среднего чека по группам](#step2)"
   ]
  },
  {
   "cell_type": "markdown",
   "metadata": {},
   "source": [
    "- [График относительного изменения кумулятивного среднего чека группы B к группе A](#step3)"
   ]
  },
  {
   "cell_type": "markdown",
   "metadata": {},
   "source": [
    "- [Построение графика кумулятивной конверсии по группам](#step4)"
   ]
  },
  {
   "cell_type": "markdown",
   "metadata": {},
   "source": [
    "- [Построение графика относительного изменения кумулятивной конверсии группы B к группе A](#step5)"
   ]
  },
  {
   "cell_type": "markdown",
   "metadata": {},
   "source": [
    "- [Tочечный график количества заказов по пользователям](#step6)"
   ]
  },
  {
   "cell_type": "markdown",
   "metadata": {},
   "source": [
    "- [Рассчет 95-го и 99-го перцентияи количества заказов на пользователя](#step7)"
   ]
  },
  {
   "cell_type": "markdown",
   "metadata": {},
   "source": [
    "- [Построение точечного графика стоимостей заказов](#step8)"
   ]
  },
  {
   "cell_type": "markdown",
   "metadata": {},
   "source": [
    "- [Расчет 95-го и 99-го перцентиля стоимости заказов](#step9)"
   ]
  },
  {
   "cell_type": "markdown",
   "metadata": {},
   "source": [
    "- [Расчет статистической значимости различий в конверсии между группами по «сырым» данным](#step10)"
   ]
  },
  {
   "cell_type": "markdown",
   "metadata": {},
   "source": [
    "- [Определение статистической значимости различий в среднем чеке заказа между группами по «сырым» данным](#step11)"
   ]
  },
  {
   "cell_type": "markdown",
   "metadata": {},
   "source": [
    "- [Рассчет статистической значимости различий в конверсии между группами по «очищенным» данным](#step12)"
   ]
  },
  {
   "cell_type": "markdown",
   "metadata": {},
   "source": [
    "- [Рассчет статистической значимости различий в среднем чеке заказа между группами по «очищенным» данным](#step13)"
   ]
  },
  {
   "cell_type": "markdown",
   "metadata": {},
   "source": [
    "- [Pешение по результатам теста](#step14)"
   ]
  },
  {
   "cell_type": "markdown",
   "metadata": {},
   "source": [
    "<a id=\"open\"></a>\n",
    "## Загрузка и изучение данных<a class=\"tocSkip\">"
   ]
  },
  {
   "cell_type": "code",
   "execution_count": 1,
   "metadata": {},
   "outputs": [],
   "source": [
    "import pandas as pd\n",
    "import numpy as np\n",
    "import datetime as dt\n",
    "import matplotlib.pyplot as plt\n",
    "plt.style.use('bmh')\n",
    "from scipy import stats\n",
    "import seaborn as sns"
   ]
  },
  {
   "cell_type": "code",
   "execution_count": 2,
   "metadata": {},
   "outputs": [],
   "source": [
    "hypothesis = pd.read_csv('/datasets/hypothesis.csv')\n",
    "pd.set_option('max_colwidth', 120)\n",
    "pd.set_option('display.width', 500)"
   ]
  },
  {
   "cell_type": "code",
   "execution_count": 3,
   "metadata": {},
   "outputs": [
    {
     "data": {
      "text/html": [
       "<div>\n",
       "<style scoped>\n",
       "    .dataframe tbody tr th:only-of-type {\n",
       "        vertical-align: middle;\n",
       "    }\n",
       "\n",
       "    .dataframe tbody tr th {\n",
       "        vertical-align: top;\n",
       "    }\n",
       "\n",
       "    .dataframe thead th {\n",
       "        text-align: right;\n",
       "    }\n",
       "</style>\n",
       "<table border=\"1\" class=\"dataframe\">\n",
       "  <thead>\n",
       "    <tr style=\"text-align: right;\">\n",
       "      <th></th>\n",
       "      <th>Hypothesis</th>\n",
       "      <th>Reach</th>\n",
       "      <th>Impact</th>\n",
       "      <th>Confidence</th>\n",
       "      <th>Efforts</th>\n",
       "    </tr>\n",
       "  </thead>\n",
       "  <tbody>\n",
       "    <tr>\n",
       "      <td>0</td>\n",
       "      <td>Добавить два новых канала привлечения трафика, что позволит привлекать на 30% больше пользователей</td>\n",
       "      <td>3</td>\n",
       "      <td>10</td>\n",
       "      <td>8</td>\n",
       "      <td>6</td>\n",
       "    </tr>\n",
       "    <tr>\n",
       "      <td>1</td>\n",
       "      <td>Запустить собственную службу доставки, что сократит срок доставки заказов</td>\n",
       "      <td>2</td>\n",
       "      <td>5</td>\n",
       "      <td>4</td>\n",
       "      <td>10</td>\n",
       "    </tr>\n",
       "    <tr>\n",
       "      <td>2</td>\n",
       "      <td>Добавить блоки рекомендаций товаров на сайт интернет магазина, чтобы повысить конверсию и средний чек заказа</td>\n",
       "      <td>8</td>\n",
       "      <td>3</td>\n",
       "      <td>7</td>\n",
       "      <td>3</td>\n",
       "    </tr>\n",
       "    <tr>\n",
       "      <td>3</td>\n",
       "      <td>Изменить структура категорий, что увеличит конверсию, т.к. пользователи быстрее найдут нужный товар</td>\n",
       "      <td>8</td>\n",
       "      <td>3</td>\n",
       "      <td>3</td>\n",
       "      <td>8</td>\n",
       "    </tr>\n",
       "    <tr>\n",
       "      <td>4</td>\n",
       "      <td>Изменить цвет фона главной страницы, чтобы увеличить вовлеченность пользователей</td>\n",
       "      <td>3</td>\n",
       "      <td>1</td>\n",
       "      <td>1</td>\n",
       "      <td>1</td>\n",
       "    </tr>\n",
       "    <tr>\n",
       "      <td>5</td>\n",
       "      <td>Добавить страницу отзывов клиентов о магазине, что позволит увеличить количество заказов</td>\n",
       "      <td>3</td>\n",
       "      <td>2</td>\n",
       "      <td>2</td>\n",
       "      <td>3</td>\n",
       "    </tr>\n",
       "    <tr>\n",
       "      <td>6</td>\n",
       "      <td>Показать на главной странице баннеры с актуальными акциями и распродажами, чтобы увеличить конверсию</td>\n",
       "      <td>5</td>\n",
       "      <td>3</td>\n",
       "      <td>8</td>\n",
       "      <td>3</td>\n",
       "    </tr>\n",
       "    <tr>\n",
       "      <td>7</td>\n",
       "      <td>Добавить форму подписки на все основные страницы, чтобы собрать базу клиентов для email-рассылок</td>\n",
       "      <td>10</td>\n",
       "      <td>7</td>\n",
       "      <td>8</td>\n",
       "      <td>5</td>\n",
       "    </tr>\n",
       "    <tr>\n",
       "      <td>8</td>\n",
       "      <td>Запустить акцию, дающую скидку на товар в день рождения</td>\n",
       "      <td>1</td>\n",
       "      <td>9</td>\n",
       "      <td>9</td>\n",
       "      <td>5</td>\n",
       "    </tr>\n",
       "  </tbody>\n",
       "</table>\n",
       "</div>"
      ],
      "text/plain": [
       "                                                                                                     Hypothesis  Reach  Impact  Confidence  Efforts\n",
       "0            Добавить два новых канала привлечения трафика, что позволит привлекать на 30% больше пользователей      3      10           8        6\n",
       "1                                     Запустить собственную службу доставки, что сократит срок доставки заказов      2       5           4       10\n",
       "2  Добавить блоки рекомендаций товаров на сайт интернет магазина, чтобы повысить конверсию и средний чек заказа      8       3           7        3\n",
       "3           Изменить структура категорий, что увеличит конверсию, т.к. пользователи быстрее найдут нужный товар      8       3           3        8\n",
       "4                              Изменить цвет фона главной страницы, чтобы увеличить вовлеченность пользователей      3       1           1        1\n",
       "5                      Добавить страницу отзывов клиентов о магазине, что позволит увеличить количество заказов      3       2           2        3\n",
       "6          Показать на главной странице баннеры с актуальными акциями и распродажами, чтобы увеличить конверсию      5       3           8        3\n",
       "7              Добавить форму подписки на все основные страницы, чтобы собрать базу клиентов для email-рассылок     10       7           8        5\n",
       "8                                                       Запустить акцию, дающую скидку на товар в день рождения      1       9           9        5"
      ]
     },
     "execution_count": 3,
     "metadata": {},
     "output_type": "execute_result"
    }
   ],
   "source": [
    "hypothesis"
   ]
  },
  {
   "cell_type": "code",
   "execution_count": 4,
   "metadata": {},
   "outputs": [
    {
     "name": "stdout",
     "output_type": "stream",
     "text": [
      "<class 'pandas.core.frame.DataFrame'>\n",
      "RangeIndex: 9 entries, 0 to 8\n",
      "Data columns (total 5 columns):\n",
      "Hypothesis    9 non-null object\n",
      "Reach         9 non-null int64\n",
      "Impact        9 non-null int64\n",
      "Confidence    9 non-null int64\n",
      "Efforts       9 non-null int64\n",
      "dtypes: int64(4), object(1)\n",
      "memory usage: 488.0+ bytes\n"
     ]
    }
   ],
   "source": [
    "hypothesis.info()"
   ]
  },
  {
   "cell_type": "code",
   "execution_count": 5,
   "metadata": {},
   "outputs": [],
   "source": [
    "orders = pd.read_csv('/datasets/orders.csv')"
   ]
  },
  {
   "cell_type": "code",
   "execution_count": 6,
   "metadata": {},
   "outputs": [
    {
     "data": {
      "text/html": [
       "<div>\n",
       "<style scoped>\n",
       "    .dataframe tbody tr th:only-of-type {\n",
       "        vertical-align: middle;\n",
       "    }\n",
       "\n",
       "    .dataframe tbody tr th {\n",
       "        vertical-align: top;\n",
       "    }\n",
       "\n",
       "    .dataframe thead th {\n",
       "        text-align: right;\n",
       "    }\n",
       "</style>\n",
       "<table border=\"1\" class=\"dataframe\">\n",
       "  <thead>\n",
       "    <tr style=\"text-align: right;\">\n",
       "      <th></th>\n",
       "      <th>transactionId</th>\n",
       "      <th>visitorId</th>\n",
       "      <th>date</th>\n",
       "      <th>revenue</th>\n",
       "      <th>group</th>\n",
       "    </tr>\n",
       "  </thead>\n",
       "  <tbody>\n",
       "    <tr>\n",
       "      <td>0</td>\n",
       "      <td>3667963787</td>\n",
       "      <td>3312258926</td>\n",
       "      <td>2019-08-15</td>\n",
       "      <td>1650</td>\n",
       "      <td>B</td>\n",
       "    </tr>\n",
       "    <tr>\n",
       "      <td>1</td>\n",
       "      <td>2804400009</td>\n",
       "      <td>3642806036</td>\n",
       "      <td>2019-08-15</td>\n",
       "      <td>730</td>\n",
       "      <td>B</td>\n",
       "    </tr>\n",
       "    <tr>\n",
       "      <td>2</td>\n",
       "      <td>2961555356</td>\n",
       "      <td>4069496402</td>\n",
       "      <td>2019-08-15</td>\n",
       "      <td>400</td>\n",
       "      <td>A</td>\n",
       "    </tr>\n",
       "    <tr>\n",
       "      <td>3</td>\n",
       "      <td>3797467345</td>\n",
       "      <td>1196621759</td>\n",
       "      <td>2019-08-15</td>\n",
       "      <td>9759</td>\n",
       "      <td>B</td>\n",
       "    </tr>\n",
       "    <tr>\n",
       "      <td>4</td>\n",
       "      <td>2282983706</td>\n",
       "      <td>2322279887</td>\n",
       "      <td>2019-08-15</td>\n",
       "      <td>2308</td>\n",
       "      <td>B</td>\n",
       "    </tr>\n",
       "  </tbody>\n",
       "</table>\n",
       "</div>"
      ],
      "text/plain": [
       "   transactionId   visitorId        date  revenue group\n",
       "0     3667963787  3312258926  2019-08-15     1650     B\n",
       "1     2804400009  3642806036  2019-08-15      730     B\n",
       "2     2961555356  4069496402  2019-08-15      400     A\n",
       "3     3797467345  1196621759  2019-08-15     9759     B\n",
       "4     2282983706  2322279887  2019-08-15     2308     B"
      ]
     },
     "execution_count": 6,
     "metadata": {},
     "output_type": "execute_result"
    }
   ],
   "source": [
    "orders.head()"
   ]
  },
  {
   "cell_type": "code",
   "execution_count": 7,
   "metadata": {},
   "outputs": [
    {
     "name": "stdout",
     "output_type": "stream",
     "text": [
      "<class 'pandas.core.frame.DataFrame'>\n",
      "RangeIndex: 1197 entries, 0 to 1196\n",
      "Data columns (total 5 columns):\n",
      "transactionId    1197 non-null int64\n",
      "visitorId        1197 non-null int64\n",
      "date             1197 non-null object\n",
      "revenue          1197 non-null int64\n",
      "group            1197 non-null object\n",
      "dtypes: int64(3), object(2)\n",
      "memory usage: 46.9+ KB\n"
     ]
    }
   ],
   "source": [
    "orders.info()"
   ]
  },
  {
   "cell_type": "code",
   "execution_count": 8,
   "metadata": {},
   "outputs": [],
   "source": [
    "visitors = pd.read_csv('/datasets/visitors.csv')"
   ]
  },
  {
   "cell_type": "code",
   "execution_count": 9,
   "metadata": {},
   "outputs": [
    {
     "data": {
      "text/html": [
       "<div>\n",
       "<style scoped>\n",
       "    .dataframe tbody tr th:only-of-type {\n",
       "        vertical-align: middle;\n",
       "    }\n",
       "\n",
       "    .dataframe tbody tr th {\n",
       "        vertical-align: top;\n",
       "    }\n",
       "\n",
       "    .dataframe thead th {\n",
       "        text-align: right;\n",
       "    }\n",
       "</style>\n",
       "<table border=\"1\" class=\"dataframe\">\n",
       "  <thead>\n",
       "    <tr style=\"text-align: right;\">\n",
       "      <th></th>\n",
       "      <th>date</th>\n",
       "      <th>group</th>\n",
       "      <th>visitors</th>\n",
       "    </tr>\n",
       "  </thead>\n",
       "  <tbody>\n",
       "    <tr>\n",
       "      <td>0</td>\n",
       "      <td>2019-08-01</td>\n",
       "      <td>A</td>\n",
       "      <td>719</td>\n",
       "    </tr>\n",
       "    <tr>\n",
       "      <td>1</td>\n",
       "      <td>2019-08-02</td>\n",
       "      <td>A</td>\n",
       "      <td>619</td>\n",
       "    </tr>\n",
       "    <tr>\n",
       "      <td>2</td>\n",
       "      <td>2019-08-03</td>\n",
       "      <td>A</td>\n",
       "      <td>507</td>\n",
       "    </tr>\n",
       "    <tr>\n",
       "      <td>3</td>\n",
       "      <td>2019-08-04</td>\n",
       "      <td>A</td>\n",
       "      <td>717</td>\n",
       "    </tr>\n",
       "    <tr>\n",
       "      <td>4</td>\n",
       "      <td>2019-08-05</td>\n",
       "      <td>A</td>\n",
       "      <td>756</td>\n",
       "    </tr>\n",
       "  </tbody>\n",
       "</table>\n",
       "</div>"
      ],
      "text/plain": [
       "         date group  visitors\n",
       "0  2019-08-01     A       719\n",
       "1  2019-08-02     A       619\n",
       "2  2019-08-03     A       507\n",
       "3  2019-08-04     A       717\n",
       "4  2019-08-05     A       756"
      ]
     },
     "execution_count": 9,
     "metadata": {},
     "output_type": "execute_result"
    }
   ],
   "source": [
    "visitors.head()"
   ]
  },
  {
   "cell_type": "code",
   "execution_count": 10,
   "metadata": {},
   "outputs": [
    {
     "name": "stdout",
     "output_type": "stream",
     "text": [
      "<class 'pandas.core.frame.DataFrame'>\n",
      "RangeIndex: 62 entries, 0 to 61\n",
      "Data columns (total 3 columns):\n",
      "date        62 non-null object\n",
      "group       62 non-null object\n",
      "visitors    62 non-null int64\n",
      "dtypes: int64(1), object(2)\n",
      "memory usage: 1.6+ KB\n"
     ]
    }
   ],
   "source": [
    "visitors.info()"
   ]
  },
  {
   "cell_type": "markdown",
   "metadata": {},
   "source": [
    "Данные загружены, перейдем к предобработке."
   ]
  },
  {
   "cell_type": "markdown",
   "metadata": {},
   "source": [
    "<a id=\"preprocessing\"></a>\n",
    "## Подготовка данных<a class=\"tocSkip\">"
   ]
  },
  {
   "cell_type": "code",
   "execution_count": 11,
   "metadata": {},
   "outputs": [
    {
     "name": "stdout",
     "output_type": "stream",
     "text": [
      "<class 'pandas.core.frame.DataFrame'>\n",
      "RangeIndex: 1197 entries, 0 to 1196\n",
      "Data columns (total 5 columns):\n",
      "transactionId    1197 non-null int64\n",
      "visitorId        1197 non-null int64\n",
      "date             1197 non-null object\n",
      "revenue          1197 non-null int64\n",
      "group            1197 non-null object\n",
      "dtypes: int64(3), object(2)\n",
      "memory usage: 46.9+ KB\n"
     ]
    }
   ],
   "source": [
    "orders.info()"
   ]
  },
  {
   "cell_type": "code",
   "execution_count": 12,
   "metadata": {},
   "outputs": [
    {
     "name": "stdout",
     "output_type": "stream",
     "text": [
      "<class 'pandas.core.frame.DataFrame'>\n",
      "RangeIndex: 62 entries, 0 to 61\n",
      "Data columns (total 3 columns):\n",
      "date        62 non-null object\n",
      "group       62 non-null object\n",
      "visitors    62 non-null int64\n",
      "dtypes: int64(1), object(2)\n",
      "memory usage: 1.6+ KB\n"
     ]
    }
   ],
   "source": [
    "visitors.info()"
   ]
  },
  {
   "cell_type": "code",
   "execution_count": 13,
   "metadata": {},
   "outputs": [
    {
     "data": {
      "text/plain": [
       "0"
      ]
     },
     "execution_count": 13,
     "metadata": {},
     "output_type": "execute_result"
    }
   ],
   "source": [
    "orders.duplicated().sum()"
   ]
  },
  {
   "cell_type": "code",
   "execution_count": 14,
   "metadata": {},
   "outputs": [
    {
     "data": {
      "text/plain": [
       "0"
      ]
     },
     "execution_count": 14,
     "metadata": {},
     "output_type": "execute_result"
    }
   ],
   "source": [
    "visitors.duplicated().sum()"
   ]
  },
  {
   "cell_type": "markdown",
   "metadata": {},
   "source": [
    "Пропуски и дубликаты не обнаружены, можем переходить к анализу данных"
   ]
  },
  {
   "cell_type": "code",
   "execution_count": 15,
   "metadata": {},
   "outputs": [
    {
     "data": {
      "text/plain": [
       "group\n",
       "A    31\n",
       "B    31\n",
       "Name: visitors, dtype: int64"
      ]
     },
     "execution_count": 15,
     "metadata": {},
     "output_type": "execute_result"
    }
   ],
   "source": [
    "visitors.groupby('group')['visitors'].count()"
   ]
  },
  {
   "cell_type": "markdown",
   "metadata": {},
   "source": [
    "Группы содержат равное количество участников."
   ]
  },
  {
   "cell_type": "code",
   "execution_count": 16,
   "metadata": {},
   "outputs": [
    {
     "data": {
      "image/png": "[encoded data removed]",
      "text/plain": [
       "<Figure size 1440x720 with 1 Axes>"
      ]
     },
     "metadata": {
      "needs_background": "light"
     },
     "output_type": "display_data"
    }
   ],
   "source": [
    "plt.figure(figsize=(20, 10))\n",
    "sns.countplot(x='date', data=orders, hue='group') \n",
    "plt.xticks(rotation=60)\n",
    "plt.title(\"Количество заказов по группам\",fontsize=22)\n",
    "plt.xlabel(\"Дата\", fontsize=18)\n",
    "plt.ylabel(\"Количество заказов\", fontsize=18)\n",
    "plt.grid(True)\n",
    "plt.show() "
   ]
  },
  {
   "cell_type": "code",
   "execution_count": 17,
   "metadata": {},
   "outputs": [
    {
     "data": {
      "text/plain": [
       "0"
      ]
     },
     "execution_count": 17,
     "metadata": {},
     "output_type": "execute_result"
    }
   ],
   "source": [
    "orders.groupby(['date','group'])['transactionId'].count().isnull().sum()"
   ]
  },
  {
   "cell_type": "markdown",
   "metadata": {},
   "source": [
    "Пользователи каждой из групп представлены во все дни эксперимента."
   ]
  },
  {
   "cell_type": "markdown",
   "metadata": {},
   "source": [
    "<a id=\"part1\"></a>\n",
    "## Часть 1. Приоритизация гипотез.<a class=\"tocSkip\">"
   ]
  },
  {
   "cell_type": "markdown",
   "metadata": {},
   "source": [
    "<a id=\"ice\"></a>\n",
    "- __Фреймворк ICE__"
   ]
  },
  {
   "cell_type": "markdown",
   "metadata": {},
   "source": [
    "$$ICE = \\frac{Impact * Confidence}{Efforts}$$"
   ]
  },
  {
   "cell_type": "markdown",
   "metadata": {},
   "source": [
    "Для приоритизации гипотез применим фреймворк ICE. Отсортируем их по убыванию приоритета."
   ]
  },
  {
   "cell_type": "code",
   "execution_count": 18,
   "metadata": {},
   "outputs": [],
   "source": [
    "hypothesis['ice'] = (hypothesis['Impact'] * hypothesis['Confidence'] / hypothesis['Efforts']).round(1)"
   ]
  },
  {
   "cell_type": "code",
   "execution_count": 19,
   "metadata": {},
   "outputs": [
    {
     "data": {
      "text/html": [
       "<div>\n",
       "<style scoped>\n",
       "    .dataframe tbody tr th:only-of-type {\n",
       "        vertical-align: middle;\n",
       "    }\n",
       "\n",
       "    .dataframe tbody tr th {\n",
       "        vertical-align: top;\n",
       "    }\n",
       "\n",
       "    .dataframe thead th {\n",
       "        text-align: right;\n",
       "    }\n",
       "</style>\n",
       "<table border=\"1\" class=\"dataframe\">\n",
       "  <thead>\n",
       "    <tr style=\"text-align: right;\">\n",
       "      <th></th>\n",
       "      <th>Hypothesis</th>\n",
       "      <th>Reach</th>\n",
       "      <th>Impact</th>\n",
       "      <th>Confidence</th>\n",
       "      <th>Efforts</th>\n",
       "      <th>ice</th>\n",
       "    </tr>\n",
       "  </thead>\n",
       "  <tbody>\n",
       "    <tr>\n",
       "      <td>8</td>\n",
       "      <td>Запустить акцию, дающую скидку на товар в день рождения</td>\n",
       "      <td>1</td>\n",
       "      <td>9</td>\n",
       "      <td>9</td>\n",
       "      <td>5</td>\n",
       "      <td>16.2</td>\n",
       "    </tr>\n",
       "    <tr>\n",
       "      <td>0</td>\n",
       "      <td>Добавить два новых канала привлечения трафика, что позволит привлекать на 30% больше пользователей</td>\n",
       "      <td>3</td>\n",
       "      <td>10</td>\n",
       "      <td>8</td>\n",
       "      <td>6</td>\n",
       "      <td>13.3</td>\n",
       "    </tr>\n",
       "    <tr>\n",
       "      <td>7</td>\n",
       "      <td>Добавить форму подписки на все основные страницы, чтобы собрать базу клиентов для email-рассылок</td>\n",
       "      <td>10</td>\n",
       "      <td>7</td>\n",
       "      <td>8</td>\n",
       "      <td>5</td>\n",
       "      <td>11.2</td>\n",
       "    </tr>\n",
       "    <tr>\n",
       "      <td>6</td>\n",
       "      <td>Показать на главной странице баннеры с актуальными акциями и распродажами, чтобы увеличить конверсию</td>\n",
       "      <td>5</td>\n",
       "      <td>3</td>\n",
       "      <td>8</td>\n",
       "      <td>3</td>\n",
       "      <td>8.0</td>\n",
       "    </tr>\n",
       "    <tr>\n",
       "      <td>2</td>\n",
       "      <td>Добавить блоки рекомендаций товаров на сайт интернет магазина, чтобы повысить конверсию и средний чек заказа</td>\n",
       "      <td>8</td>\n",
       "      <td>3</td>\n",
       "      <td>7</td>\n",
       "      <td>3</td>\n",
       "      <td>7.0</td>\n",
       "    </tr>\n",
       "    <tr>\n",
       "      <td>1</td>\n",
       "      <td>Запустить собственную службу доставки, что сократит срок доставки заказов</td>\n",
       "      <td>2</td>\n",
       "      <td>5</td>\n",
       "      <td>4</td>\n",
       "      <td>10</td>\n",
       "      <td>2.0</td>\n",
       "    </tr>\n",
       "    <tr>\n",
       "      <td>5</td>\n",
       "      <td>Добавить страницу отзывов клиентов о магазине, что позволит увеличить количество заказов</td>\n",
       "      <td>3</td>\n",
       "      <td>2</td>\n",
       "      <td>2</td>\n",
       "      <td>3</td>\n",
       "      <td>1.3</td>\n",
       "    </tr>\n",
       "    <tr>\n",
       "      <td>3</td>\n",
       "      <td>Изменить структура категорий, что увеличит конверсию, т.к. пользователи быстрее найдут нужный товар</td>\n",
       "      <td>8</td>\n",
       "      <td>3</td>\n",
       "      <td>3</td>\n",
       "      <td>8</td>\n",
       "      <td>1.1</td>\n",
       "    </tr>\n",
       "    <tr>\n",
       "      <td>4</td>\n",
       "      <td>Изменить цвет фона главной страницы, чтобы увеличить вовлеченность пользователей</td>\n",
       "      <td>3</td>\n",
       "      <td>1</td>\n",
       "      <td>1</td>\n",
       "      <td>1</td>\n",
       "      <td>1.0</td>\n",
       "    </tr>\n",
       "  </tbody>\n",
       "</table>\n",
       "</div>"
      ],
      "text/plain": [
       "                                                                                                     Hypothesis  Reach  Impact  Confidence  Efforts   ice\n",
       "8                                                       Запустить акцию, дающую скидку на товар в день рождения      1       9           9        5  16.2\n",
       "0            Добавить два новых канала привлечения трафика, что позволит привлекать на 30% больше пользователей      3      10           8        6  13.3\n",
       "7              Добавить форму подписки на все основные страницы, чтобы собрать базу клиентов для email-рассылок     10       7           8        5  11.2\n",
       "6          Показать на главной странице баннеры с актуальными акциями и распродажами, чтобы увеличить конверсию      5       3           8        3   8.0\n",
       "2  Добавить блоки рекомендаций товаров на сайт интернет магазина, чтобы повысить конверсию и средний чек заказа      8       3           7        3   7.0\n",
       "1                                     Запустить собственную службу доставки, что сократит срок доставки заказов      2       5           4       10   2.0\n",
       "5                      Добавить страницу отзывов клиентов о магазине, что позволит увеличить количество заказов      3       2           2        3   1.3\n",
       "3           Изменить структура категорий, что увеличит конверсию, т.к. пользователи быстрее найдут нужный товар      8       3           3        8   1.1\n",
       "4                              Изменить цвет фона главной страницы, чтобы увеличить вовлеченность пользователей      3       1           1        1   1.0"
      ]
     },
     "execution_count": 19,
     "metadata": {},
     "output_type": "execute_result"
    }
   ],
   "source": [
    "hypothesis.sort_values(by='ice', ascending =False)"
   ]
  },
  {
   "cell_type": "markdown",
   "metadata": {},
   "source": [
    "Данный метод показывает наибольший приоритет для гипотез 8, 0 и 7."
   ]
  },
  {
   "cell_type": "markdown",
   "metadata": {},
   "source": [
    "<a id=\"rice\"></a>\n",
    "- __Фреймворк RICE__"
   ]
  },
  {
   "cell_type": "markdown",
   "metadata": {},
   "source": [
    "Применим фреймворк RICE. Отсортируем гипотезы по убыванию приоритета."
   ]
  },
  {
   "cell_type": "markdown",
   "metadata": {},
   "source": [
    "$$RICE = \\frac{Rearch * Impact * Confidence}{Efforts}$$"
   ]
  },
  {
   "cell_type": "code",
   "execution_count": 20,
   "metadata": {},
   "outputs": [],
   "source": [
    "hypothesis['rice'] = hypothesis['Reach'] * hypothesis['Impact'] * hypothesis['Confidence']\\\n",
    "/ hypothesis['Efforts']"
   ]
  },
  {
   "cell_type": "code",
   "execution_count": 21,
   "metadata": {},
   "outputs": [
    {
     "data": {
      "text/html": [
       "<div>\n",
       "<style scoped>\n",
       "    .dataframe tbody tr th:only-of-type {\n",
       "        vertical-align: middle;\n",
       "    }\n",
       "\n",
       "    .dataframe tbody tr th {\n",
       "        vertical-align: top;\n",
       "    }\n",
       "\n",
       "    .dataframe thead th {\n",
       "        text-align: right;\n",
       "    }\n",
       "</style>\n",
       "<table border=\"1\" class=\"dataframe\">\n",
       "  <thead>\n",
       "    <tr style=\"text-align: right;\">\n",
       "      <th></th>\n",
       "      <th>Hypothesis</th>\n",
       "      <th>Reach</th>\n",
       "      <th>Impact</th>\n",
       "      <th>Confidence</th>\n",
       "      <th>Efforts</th>\n",
       "      <th>ice</th>\n",
       "      <th>rice</th>\n",
       "    </tr>\n",
       "  </thead>\n",
       "  <tbody>\n",
       "    <tr>\n",
       "      <td>7</td>\n",
       "      <td>Добавить форму подписки на все основные страницы, чтобы собрать базу клиентов для email-рассылок</td>\n",
       "      <td>10</td>\n",
       "      <td>7</td>\n",
       "      <td>8</td>\n",
       "      <td>5</td>\n",
       "      <td>11.2</td>\n",
       "      <td>112.0</td>\n",
       "    </tr>\n",
       "    <tr>\n",
       "      <td>2</td>\n",
       "      <td>Добавить блоки рекомендаций товаров на сайт интернет магазина, чтобы повысить конверсию и средний чек заказа</td>\n",
       "      <td>8</td>\n",
       "      <td>3</td>\n",
       "      <td>7</td>\n",
       "      <td>3</td>\n",
       "      <td>7.0</td>\n",
       "      <td>56.0</td>\n",
       "    </tr>\n",
       "    <tr>\n",
       "      <td>0</td>\n",
       "      <td>Добавить два новых канала привлечения трафика, что позволит привлекать на 30% больше пользователей</td>\n",
       "      <td>3</td>\n",
       "      <td>10</td>\n",
       "      <td>8</td>\n",
       "      <td>6</td>\n",
       "      <td>13.3</td>\n",
       "      <td>40.0</td>\n",
       "    </tr>\n",
       "    <tr>\n",
       "      <td>6</td>\n",
       "      <td>Показать на главной странице баннеры с актуальными акциями и распродажами, чтобы увеличить конверсию</td>\n",
       "      <td>5</td>\n",
       "      <td>3</td>\n",
       "      <td>8</td>\n",
       "      <td>3</td>\n",
       "      <td>8.0</td>\n",
       "      <td>40.0</td>\n",
       "    </tr>\n",
       "    <tr>\n",
       "      <td>8</td>\n",
       "      <td>Запустить акцию, дающую скидку на товар в день рождения</td>\n",
       "      <td>1</td>\n",
       "      <td>9</td>\n",
       "      <td>9</td>\n",
       "      <td>5</td>\n",
       "      <td>16.2</td>\n",
       "      <td>16.2</td>\n",
       "    </tr>\n",
       "    <tr>\n",
       "      <td>3</td>\n",
       "      <td>Изменить структура категорий, что увеличит конверсию, т.к. пользователи быстрее найдут нужный товар</td>\n",
       "      <td>8</td>\n",
       "      <td>3</td>\n",
       "      <td>3</td>\n",
       "      <td>8</td>\n",
       "      <td>1.1</td>\n",
       "      <td>9.0</td>\n",
       "    </tr>\n",
       "    <tr>\n",
       "      <td>1</td>\n",
       "      <td>Запустить собственную службу доставки, что сократит срок доставки заказов</td>\n",
       "      <td>2</td>\n",
       "      <td>5</td>\n",
       "      <td>4</td>\n",
       "      <td>10</td>\n",
       "      <td>2.0</td>\n",
       "      <td>4.0</td>\n",
       "    </tr>\n",
       "    <tr>\n",
       "      <td>5</td>\n",
       "      <td>Добавить страницу отзывов клиентов о магазине, что позволит увеличить количество заказов</td>\n",
       "      <td>3</td>\n",
       "      <td>2</td>\n",
       "      <td>2</td>\n",
       "      <td>3</td>\n",
       "      <td>1.3</td>\n",
       "      <td>4.0</td>\n",
       "    </tr>\n",
       "    <tr>\n",
       "      <td>4</td>\n",
       "      <td>Изменить цвет фона главной страницы, чтобы увеличить вовлеченность пользователей</td>\n",
       "      <td>3</td>\n",
       "      <td>1</td>\n",
       "      <td>1</td>\n",
       "      <td>1</td>\n",
       "      <td>1.0</td>\n",
       "      <td>3.0</td>\n",
       "    </tr>\n",
       "  </tbody>\n",
       "</table>\n",
       "</div>"
      ],
      "text/plain": [
       "                                                                                                     Hypothesis  Reach  Impact  Confidence  Efforts   ice   rice\n",
       "7              Добавить форму подписки на все основные страницы, чтобы собрать базу клиентов для email-рассылок     10       7           8        5  11.2  112.0\n",
       "2  Добавить блоки рекомендаций товаров на сайт интернет магазина, чтобы повысить конверсию и средний чек заказа      8       3           7        3   7.0   56.0\n",
       "0            Добавить два новых канала привлечения трафика, что позволит привлекать на 30% больше пользователей      3      10           8        6  13.3   40.0\n",
       "6          Показать на главной странице баннеры с актуальными акциями и распродажами, чтобы увеличить конверсию      5       3           8        3   8.0   40.0\n",
       "8                                                       Запустить акцию, дающую скидку на товар в день рождения      1       9           9        5  16.2   16.2\n",
       "3           Изменить структура категорий, что увеличит конверсию, т.к. пользователи быстрее найдут нужный товар      8       3           3        8   1.1    9.0\n",
       "1                                     Запустить собственную службу доставки, что сократит срок доставки заказов      2       5           4       10   2.0    4.0\n",
       "5                      Добавить страницу отзывов клиентов о магазине, что позволит увеличить количество заказов      3       2           2        3   1.3    4.0\n",
       "4                              Изменить цвет фона главной страницы, чтобы увеличить вовлеченность пользователей      3       1           1        1   1.0    3.0"
      ]
     },
     "execution_count": 21,
     "metadata": {},
     "output_type": "execute_result"
    }
   ],
   "source": [
    "hypothesis.sort_values(by='rice', ascending =False)"
   ]
  },
  {
   "cell_type": "markdown",
   "metadata": {},
   "source": [
    "В результате применения фреймворка RICE вперед со значительным отрывом вышла гипотеза 7, за ней 2, 0 и 6. Применение критерия Reach (охват) сделало вариант 8 неактуальным, т.к. он применим \"только раз в году\""
   ]
  },
  {
   "cell_type": "markdown",
   "metadata": {},
   "source": [
    "<a id=\"part2\"></a>\n",
    "## Часть 2. Анализ A/B-теста<a class=\"tocSkip\">"
   ]
  },
  {
   "cell_type": "markdown",
   "metadata": {},
   "source": [
    "<a id=\"step1\"></a>\n",
    "- __Построение графика кумулятивной выручки по группам__"
   ]
  },
  {
   "cell_type": "code",
   "execution_count": 22,
   "metadata": {},
   "outputs": [],
   "source": [
    "orders['date'] = orders['date'].map(lambda x: dt.datetime.strptime(x, '%Y-%m-%d'))"
   ]
  },
  {
   "cell_type": "code",
   "execution_count": 23,
   "metadata": {},
   "outputs": [],
   "source": [
    "visitors['date'] = visitors['date'].map(lambda x: dt.datetime.strptime(x, '%Y-%m-%d'))\n"
   ]
  },
  {
   "cell_type": "markdown",
   "metadata": {},
   "source": [
    "Создаем массив уникальных пар значений дат и групп теста."
   ]
  },
  {
   "cell_type": "code",
   "execution_count": 24,
   "metadata": {},
   "outputs": [],
   "source": [
    "datesGroups = orders[['date','group']].drop_duplicates()"
   ]
  },
  {
   "cell_type": "markdown",
   "metadata": {},
   "source": [
    "Получаем агрегированные кумулятивные по дням данные о заказах. "
   ]
  },
  {
   "cell_type": "code",
   "execution_count": 25,
   "metadata": {},
   "outputs": [],
   "source": [
    "ordersAggregated = datesGroups.apply(lambda x: orders[np.logical_and(orders['date'] <= x['date'],\\\n",
    "orders['group'] == x['group'])].agg({'date' : 'max', 'group' : 'max', 'transactionId' : pd.Series.nunique,\\\n",
    "'visitorId' : pd.Series.nunique, 'revenue' : 'sum'}), axis=1).sort_values(by=['date','group'])"
   ]
  },
  {
   "cell_type": "code",
   "execution_count": 26,
   "metadata": {},
   "outputs": [],
   "source": [
    "ordersAggregated.columns = ['date', 'group', 'orders', 'buyers', 'revenue']"
   ]
  },
  {
   "cell_type": "markdown",
   "metadata": {},
   "source": [
    "Получаем агрегированные кумулятивные по дням данные о посетителях интернет-магазина."
   ]
  },
  {
   "cell_type": "code",
   "execution_count": 27,
   "metadata": {},
   "outputs": [],
   "source": [
    "visitorsAggregated = datesGroups.apply(lambda x: visitors[np.logical_and(visitors['date'] <= x['date'],\\\n",
    "visitors['group'] == x['group'])].agg({'date' : 'max', 'group' : 'max', 'visitors' : 'sum'}),\\\n",
    "                                       axis=1).sort_values(by=['date','group'])"
   ]
  },
  {
   "cell_type": "markdown",
   "metadata": {},
   "source": [
    "Объединяем кумулятивные данные в одной таблице и присваиваем ее столбцам понятные названия."
   ]
  },
  {
   "cell_type": "code",
   "execution_count": 28,
   "metadata": {},
   "outputs": [],
   "source": [
    "cumulativeData = ordersAggregated.merge(visitorsAggregated, left_on=['date', 'group'], right_on=['date', 'group'])\n",
    "cumulativeData.columns = ['date', 'group', 'orders', 'buyers', 'revenue', 'visitors']"
   ]
  },
  {
   "cell_type": "code",
   "execution_count": 29,
   "metadata": {},
   "outputs": [
    {
     "name": "stdout",
     "output_type": "stream",
     "text": [
      "        date group  orders  buyers  revenue  visitors\n",
      "0 2019-08-01     A      24      20   148579       719\n",
      "1 2019-08-01     B      21      20   101217       713\n",
      "2 2019-08-02     A      44      38   242401      1338\n",
      "3 2019-08-02     B      45      43   266748      1294\n",
      "4 2019-08-03     A      68      62   354874      1845\n"
     ]
    }
   ],
   "source": [
    "print(cumulativeData.head(5))"
   ]
  },
  {
   "cell_type": "markdown",
   "metadata": {},
   "source": [
    "Создадим датафрейм с кумулятивным количеством заказов и кумулятивной выручкой по дням в группе А."
   ]
  },
  {
   "cell_type": "code",
   "execution_count": 30,
   "metadata": {},
   "outputs": [],
   "source": [
    "cumulativeRevenueA = cumulativeData[cumulativeData['group']=='A'][['date','revenue', 'orders']]"
   ]
  },
  {
   "cell_type": "markdown",
   "metadata": {},
   "source": [
    "Создадим датафрейм с кумулятивным количеством заказов и кумулятивной выручкой по дням в группе B."
   ]
  },
  {
   "cell_type": "code",
   "execution_count": 31,
   "metadata": {},
   "outputs": [],
   "source": [
    "cumulativeRevenueB = cumulativeData[cumulativeData['group']=='B'][['date','revenue', 'orders']]"
   ]
  },
  {
   "cell_type": "markdown",
   "metadata": {},
   "source": [
    "Строим графики кумулятивной выручки групп А и В."
   ]
  },
  {
   "cell_type": "code",
   "execution_count": 32,
   "metadata": {},
   "outputs": [
    {
     "data": {
      "text/plain": [
       "<matplotlib.legend.Legend at 0x7f68bda0a390>"
      ]
     },
     "execution_count": 32,
     "metadata": {},
     "output_type": "execute_result"
    },
    {
     "data": {
      "image/png": "[encoded data removed]",
      "text/plain": [
       "<Figure size 1224x504 with 1 Axes>"
      ]
     },
     "metadata": {
      "needs_background": "light"
     },
     "output_type": "display_data"
    }
   ],
   "source": [
    "from pandas.plotting import register_matplotlib_converters\n",
    "register_matplotlib_converters()\n",
    "plt.figure(figsize=(17,7))\n",
    "plt.plot(cumulativeRevenueA['date'], cumulativeRevenueA['revenue'], label='A')\n",
    "plt.plot(cumulativeRevenueB['date'], cumulativeRevenueB['revenue'], label='B')\n",
    "plt.title('Графики кумулятивной выручки по группам', fontsize= 16)\n",
    "plt.grid(True)\n",
    "plt.legend()"
   ]
  },
  {
   "cell_type": "markdown",
   "metadata": {},
   "source": [
    "На графиках мы видим устойчивый рост выручки в обеих группах, однако группа В заметно опережает группу А, кроме того в группе В случился резкий скачек в конце августа, вероятно - крупный заказ."
   ]
  },
  {
   "cell_type": "markdown",
   "metadata": {},
   "source": [
    "<a id=\"step2\"></a>\n",
    "- __Построение графика кумулятивного среднего чека по группам__"
   ]
  },
  {
   "cell_type": "markdown",
   "metadata": {},
   "source": [
    "Построим графики среднего чека по группам — разделим кумулятивную выручку на кумулятивное число заказов:"
   ]
  },
  {
   "cell_type": "code",
   "execution_count": 33,
   "metadata": {},
   "outputs": [
    {
     "data": {
      "text/plain": [
       "<matplotlib.legend.Legend at 0x7f68bd9b04d0>"
      ]
     },
     "execution_count": 33,
     "metadata": {},
     "output_type": "execute_result"
    },
    {
     "data": {
      "image/png": "[encoded data removed]",
      "text/plain": [
       "<Figure size 1224x504 with 1 Axes>"
      ]
     },
     "metadata": {
      "needs_background": "light"
     },
     "output_type": "display_data"
    }
   ],
   "source": [
    "plt.figure(figsize=(17,7))\n",
    "plt.plot(cumulativeRevenueA['date'], cumulativeRevenueA['revenue']/cumulativeRevenueA['orders'], label='A')\n",
    "plt.plot(cumulativeRevenueB['date'], cumulativeRevenueB['revenue']/cumulativeRevenueB['orders'], label='B')\n",
    "plt.grid(True)\n",
    "plt.title('Графики кумулятивного среднего чека по группам', fontsize= 16)\n",
    "plt.legend()"
   ]
  },
  {
   "cell_type": "markdown",
   "metadata": {},
   "source": [
    "Обе групп в целом показывают рост среднего чека. В группе А, вероятно после выброса в начале теста, произошло падение, затемрезкий рост, небольшой пик и, фактически, стабилизация значений среднего чека несколько выше 7000 в середине теста. Группа В волнообразно росла до второй половины августа, потом, как и на предыдущемм графике, резкий скачек и плавное снижение. В итоге к концу теста средний чек группы В более чем на 2000 выше, чем у группы А."
   ]
  },
  {
   "cell_type": "markdown",
   "metadata": {},
   "source": [
    "<a id=\"step3\"></a>\n",
    "- __График относительного изменения кумулятивного среднего чека группы B к группе A__"
   ]
  },
  {
   "cell_type": "markdown",
   "metadata": {},
   "source": [
    "Собираем данные в одном датафрейме"
   ]
  },
  {
   "cell_type": "code",
   "execution_count": 34,
   "metadata": {},
   "outputs": [],
   "source": [
    "mergedCumulativeRevenue = cumulativeRevenueA.merge(cumulativeRevenueB, left_on='date', right_on='date',\\\n",
    "                                                   how='left', suffixes=['A', 'B'])"
   ]
  },
  {
   "cell_type": "markdown",
   "metadata": {},
   "source": [
    "Строим отношение средних чеков"
   ]
  },
  {
   "cell_type": "code",
   "execution_count": 35,
   "metadata": {},
   "outputs": [
    {
     "data": {
      "text/plain": [
       "<matplotlib.lines.Line2D at 0x7f68bd8f6810>"
      ]
     },
     "execution_count": 35,
     "metadata": {},
     "output_type": "execute_result"
    },
    {
     "data": {
      "image/png": "[encoded data removed]",
      "text/plain": [
       "<Figure size 1224x360 with 1 Axes>"
      ]
     },
     "metadata": {
      "needs_background": "light"
     },
     "output_type": "display_data"
    }
   ],
   "source": [
    "plt.figure(figsize=(17,5))\n",
    "plt.plot(mergedCumulativeRevenue['date'], (mergedCumulativeRevenue['revenueB']\\\n",
    "/mergedCumulativeRevenue['ordersB'])/(mergedCumulativeRevenue['revenueA']\\\n",
    "/mergedCumulativeRevenue['ordersA'])-1)\n",
    "plt.grid(True)\n",
    "plt.title('График относительного изменения кумулятивного среднего чека группы B к группе A', fontsize= 16)\n",
    "plt.axhline(y=0, color='black', linestyle='--')"
   ]
  },
  {
   "cell_type": "markdown",
   "metadata": {},
   "source": [
    "Мы видим на графике резкие скачки, - выбросы означающие крупные заказы."
   ]
  },
  {
   "cell_type": "markdown",
   "metadata": {},
   "source": [
    "<a id=\"step4\"></a>\n",
    "- __Построение графика кумулятивной конверсии по группам__"
   ]
  },
  {
   "cell_type": "markdown",
   "metadata": {},
   "source": [
    "Cчитаем кумулятивную конверсию."
   ]
  },
  {
   "cell_type": "code",
   "execution_count": 36,
   "metadata": {},
   "outputs": [],
   "source": [
    "cumulativeData['conversion'] = cumulativeData['orders']/cumulativeData['visitors']"
   ]
  },
  {
   "cell_type": "markdown",
   "metadata": {},
   "source": [
    "Oтделяем данные по группе A и В."
   ]
  },
  {
   "cell_type": "code",
   "execution_count": 37,
   "metadata": {},
   "outputs": [
    {
     "data": {
      "text/plain": [
       "Text(0.5, 1.0, 'График кумулятивной конверсии по группам')"
      ]
     },
     "execution_count": 37,
     "metadata": {},
     "output_type": "execute_result"
    },
    {
     "data": {
      "image/png": "[encoded data removed]",
      "text/plain": [
       "<Figure size 1224x360 with 1 Axes>"
      ]
     },
     "metadata": {
      "needs_background": "light"
     },
     "output_type": "display_data"
    }
   ],
   "source": [
    "cumulativeDataA = cumulativeData[cumulativeData['group']=='A']\n",
    "cumulativeDataB = cumulativeData[cumulativeData['group']=='B']\n",
    "plt.figure(figsize=(17,5))\n",
    "plt.plot(cumulativeDataA['date'], cumulativeDataA['conversion'], label='A')\n",
    "plt.plot(cumulativeDataB['date'], cumulativeDataB['conversion'], label='B')\n",
    "plt.grid(True)\n",
    "plt.legend()\n",
    "plt.title('График кумулятивной конверсии по группам', fontsize= 16)\n",
    "# задаем масштаб осей\n",
    "#plt.axis([\"2019-04-01\", '2019-04-23', 0, 0.015])"
   ]
  },
  {
   "cell_type": "markdown",
   "metadata": {},
   "source": [
    "После резких скачков в первой трети теста значения конверсий обеих групп стабилизировались. Более высокую конверсию мы видим в группе В."
   ]
  },
  {
   "cell_type": "markdown",
   "metadata": {},
   "source": [
    "<a id=\"step5\"></a>\n",
    "- __Построение графика относительного изменения кумулятивной конверсии группы B к группе A__"
   ]
  },
  {
   "cell_type": "code",
   "execution_count": 38,
   "metadata": {},
   "outputs": [],
   "source": [
    "mergedCumulativeConversions = cumulativeDataA[['date','conversion']]\\\n",
    ".merge(cumulativeDataB[['date','conversion']], left_on='date', right_on='date',\\\n",
    "how='left', suffixes=['A', 'B'])"
   ]
  },
  {
   "cell_type": "code",
   "execution_count": 39,
   "metadata": {},
   "outputs": [
    {
     "data": {
      "image/png": "[encoded data removed]",
      "text/plain": [
       "<Figure size 1224x288 with 1 Axes>"
      ]
     },
     "metadata": {
      "needs_background": "light"
     },
     "output_type": "display_data"
    }
   ],
   "source": [
    "plt.figure(figsize=(17,4))\n",
    "\n",
    "plt.plot(mergedCumulativeConversions['date'], mergedCumulativeConversions['conversionB']\\\n",
    "/mergedCumulativeConversions['conversionA']-1)\n",
    "plt.title('График относительного изменения кумулятивной конверсии группы B к группе A', fontsize= 16)\n",
    "plt.axhline(y=0, color='black', linestyle='--')\n",
    "plt.axhline(y=0.125, color='grey', linestyle='--')\n",
    "plt.grid(True)\n",
    "plt.show()"
   ]
  },
  {
   "cell_type": "markdown",
   "metadata": {},
   "source": [
    "Здесь мы видим, что в течении первой недели теста график относительного изменения кумулятивной конверсии группы B к группе A заметно колебался, уходил ниже ноля, затем начался рост. Значения стабилизировались на уровнне 10% - 15%."
   ]
  },
  {
   "cell_type": "markdown",
   "metadata": {},
   "source": [
    "<a id=\"step6\"></a>\n",
    "- __Tочечный график количества заказов по пользователям__"
   ]
  },
  {
   "cell_type": "code",
   "execution_count": 40,
   "metadata": {},
   "outputs": [],
   "source": [
    "ordersByUsers = orders.groupby('visitorId', as_index = False).agg({'transactionId':'nunique'}).sort_values(by='transactionId', ascending = False)"
   ]
  },
  {
   "cell_type": "code",
   "execution_count": 41,
   "metadata": {},
   "outputs": [],
   "source": [
    "ordersByUsers.columns = ['visitorId', 'orders']"
   ]
  },
  {
   "cell_type": "code",
   "execution_count": 42,
   "metadata": {},
   "outputs": [
    {
     "data": {
      "image/png": "[encoded data removed]",
      "text/plain": [
       "<Figure size 1224x288 with 1 Axes>"
      ]
     },
     "metadata": {
      "needs_background": "light"
     },
     "output_type": "display_data"
    }
   ],
   "source": [
    "x_values = pd.Series(range(0, len(ordersByUsers)))\n",
    "plt.figure(figsize=(17,4))\n",
    "plt.scatter(x_values, ordersByUsers['orders'])\n",
    "plt.grid(True)\n",
    "plt.title('Tочечный график количества заказов по пользователям', fontsize= 16)\n",
    "plt.show()"
   ]
  },
  {
   "cell_type": "markdown",
   "metadata": {},
   "source": [
    "На графике мы видим, что абсолютное большинство покупателей делают лишь разовые заказы. 2 и более заказов делаюь немногие, - посчитаем точнее."
   ]
  },
  {
   "cell_type": "markdown",
   "metadata": {},
   "source": [
    "<a id=\"step7\"></a>\n",
    "- __Рассчет 95-го и 99-го перцентияи количества заказов на пользователя__"
   ]
  },
  {
   "cell_type": "code",
   "execution_count": 43,
   "metadata": {},
   "outputs": [
    {
     "name": "stdout",
     "output_type": "stream",
     "text": [
      "[1. 2. 4.]\n"
     ]
    }
   ],
   "source": [
    "print(np.percentile(ordersByUsers['orders'], [90, 95, 99]))"
   ]
  },
  {
   "cell_type": "markdown",
   "metadata": {},
   "source": [
    "Не более 5% пользователей оформляли больше чем 2 заказа и только 1% полее 4-х. Будем считать 3 и более заказов аномалией."
   ]
  },
  {
   "cell_type": "markdown",
   "metadata": {},
   "source": [
    "<a id=\"step8\"></a>\n",
    "- __Построение точечного графика стоимостей заказов__"
   ]
  },
  {
   "cell_type": "code",
   "execution_count": 44,
   "metadata": {},
   "outputs": [
    {
     "data": {
      "image/png": "[encoded data removed]",
      "text/plain": [
       "<Figure size 1224x288 with 1 Axes>"
      ]
     },
     "metadata": {
      "needs_background": "light"
     },
     "output_type": "display_data"
    }
   ],
   "source": [
    "x_values = pd.Series(range(0,len(orders['revenue'])))\n",
    "plt.figure(figsize=(17,4))\n",
    "plt.scatter(x_values, orders['revenue'])\n",
    "plt.grid(True)\n",
    "plt.title('Tочечный график стоимостей заказов', fontsize= 16)\n",
    "plt.show()"
   ]
  },
  {
   "cell_type": "markdown",
   "metadata": {},
   "source": [
    "Данный график показывает, что стоимость почти всех заказов лежит в диапазоне до 5000, однако нужно найти болле точные значения."
   ]
  },
  {
   "cell_type": "markdown",
   "metadata": {},
   "source": [
    "<a id=\"step9\"></a>\n",
    "- __Расчет 95-го и 99-го перцентиля стоимости заказов__"
   ]
  },
  {
   "cell_type": "code",
   "execution_count": 45,
   "metadata": {},
   "outputs": [
    {
     "name": "stdout",
     "output_type": "stream",
     "text": [
      "[18168.  28000.  58233.2]\n"
     ]
    }
   ],
   "source": [
    "print(np.percentile(orders['revenue'], [90, 95, 99]))"
   ]
  },
  {
   "cell_type": "markdown",
   "metadata": {},
   "source": [
    "Только 5% клиентов совершают покупки дороже 28000, примем значения выше этого за выбросы."
   ]
  },
  {
   "cell_type": "markdown",
   "metadata": {},
   "source": [
    "<a id=\"step10\"></a>\n",
    "- __Расчет статистической значимости различий в конверсии между группами по «сырым» данным__"
   ]
  },
  {
   "cell_type": "markdown",
   "metadata": {},
   "source": [
    "Подготовим данные."
   ]
  },
  {
   "cell_type": "markdown",
   "metadata": {},
   "source": [
    "Найдем количество пользователей в день в группе А"
   ]
  },
  {
   "cell_type": "code",
   "execution_count": 46,
   "metadata": {},
   "outputs": [],
   "source": [
    "visitorsADaily = visitors[visitors['group']=='A'][['date', 'visitors']]"
   ]
  },
  {
   "cell_type": "code",
   "execution_count": 47,
   "metadata": {},
   "outputs": [],
   "source": [
    "visitorsADaily.columns = ['date', 'visitorsPerDateA']"
   ]
  },
  {
   "cell_type": "markdown",
   "metadata": {},
   "source": [
    "Определим накопительное количество пользователей в день в группе А."
   ]
  },
  {
   "cell_type": "code",
   "execution_count": 48,
   "metadata": {},
   "outputs": [],
   "source": [
    "visitorsACummulative = visitorsADaily.apply(lambda x: visitorsADaily[visitorsADaily['date'] <= x['date']]\n",
    "             .agg({'date' : 'max', 'visitorsPerDateA' : 'sum'}), axis=1)"
   ]
  },
  {
   "cell_type": "code",
   "execution_count": 49,
   "metadata": {},
   "outputs": [],
   "source": [
    "visitorsACummulative.columns = ['date', 'visitorsCummulativeA']"
   ]
  },
  {
   "cell_type": "markdown",
   "metadata": {},
   "source": [
    "Найдем количество пользователей в день в группе В."
   ]
  },
  {
   "cell_type": "code",
   "execution_count": 50,
   "metadata": {},
   "outputs": [],
   "source": [
    "visitorsBDaily = visitors[visitors['group']=='B'][['date', 'visitors']]"
   ]
  },
  {
   "cell_type": "code",
   "execution_count": 51,
   "metadata": {},
   "outputs": [],
   "source": [
    "visitorsBDaily.columns = ['date', 'visitorsPerDateB']"
   ]
  },
  {
   "cell_type": "markdown",
   "metadata": {},
   "source": [
    "Накопительное количество пользователей в день в группе В."
   ]
  },
  {
   "cell_type": "code",
   "execution_count": 52,
   "metadata": {},
   "outputs": [],
   "source": [
    "visitorsBCummulative = visitorsBDaily.apply(lambda x: visitorsBDaily[visitorsBDaily['date'] <= x['date']]\n",
    "              .agg({'date' : 'max', 'visitorsPerDateB' : 'sum'}), axis=1)\n",
    "visitorsBCummulative.columns = ['date', 'visitorsCummulativeB']"
   ]
  },
  {
   "cell_type": "markdown",
   "metadata": {},
   "source": [
    "Рассчитаем количество заказов и суммарную выручку в день по группе А"
   ]
  },
  {
   "cell_type": "code",
   "execution_count": 53,
   "metadata": {},
   "outputs": [],
   "source": [
    "ordersADaily = (orders[orders['group']=='A'][['date', 'transactionId', 'visitorId', 'revenue']]\n",
    ".groupby('date', as_index=False).agg({'transactionId' : pd.Series.nunique,'revenue' : 'sum'}))\n",
    "ordersADaily.columns = ['date', 'ordersPerDateA', 'revenuePerDateA']"
   ]
  },
  {
   "cell_type": "markdown",
   "metadata": {},
   "source": [
    "Определим накопительное количество заказов и суммарную выручку в день по группе А."
   ]
  },
  {
   "cell_type": "code",
   "execution_count": 54,
   "metadata": {},
   "outputs": [],
   "source": [
    "ordersACummulative = ordersADaily.apply(lambda x: ordersADaily[ordersADaily['date'] <= x['date']]\n",
    ".agg({'date' : 'max', 'ordersPerDateA' : 'sum', 'revenuePerDateA' : 'sum'}), axis=1).sort_values(by=['date'])\n",
    "ordersACummulative.columns = ['date', 'ordersCummulativeA', 'revenueCummulativeA']"
   ]
  },
  {
   "cell_type": "markdown",
   "metadata": {},
   "source": [
    "Найдем количество заказов и суммарную выручку в день по группе В."
   ]
  },
  {
   "cell_type": "code",
   "execution_count": 55,
   "metadata": {},
   "outputs": [],
   "source": [
    "ordersBDaily = (orders[orders['group']=='B'][['date', 'transactionId', 'visitorId', 'revenue']]\n",
    ".groupby('date', as_index=False).agg({'transactionId' : pd.Series.nunique, 'revenue' : 'sum'}))\n",
    "# соответствующие столбцы\n",
    "ordersBDaily.columns = ['date', 'ordersPerDateB', 'revenuePerDateB']"
   ]
  },
  {
   "cell_type": "markdown",
   "metadata": {},
   "source": [
    "Определим накопительное количество заказов и суммарную выручку в день по группе В."
   ]
  },
  {
   "cell_type": "code",
   "execution_count": 56,
   "metadata": {},
   "outputs": [],
   "source": [
    "ordersBCummulative = ordersBDaily.apply(lambda x: ordersBDaily[ordersBDaily['date'] <= x['date']]\n",
    ".agg({'date' : 'max','ordersPerDateB' : 'sum','revenuePerDateB' : 'sum'}), axis=1).sort_values(by=['date'])\n",
    "ordersBCummulative.columns = ['date', 'ordersCummulativeB', 'revenueCummulativeB']"
   ]
  },
  {
   "cell_type": "markdown",
   "metadata": {},
   "source": [
    "Объеденим полученные таблицы."
   ]
  },
  {
   "cell_type": "code",
   "execution_count": 57,
   "metadata": {},
   "outputs": [
    {
     "data": {
      "text/html": [
       "<div>\n",
       "<style scoped>\n",
       "    .dataframe tbody tr th:only-of-type {\n",
       "        vertical-align: middle;\n",
       "    }\n",
       "\n",
       "    .dataframe tbody tr th {\n",
       "        vertical-align: top;\n",
       "    }\n",
       "\n",
       "    .dataframe thead th {\n",
       "        text-align: right;\n",
       "    }\n",
       "</style>\n",
       "<table border=\"1\" class=\"dataframe\">\n",
       "  <thead>\n",
       "    <tr style=\"text-align: right;\">\n",
       "      <th></th>\n",
       "      <th>date</th>\n",
       "      <th>ordersPerDateA</th>\n",
       "      <th>revenuePerDateA</th>\n",
       "      <th>ordersPerDateB</th>\n",
       "      <th>revenuePerDateB</th>\n",
       "      <th>ordersCummulativeA</th>\n",
       "      <th>revenueCummulativeA</th>\n",
       "      <th>ordersCummulativeB</th>\n",
       "      <th>revenueCummulativeB</th>\n",
       "      <th>visitorsPerDateA</th>\n",
       "      <th>visitorsPerDateB</th>\n",
       "      <th>visitorsCummulativeA</th>\n",
       "      <th>visitorsCummulativeB</th>\n",
       "    </tr>\n",
       "  </thead>\n",
       "  <tbody>\n",
       "    <tr>\n",
       "      <td>0</td>\n",
       "      <td>2019-08-01</td>\n",
       "      <td>24</td>\n",
       "      <td>148579</td>\n",
       "      <td>21</td>\n",
       "      <td>101217</td>\n",
       "      <td>24</td>\n",
       "      <td>148579</td>\n",
       "      <td>21</td>\n",
       "      <td>101217</td>\n",
       "      <td>719</td>\n",
       "      <td>713</td>\n",
       "      <td>719</td>\n",
       "      <td>713</td>\n",
       "    </tr>\n",
       "    <tr>\n",
       "      <td>1</td>\n",
       "      <td>2019-08-02</td>\n",
       "      <td>20</td>\n",
       "      <td>93822</td>\n",
       "      <td>24</td>\n",
       "      <td>165531</td>\n",
       "      <td>44</td>\n",
       "      <td>242401</td>\n",
       "      <td>45</td>\n",
       "      <td>266748</td>\n",
       "      <td>619</td>\n",
       "      <td>581</td>\n",
       "      <td>1338</td>\n",
       "      <td>1294</td>\n",
       "    </tr>\n",
       "    <tr>\n",
       "      <td>2</td>\n",
       "      <td>2019-08-03</td>\n",
       "      <td>24</td>\n",
       "      <td>112473</td>\n",
       "      <td>16</td>\n",
       "      <td>114248</td>\n",
       "      <td>68</td>\n",
       "      <td>354874</td>\n",
       "      <td>61</td>\n",
       "      <td>380996</td>\n",
       "      <td>507</td>\n",
       "      <td>509</td>\n",
       "      <td>1845</td>\n",
       "      <td>1803</td>\n",
       "    </tr>\n",
       "    <tr>\n",
       "      <td>3</td>\n",
       "      <td>2019-08-04</td>\n",
       "      <td>16</td>\n",
       "      <td>70825</td>\n",
       "      <td>17</td>\n",
       "      <td>108571</td>\n",
       "      <td>84</td>\n",
       "      <td>425699</td>\n",
       "      <td>78</td>\n",
       "      <td>489567</td>\n",
       "      <td>717</td>\n",
       "      <td>770</td>\n",
       "      <td>2562</td>\n",
       "      <td>2573</td>\n",
       "    </tr>\n",
       "    <tr>\n",
       "      <td>4</td>\n",
       "      <td>2019-08-05</td>\n",
       "      <td>25</td>\n",
       "      <td>124218</td>\n",
       "      <td>23</td>\n",
       "      <td>92428</td>\n",
       "      <td>109</td>\n",
       "      <td>549917</td>\n",
       "      <td>101</td>\n",
       "      <td>581995</td>\n",
       "      <td>756</td>\n",
       "      <td>707</td>\n",
       "      <td>3318</td>\n",
       "      <td>3280</td>\n",
       "    </tr>\n",
       "  </tbody>\n",
       "</table>\n",
       "</div>"
      ],
      "text/plain": [
       "        date  ordersPerDateA  revenuePerDateA  ordersPerDateB  revenuePerDateB  ordersCummulativeA  revenueCummulativeA  ordersCummulativeB  revenueCummulativeB  visitorsPerDateA  visitorsPerDateB  visitorsCummulativeA  visitorsCummulativeB\n",
       "0 2019-08-01              24           148579              21           101217                  24               148579                  21               101217               719               713                   719                   713\n",
       "1 2019-08-02              20            93822              24           165531                  44               242401                  45               266748               619               581                  1338                  1294\n",
       "2 2019-08-03              24           112473              16           114248                  68               354874                  61               380996               507               509                  1845                  1803\n",
       "3 2019-08-04              16            70825              17           108571                  84               425699                  78               489567               717               770                  2562                  2573\n",
       "4 2019-08-05              25           124218              23            92428                 109               549917                 101               581995               756               707                  3318                  3280"
      ]
     },
     "execution_count": 57,
     "metadata": {},
     "output_type": "execute_result"
    }
   ],
   "source": [
    "data = ordersADaily.merge(ordersBDaily, left_on='date', right_on='date', how='left')\\\n",
    "    .merge(ordersACummulative, left_on='date', right_on='date', how='left')\\\n",
    "    .merge(ordersBCummulative, left_on='date', right_on='date', how='left')\\\n",
    "    .merge(visitorsADaily, left_on='date', right_on='date', how='left')\\\n",
    "    .merge(visitorsBDaily, left_on='date', right_on='date', how='left')\\\n",
    "    .merge(visitorsACummulative, left_on='date', right_on='date', how='left')\\\n",
    "    .merge(visitorsBCummulative, left_on='date', right_on='date', how='left')\n",
    "\n",
    "data.head(5)"
   ]
  },
  {
   "cell_type": "markdown",
   "metadata": {},
   "source": [
    "Создадим переменные ordersByUsersA и ordersByUsersB со столбцами 'visitorId', 'transactionId'. В них для пользователей, которые заказывали хотя бы 1 раз, укажем число совершённых заказов"
   ]
  },
  {
   "cell_type": "code",
   "execution_count": 58,
   "metadata": {},
   "outputs": [],
   "source": [
    "ordersByUsersA = orders[orders['group']=='A'] \\\n",
    "                        .groupby('visitorId', as_index=False) \\\n",
    "                        .agg({'transactionId' : pd.Series.nunique})\n",
    "ordersByUsersA.columns = ['visitorId', 'transactionId']"
   ]
  },
  {
   "cell_type": "code",
   "execution_count": 59,
   "metadata": {},
   "outputs": [],
   "source": [
    "ordersByUsersB = orders[orders['group']=='B'] \\\n",
    "                          .groupby('visitorId', as_index=False) \\\n",
    "                          .agg({'transactionId' : pd.Series.nunique})\n",
    "ordersByUsersB.columns = ['visitorId', 'transactionId']"
   ]
  },
  {
   "cell_type": "markdown",
   "metadata": {},
   "source": [
    "Объявим переменные _sampleA_ и _sampleB_, в которых пользователям из разных групп будет соответствовать количество заказов. Тем, кто ничего не заказал, будут соответствовать нули. Это нужно, чтобы подготовить выборки к проверке критерием Манна-Уитни."
   ]
  },
  {
   "cell_type": "code",
   "execution_count": 60,
   "metadata": {},
   "outputs": [],
   "source": [
    "sampleA = pd.concat([ordersByUsersA['transactionId'],pd.Series(0, index=np.arange(data['visitorsPerDateA']\\\n",
    ".sum() - len(ordersByUsersA['transactionId'])), name='transactionId')],axis=0)"
   ]
  },
  {
   "cell_type": "code",
   "execution_count": 61,
   "metadata": {},
   "outputs": [],
   "source": [
    "sampleB = pd.concat([ordersByUsersB['transactionId'],pd.Series(0, index=np.arange(data['visitorsPerDateB']\\\n",
    ".sum() - len(ordersByUsersB['transactionId'])), name='transactionId')],axis=0)"
   ]
  },
  {
   "cell_type": "markdown",
   "metadata": {},
   "source": [
    "Принимаем в качестве нулевой гипотезы \"конверсии по группами А и В не различаются\", иначе говоря \"конверсии равны\", что соответсвует правилу: \"нулевую гипотезу нужнно формулировать так, чтобы можно было использовать знак равенства\". Альтернативная гипотеза - \"конверсии по группами А и В различаются\"."
   ]
  },
  {
   "cell_type": "markdown",
   "metadata": {},
   "source": [
    "Определим статистическую значимость различий в конверсии между группами по «сырым» данным."
   ]
  },
  {
   "cell_type": "code",
   "execution_count": 62,
   "metadata": {},
   "outputs": [
    {
     "name": "stdout",
     "output_type": "stream",
     "text": [
      "0.008\n"
     ]
    }
   ],
   "source": [
    "print(\"{0:.3f}\".format(stats.mannwhitneyu(sampleA, sampleB)[1]))"
   ]
  },
  {
   "cell_type": "markdown",
   "metadata": {},
   "source": [
    "P-value ниже 0,05, - отвергаем гипотезу о равенстве конверсий групп А и В"
   ]
  },
  {
   "cell_type": "markdown",
   "metadata": {},
   "source": [
    "Найдем относительный прирост конверсии группы B:"
   ]
  },
  {
   "cell_type": "code",
   "execution_count": 63,
   "metadata": {},
   "outputs": [
    {
     "name": "stdout",
     "output_type": "stream",
     "text": [
      "0.138\n"
     ]
    }
   ],
   "source": [
    "print(\"{0:.3f}\".format(sampleB.mean()/sampleA.mean()-1))"
   ]
  },
  {
   "cell_type": "markdown",
   "metadata": {},
   "source": [
    "Относительный прирост конверсии группы В над конверсией группы А составил 13,8%"
   ]
  },
  {
   "cell_type": "markdown",
   "metadata": {},
   "source": [
    "<a id=\"step11\"></a>\n",
    "- __Определение статистической значимости различий в среднем чеке заказа между группами по «сырым» данным__"
   ]
  },
  {
   "cell_type": "markdown",
   "metadata": {},
   "source": [
    "В качестве нулевой гипотезы принимаем утверждение \"средние чеки погруппам А и В равны\" (используем знак равенства в нулевой гипотезе). Альтернативная - \"средние чеки групп А и В различны\"."
   ]
  },
  {
   "cell_type": "code",
   "execution_count": 64,
   "metadata": {},
   "outputs": [
    {
     "name": "stdout",
     "output_type": "stream",
     "text": [
      "0.365\n"
     ]
    }
   ],
   "source": [
    "print(\"{0:.3f}\".format(stats.mannwhitneyu(orders[orders['group']=='A']['revenue'], orders[orders['group']=='B']['revenue'])[1]))"
   ]
  },
  {
   "cell_type": "markdown",
   "metadata": {},
   "source": [
    "P-value значительно выше критерия статистической значимости (0,05), следовательно у нас нет оснований отвергнуть гипотезу о равенстве средних чеков по группам."
   ]
  },
  {
   "cell_type": "code",
   "execution_count": 65,
   "metadata": {},
   "outputs": [
    {
     "name": "stdout",
     "output_type": "stream",
     "text": [
      "0.259\n"
     ]
    }
   ],
   "source": [
    "print(\"{0:.3f}\".format(orders[orders['group']=='B']['revenue']\\\n",
    "                       .mean()/orders[orders['group']=='A']['revenue'].mean()-1))"
   ]
  },
  {
   "cell_type": "markdown",
   "metadata": {},
   "source": [
    "Относительные различия в среднем чеке между группами В и А - 25,9%"
   ]
  },
  {
   "cell_type": "markdown",
   "metadata": {},
   "source": [
    "<a id=\"step12\"></a>\n",
    "- __Рассчет статистической значимости различий в конверсии между группами по «очищенным» данным__"
   ]
  },
  {
   "cell_type": "markdown",
   "metadata": {},
   "source": [
    "Cоздадим список аномалий."
   ]
  },
  {
   "cell_type": "code",
   "execution_count": 66,
   "metadata": {},
   "outputs": [],
   "source": [
    "usersWithManyOrders = pd.concat([ordersByUsersA[ordersByUsersA['transactionId'] > 2]['visitorId'], \n",
    "ordersByUsersB[ordersByUsersB['transactionId'] > 2]['visitorId']], axis = 0)"
   ]
  },
  {
   "cell_type": "code",
   "execution_count": 67,
   "metadata": {},
   "outputs": [],
   "source": [
    "usersWithExpensiveOrders = orders[orders['revenue'] > 28000]['visitorId']"
   ]
  },
  {
   "cell_type": "code",
   "execution_count": 68,
   "metadata": {},
   "outputs": [
    {
     "data": {
      "text/plain": [
       "1099    148427295\n",
       "18      199603092\n",
       "928     204675465\n",
       "23      237748145\n",
       "37      249864742\n",
       "Name: visitorId, dtype: int64"
      ]
     },
     "execution_count": 68,
     "metadata": {},
     "output_type": "execute_result"
    }
   ],
   "source": [
    "abnormalUsers = pd.concat([usersWithManyOrders, usersWithExpensiveOrders], \n",
    "                          axis = 0).drop_duplicates().sort_values()\n",
    "abnormalUsers.head(5)"
   ]
  },
  {
   "cell_type": "markdown",
   "metadata": {},
   "source": [
    "Создадим переменные по «очищенным» данным."
   ]
  },
  {
   "cell_type": "code",
   "execution_count": 69,
   "metadata": {},
   "outputs": [],
   "source": [
    "sampleAFiltered = pd.concat([ordersByUsersA[np.logical_not(ordersByUsersA['visitorId'].\\\n",
    "isin(abnormalUsers))]['transactionId'], pd.Series(0, index=np.arange(data['visitorsPerDateA'] \\\n",
    "         .sum() - len(ordersByUsersA['transactionId'])), name='transactionId')], axis=0)"
   ]
  },
  {
   "cell_type": "code",
   "execution_count": 70,
   "metadata": {},
   "outputs": [],
   "source": [
    "sampleBFiltered = pd.concat([ordersByUsersB[np.logical_not(ordersByUsersB['visitorId'] \\\n",
    ".isin(abnormalUsers))]['transactionId'], pd.Series(0, index=np.arange(data['visitorsPerDateB'] \\\n",
    "        .sum() - len(ordersByUsersB['transactionId'])), name='transactionId')], axis=0)"
   ]
  },
  {
   "cell_type": "markdown",
   "metadata": {},
   "source": [
    "Как и в случае с «сырыми» данными примем за нулевую гипотезу \"конверсии по группами А и В равны\", за альтернативную - \"конверсии не равны\"."
   ]
  },
  {
   "cell_type": "markdown",
   "metadata": {},
   "source": [
    "Применим статистический критерий Манна-Уитни к полученным выборкам:"
   ]
  },
  {
   "cell_type": "code",
   "execution_count": 71,
   "metadata": {},
   "outputs": [
    {
     "name": "stdout",
     "output_type": "stream",
     "text": [
      "0.007\n",
      "0.173\n"
     ]
    }
   ],
   "source": [
    "print(\"{0:.3f}\".format(stats.mannwhitneyu(sampleAFiltered, sampleBFiltered)[1]))\n",
    "print(\"{0:.3f}\".format(sampleBFiltered.mean()/sampleAFiltered.mean()-1)) "
   ]
  },
  {
   "cell_type": "markdown",
   "metadata": {},
   "source": [
    "Р-value меньше 0,05, значит, как и в случае с сырыми данными мы отвергаем гипотезу о равенстве конверсий групп А и В. Относительные различия в конверсии между группами В и А по «очищенным» данным составили 17,3%."
   ]
  },
  {
   "cell_type": "markdown",
   "metadata": {},
   "source": [
    "<a id=\"step13\"></a>\n",
    "- __Рассчет статистической значимости различий в среднем чеке заказа между группами по «очищенным» данным__"
   ]
  },
  {
   "cell_type": "markdown",
   "metadata": {},
   "source": [
    "Принимаем нулевую гипотезу - \"средние чеки заказов в группах А и В равны\", альтернативную - \"средние чеки по группам отличаются\"."
   ]
  },
  {
   "cell_type": "code",
   "execution_count": 72,
   "metadata": {},
   "outputs": [
    {
     "name": "stdout",
     "output_type": "stream",
     "text": [
      "0.369\n"
     ]
    }
   ],
   "source": [
    "print(\"{0:.3f}\".format(stats.mannwhitneyu(orders[np.logical_and(orders['group']=='A',\\\n",
    "np.logical_not(orders['visitorId'].isin(abnormalUsers)))]['revenue'],\\\n",
    "orders[np.logical_and(orders['group']=='B',\n",
    "np.logical_not(orders['visitorId'].isin(abnormalUsers)))]['revenue'])[1]))\n",
    " "
   ]
  },
  {
   "cell_type": "markdown",
   "metadata": {},
   "source": [
    "Р-value выше критерия статистической значимости (0,05), а значит, как и в случае с «неочищенным» данным мы не можем делать вывод о значимом различии между средними чеками."
   ]
  },
  {
   "cell_type": "code",
   "execution_count": 73,
   "metadata": {},
   "outputs": [
    {
     "name": "stdout",
     "output_type": "stream",
     "text": [
      "-1.96%\n"
     ]
    }
   ],
   "source": [
    "print('{0:.2%}'.format(orders[np.logical_and(orders['group']=='B', \n",
    "np.logical_not(orders['visitorId'].isin(abnormalUsers)))]['revenue'].mean()/\n",
    "                                orders[np.logical_and(orders['group']=='A',\n",
    "        np.logical_not(orders['visitorId'].isin(abnormalUsers)))]['revenue'].mean() - 1))"
   ]
  },
  {
   "cell_type": "markdown",
   "metadata": {},
   "source": [
    "Относительные различия в среднем чеке между группами по \"очищенным\" данным существенно изменились: показатель для группы В оказался ниже показателя группы А на 1,96%"
   ]
  },
  {
   "cell_type": "markdown",
   "metadata": {},
   "source": [
    "<a id=\"step14\"></a>\n",
    "- __Pешение по результатам теста__"
   ]
  },
  {
   "cell_type": "markdown",
   "metadata": {},
   "source": [
    "**Рассчет статистической значимости различий в конверсии по «сырым» и «очищенным» данным позволяет утверждать что между граппами А и В существуют различия , кроме того группа В показывает относительный рост конверсии к А. Однако, рассчет статистической значимости различий в среднем чеке заказа между группами  и по «сырым» и по «очищенным» данным не дал возможности утверждать, что между ними есть разница. Относительные различия в среднем чеке между группами В и А до «очистки» данных показывали 25,9%, а после, наоборот, средний чек в А оказался выше В на 1,96%. Т.е. на значения по средним чекам сильно повлияли выбросы, кроме того с высокой вероятностью результат мог оказаться случайным. Тем не менее мы можем принять решение \"1. Остановить тест, зафиксировать победу группы В.\" Не смотря на то, что средний чек не был увеличен, было убедительно продемонстрировано увеличение конверсии в группе В по отношению к группе А, это должно повлечь и увеличение выручки.**"
   ]
  }
 ],
 "metadata": {
  "ExecuteTimeLog": [
   {
    "duration": 488,
    "start_time": "2021-07-06T11:41:15.903Z"
   },
   {
    "duration": 1194,
    "start_time": "2021-07-06T11:41:26.538Z"
   },
   {
    "duration": 17,
    "start_time": "2021-07-06T11:41:27.734Z"
   },
   {
    "duration": 14,
    "start_time": "2021-07-06T11:41:27.754Z"
   },
   {
    "duration": 7,
    "start_time": "2021-07-06T11:41:27.770Z"
   },
   {
    "duration": 37,
    "start_time": "2021-07-06T11:41:27.779Z"
   },
   {
    "duration": 9,
    "start_time": "2021-07-06T11:41:27.818Z"
   },
   {
    "duration": 10,
    "start_time": "2021-07-06T11:41:27.828Z"
   },
   {
    "duration": 19,
    "start_time": "2021-07-06T11:41:27.840Z"
   },
   {
    "duration": 10,
    "start_time": "2021-07-06T11:41:27.860Z"
   },
   {
    "duration": 9,
    "start_time": "2021-07-06T11:41:27.872Z"
   },
   {
    "duration": 9,
    "start_time": "2021-07-06T11:41:27.882Z"
   },
   {
    "duration": 11,
    "start_time": "2021-07-06T11:41:27.892Z"
   },
   {
    "duration": 12,
    "start_time": "2021-07-06T11:41:27.904Z"
   },
   {
    "duration": 8,
    "start_time": "2021-07-06T11:41:27.918Z"
   },
   {
    "duration": 19,
    "start_time": "2021-07-06T11:41:27.927Z"
   },
   {
    "duration": 8,
    "start_time": "2021-07-06T11:41:27.948Z"
   },
   {
    "duration": 13,
    "start_time": "2021-07-06T11:41:27.957Z"
   },
   {
    "duration": 12,
    "start_time": "2021-07-06T11:41:27.971Z"
   },
   {
    "duration": 19,
    "start_time": "2021-07-06T11:41:27.984Z"
   },
   {
    "duration": 16,
    "start_time": "2021-07-06T11:41:28.004Z"
   },
   {
    "duration": 16,
    "start_time": "2021-07-06T11:41:28.022Z"
   },
   {
    "duration": 17,
    "start_time": "2021-07-06T11:41:28.040Z"
   },
   {
    "duration": 13,
    "start_time": "2021-07-06T11:41:28.060Z"
   },
   {
    "duration": 11,
    "start_time": "2021-07-06T11:41:28.075Z"
   },
   {
    "duration": 185,
    "start_time": "2021-07-06T11:41:28.088Z"
   },
   {
    "duration": 3,
    "start_time": "2021-07-06T11:41:28.274Z"
   },
   {
    "duration": 144,
    "start_time": "2021-07-06T11:41:28.278Z"
   },
   {
    "duration": 5,
    "start_time": "2021-07-06T11:41:28.424Z"
   },
   {
    "duration": 12,
    "start_time": "2021-07-06T11:41:28.431Z"
   },
   {
    "duration": 7,
    "start_time": "2021-07-06T11:41:28.445Z"
   },
   {
    "duration": 7,
    "start_time": "2021-07-06T11:41:28.454Z"
   },
   {
    "duration": 298,
    "start_time": "2021-07-06T11:41:28.463Z"
   },
   {
    "duration": 280,
    "start_time": "2021-07-06T11:41:28.762Z"
   },
   {
    "duration": 6,
    "start_time": "2021-07-06T11:41:29.044Z"
   },
   {
    "duration": 366,
    "start_time": "2021-07-06T11:41:29.051Z"
   },
   {
    "duration": 3,
    "start_time": "2021-07-06T11:41:29.419Z"
   },
   {
    "duration": 267,
    "start_time": "2021-07-06T11:41:29.424Z"
   },
   {
    "duration": 9,
    "start_time": "2021-07-06T11:41:29.693Z"
   },
   {
    "duration": 334,
    "start_time": "2021-07-06T11:41:29.704Z"
   },
   {
    "duration": 7,
    "start_time": "2021-07-06T11:41:30.039Z"
   },
   {
    "duration": 6,
    "start_time": "2021-07-06T11:41:30.048Z"
   },
   {
    "duration": 330,
    "start_time": "2021-07-06T11:41:30.055Z"
   },
   {
    "duration": 4,
    "start_time": "2021-07-06T11:41:30.391Z"
   },
   {
    "duration": 423,
    "start_time": "2021-07-06T11:41:30.397Z"
   },
   {
    "duration": 4,
    "start_time": "2021-07-06T11:41:30.821Z"
   },
   {
    "duration": 31,
    "start_time": "2021-07-06T11:41:30.827Z"
   },
   {
    "duration": 10,
    "start_time": "2021-07-06T11:41:30.859Z"
   },
   {
    "duration": 60,
    "start_time": "2021-07-06T11:41:30.871Z"
   },
   {
    "duration": 16,
    "start_time": "2021-07-06T11:41:30.933Z"
   },
   {
    "duration": 14,
    "start_time": "2021-07-06T11:41:30.951Z"
   },
   {
    "duration": 14,
    "start_time": "2021-07-06T11:41:30.966Z"
   },
   {
    "duration": 59,
    "start_time": "2021-07-06T11:41:30.982Z"
   },
   {
    "duration": 37,
    "start_time": "2021-07-06T11:41:31.043Z"
   },
   {
    "duration": 55,
    "start_time": "2021-07-06T11:41:31.082Z"
   },
   {
    "duration": 26,
    "start_time": "2021-07-06T11:41:31.138Z"
   },
   {
    "duration": 61,
    "start_time": "2021-07-06T11:41:31.165Z"
   },
   {
    "duration": 39,
    "start_time": "2021-07-06T11:41:31.227Z"
   },
   {
    "duration": 47,
    "start_time": "2021-07-06T11:41:31.267Z"
   },
   {
    "duration": 55,
    "start_time": "2021-07-06T11:41:31.316Z"
   },
   {
    "duration": 20,
    "start_time": "2021-07-06T11:41:31.373Z"
   },
   {
    "duration": 9,
    "start_time": "2021-07-06T11:41:31.395Z"
   },
   {
    "duration": 13,
    "start_time": "2021-07-06T11:41:31.405Z"
   },
   {
    "duration": 16,
    "start_time": "2021-07-06T11:41:31.420Z"
   },
   {
    "duration": 15,
    "start_time": "2021-07-06T11:41:31.437Z"
   },
   {
    "duration": 11,
    "start_time": "2021-07-06T11:41:31.454Z"
   },
   {
    "duration": 16,
    "start_time": "2021-07-06T11:41:31.466Z"
   },
   {
    "duration": 11,
    "start_time": "2021-07-06T11:41:31.484Z"
   },
   {
    "duration": 9,
    "start_time": "2021-07-06T11:41:31.500Z"
   },
   {
    "duration": 10,
    "start_time": "2021-07-06T11:41:31.511Z"
   },
   {
    "duration": 9,
    "start_time": "2021-07-06T11:41:31.523Z"
   },
   {
    "duration": 17,
    "start_time": "2021-07-06T11:41:31.534Z"
   },
   {
    "duration": 12,
    "start_time": "2021-07-06T11:41:31.552Z"
   },
   {
    "duration": 12,
    "start_time": "2021-07-06T11:41:31.565Z"
   },
   {
    "duration": 5,
    "start_time": "2021-07-06T11:43:59.599Z"
   },
   {
    "duration": 9,
    "start_time": "2021-07-06T11:50:25.311Z"
   },
   {
    "duration": 4,
    "start_time": "2021-07-06T11:50:31.180Z"
   },
   {
    "duration": 8,
    "start_time": "2021-07-06T12:06:26.922Z"
   },
   {
    "duration": 4,
    "start_time": "2021-07-06T12:06:45.151Z"
   },
   {
    "duration": 8,
    "start_time": "2021-07-06T12:07:03.719Z"
   },
   {
    "duration": 4,
    "start_time": "2021-07-06T12:07:06.369Z"
   },
   {
    "duration": 227,
    "start_time": "2021-07-06T12:13:07.077Z"
   },
   {
    "duration": 251,
    "start_time": "2021-07-06T12:13:19.925Z"
   },
   {
    "duration": 253,
    "start_time": "2021-07-06T12:13:34.679Z"
   },
   {
    "duration": 4,
    "start_time": "2021-07-06T14:08:28.905Z"
   },
   {
    "duration": 84,
    "start_time": "2021-07-06T14:10:58.685Z"
   },
   {
    "duration": 11,
    "start_time": "2021-07-06T14:11:13.693Z"
   },
   {
    "duration": 6,
    "start_time": "2021-07-06T14:11:29.346Z"
   },
   {
    "duration": 1024,
    "start_time": "2021-07-06T14:11:45.397Z"
   },
   {
    "duration": 17,
    "start_time": "2021-07-06T14:11:46.422Z"
   },
   {
    "duration": 19,
    "start_time": "2021-07-06T14:11:46.440Z"
   },
   {
    "duration": 9,
    "start_time": "2021-07-06T14:11:46.460Z"
   },
   {
    "duration": 40,
    "start_time": "2021-07-06T14:11:46.470Z"
   },
   {
    "duration": 9,
    "start_time": "2021-07-06T14:11:46.511Z"
   },
   {
    "duration": 10,
    "start_time": "2021-07-06T14:11:46.521Z"
   },
   {
    "duration": 19,
    "start_time": "2021-07-06T14:11:46.532Z"
   },
   {
    "duration": 13,
    "start_time": "2021-07-06T14:11:46.553Z"
   },
   {
    "duration": 20,
    "start_time": "2021-07-06T14:11:46.568Z"
   },
   {
    "duration": 8,
    "start_time": "2021-07-06T14:11:46.590Z"
   },
   {
    "duration": 11,
    "start_time": "2021-07-06T14:11:46.599Z"
   },
   {
    "duration": 14,
    "start_time": "2021-07-06T14:11:46.612Z"
   },
   {
    "duration": 11,
    "start_time": "2021-07-06T14:11:46.628Z"
   },
   {
    "duration": 42,
    "start_time": "2021-07-06T14:11:46.641Z"
   },
   {
    "duration": 6,
    "start_time": "2021-07-06T14:11:46.684Z"
   },
   {
    "duration": 11,
    "start_time": "2021-07-06T14:11:46.691Z"
   },
   {
    "duration": 15,
    "start_time": "2021-07-06T14:11:46.703Z"
   },
   {
    "duration": 16,
    "start_time": "2021-07-06T14:11:46.719Z"
   },
   {
    "duration": 9,
    "start_time": "2021-07-06T14:11:46.737Z"
   },
   {
    "duration": 17,
    "start_time": "2021-07-06T14:11:46.747Z"
   },
   {
    "duration": 11,
    "start_time": "2021-07-06T14:11:46.766Z"
   },
   {
    "duration": 17,
    "start_time": "2021-07-06T14:11:46.779Z"
   },
   {
    "duration": 16,
    "start_time": "2021-07-06T14:11:46.797Z"
   },
   {
    "duration": 8,
    "start_time": "2021-07-06T14:11:46.815Z"
   },
   {
    "duration": 9,
    "start_time": "2021-07-06T14:11:46.825Z"
   },
   {
    "duration": 184,
    "start_time": "2021-07-06T14:11:46.838Z"
   },
   {
    "duration": 3,
    "start_time": "2021-07-06T14:11:47.024Z"
   },
   {
    "duration": 135,
    "start_time": "2021-07-06T14:11:47.028Z"
   },
   {
    "duration": 6,
    "start_time": "2021-07-06T14:11:47.165Z"
   },
   {
    "duration": 25,
    "start_time": "2021-07-06T14:11:47.172Z"
   },
   {
    "duration": 8,
    "start_time": "2021-07-06T14:11:47.198Z"
   },
   {
    "duration": 22,
    "start_time": "2021-07-06T14:11:47.208Z"
   },
   {
    "duration": 277,
    "start_time": "2021-07-06T14:11:47.231Z"
   },
   {
    "duration": 275,
    "start_time": "2021-07-06T14:11:47.510Z"
   },
   {
    "duration": 7,
    "start_time": "2021-07-06T14:11:47.786Z"
   },
   {
    "duration": 373,
    "start_time": "2021-07-06T14:11:47.795Z"
   },
   {
    "duration": 4,
    "start_time": "2021-07-06T14:11:48.169Z"
   },
   {
    "duration": 305,
    "start_time": "2021-07-06T14:11:48.174Z"
   },
   {
    "duration": 7,
    "start_time": "2021-07-06T14:11:48.480Z"
   },
   {
    "duration": 364,
    "start_time": "2021-07-06T14:11:48.489Z"
   },
   {
    "duration": 6,
    "start_time": "2021-07-06T14:11:48.854Z"
   },
   {
    "duration": 6,
    "start_time": "2021-07-06T14:11:48.862Z"
   },
   {
    "duration": 351,
    "start_time": "2021-07-06T14:11:48.870Z"
   },
   {
    "duration": 4,
    "start_time": "2021-07-06T14:11:49.223Z"
   },
   {
    "duration": 411,
    "start_time": "2021-07-06T14:11:49.228Z"
   },
   {
    "duration": 4,
    "start_time": "2021-07-06T14:11:49.640Z"
   },
   {
    "duration": 10,
    "start_time": "2021-07-06T14:11:49.645Z"
   },
   {
    "duration": 12,
    "start_time": "2021-07-06T14:11:49.657Z"
   },
   {
    "duration": 57,
    "start_time": "2021-07-06T14:11:49.670Z"
   },
   {
    "duration": 7,
    "start_time": "2021-07-06T14:11:49.729Z"
   },
   {
    "duration": 10,
    "start_time": "2021-07-06T14:11:49.738Z"
   },
   {
    "duration": 9,
    "start_time": "2021-07-06T14:11:49.749Z"
   },
   {
    "duration": 53,
    "start_time": "2021-07-06T14:11:49.760Z"
   },
   {
    "duration": 15,
    "start_time": "2021-07-06T14:11:49.815Z"
   },
   {
    "duration": 60,
    "start_time": "2021-07-06T14:11:49.832Z"
   },
   {
    "duration": 15,
    "start_time": "2021-07-06T14:11:49.893Z"
   },
   {
    "duration": 60,
    "start_time": "2021-07-06T14:11:49.910Z"
   },
   {
    "duration": 34,
    "start_time": "2021-07-06T14:11:49.972Z"
   },
   {
    "duration": 50,
    "start_time": "2021-07-06T14:11:50.008Z"
   },
   {
    "duration": 67,
    "start_time": "2021-07-06T14:11:50.060Z"
   },
   {
    "duration": 4,
    "start_time": "2021-07-06T14:11:50.128Z"
   },
   {
    "duration": 8,
    "start_time": "2021-07-06T14:11:50.133Z"
   },
   {
    "duration": 16,
    "start_time": "2021-07-06T14:11:50.142Z"
   },
   {
    "duration": 4,
    "start_time": "2021-07-06T14:11:50.160Z"
   },
   {
    "duration": 15,
    "start_time": "2021-07-06T14:11:50.165Z"
   },
   {
    "duration": 12,
    "start_time": "2021-07-06T14:11:50.181Z"
   },
   {
    "duration": 7,
    "start_time": "2021-07-06T14:11:50.194Z"
   },
   {
    "duration": 11,
    "start_time": "2021-07-06T14:11:50.202Z"
   },
   {
    "duration": 11,
    "start_time": "2021-07-06T14:11:50.214Z"
   },
   {
    "duration": 8,
    "start_time": "2021-07-06T14:11:50.227Z"
   },
   {
    "duration": 11,
    "start_time": "2021-07-06T14:11:50.237Z"
   },
   {
    "duration": 13,
    "start_time": "2021-07-06T14:11:50.249Z"
   },
   {
    "duration": 8,
    "start_time": "2021-07-06T14:11:50.264Z"
   },
   {
    "duration": 10,
    "start_time": "2021-07-06T14:11:50.273Z"
   },
   {
    "duration": 322,
    "start_time": "2021-07-06T14:13:08.620Z"
   },
   {
    "duration": 7,
    "start_time": "2021-07-06T14:16:46.409Z"
   },
   {
    "duration": 223,
    "start_time": "2021-07-06T14:17:23.095Z"
   },
   {
    "duration": 15,
    "start_time": "2021-07-06T14:17:33.140Z"
   },
   {
    "duration": 15,
    "start_time": "2021-07-06T14:19:04.323Z"
   },
   {
    "duration": 13,
    "start_time": "2021-07-06T14:20:06.187Z"
   },
   {
    "duration": 150,
    "start_time": "2021-07-06T14:21:06.659Z"
   },
   {
    "duration": 150,
    "start_time": "2021-07-06T14:21:35.906Z"
   },
   {
    "duration": 14,
    "start_time": "2021-07-06T14:21:46.496Z"
   },
   {
    "duration": 214,
    "start_time": "2021-07-06T14:22:28.361Z"
   },
   {
    "duration": 14,
    "start_time": "2021-07-06T14:26:02.546Z"
   },
   {
    "duration": 8,
    "start_time": "2021-07-06T14:26:14.119Z"
   },
   {
    "duration": 6,
    "start_time": "2021-07-06T14:44:53.679Z"
   },
   {
    "duration": 1480,
    "start_time": "2021-07-06T14:50:18.018Z"
   },
   {
    "duration": 312,
    "start_time": "2021-07-06T14:50:41.049Z"
   },
   {
    "duration": 515,
    "start_time": "2021-07-06T14:54:37.363Z"
   },
   {
    "duration": 76,
    "start_time": "2021-07-06T15:02:16.556Z"
   },
   {
    "duration": 794,
    "start_time": "2021-07-06T15:02:38.744Z"
   },
   {
    "duration": 236,
    "start_time": "2021-07-06T15:03:06.226Z"
   },
   {
    "duration": 236,
    "start_time": "2021-07-06T15:04:13.167Z"
   },
   {
    "duration": 246,
    "start_time": "2021-07-06T15:05:57.305Z"
   },
   {
    "duration": 222,
    "start_time": "2021-07-06T15:07:28.640Z"
   },
   {
    "duration": 1097,
    "start_time": "2021-07-06T15:07:47.943Z"
   },
   {
    "duration": 16,
    "start_time": "2021-07-06T15:07:49.042Z"
   },
   {
    "duration": 21,
    "start_time": "2021-07-06T15:07:49.062Z"
   },
   {
    "duration": 19,
    "start_time": "2021-07-06T15:07:49.085Z"
   },
   {
    "duration": 36,
    "start_time": "2021-07-06T15:07:49.106Z"
   },
   {
    "duration": 10,
    "start_time": "2021-07-06T15:07:49.144Z"
   },
   {
    "duration": 7,
    "start_time": "2021-07-06T15:07:49.156Z"
   },
   {
    "duration": 17,
    "start_time": "2021-07-06T15:07:49.164Z"
   },
   {
    "duration": 14,
    "start_time": "2021-07-06T15:07:49.183Z"
   },
   {
    "duration": 11,
    "start_time": "2021-07-06T15:07:49.199Z"
   },
   {
    "duration": 8,
    "start_time": "2021-07-06T15:07:49.211Z"
   },
   {
    "duration": 8,
    "start_time": "2021-07-06T15:07:49.220Z"
   },
   {
    "duration": 10,
    "start_time": "2021-07-06T15:07:49.229Z"
   },
   {
    "duration": 10,
    "start_time": "2021-07-06T15:07:49.240Z"
   },
   {
    "duration": 10,
    "start_time": "2021-07-06T15:07:49.251Z"
   },
   {
    "duration": 537,
    "start_time": "2021-07-06T15:07:49.262Z"
   },
   {
    "duration": 317,
    "start_time": "2021-07-06T15:07:49.801Z"
   },
   {
    "duration": 340,
    "start_time": "2021-07-06T15:07:49.781Z"
   },
   {
    "duration": 335,
    "start_time": "2021-07-06T15:07:49.787Z"
   },
   {
    "duration": 330,
    "start_time": "2021-07-06T15:07:49.792Z"
   },
   {
    "duration": 327,
    "start_time": "2021-07-06T15:07:49.796Z"
   },
   {
    "duration": 322,
    "start_time": "2021-07-06T15:07:49.802Z"
   },
   {
    "duration": 317,
    "start_time": "2021-07-06T15:07:49.808Z"
   },
   {
    "duration": 314,
    "start_time": "2021-07-06T15:07:49.812Z"
   },
   {
    "duration": 310,
    "start_time": "2021-07-06T15:07:49.817Z"
   },
   {
    "duration": 306,
    "start_time": "2021-07-06T15:07:49.822Z"
   },
   {
    "duration": 303,
    "start_time": "2021-07-06T15:07:49.826Z"
   },
   {
    "duration": 298,
    "start_time": "2021-07-06T15:07:49.831Z"
   },
   {
    "duration": 294,
    "start_time": "2021-07-06T15:07:49.836Z"
   },
   {
    "duration": 291,
    "start_time": "2021-07-06T15:07:49.840Z"
   },
   {
    "duration": 287,
    "start_time": "2021-07-06T15:07:49.845Z"
   },
   {
    "duration": 285,
    "start_time": "2021-07-06T15:07:49.849Z"
   },
   {
    "duration": 282,
    "start_time": "2021-07-06T15:07:49.853Z"
   },
   {
    "duration": 279,
    "start_time": "2021-07-06T15:07:49.857Z"
   },
   {
    "duration": 275,
    "start_time": "2021-07-06T15:07:49.862Z"
   },
   {
    "duration": 272,
    "start_time": "2021-07-06T15:07:49.866Z"
   },
   {
    "duration": 269,
    "start_time": "2021-07-06T15:07:49.871Z"
   },
   {
    "duration": 255,
    "start_time": "2021-07-06T15:07:49.886Z"
   },
   {
    "duration": 249,
    "start_time": "2021-07-06T15:07:49.894Z"
   },
   {
    "duration": 245,
    "start_time": "2021-07-06T15:07:49.899Z"
   },
   {
    "duration": 241,
    "start_time": "2021-07-06T15:07:49.904Z"
   },
   {
    "duration": 238,
    "start_time": "2021-07-06T15:07:49.909Z"
   },
   {
    "duration": 234,
    "start_time": "2021-07-06T15:07:49.914Z"
   },
   {
    "duration": 232,
    "start_time": "2021-07-06T15:07:49.918Z"
   },
   {
    "duration": 228,
    "start_time": "2021-07-06T15:07:49.923Z"
   },
   {
    "duration": 221,
    "start_time": "2021-07-06T15:07:49.931Z"
   },
   {
    "duration": 218,
    "start_time": "2021-07-06T15:07:49.936Z"
   },
   {
    "duration": 215,
    "start_time": "2021-07-06T15:07:49.940Z"
   },
   {
    "duration": 211,
    "start_time": "2021-07-06T15:07:49.945Z"
   },
   {
    "duration": 209,
    "start_time": "2021-07-06T15:07:49.949Z"
   },
   {
    "duration": 205,
    "start_time": "2021-07-06T15:07:49.954Z"
   },
   {
    "duration": 202,
    "start_time": "2021-07-06T15:07:49.958Z"
   },
   {
    "duration": 199,
    "start_time": "2021-07-06T15:07:49.962Z"
   },
   {
    "duration": 196,
    "start_time": "2021-07-06T15:07:49.966Z"
   },
   {
    "duration": 222,
    "start_time": "2021-07-06T15:07:49.971Z"
   },
   {
    "duration": 221,
    "start_time": "2021-07-06T15:07:49.974Z"
   },
   {
    "duration": 216,
    "start_time": "2021-07-06T15:07:49.980Z"
   },
   {
    "duration": 213,
    "start_time": "2021-07-06T15:07:49.984Z"
   },
   {
    "duration": 200,
    "start_time": "2021-07-06T15:07:49.999Z"
   },
   {
    "duration": 199,
    "start_time": "2021-07-06T15:07:50.003Z"
   },
   {
    "duration": 195,
    "start_time": "2021-07-06T15:07:50.008Z"
   },
   {
    "duration": 191,
    "start_time": "2021-07-06T15:07:50.013Z"
   },
   {
    "duration": 188,
    "start_time": "2021-07-06T15:07:50.017Z"
   },
   {
    "duration": 184,
    "start_time": "2021-07-06T15:07:50.022Z"
   },
   {
    "duration": 181,
    "start_time": "2021-07-06T15:07:50.026Z"
   },
   {
    "duration": 176,
    "start_time": "2021-07-06T15:07:50.032Z"
   },
   {
    "duration": 172,
    "start_time": "2021-07-06T15:07:50.037Z"
   },
   {
    "duration": 168,
    "start_time": "2021-07-06T15:07:50.042Z"
   },
   {
    "duration": 166,
    "start_time": "2021-07-06T15:07:50.046Z"
   },
   {
    "duration": 162,
    "start_time": "2021-07-06T15:07:50.051Z"
   },
   {
    "duration": 159,
    "start_time": "2021-07-06T15:07:50.055Z"
   },
   {
    "duration": 157,
    "start_time": "2021-07-06T15:07:50.059Z"
   },
   {
    "duration": 153,
    "start_time": "2021-07-06T15:07:50.064Z"
   },
   {
    "duration": 150,
    "start_time": "2021-07-06T15:07:50.068Z"
   },
   {
    "duration": 147,
    "start_time": "2021-07-06T15:07:50.073Z"
   },
   {
    "duration": 229,
    "start_time": "2021-07-06T15:08:32.459Z"
   },
   {
    "duration": 6,
    "start_time": "2021-07-06T15:10:31.425Z"
   },
   {
    "duration": 285,
    "start_time": "2021-07-06T15:12:22.908Z"
   },
   {
    "duration": 249,
    "start_time": "2021-07-06T15:12:34.249Z"
   },
   {
    "duration": 303,
    "start_time": "2021-07-06T15:12:54.752Z"
   },
   {
    "duration": 134,
    "start_time": "2021-07-06T15:13:48.335Z"
   },
   {
    "duration": 255,
    "start_time": "2021-07-06T15:17:03.696Z"
   },
   {
    "duration": 242,
    "start_time": "2021-07-06T15:17:14.569Z"
   },
   {
    "duration": 8,
    "start_time": "2021-07-06T15:18:51.627Z"
   },
   {
    "duration": 331,
    "start_time": "2021-07-06T15:21:00.559Z"
   },
   {
    "duration": 316,
    "start_time": "2021-07-06T15:21:24.038Z"
   },
   {
    "duration": 148,
    "start_time": "2021-07-06T15:21:39.537Z"
   },
   {
    "duration": 213,
    "start_time": "2021-07-06T15:22:07.108Z"
   },
   {
    "duration": 175,
    "start_time": "2021-07-06T15:22:47.561Z"
   },
   {
    "duration": 544,
    "start_time": "2021-07-06T15:25:22.701Z"
   },
   {
    "duration": 544,
    "start_time": "2021-07-06T15:32:52.247Z"
   },
   {
    "duration": 726,
    "start_time": "2021-07-06T15:33:12.896Z"
   },
   {
    "duration": 83,
    "start_time": "2021-07-06T15:34:50.234Z"
   },
   {
    "duration": 541,
    "start_time": "2021-07-06T15:34:54.485Z"
   },
   {
    "duration": 1071,
    "start_time": "2021-07-06T15:37:41.653Z"
   },
   {
    "duration": 17,
    "start_time": "2021-07-06T15:37:42.726Z"
   },
   {
    "duration": 15,
    "start_time": "2021-07-06T15:37:42.745Z"
   },
   {
    "duration": 6,
    "start_time": "2021-07-06T15:37:42.762Z"
   },
   {
    "duration": 38,
    "start_time": "2021-07-06T15:37:42.770Z"
   },
   {
    "duration": 18,
    "start_time": "2021-07-06T15:37:42.809Z"
   },
   {
    "duration": 13,
    "start_time": "2021-07-06T15:37:42.828Z"
   },
   {
    "duration": 25,
    "start_time": "2021-07-06T15:37:42.842Z"
   },
   {
    "duration": 14,
    "start_time": "2021-07-06T15:37:42.870Z"
   },
   {
    "duration": 8,
    "start_time": "2021-07-06T15:37:42.886Z"
   },
   {
    "duration": 8,
    "start_time": "2021-07-06T15:37:42.895Z"
   },
   {
    "duration": 15,
    "start_time": "2021-07-06T15:37:42.904Z"
   },
   {
    "duration": 12,
    "start_time": "2021-07-06T15:37:42.920Z"
   },
   {
    "duration": 19,
    "start_time": "2021-07-06T15:37:42.933Z"
   },
   {
    "duration": 17,
    "start_time": "2021-07-06T15:37:42.953Z"
   },
   {
    "duration": 557,
    "start_time": "2021-07-06T15:37:42.971Z"
   },
   {
    "duration": 6,
    "start_time": "2021-07-06T15:37:43.529Z"
   },
   {
    "duration": 18,
    "start_time": "2021-07-06T15:37:43.536Z"
   },
   {
    "duration": 10,
    "start_time": "2021-07-06T15:37:43.555Z"
   },
   {
    "duration": 8,
    "start_time": "2021-07-06T15:37:43.566Z"
   },
   {
    "duration": 13,
    "start_time": "2021-07-06T15:37:43.576Z"
   },
   {
    "duration": 13,
    "start_time": "2021-07-06T15:37:43.591Z"
   },
   {
    "duration": 8,
    "start_time": "2021-07-06T15:37:43.605Z"
   },
   {
    "duration": 11,
    "start_time": "2021-07-06T15:37:43.614Z"
   },
   {
    "duration": 184,
    "start_time": "2021-07-06T15:37:43.627Z"
   },
   {
    "duration": 2,
    "start_time": "2021-07-06T15:37:43.813Z"
   },
   {
    "duration": 140,
    "start_time": "2021-07-06T15:37:43.818Z"
   },
   {
    "duration": 5,
    "start_time": "2021-07-06T15:37:43.961Z"
   },
   {
    "duration": 10,
    "start_time": "2021-07-06T15:37:43.968Z"
   },
   {
    "duration": 12,
    "start_time": "2021-07-06T15:37:43.979Z"
   },
   {
    "duration": 7,
    "start_time": "2021-07-06T15:37:43.993Z"
   },
   {
    "duration": 291,
    "start_time": "2021-07-06T15:37:44.002Z"
   },
   {
    "duration": 277,
    "start_time": "2021-07-06T15:37:44.294Z"
   },
   {
    "duration": 5,
    "start_time": "2021-07-06T15:37:44.573Z"
   },
   {
    "duration": 369,
    "start_time": "2021-07-06T15:37:44.580Z"
   },
   {
    "duration": 4,
    "start_time": "2021-07-06T15:37:44.951Z"
   },
   {
    "duration": 268,
    "start_time": "2021-07-06T15:37:44.957Z"
   },
   {
    "duration": 8,
    "start_time": "2021-07-06T15:37:45.226Z"
   },
   {
    "duration": 398,
    "start_time": "2021-07-06T15:37:45.235Z"
   },
   {
    "duration": 6,
    "start_time": "2021-07-06T15:37:45.635Z"
   },
   {
    "duration": 5,
    "start_time": "2021-07-06T15:37:45.642Z"
   },
   {
    "duration": 292,
    "start_time": "2021-07-06T15:37:45.648Z"
   },
   {
    "duration": 4,
    "start_time": "2021-07-06T15:37:45.941Z"
   },
   {
    "duration": 310,
    "start_time": "2021-07-06T15:37:45.946Z"
   },
   {
    "duration": 4,
    "start_time": "2021-07-06T15:37:46.257Z"
   },
   {
    "duration": 7,
    "start_time": "2021-07-06T15:37:46.263Z"
   },
   {
    "duration": 8,
    "start_time": "2021-07-06T15:37:46.272Z"
   },
   {
    "duration": 61,
    "start_time": "2021-07-06T15:37:46.281Z"
   },
   {
    "duration": 7,
    "start_time": "2021-07-06T15:37:46.344Z"
   },
   {
    "duration": 8,
    "start_time": "2021-07-06T15:37:46.353Z"
   },
   {
    "duration": 7,
    "start_time": "2021-07-06T15:37:46.362Z"
   },
   {
    "duration": 55,
    "start_time": "2021-07-06T15:37:46.370Z"
   },
   {
    "duration": 20,
    "start_time": "2021-07-06T15:37:46.426Z"
   },
   {
    "duration": 58,
    "start_time": "2021-07-06T15:37:46.448Z"
   },
   {
    "duration": 12,
    "start_time": "2021-07-06T15:37:46.507Z"
   },
   {
    "duration": 59,
    "start_time": "2021-07-06T15:37:46.521Z"
   },
   {
    "duration": 28,
    "start_time": "2021-07-06T15:37:46.590Z"
   },
   {
    "duration": 48,
    "start_time": "2021-07-06T15:37:46.619Z"
   },
   {
    "duration": 71,
    "start_time": "2021-07-06T15:37:46.668Z"
   },
   {
    "duration": 5,
    "start_time": "2021-07-06T15:37:46.740Z"
   },
   {
    "duration": 8,
    "start_time": "2021-07-06T15:37:46.746Z"
   },
   {
    "duration": 14,
    "start_time": "2021-07-06T15:37:46.755Z"
   },
   {
    "duration": 4,
    "start_time": "2021-07-06T15:37:46.771Z"
   },
   {
    "duration": 21,
    "start_time": "2021-07-06T15:37:46.776Z"
   },
   {
    "duration": 6,
    "start_time": "2021-07-06T15:37:46.798Z"
   },
   {
    "duration": 7,
    "start_time": "2021-07-06T15:37:46.805Z"
   },
   {
    "duration": 9,
    "start_time": "2021-07-06T15:37:46.813Z"
   },
   {
    "duration": 12,
    "start_time": "2021-07-06T15:37:46.823Z"
   },
   {
    "duration": 8,
    "start_time": "2021-07-06T15:37:46.837Z"
   },
   {
    "duration": 8,
    "start_time": "2021-07-06T15:37:46.846Z"
   },
   {
    "duration": 10,
    "start_time": "2021-07-06T15:37:46.856Z"
   },
   {
    "duration": 10,
    "start_time": "2021-07-06T15:37:46.868Z"
   },
   {
    "duration": 15,
    "start_time": "2021-07-06T15:37:46.880Z"
   },
   {
    "duration": 307,
    "start_time": "2021-07-06T15:44:51.926Z"
   },
   {
    "duration": 368,
    "start_time": "2021-07-06T15:45:09.895Z"
   },
   {
    "duration": 348,
    "start_time": "2021-07-06T15:45:38.173Z"
   },
   {
    "duration": 384,
    "start_time": "2021-07-06T15:47:11.053Z"
   },
   {
    "duration": 288,
    "start_time": "2021-07-06T15:48:29.288Z"
   },
   {
    "duration": 1628,
    "start_time": "2021-07-08T14:13:32.207Z"
   },
   {
    "duration": 20,
    "start_time": "2021-07-08T14:13:33.838Z"
   },
   {
    "duration": 30,
    "start_time": "2021-07-08T14:13:33.865Z"
   },
   {
    "duration": 14,
    "start_time": "2021-07-08T14:13:33.898Z"
   },
   {
    "duration": 87,
    "start_time": "2021-07-08T14:13:33.915Z"
   },
   {
    "duration": 19,
    "start_time": "2021-07-08T14:13:34.005Z"
   },
   {
    "duration": 18,
    "start_time": "2021-07-08T14:13:34.028Z"
   },
   {
    "duration": 19,
    "start_time": "2021-07-08T14:13:34.050Z"
   },
   {
    "duration": 15,
    "start_time": "2021-07-08T14:13:34.072Z"
   },
   {
    "duration": 11,
    "start_time": "2021-07-08T14:13:34.090Z"
   },
   {
    "duration": 16,
    "start_time": "2021-07-08T14:13:34.103Z"
   },
   {
    "duration": 16,
    "start_time": "2021-07-08T14:13:34.122Z"
   },
   {
    "duration": 16,
    "start_time": "2021-07-08T14:13:34.140Z"
   },
   {
    "duration": 37,
    "start_time": "2021-07-08T14:13:34.159Z"
   },
   {
    "duration": 13,
    "start_time": "2021-07-08T14:13:34.199Z"
   },
   {
    "duration": 1215,
    "start_time": "2021-07-08T14:13:34.215Z"
   },
   {
    "duration": 11,
    "start_time": "2021-07-08T14:13:35.433Z"
   },
   {
    "duration": 14,
    "start_time": "2021-07-08T14:13:35.447Z"
   },
   {
    "duration": 20,
    "start_time": "2021-07-08T14:13:35.487Z"
   },
   {
    "duration": 14,
    "start_time": "2021-07-08T14:13:35.510Z"
   },
   {
    "duration": 21,
    "start_time": "2021-07-08T14:13:35.527Z"
   },
   {
    "duration": 48,
    "start_time": "2021-07-08T14:13:35.554Z"
   },
   {
    "duration": 24,
    "start_time": "2021-07-08T14:13:35.607Z"
   },
   {
    "duration": 16,
    "start_time": "2021-07-08T14:13:35.634Z"
   },
   {
    "duration": 391,
    "start_time": "2021-07-08T14:13:35.653Z"
   },
   {
    "duration": 4,
    "start_time": "2021-07-08T14:13:36.047Z"
   },
   {
    "duration": 316,
    "start_time": "2021-07-08T14:13:36.053Z"
   },
   {
    "duration": 27,
    "start_time": "2021-07-08T14:13:36.371Z"
   },
   {
    "duration": 30,
    "start_time": "2021-07-08T14:13:36.401Z"
   },
   {
    "duration": 14,
    "start_time": "2021-07-08T14:13:36.434Z"
   },
   {
    "duration": 15,
    "start_time": "2021-07-08T14:13:36.451Z"
   },
   {
    "duration": 573,
    "start_time": "2021-07-08T14:13:36.469Z"
   },
   {
    "duration": 572,
    "start_time": "2021-07-08T14:13:37.045Z"
   },
   {
    "duration": 8,
    "start_time": "2021-07-08T14:13:37.620Z"
   },
   {
    "duration": 634,
    "start_time": "2021-07-08T14:13:37.631Z"
   },
   {
    "duration": 6,
    "start_time": "2021-07-08T14:13:38.267Z"
   },
   {
    "duration": 545,
    "start_time": "2021-07-08T14:13:38.275Z"
   },
   {
    "duration": 13,
    "start_time": "2021-07-08T14:13:38.822Z"
   },
   {
    "duration": 116,
    "start_time": "2021-07-08T14:13:38.838Z"
   },
   {
    "duration": -1665,
    "start_time": "2021-07-08T14:13:40.623Z"
   },
   {
    "duration": -1668,
    "start_time": "2021-07-08T14:13:40.628Z"
   },
   {
    "duration": -1671,
    "start_time": "2021-07-08T14:13:40.633Z"
   },
   {
    "duration": -1674,
    "start_time": "2021-07-08T14:13:40.638Z"
   },
   {
    "duration": -1693,
    "start_time": "2021-07-08T14:13:40.659Z"
   },
   {
    "duration": -1696,
    "start_time": "2021-07-08T14:13:40.664Z"
   },
   {
    "duration": -1698,
    "start_time": "2021-07-08T14:13:40.669Z"
   },
   {
    "duration": -1699,
    "start_time": "2021-07-08T14:13:40.673Z"
   },
   {
    "duration": -1702,
    "start_time": "2021-07-08T14:13:40.678Z"
   },
   {
    "duration": -1703,
    "start_time": "2021-07-08T14:13:40.682Z"
   },
   {
    "duration": -1705,
    "start_time": "2021-07-08T14:13:40.686Z"
   },
   {
    "duration": -1707,
    "start_time": "2021-07-08T14:13:40.691Z"
   },
   {
    "duration": -1708,
    "start_time": "2021-07-08T14:13:40.695Z"
   },
   {
    "duration": -1710,
    "start_time": "2021-07-08T14:13:40.699Z"
   },
   {
    "duration": -1710,
    "start_time": "2021-07-08T14:13:40.704Z"
   },
   {
    "duration": -1711,
    "start_time": "2021-07-08T14:13:40.708Z"
   },
   {
    "duration": -1713,
    "start_time": "2021-07-08T14:13:40.712Z"
   },
   {
    "duration": -1716,
    "start_time": "2021-07-08T14:13:40.716Z"
   },
   {
    "duration": -1718,
    "start_time": "2021-07-08T14:13:40.720Z"
   },
   {
    "duration": -1729,
    "start_time": "2021-07-08T14:13:40.734Z"
   },
   {
    "duration": -1731,
    "start_time": "2021-07-08T14:13:40.739Z"
   },
   {
    "duration": -1732,
    "start_time": "2021-07-08T14:13:40.743Z"
   },
   {
    "duration": -1737,
    "start_time": "2021-07-08T14:13:40.751Z"
   },
   {
    "duration": -1748,
    "start_time": "2021-07-08T14:13:40.764Z"
   },
   {
    "duration": -1757,
    "start_time": "2021-07-08T14:13:40.777Z"
   },
   {
    "duration": -1758,
    "start_time": "2021-07-08T14:13:40.781Z"
   },
   {
    "duration": -1760,
    "start_time": "2021-07-08T14:13:40.785Z"
   },
   {
    "duration": -1760,
    "start_time": "2021-07-08T14:13:40.788Z"
   },
   {
    "duration": -1766,
    "start_time": "2021-07-08T14:13:40.796Z"
   },
   {
    "duration": -1768,
    "start_time": "2021-07-08T14:13:40.800Z"
   },
   {
    "duration": -1768,
    "start_time": "2021-07-08T14:13:40.813Z"
   },
   {
    "duration": -1788,
    "start_time": "2021-07-08T14:13:40.874Z"
   },
   {
    "duration": -1649,
    "start_time": "2021-07-08T14:13:40.878Z"
   },
   {
    "duration": -1688,
    "start_time": "2021-07-08T14:13:40.919Z"
   },
   {
    "duration": 1564,
    "start_time": "2021-07-08T14:14:41.501Z"
   },
   {
    "duration": 22,
    "start_time": "2021-07-08T14:14:43.068Z"
   },
   {
    "duration": 27,
    "start_time": "2021-07-08T14:14:43.094Z"
   },
   {
    "duration": 13,
    "start_time": "2021-07-08T14:14:43.123Z"
   },
   {
    "duration": 65,
    "start_time": "2021-07-08T14:14:43.139Z"
   },
   {
    "duration": 15,
    "start_time": "2021-07-08T14:14:43.207Z"
   },
   {
    "duration": 9,
    "start_time": "2021-07-08T14:14:43.225Z"
   },
   {
    "duration": 18,
    "start_time": "2021-07-08T14:14:43.238Z"
   },
   {
    "duration": 11,
    "start_time": "2021-07-08T14:14:43.259Z"
   },
   {
    "duration": 20,
    "start_time": "2021-07-08T14:14:43.273Z"
   },
   {
    "duration": 14,
    "start_time": "2021-07-08T14:14:43.296Z"
   },
   {
    "duration": 8,
    "start_time": "2021-07-08T14:14:43.313Z"
   },
   {
    "duration": 11,
    "start_time": "2021-07-08T14:14:43.325Z"
   },
   {
    "duration": 50,
    "start_time": "2021-07-08T14:14:43.339Z"
   },
   {
    "duration": 15,
    "start_time": "2021-07-08T14:14:43.393Z"
   },
   {
    "duration": 1142,
    "start_time": "2021-07-08T14:14:43.411Z"
   },
   {
    "duration": 31,
    "start_time": "2021-07-08T14:14:44.556Z"
   },
   {
    "duration": 16,
    "start_time": "2021-07-08T14:14:44.590Z"
   },
   {
    "duration": 18,
    "start_time": "2021-07-08T14:14:44.609Z"
   },
   {
    "duration": 7,
    "start_time": "2021-07-08T14:14:44.630Z"
   },
   {
    "duration": 49,
    "start_time": "2021-07-08T14:14:44.640Z"
   },
   {
    "duration": 28,
    "start_time": "2021-07-08T14:14:44.692Z"
   },
   {
    "duration": 5,
    "start_time": "2021-07-08T14:14:44.728Z"
   },
   {
    "duration": 8,
    "start_time": "2021-07-08T14:14:44.737Z"
   },
   {
    "duration": 531,
    "start_time": "2021-07-08T14:14:44.748Z"
   },
   {
    "duration": 14,
    "start_time": "2021-07-08T14:14:45.282Z"
   },
   {
    "duration": 294,
    "start_time": "2021-07-08T14:14:45.299Z"
   },
   {
    "duration": 11,
    "start_time": "2021-07-08T14:14:45.596Z"
   },
   {
    "duration": 16,
    "start_time": "2021-07-08T14:14:45.611Z"
   },
   {
    "duration": 10,
    "start_time": "2021-07-08T14:14:45.630Z"
   },
   {
    "duration": 7,
    "start_time": "2021-07-08T14:14:45.643Z"
   },
   {
    "duration": 568,
    "start_time": "2021-07-08T14:14:45.685Z"
   },
   {
    "duration": 539,
    "start_time": "2021-07-08T14:14:46.256Z"
   },
   {
    "duration": 10,
    "start_time": "2021-07-08T14:14:46.798Z"
   },
   {
    "duration": 570,
    "start_time": "2021-07-08T14:14:46.810Z"
   },
   {
    "duration": 8,
    "start_time": "2021-07-08T14:14:47.387Z"
   },
   {
    "duration": 493,
    "start_time": "2021-07-08T14:14:47.397Z"
   },
   {
    "duration": 11,
    "start_time": "2021-07-08T14:14:47.893Z"
   },
   {
    "duration": 617,
    "start_time": "2021-07-08T14:14:47.906Z"
   },
   {
    "duration": 9,
    "start_time": "2021-07-08T14:14:48.526Z"
   },
   {
    "duration": 4,
    "start_time": "2021-07-08T14:14:48.538Z"
   },
   {
    "duration": 537,
    "start_time": "2021-07-08T14:14:48.545Z"
   },
   {
    "duration": 6,
    "start_time": "2021-07-08T14:14:49.085Z"
   },
   {
    "duration": 531,
    "start_time": "2021-07-08T14:14:49.094Z"
   },
   {
    "duration": 6,
    "start_time": "2021-07-08T14:14:49.628Z"
   },
   {
    "duration": 10,
    "start_time": "2021-07-08T14:14:49.637Z"
   },
   {
    "duration": 13,
    "start_time": "2021-07-08T14:14:49.650Z"
   },
   {
    "duration": 154,
    "start_time": "2021-07-08T14:14:49.666Z"
   },
   {
    "duration": 5,
    "start_time": "2021-07-08T14:14:49.823Z"
   },
   {
    "duration": 10,
    "start_time": "2021-07-08T14:14:49.830Z"
   },
   {
    "duration": 7,
    "start_time": "2021-07-08T14:14:49.843Z"
   },
   {
    "duration": 150,
    "start_time": "2021-07-08T14:14:49.852Z"
   },
   {
    "duration": 28,
    "start_time": "2021-07-08T14:14:50.005Z"
   },
   {
    "duration": 127,
    "start_time": "2021-07-08T14:14:50.035Z"
   },
   {
    "duration": 37,
    "start_time": "2021-07-08T14:14:50.165Z"
   },
   {
    "duration": 120,
    "start_time": "2021-07-08T14:14:50.205Z"
   },
   {
    "duration": 61,
    "start_time": "2021-07-08T14:14:50.327Z"
   },
   {
    "duration": 181,
    "start_time": "2021-07-08T14:14:50.390Z"
   },
   {
    "duration": 214,
    "start_time": "2021-07-08T14:14:50.585Z"
   },
   {
    "duration": 8,
    "start_time": "2021-07-08T14:14:50.802Z"
   },
   {
    "duration": 10,
    "start_time": "2021-07-08T14:14:50.813Z"
   },
   {
    "duration": 17,
    "start_time": "2021-07-08T14:14:50.826Z"
   },
   {
    "duration": 7,
    "start_time": "2021-07-08T14:14:50.846Z"
   },
   {
    "duration": 13,
    "start_time": "2021-07-08T14:14:50.887Z"
   },
   {
    "duration": 13,
    "start_time": "2021-07-08T14:14:50.903Z"
   },
   {
    "duration": 10,
    "start_time": "2021-07-08T14:14:50.919Z"
   },
   {
    "duration": 18,
    "start_time": "2021-07-08T14:14:50.932Z"
   },
   {
    "duration": 40,
    "start_time": "2021-07-08T14:14:50.960Z"
   },
   {
    "duration": 21,
    "start_time": "2021-07-08T14:14:51.002Z"
   },
   {
    "duration": 11,
    "start_time": "2021-07-08T14:14:51.026Z"
   },
   {
    "duration": 11,
    "start_time": "2021-07-08T14:14:51.039Z"
   },
   {
    "duration": 40,
    "start_time": "2021-07-08T14:14:51.052Z"
   },
   {
    "duration": 19,
    "start_time": "2021-07-08T14:14:51.095Z"
   },
   {
    "duration": 5,
    "start_time": "2021-07-08T18:14:06.292Z"
   },
   {
    "duration": 91,
    "start_time": "2021-07-08T18:19:37.444Z"
   },
   {
    "duration": 1443,
    "start_time": "2021-07-08T18:26:34.314Z"
   },
   {
    "duration": 20,
    "start_time": "2021-07-08T18:26:35.760Z"
   },
   {
    "duration": 20,
    "start_time": "2021-07-08T18:26:35.783Z"
   },
   {
    "duration": 12,
    "start_time": "2021-07-08T18:26:35.806Z"
   },
   {
    "duration": 45,
    "start_time": "2021-07-08T18:26:35.820Z"
   },
   {
    "duration": 17,
    "start_time": "2021-07-08T18:26:35.867Z"
   },
   {
    "duration": 14,
    "start_time": "2021-07-08T18:26:35.887Z"
   },
   {
    "duration": 21,
    "start_time": "2021-07-08T18:26:35.905Z"
   },
   {
    "duration": 19,
    "start_time": "2021-07-08T18:26:35.930Z"
   },
   {
    "duration": 13,
    "start_time": "2021-07-08T18:26:35.952Z"
   },
   {
    "duration": 31,
    "start_time": "2021-07-08T18:26:35.968Z"
   },
   {
    "duration": 12,
    "start_time": "2021-07-08T18:26:36.002Z"
   },
   {
    "duration": 18,
    "start_time": "2021-07-08T18:26:36.016Z"
   },
   {
    "duration": 7,
    "start_time": "2021-07-08T18:26:36.037Z"
   },
   {
    "duration": 13,
    "start_time": "2021-07-08T18:26:36.047Z"
   },
   {
    "duration": 1048,
    "start_time": "2021-07-08T18:26:36.086Z"
   },
   {
    "duration": 9,
    "start_time": "2021-07-08T18:26:37.137Z"
   },
   {
    "duration": 14,
    "start_time": "2021-07-08T18:26:37.149Z"
   },
   {
    "duration": 31,
    "start_time": "2021-07-08T18:26:37.166Z"
   },
   {
    "duration": 10,
    "start_time": "2021-07-08T18:26:37.200Z"
   },
   {
    "duration": 20,
    "start_time": "2021-07-08T18:26:37.213Z"
   },
   {
    "duration": 52,
    "start_time": "2021-07-08T18:26:37.236Z"
   },
   {
    "duration": 6,
    "start_time": "2021-07-08T18:26:37.297Z"
   },
   {
    "duration": 9,
    "start_time": "2021-07-08T18:26:37.309Z"
   },
   {
    "duration": 372,
    "start_time": "2021-07-08T18:26:37.321Z"
   },
   {
    "duration": 6,
    "start_time": "2021-07-08T18:26:37.695Z"
   },
   {
    "duration": 288,
    "start_time": "2021-07-08T18:26:37.704Z"
   },
   {
    "duration": 10,
    "start_time": "2021-07-08T18:26:37.995Z"
   },
   {
    "duration": 19,
    "start_time": "2021-07-08T18:26:38.009Z"
   },
   {
    "duration": 8,
    "start_time": "2021-07-08T18:26:38.031Z"
   },
   {
    "duration": 9,
    "start_time": "2021-07-08T18:26:38.042Z"
   },
   {
    "duration": 529,
    "start_time": "2021-07-08T18:26:38.087Z"
   },
   {
    "duration": 609,
    "start_time": "2021-07-08T18:26:38.620Z"
   },
   {
    "duration": 9,
    "start_time": "2021-07-08T18:26:39.231Z"
   },
   {
    "duration": 573,
    "start_time": "2021-07-08T18:26:39.242Z"
   },
   {
    "duration": 6,
    "start_time": "2021-07-08T18:26:39.819Z"
   },
   {
    "duration": 545,
    "start_time": "2021-07-08T18:26:39.828Z"
   },
   {
    "duration": 17,
    "start_time": "2021-07-08T18:26:40.376Z"
   },
   {
    "duration": 596,
    "start_time": "2021-07-08T18:26:40.395Z"
   },
   {
    "duration": 10,
    "start_time": "2021-07-08T18:26:40.993Z"
   },
   {
    "duration": 5,
    "start_time": "2021-07-08T18:26:41.005Z"
   },
   {
    "duration": 445,
    "start_time": "2021-07-08T18:26:41.013Z"
   },
   {
    "duration": 6,
    "start_time": "2021-07-08T18:26:41.461Z"
   },
   {
    "duration": 494,
    "start_time": "2021-07-08T18:26:41.470Z"
   },
   {
    "duration": 19,
    "start_time": "2021-07-08T18:26:41.967Z"
   },
   {
    "duration": 7,
    "start_time": "2021-07-08T18:26:41.988Z"
   },
   {
    "duration": 18,
    "start_time": "2021-07-08T18:26:41.997Z"
   },
   {
    "duration": 119,
    "start_time": "2021-07-08T18:26:42.018Z"
   },
   {
    "duration": 18,
    "start_time": "2021-07-08T18:26:42.140Z"
   },
   {
    "duration": 24,
    "start_time": "2021-07-08T18:26:42.160Z"
   },
   {
    "duration": 13,
    "start_time": "2021-07-08T18:26:42.187Z"
   },
   {
    "duration": 97,
    "start_time": "2021-07-08T18:26:42.203Z"
   },
   {
    "duration": 24,
    "start_time": "2021-07-08T18:26:42.303Z"
   },
   {
    "duration": 120,
    "start_time": "2021-07-08T18:26:42.330Z"
   },
   {
    "duration": 52,
    "start_time": "2021-07-08T18:26:42.454Z"
   },
   {
    "duration": 159,
    "start_time": "2021-07-08T18:26:42.509Z"
   },
   {
    "duration": 78,
    "start_time": "2021-07-08T18:26:42.672Z"
   },
   {
    "duration": 165,
    "start_time": "2021-07-08T18:26:42.753Z"
   },
   {
    "duration": 135,
    "start_time": "2021-07-08T18:26:42.921Z"
   },
   {
    "duration": 6,
    "start_time": "2021-07-08T18:26:43.059Z"
   },
   {
    "duration": 19,
    "start_time": "2021-07-08T18:26:43.068Z"
   },
   {
    "duration": 14,
    "start_time": "2021-07-08T18:26:43.090Z"
   },
   {
    "duration": 6,
    "start_time": "2021-07-08T18:26:43.106Z"
   },
   {
    "duration": 15,
    "start_time": "2021-07-08T18:26:43.116Z"
   },
   {
    "duration": 56,
    "start_time": "2021-07-08T18:26:43.134Z"
   },
   {
    "duration": 7,
    "start_time": "2021-07-08T18:26:43.193Z"
   },
   {
    "duration": 14,
    "start_time": "2021-07-08T18:26:43.202Z"
   },
   {
    "duration": 10,
    "start_time": "2021-07-08T18:26:43.223Z"
   },
   {
    "duration": 9,
    "start_time": "2021-07-08T18:26:43.236Z"
   },
   {
    "duration": 46,
    "start_time": "2021-07-08T18:26:43.247Z"
   },
   {
    "duration": 12,
    "start_time": "2021-07-08T18:26:43.295Z"
   },
   {
    "duration": 14,
    "start_time": "2021-07-08T18:26:43.310Z"
   },
   {
    "duration": 14,
    "start_time": "2021-07-08T18:26:43.327Z"
   }
  ],
  "kernelspec": {
   "display_name": "Python 3",
   "language": "python",
   "name": "python3"
  },
  "language_info": {
   "codemirror_mode": {
    "name": "ipython",
    "version": 3
   },
   "file_extension": ".py",
   "mimetype": "text/x-python",
   "name": "python",
   "nbconvert_exporter": "python",
   "pygments_lexer": "ipython3",
   "version": "3.7.8"
  },
  "toc": {
   "base_numbering": 1,
   "nav_menu": {},
   "number_sections": true,
   "sideBar": true,
   "skip_h1_title": false,
   "title_cell": "Table of Contents",
   "title_sidebar": "Contents",
   "toc_cell": false,
   "toc_position": {},
   "toc_section_display": true,
   "toc_window_display": false
  }
 },
 "nbformat": 4,
 "nbformat_minor": 2
}
